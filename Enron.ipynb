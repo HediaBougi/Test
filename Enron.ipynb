{
  "nbformat": 4,
  "nbformat_minor": 0,
  "metadata": {
    "colab": {
      "name": "Enron.ipynb",
      "provenance": [],
      "include_colab_link": true
    },
    "kernelspec": {
      "name": "python3",
      "display_name": "Python 3"
    },
    "accelerator": "TPU"
  },
  "cells": [
    {
      "cell_type": "markdown",
      "metadata": {
        "id": "view-in-github",
        "colab_type": "text"
      },
      "source": [
        "<a href=\"https://colab.research.google.com/github/HediaBougi/Test/blob/master/Enron.ipynb\" target=\"_parent\"><img src=\"https://colab.research.google.com/assets/colab-badge.svg\" alt=\"Open In Colab\"/></a>"
      ]
    },
    {
      "cell_type": "code",
      "metadata": {
        "id": "hnTMlhn05-Nw"
      },
      "source": [
        "!pip install -U -q PyDrive\n",
        "from pydrive.auth import GoogleAuth\n",
        "from pydrive.drive import GoogleDrive\n",
        "from google.colab import auth\n",
        "from oauth2client.client import GoogleCredentials"
      ],
      "execution_count": 7,
      "outputs": []
    },
    {
      "cell_type": "code",
      "metadata": {
        "id": "gfxi5CtGFb82",
        "outputId": "282d54fd-df8f-4762-c8fc-97f958ecdf96",
        "colab": {
          "base_uri": "https://localhost:8080/",
          "height": 33
        }
      },
      "source": [
        "from google.colab import files\n",
        "from google.colab import drive\n",
        "drive.mount('drive')"
      ],
      "execution_count": 8,
      "outputs": [
        {
          "output_type": "stream",
          "text": [
            "Drive already mounted at drive; to attempt to forcibly remount, call drive.mount(\"drive\", force_remount=True).\n"
          ],
          "name": "stdout"
        }
      ]
    },
    {
      "cell_type": "code",
      "metadata": {
        "id": "XPFM_UxH6WHk"
      },
      "source": [
        "auth.authenticate_user()\n",
        "gauth = GoogleAuth()\n",
        "gauth.credentials = GoogleCredentials.get_application_default()\n",
        "drive = GoogleDrive(gauth)"
      ],
      "execution_count": 9,
      "outputs": []
    },
    {
      "cell_type": "code",
      "metadata": {
        "id": "1FC-FixO6cC0"
      },
      "source": [
        "downloaded = drive.CreateFile({'id':'1jhiRWpBdvLlx5EsRRPLWGWO_7pU5TlTx'}) # replace the id with id of file you want to access\n",
        "downloaded.GetContentFile('emails.csv') "
      ],
      "execution_count": 11,
      "outputs": []
    },
    {
      "cell_type": "code",
      "metadata": {
        "id": "P72DP5ZMNdnp",
        "outputId": "83a6cefa-d783-4e78-a5a4-1fa17c69ca2e",
        "colab": {
          "base_uri": "https://localhost:8080/",
          "height": 196
        }
      },
      "source": [
        "!wget http://mallet.cs.umass.edu/dist/mallet-2.0.8.zip"
      ],
      "execution_count": 12,
      "outputs": [
        {
          "output_type": "stream",
          "text": [
            "--2020-10-01 21:54:57--  http://mallet.cs.umass.edu/dist/mallet-2.0.8.zip\n",
            "Resolving mallet.cs.umass.edu (mallet.cs.umass.edu)... 128.119.246.70\n",
            "Connecting to mallet.cs.umass.edu (mallet.cs.umass.edu)|128.119.246.70|:80... connected.\n",
            "HTTP request sent, awaiting response... 200 OK\n",
            "Length: 16184794 (15M) [application/zip]\n",
            "Saving to: ‘mallet-2.0.8.zip’\n",
            "\n",
            "mallet-2.0.8.zip    100%[===================>]  15.43M  14.7MB/s    in 1.1s    \n",
            "\n",
            "2020-10-01 21:54:58 (14.7 MB/s) - ‘mallet-2.0.8.zip’ saved [16184794/16184794]\n",
            "\n"
          ],
          "name": "stdout"
        }
      ]
    },
    {
      "cell_type": "code",
      "metadata": {
        "id": "sZJIciwENkQ2",
        "outputId": "0c5c32d5-d9d1-47dd-e763-a3c011298abd",
        "colab": {
          "base_uri": "https://localhost:8080/",
          "height": 1000
        }
      },
      "source": [
        "!unzip mallet-2.0.8.zip"
      ],
      "execution_count": 13,
      "outputs": [
        {
          "output_type": "stream",
          "text": [
            "Archive:  mallet-2.0.8.zip\n",
            "   creating: mallet-2.0.8/\n",
            "   creating: mallet-2.0.8/bin/\n",
            "  inflating: mallet-2.0.8/bin/classifier2info  \n",
            "  inflating: mallet-2.0.8/bin/csv2classify  \n",
            "  inflating: mallet-2.0.8/bin/csv2vectors  \n",
            "  inflating: mallet-2.0.8/bin/mallet  \n",
            "  inflating: mallet-2.0.8/bin/mallet.bat  \n",
            "  inflating: mallet-2.0.8/bin/mallethon  \n",
            "  inflating: mallet-2.0.8/bin/prepend-license.sh  \n",
            "  inflating: mallet-2.0.8/bin/svmlight2vectors  \n",
            "  inflating: mallet-2.0.8/bin/text2classify  \n",
            "  inflating: mallet-2.0.8/bin/text2vectors  \n",
            "  inflating: mallet-2.0.8/bin/vectors2classify  \n",
            "  inflating: mallet-2.0.8/bin/vectors2info  \n",
            "  inflating: mallet-2.0.8/bin/vectors2topics  \n",
            "  inflating: mallet-2.0.8/bin/vectors2vectors  \n",
            "  inflating: mallet-2.0.8/build.xml  \n",
            "   creating: mallet-2.0.8/class/\n",
            "   creating: mallet-2.0.8/class/cc/\n",
            "   creating: mallet-2.0.8/class/cc/mallet/\n",
            "   creating: mallet-2.0.8/class/cc/mallet/classify/\n",
            "  inflating: mallet-2.0.8/class/cc/mallet/classify/AdaBoost.class  \n",
            "  inflating: mallet-2.0.8/class/cc/mallet/classify/AdaBoostM2.class  \n",
            "  inflating: mallet-2.0.8/class/cc/mallet/classify/AdaBoostM2Trainer.class  \n",
            "  inflating: mallet-2.0.8/class/cc/mallet/classify/AdaBoostTrainer.class  \n",
            "  inflating: mallet-2.0.8/class/cc/mallet/classify/BaggingClassifier.class  \n",
            "  inflating: mallet-2.0.8/class/cc/mallet/classify/BaggingTrainer.class  \n",
            "  inflating: mallet-2.0.8/class/cc/mallet/classify/BalancedWinnow.class  \n",
            "  inflating: mallet-2.0.8/class/cc/mallet/classify/BalancedWinnowTrainer.class  \n",
            "  inflating: mallet-2.0.8/class/cc/mallet/classify/Boostable.class  \n",
            "  inflating: mallet-2.0.8/class/cc/mallet/classify/C45$Node.class  \n",
            "  inflating: mallet-2.0.8/class/cc/mallet/classify/C45.class  \n",
            "  inflating: mallet-2.0.8/class/cc/mallet/classify/C45Trainer.class  \n",
            "  inflating: mallet-2.0.8/class/cc/mallet/classify/Classification.class  \n",
            "  inflating: mallet-2.0.8/class/cc/mallet/classify/Classifier.class  \n",
            "  inflating: mallet-2.0.8/class/cc/mallet/classify/ClassifierAccuracyEvaluator.class  \n",
            "  inflating: mallet-2.0.8/class/cc/mallet/classify/ClassifierEnsemble.class  \n",
            "  inflating: mallet-2.0.8/class/cc/mallet/classify/ClassifierEnsembleTrainer.class  \n",
            "  inflating: mallet-2.0.8/class/cc/mallet/classify/ClassifierEvaluator.class  \n",
            "  inflating: mallet-2.0.8/class/cc/mallet/classify/ClassifierTrainer$ByActiveLearning.class  \n",
            "  inflating: mallet-2.0.8/class/cc/mallet/classify/ClassifierTrainer$ByIncrements.class  \n",
            "  inflating: mallet-2.0.8/class/cc/mallet/classify/ClassifierTrainer$ByInstanceIncrements.class  \n",
            "  inflating: mallet-2.0.8/class/cc/mallet/classify/ClassifierTrainer$ByOptimization.class  \n",
            "  inflating: mallet-2.0.8/class/cc/mallet/classify/ClassifierTrainer$Factory.class  \n",
            "  inflating: mallet-2.0.8/class/cc/mallet/classify/ClassifierTrainer.class  \n",
            "  inflating: mallet-2.0.8/class/cc/mallet/classify/ConfidencePredictingClassifier.class  \n",
            "  inflating: mallet-2.0.8/class/cc/mallet/classify/ConfidencePredictingClassifierTrainer.class  \n",
            "   creating: mallet-2.0.8/class/cc/mallet/classify/constraints/\n",
            "   creating: mallet-2.0.8/class/cc/mallet/classify/constraints/ge/\n",
            "  inflating: mallet-2.0.8/class/cc/mallet/classify/constraints/ge/MaxEntFLGEConstraints$MaxEntFLGEConstraint.class  \n",
            "  inflating: mallet-2.0.8/class/cc/mallet/classify/constraints/ge/MaxEntFLGEConstraints.class  \n",
            "  inflating: mallet-2.0.8/class/cc/mallet/classify/constraints/ge/MaxEntGEConstraint.class  \n",
            "  inflating: mallet-2.0.8/class/cc/mallet/classify/constraints/ge/MaxEntKLFLGEConstraints$MaxEntKLFLGEConstraint.class  \n",
            "  inflating: mallet-2.0.8/class/cc/mallet/classify/constraints/ge/MaxEntKLFLGEConstraints.class  \n",
            "  inflating: mallet-2.0.8/class/cc/mallet/classify/constraints/ge/MaxEntL2FLGEConstraints$MaxEntL2FLGEConstraint.class  \n",
            "  inflating: mallet-2.0.8/class/cc/mallet/classify/constraints/ge/MaxEntL2FLGEConstraints.class  \n",
            "  inflating: mallet-2.0.8/class/cc/mallet/classify/constraints/ge/MaxEntRangeL2FLGEConstraints$MaxEntL2IndGEConstraint.class  \n",
            "  inflating: mallet-2.0.8/class/cc/mallet/classify/constraints/ge/MaxEntRangeL2FLGEConstraints.class  \n",
            "   creating: mallet-2.0.8/class/cc/mallet/classify/constraints/pr/\n",
            "  inflating: mallet-2.0.8/class/cc/mallet/classify/constraints/pr/MaxEntFLPRConstraints$MaxEntFLPRConstraint.class  \n",
            "  inflating: mallet-2.0.8/class/cc/mallet/classify/constraints/pr/MaxEntFLPRConstraints.class  \n",
            "  inflating: mallet-2.0.8/class/cc/mallet/classify/constraints/pr/MaxEntL2FLPRConstraints$MaxEntL2FLPRConstraint.class  \n",
            "  inflating: mallet-2.0.8/class/cc/mallet/classify/constraints/pr/MaxEntL2FLPRConstraints.class  \n",
            "  inflating: mallet-2.0.8/class/cc/mallet/classify/constraints/pr/MaxEntPRConstraint.class  \n",
            "  inflating: mallet-2.0.8/class/cc/mallet/classify/DecisionTree$Node.class  \n",
            "  inflating: mallet-2.0.8/class/cc/mallet/classify/DecisionTree.class  \n",
            "  inflating: mallet-2.0.8/class/cc/mallet/classify/DecisionTreeTrainer$Factory.class  \n",
            "  inflating: mallet-2.0.8/class/cc/mallet/classify/DecisionTreeTrainer.class  \n",
            "   creating: mallet-2.0.8/class/cc/mallet/classify/evaluate/\n",
            "  inflating: mallet-2.0.8/class/cc/mallet/classify/evaluate/AccuracyCoverage$1.class  \n",
            "  inflating: mallet-2.0.8/class/cc/mallet/classify/evaluate/AccuracyCoverage$ClassificationComparator.class  \n",
            "  inflating: mallet-2.0.8/class/cc/mallet/classify/evaluate/AccuracyCoverage.class  \n",
            "  inflating: mallet-2.0.8/class/cc/mallet/classify/evaluate/ConfusionMatrix.class  \n",
            "  inflating: mallet-2.0.8/class/cc/mallet/classify/evaluate/Graph$Legend.class  \n",
            "  inflating: mallet-2.0.8/class/cc/mallet/classify/evaluate/Graph.class  \n",
            "  inflating: mallet-2.0.8/class/cc/mallet/classify/evaluate/Graph2.class  \n",
            "  inflating: mallet-2.0.8/class/cc/mallet/classify/evaluate/GraphItem.class  \n",
            "   creating: mallet-2.0.8/class/cc/mallet/classify/examples/\n",
            "  inflating: mallet-2.0.8/class/cc/mallet/classify/examples/DocumentClassifier.class  \n",
            "  inflating: mallet-2.0.8/class/cc/mallet/classify/FeatureConstraintUtil$Element.class  \n",
            "  inflating: mallet-2.0.8/class/cc/mallet/classify/FeatureConstraintUtil.class  \n",
            "  inflating: mallet-2.0.8/class/cc/mallet/classify/FeatureSelectingClassifierTrainer.class  \n",
            "  inflating: mallet-2.0.8/class/cc/mallet/classify/MaxEnt.class  \n",
            "  inflating: mallet-2.0.8/class/cc/mallet/classify/MaxEntGERangeTrainer.class  \n",
            "  inflating: mallet-2.0.8/class/cc/mallet/classify/MaxEntGETrainer.class  \n",
            "  inflating: mallet-2.0.8/class/cc/mallet/classify/MaxEntL1Trainer.class  \n",
            "  inflating: mallet-2.0.8/class/cc/mallet/classify/MaxEntOptimizableByGE.class  \n",
            "  inflating: mallet-2.0.8/class/cc/mallet/classify/MaxEntOptimizableByLabelDistribution.class  \n",
            "  inflating: mallet-2.0.8/class/cc/mallet/classify/MaxEntOptimizableByLabelLikelihood.class  \n",
            "  inflating: mallet-2.0.8/class/cc/mallet/classify/MaxEntPRTrainer.class  \n",
            "  inflating: mallet-2.0.8/class/cc/mallet/classify/MaxEntTrainer.class  \n",
            "  inflating: mallet-2.0.8/class/cc/mallet/classify/MCMaxEnt.class  \n",
            "  inflating: mallet-2.0.8/class/cc/mallet/classify/MCMaxEntTrainer$MaximizableTrainer.class  \n",
            "  inflating: mallet-2.0.8/class/cc/mallet/classify/MCMaxEntTrainer.class  \n",
            "  inflating: mallet-2.0.8/class/cc/mallet/classify/MostFrequentClassAssignmentTrainer.class  \n",
            "  inflating: mallet-2.0.8/class/cc/mallet/classify/MostFrequentClassifier.class  \n",
            "  inflating: mallet-2.0.8/class/cc/mallet/classify/NaiveBayes.class  \n",
            "  inflating: mallet-2.0.8/class/cc/mallet/classify/NaiveBayesEMTrainer.class  \n",
            "  inflating: mallet-2.0.8/class/cc/mallet/classify/NaiveBayesTrainer$Factory.class  \n",
            "  inflating: mallet-2.0.8/class/cc/mallet/classify/NaiveBayesTrainer.class  \n",
            "  inflating: mallet-2.0.8/class/cc/mallet/classify/PRAuxClassifier.class  \n",
            "  inflating: mallet-2.0.8/class/cc/mallet/classify/PRAuxClassifierOptimizable.class  \n",
            "  inflating: mallet-2.0.8/class/cc/mallet/classify/RandomAssignmentTrainer.class  \n",
            "  inflating: mallet-2.0.8/class/cc/mallet/classify/RandomClassifier.class  \n",
            "  inflating: mallet-2.0.8/class/cc/mallet/classify/RankMaxEnt.class  \n",
            "  inflating: mallet-2.0.8/class/cc/mallet/classify/RankMaxEntTrainer$MaximizableTrainer.class  \n",
            "  inflating: mallet-2.0.8/class/cc/mallet/classify/RankMaxEntTrainer.class  \n",
            "   creating: mallet-2.0.8/class/cc/mallet/classify/tests/\n",
            "  inflating: mallet-2.0.8/class/cc/mallet/classify/tests/TestClassifiers.class  \n",
            "  inflating: mallet-2.0.8/class/cc/mallet/classify/tests/TestMaxEntTrainer.class  \n",
            "  inflating: mallet-2.0.8/class/cc/mallet/classify/tests/TestNaiveBayes.class  \n",
            "  inflating: mallet-2.0.8/class/cc/mallet/classify/tests/TestStaticParameters$1.class  \n",
            "  inflating: mallet-2.0.8/class/cc/mallet/classify/tests/TestStaticParameters$Factory.class  \n",
            "  inflating: mallet-2.0.8/class/cc/mallet/classify/tests/TestStaticParameters.class  \n",
            "  inflating: mallet-2.0.8/class/cc/mallet/classify/Trial.class  \n",
            "   creating: mallet-2.0.8/class/cc/mallet/classify/tui/\n",
            "  inflating: mallet-2.0.8/class/cc/mallet/classify/tui/Calo2Classify$1.class  \n",
            "  inflating: mallet-2.0.8/class/cc/mallet/classify/tui/Calo2Classify$2.class  \n",
            "  inflating: mallet-2.0.8/class/cc/mallet/classify/tui/Calo2Classify$ReportOption.class  \n",
            "  inflating: mallet-2.0.8/class/cc/mallet/classify/tui/Calo2Classify.class  \n",
            "  inflating: mallet-2.0.8/class/cc/mallet/classify/tui/Classifier2Info.class  \n",
            "  inflating: mallet-2.0.8/class/cc/mallet/classify/tui/Csv2Classify.class  \n",
            "  inflating: mallet-2.0.8/class/cc/mallet/classify/tui/Csv2Vectors.class  \n",
            "  inflating: mallet-2.0.8/class/cc/mallet/classify/tui/SvmLight2Classify.class  \n",
            "  inflating: mallet-2.0.8/class/cc/mallet/classify/tui/SvmLight2Vectors.class  \n",
            "  inflating: mallet-2.0.8/class/cc/mallet/classify/tui/Text2Classify.class  \n",
            "  inflating: mallet-2.0.8/class/cc/mallet/classify/tui/Text2Vectors.class  \n",
            "  inflating: mallet-2.0.8/class/cc/mallet/classify/tui/Vectors2Classify$1.class  \n",
            "  inflating: mallet-2.0.8/class/cc/mallet/classify/tui/Vectors2Classify$2.class  \n",
            "  inflating: mallet-2.0.8/class/cc/mallet/classify/tui/Vectors2Classify$ReportOption.class  \n",
            "  inflating: mallet-2.0.8/class/cc/mallet/classify/tui/Vectors2Classify.class  \n",
            "  inflating: mallet-2.0.8/class/cc/mallet/classify/tui/Vectors2FeatureConstraints.class  \n",
            "  inflating: mallet-2.0.8/class/cc/mallet/classify/tui/Vectors2Info$1.class  \n",
            "  inflating: mallet-2.0.8/class/cc/mallet/classify/tui/Vectors2Info.class  \n",
            "  inflating: mallet-2.0.8/class/cc/mallet/classify/tui/Vectors2Vectors.class  \n",
            "  inflating: mallet-2.0.8/class/cc/mallet/classify/Winnow.class  \n",
            "  inflating: mallet-2.0.8/class/cc/mallet/classify/WinnowTrainer.class  \n",
            "   creating: mallet-2.0.8/class/cc/mallet/cluster/\n",
            "  inflating: mallet-2.0.8/class/cc/mallet/cluster/Clusterer.class  \n",
            "  inflating: mallet-2.0.8/class/cc/mallet/cluster/Clustering.class  \n",
            "   creating: mallet-2.0.8/class/cc/mallet/cluster/clustering_scorer/\n",
            "  inflating: mallet-2.0.8/class/cc/mallet/cluster/clustering_scorer/ClusteringScorer.class  \n",
            "  inflating: mallet-2.0.8/class/cc/mallet/cluster/clustering_scorer/PairwiseScorer.class  \n",
            "  inflating: mallet-2.0.8/class/cc/mallet/cluster/Clusterings.class  \n",
            "   creating: mallet-2.0.8/class/cc/mallet/cluster/evaluate/\n",
            "  inflating: mallet-2.0.8/class/cc/mallet/cluster/evaluate/AccuracyEvaluator.class  \n",
            "  inflating: mallet-2.0.8/class/cc/mallet/cluster/evaluate/BCubedEvaluator.class  \n",
            "  inflating: mallet-2.0.8/class/cc/mallet/cluster/evaluate/ClusteringEvaluator.class  \n",
            "  inflating: mallet-2.0.8/class/cc/mallet/cluster/evaluate/ClusteringEvaluators.class  \n",
            "  inflating: mallet-2.0.8/class/cc/mallet/cluster/evaluate/MUCEvaluator.class  \n",
            "  inflating: mallet-2.0.8/class/cc/mallet/cluster/evaluate/PairF1Evaluator.class  \n",
            "   creating: mallet-2.0.8/class/cc/mallet/cluster/evaluate/tests/\n",
            "  inflating: mallet-2.0.8/class/cc/mallet/cluster/evaluate/tests/TestClusteringEvaluators.class  \n",
            "   creating: mallet-2.0.8/class/cc/mallet/cluster/examples/\n",
            "  inflating: mallet-2.0.8/class/cc/mallet/cluster/examples/FirstOrderClusterExample$OverlappingFeaturePipe.class  \n",
            "  inflating: mallet-2.0.8/class/cc/mallet/cluster/examples/FirstOrderClusterExample.class  \n",
            "  inflating: mallet-2.0.8/class/cc/mallet/cluster/GreedyAgglomerative.class  \n",
            "  inflating: mallet-2.0.8/class/cc/mallet/cluster/GreedyAgglomerativeByDensity.class  \n",
            "  inflating: mallet-2.0.8/class/cc/mallet/cluster/HillClimbingClusterer.class  \n",
            "   creating: mallet-2.0.8/class/cc/mallet/cluster/iterator/\n",
            "  inflating: mallet-2.0.8/class/cc/mallet/cluster/iterator/AllPairsIterator.class  \n",
            "  inflating: mallet-2.0.8/class/cc/mallet/cluster/iterator/ClusterSampleIterator.class  \n",
            "  inflating: mallet-2.0.8/class/cc/mallet/cluster/iterator/NeighborIterator.class  \n",
            "  inflating: mallet-2.0.8/class/cc/mallet/cluster/iterator/NodeClusterSampleIterator.class  \n",
            "  inflating: mallet-2.0.8/class/cc/mallet/cluster/iterator/PairSampleIterator.class  \n",
            "   creating: mallet-2.0.8/class/cc/mallet/cluster/iterator/tests/\n",
            "  inflating: mallet-2.0.8/class/cc/mallet/cluster/iterator/tests/TestIterators.class  \n",
            "  inflating: mallet-2.0.8/class/cc/mallet/cluster/KBestClusterer.class  \n",
            "  inflating: mallet-2.0.8/class/cc/mallet/cluster/KMeans.class  \n",
            "   creating: mallet-2.0.8/class/cc/mallet/cluster/neighbor_evaluator/\n",
            "  inflating: mallet-2.0.8/class/cc/mallet/cluster/neighbor_evaluator/AgglomerativeNeighbor.class  \n",
            "  inflating: mallet-2.0.8/class/cc/mallet/cluster/neighbor_evaluator/ClassifyingNeighborEvaluator.class  \n",
            "  inflating: mallet-2.0.8/class/cc/mallet/cluster/neighbor_evaluator/MedoidEvaluator$Average.class  \n",
            "  inflating: mallet-2.0.8/class/cc/mallet/cluster/neighbor_evaluator/MedoidEvaluator$CombiningStrategy.class  \n",
            "  inflating: mallet-2.0.8/class/cc/mallet/cluster/neighbor_evaluator/MedoidEvaluator$Maximum.class  \n",
            "  inflating: mallet-2.0.8/class/cc/mallet/cluster/neighbor_evaluator/MedoidEvaluator$Minimum.class  \n",
            "  inflating: mallet-2.0.8/class/cc/mallet/cluster/neighbor_evaluator/MedoidEvaluator.class  \n",
            "  inflating: mallet-2.0.8/class/cc/mallet/cluster/neighbor_evaluator/Neighbor.class  \n",
            "  inflating: mallet-2.0.8/class/cc/mallet/cluster/neighbor_evaluator/NeighborEvaluator.class  \n",
            "  inflating: mallet-2.0.8/class/cc/mallet/cluster/neighbor_evaluator/PairwiseEvaluator$Average.class  \n",
            "  inflating: mallet-2.0.8/class/cc/mallet/cluster/neighbor_evaluator/PairwiseEvaluator$CombiningStrategy.class  \n",
            "  inflating: mallet-2.0.8/class/cc/mallet/cluster/neighbor_evaluator/PairwiseEvaluator$Maximum.class  \n",
            "  inflating: mallet-2.0.8/class/cc/mallet/cluster/neighbor_evaluator/PairwiseEvaluator$Minimum.class  \n",
            "  inflating: mallet-2.0.8/class/cc/mallet/cluster/neighbor_evaluator/PairwiseEvaluator.class  \n",
            "  inflating: mallet-2.0.8/class/cc/mallet/cluster/neighbor_evaluator/RandomEvaluator.class  \n",
            "  inflating: mallet-2.0.8/class/cc/mallet/cluster/neighbor_evaluator/RankingNeighborEvaluator.class  \n",
            "  inflating: mallet-2.0.8/class/cc/mallet/cluster/Record.class  \n",
            "   creating: mallet-2.0.8/class/cc/mallet/cluster/tui/\n",
            "  inflating: mallet-2.0.8/class/cc/mallet/cluster/tui/Clusterings2Clusterer$ClusteringPipe.class  \n",
            "  inflating: mallet-2.0.8/class/cc/mallet/cluster/tui/Clusterings2Clusterer.class  \n",
            "  inflating: mallet-2.0.8/class/cc/mallet/cluster/tui/Clusterings2Clusterings.class  \n",
            "  inflating: mallet-2.0.8/class/cc/mallet/cluster/tui/Clusterings2Info.class  \n",
            "  inflating: mallet-2.0.8/class/cc/mallet/cluster/tui/Text2Clusterings.class  \n",
            "   creating: mallet-2.0.8/class/cc/mallet/cluster/util/\n",
            "  inflating: mallet-2.0.8/class/cc/mallet/cluster/util/ClusterUtils.class  \n",
            "  inflating: mallet-2.0.8/class/cc/mallet/cluster/util/PairwiseMatrix.class  \n",
            "   creating: mallet-2.0.8/class/cc/mallet/examples/\n",
            "  inflating: mallet-2.0.8/class/cc/mallet/examples/TestCRFPipe.class  \n",
            "  inflating: mallet-2.0.8/class/cc/mallet/examples/TopicModel.class  \n",
            "  inflating: mallet-2.0.8/class/cc/mallet/examples/TrainCRF.class  \n",
            "  inflating: mallet-2.0.8/class/cc/mallet/examples/TrainHMM.class  \n",
            "   creating: mallet-2.0.8/class/cc/mallet/extract/\n",
            "  inflating: mallet-2.0.8/class/cc/mallet/extract/AccuracyCoverageEvaluator.class  \n",
            "  inflating: mallet-2.0.8/class/cc/mallet/extract/BIOTokenizationFilter.class  \n",
            "  inflating: mallet-2.0.8/class/cc/mallet/extract/BIOTokenizationFilterWithTokenIndices.class  \n",
            "  inflating: mallet-2.0.8/class/cc/mallet/extract/ConfidenceTokenizationFilter.class  \n",
            "  inflating: mallet-2.0.8/class/cc/mallet/extract/CRFExtractor.class  \n",
            "  inflating: mallet-2.0.8/class/cc/mallet/extract/DefaultTokenizationFilter.class  \n",
            "  inflating: mallet-2.0.8/class/cc/mallet/extract/DocumentExtraction$1.class  \n",
            "  inflating: mallet-2.0.8/class/cc/mallet/extract/DocumentExtraction.class  \n",
            "  inflating: mallet-2.0.8/class/cc/mallet/extract/DocumentViewer$DualLabeledSpans.class  \n",
            "  inflating: mallet-2.0.8/class/cc/mallet/extract/DocumentViewer.class  \n",
            "  inflating: mallet-2.0.8/class/cc/mallet/extract/ExactMatchComparator.class  \n",
            "  inflating: mallet-2.0.8/class/cc/mallet/extract/Extraction.class  \n",
            "  inflating: mallet-2.0.8/class/cc/mallet/extract/ExtractionConfidenceEstimator.class  \n",
            "  inflating: mallet-2.0.8/class/cc/mallet/extract/ExtractionEvaluator.class  \n",
            "  inflating: mallet-2.0.8/class/cc/mallet/extract/Extractor.class  \n",
            "  inflating: mallet-2.0.8/class/cc/mallet/extract/Field.class  \n",
            "  inflating: mallet-2.0.8/class/cc/mallet/extract/FieldCleaner.class  \n",
            "  inflating: mallet-2.0.8/class/cc/mallet/extract/FieldComparator.class  \n",
            "  inflating: mallet-2.0.8/class/cc/mallet/extract/HierarchicalTokenizationFilter$TagStart.class  \n",
            "  inflating: mallet-2.0.8/class/cc/mallet/extract/HierarchicalTokenizationFilter.class  \n",
            "  inflating: mallet-2.0.8/class/cc/mallet/extract/LabeledSpan.class  \n",
            "  inflating: mallet-2.0.8/class/cc/mallet/extract/LabeledSpans.class  \n",
            "  inflating: mallet-2.0.8/class/cc/mallet/extract/LatticeViewer$ExtorInfo.class  \n",
            "  inflating: mallet-2.0.8/class/cc/mallet/extract/LatticeViewer.class  \n",
            "  inflating: mallet-2.0.8/class/cc/mallet/extract/PerDocumentF1Evaluator.class  \n",
            "  inflating: mallet-2.0.8/class/cc/mallet/extract/PerFieldF1Evaluator.class  \n",
            "   creating: mallet-2.0.8/class/cc/mallet/extract/pipe/\n",
            "  inflating: mallet-2.0.8/class/cc/mallet/extract/pipe/TokenSequence2Tokenization.class  \n",
            "  inflating: mallet-2.0.8/class/cc/mallet/extract/PunctuationIgnoringComparator.class  \n",
            "  inflating: mallet-2.0.8/class/cc/mallet/extract/Record.class  \n",
            "  inflating: mallet-2.0.8/class/cc/mallet/extract/RegexFieldCleaner.class  \n",
            "  inflating: mallet-2.0.8/class/cc/mallet/extract/Span.class  \n",
            "  inflating: mallet-2.0.8/class/cc/mallet/extract/StringSpan.class  \n",
            "  inflating: mallet-2.0.8/class/cc/mallet/extract/StringTokenization.class  \n",
            "   creating: mallet-2.0.8/class/cc/mallet/extract/test/\n",
            "  inflating: mallet-2.0.8/class/cc/mallet/extract/test/TestDocumentExtraction.class  \n",
            "  inflating: mallet-2.0.8/class/cc/mallet/extract/test/TestDocumentViewer.class  \n",
            "  inflating: mallet-2.0.8/class/cc/mallet/extract/test/TestLatticeViewer.class  \n",
            "  inflating: mallet-2.0.8/class/cc/mallet/extract/test/TestPerDocumentF1Evaluator.class  \n",
            "  inflating: mallet-2.0.8/class/cc/mallet/extract/Tokenization.class  \n",
            "  inflating: mallet-2.0.8/class/cc/mallet/extract/TokenizationFilter.class  \n",
            "  inflating: mallet-2.0.8/class/cc/mallet/extract/TransducerExtractionConfidenceEstimator.class  \n",
            "   creating: mallet-2.0.8/class/cc/mallet/fst/\n",
            "  inflating: mallet-2.0.8/class/cc/mallet/fst/CacheStaleIndicator.class  \n",
            "   creating: mallet-2.0.8/class/cc/mallet/fst/confidence/\n",
            "  inflating: mallet-2.0.8/class/cc/mallet/fst/confidence/ConfidenceCorrectorEvaluator.class  \n",
            "  inflating: mallet-2.0.8/class/cc/mallet/fst/confidence/ConfidenceEvaluator$1.class  \n",
            "  inflating: mallet-2.0.8/class/cc/mallet/fst/confidence/ConfidenceEvaluator$ConfidenceComparator.class  \n",
            "  inflating: mallet-2.0.8/class/cc/mallet/fst/confidence/ConfidenceEvaluator$EntityConfidence.class  \n",
            "  inflating: mallet-2.0.8/class/cc/mallet/fst/confidence/ConfidenceEvaluator.class  \n",
            "  inflating: mallet-2.0.8/class/cc/mallet/fst/confidence/ConstrainedForwardBackwardConfidenceEstimator.class  \n",
            "  inflating: mallet-2.0.8/class/cc/mallet/fst/confidence/ConstrainedViterbiTransducerCorrector.class  \n",
            "  inflating: mallet-2.0.8/class/cc/mallet/fst/confidence/GammaAverageConfidenceEstimator.class  \n",
            "  inflating: mallet-2.0.8/class/cc/mallet/fst/confidence/GammaProductConfidenceEstimator.class  \n",
            "  inflating: mallet-2.0.8/class/cc/mallet/fst/confidence/InstanceWithConfidence.class  \n",
            "  inflating: mallet-2.0.8/class/cc/mallet/fst/confidence/IsolatedSegmentTransducerCorrector.class  \n",
            "  inflating: mallet-2.0.8/class/cc/mallet/fst/confidence/MaxEntConfidenceEstimator.class  \n",
            "  inflating: mallet-2.0.8/class/cc/mallet/fst/confidence/MaxEntSequenceConfidenceEstimator.class  \n",
            "  inflating: mallet-2.0.8/class/cc/mallet/fst/confidence/MinSegmentConfidenceEstimator.class  \n",
            "  inflating: mallet-2.0.8/class/cc/mallet/fst/confidence/NBestViterbiConfidenceEstimator.class  \n",
            "  inflating: mallet-2.0.8/class/cc/mallet/fst/confidence/PipedInstanceWithConfidence.class  \n",
            "  inflating: mallet-2.0.8/class/cc/mallet/fst/confidence/QBCSequenceConfidenceEstimator.class  \n",
            "  inflating: mallet-2.0.8/class/cc/mallet/fst/confidence/RandomConfidenceEstimator.class  \n",
            "  inflating: mallet-2.0.8/class/cc/mallet/fst/confidence/RandomSequenceConfidenceEstimator.class  \n",
            "  inflating: mallet-2.0.8/class/cc/mallet/fst/confidence/SegmentProductConfidenceEstimator.class  \n",
            "  inflating: mallet-2.0.8/class/cc/mallet/fst/confidence/SequenceConfidenceInstance.class  \n",
            "  inflating: mallet-2.0.8/class/cc/mallet/fst/confidence/TransducerConfidenceEstimator.class  \n",
            "  inflating: mallet-2.0.8/class/cc/mallet/fst/confidence/TransducerCorrector.class  \n",
            "  inflating: mallet-2.0.8/class/cc/mallet/fst/confidence/TransducerSequenceConfidenceEstimator.class  \n",
            "  inflating: mallet-2.0.8/class/cc/mallet/fst/confidence/ViterbiConfidenceEstimator.class  \n",
            "  inflating: mallet-2.0.8/class/cc/mallet/fst/confidence/ViterbiRatioConfidenceEstimator.class  \n",
            "  inflating: mallet-2.0.8/class/cc/mallet/fst/CRF$1.class  \n",
            "  inflating: mallet-2.0.8/class/cc/mallet/fst/CRF$2.class  \n",
            "  inflating: mallet-2.0.8/class/cc/mallet/fst/CRF$Factors$Incrementor.class  \n",
            "  inflating: mallet-2.0.8/class/cc/mallet/fst/CRF$Factors$WeightedIncrementor.class  \n",
            "  inflating: mallet-2.0.8/class/cc/mallet/fst/CRF$Factors.class  \n",
            "  inflating: mallet-2.0.8/class/cc/mallet/fst/CRF$State.class  \n",
            "  inflating: mallet-2.0.8/class/cc/mallet/fst/CRF$TransitionIterator.class  \n",
            "  inflating: mallet-2.0.8/class/cc/mallet/fst/CRF.class  \n",
            "  inflating: mallet-2.0.8/class/cc/mallet/fst/CRFCacheStaleIndicator.class  \n",
            "  inflating: mallet-2.0.8/class/cc/mallet/fst/CRFOptimizableByBatchLabelLikelihood$Factory.class  \n",
            "  inflating: mallet-2.0.8/class/cc/mallet/fst/CRFOptimizableByBatchLabelLikelihood.class  \n",
            "  inflating: mallet-2.0.8/class/cc/mallet/fst/CRFOptimizableByGradientValues.class  \n",
            "  inflating: mallet-2.0.8/class/cc/mallet/fst/CRFOptimizableByLabelLikelihood$Factory.class  \n",
            "  inflating: mallet-2.0.8/class/cc/mallet/fst/CRFOptimizableByLabelLikelihood.class  \n",
            "  inflating: mallet-2.0.8/class/cc/mallet/fst/CRFTrainerByL1LabelLikelihood.class  \n",
            "  inflating: mallet-2.0.8/class/cc/mallet/fst/CRFTrainerByLabelLikelihood.class  \n",
            "  inflating: mallet-2.0.8/class/cc/mallet/fst/CRFTrainerByStochasticGradient.class  \n",
            "  inflating: mallet-2.0.8/class/cc/mallet/fst/CRFTrainerByThreadedLabelLikelihood.class  \n",
            "  inflating: mallet-2.0.8/class/cc/mallet/fst/CRFTrainerByValueGradients$OptimizableCRF.class  \n",
            "  inflating: mallet-2.0.8/class/cc/mallet/fst/CRFTrainerByValueGradients.class  \n",
            "  inflating: mallet-2.0.8/class/cc/mallet/fst/CRFWriter.class  \n",
            "  inflating: mallet-2.0.8/class/cc/mallet/fst/FeatureTransducer$State.class  \n",
            "  inflating: mallet-2.0.8/class/cc/mallet/fst/FeatureTransducer$Transition.class  \n",
            "  inflating: mallet-2.0.8/class/cc/mallet/fst/FeatureTransducer$TransitionIterator.class  \n",
            "  inflating: mallet-2.0.8/class/cc/mallet/fst/FeatureTransducer.class  \n",
            "  inflating: mallet-2.0.8/class/cc/mallet/fst/HMM$Incrementor.class  \n",
            "  inflating: mallet-2.0.8/class/cc/mallet/fst/HMM$State.class  \n",
            "  inflating: mallet-2.0.8/class/cc/mallet/fst/HMM$TransitionIterator.class  \n",
            "  inflating: mallet-2.0.8/class/cc/mallet/fst/HMM$WeightedIncrementor.class  \n",
            "  inflating: mallet-2.0.8/class/cc/mallet/fst/HMM.class  \n",
            "  inflating: mallet-2.0.8/class/cc/mallet/fst/HMMTrainerByLikelihood.class  \n",
            "  inflating: mallet-2.0.8/class/cc/mallet/fst/InstanceAccuracyEvaluator.class  \n",
            "  inflating: mallet-2.0.8/class/cc/mallet/fst/LabelDistributionEvaluator.class  \n",
            "  inflating: mallet-2.0.8/class/cc/mallet/fst/MaxLattice.class  \n",
            "  inflating: mallet-2.0.8/class/cc/mallet/fst/MaxLatticeDefault$1.class  \n",
            "  inflating: mallet-2.0.8/class/cc/mallet/fst/MaxLatticeDefault$Factory.class  \n",
            "  inflating: mallet-2.0.8/class/cc/mallet/fst/MaxLatticeDefault$ViterbiNode$PreviousStateIterator.class  \n",
            "  inflating: mallet-2.0.8/class/cc/mallet/fst/MaxLatticeDefault$ViterbiNode.class  \n",
            "  inflating: mallet-2.0.8/class/cc/mallet/fst/MaxLatticeDefault$WeightCache.class  \n",
            "  inflating: mallet-2.0.8/class/cc/mallet/fst/MaxLatticeDefault.class  \n",
            "  inflating: mallet-2.0.8/class/cc/mallet/fst/MaxLatticeFactory.class  \n",
            "  inflating: mallet-2.0.8/class/cc/mallet/fst/MEMM$State.class  \n",
            "  inflating: mallet-2.0.8/class/cc/mallet/fst/MEMM$TransitionIterator.class  \n",
            "  inflating: mallet-2.0.8/class/cc/mallet/fst/MEMM.class  \n",
            "  inflating: mallet-2.0.8/class/cc/mallet/fst/MEMMTrainer$1.class  \n",
            "  inflating: mallet-2.0.8/class/cc/mallet/fst/MEMMTrainer$MEMMOptimizableByLabelLikelihood.class  \n",
            "  inflating: mallet-2.0.8/class/cc/mallet/fst/MEMMTrainer.class  \n",
            "  inflating: mallet-2.0.8/class/cc/mallet/fst/MultiSegmentationEvaluator.class  \n",
            "  inflating: mallet-2.0.8/class/cc/mallet/fst/NoopTransducerTrainer.class  \n",
            "  inflating: mallet-2.0.8/class/cc/mallet/fst/PerClassAccuracyEvaluator.class  \n",
            "  inflating: mallet-2.0.8/class/cc/mallet/fst/Segment.class  \n",
            "  inflating: mallet-2.0.8/class/cc/mallet/fst/SegmentationEvaluator$1.class  \n",
            "  inflating: mallet-2.0.8/class/cc/mallet/fst/SegmentationEvaluator$2.class  \n",
            "  inflating: mallet-2.0.8/class/cc/mallet/fst/SegmentationEvaluator.class  \n",
            "   creating: mallet-2.0.8/class/cc/mallet/fst/semi_supervised/\n",
            "   creating: mallet-2.0.8/class/cc/mallet/fst/semi_supervised/constraints/\n",
            "  inflating: mallet-2.0.8/class/cc/mallet/fst/semi_supervised/constraints/GEConstraint.class  \n",
            "  inflating: mallet-2.0.8/class/cc/mallet/fst/semi_supervised/constraints/OneLabelGEConstraints$OneLabelGEConstraint.class  \n",
            "  inflating: mallet-2.0.8/class/cc/mallet/fst/semi_supervised/constraints/OneLabelGEConstraints.class  \n",
            "  inflating: mallet-2.0.8/class/cc/mallet/fst/semi_supervised/constraints/OneLabelKLGEConstraints$OneLabelGEKLConstraint.class  \n",
            "  inflating: mallet-2.0.8/class/cc/mallet/fst/semi_supervised/constraints/OneLabelKLGEConstraints.class  \n",
            "  inflating: mallet-2.0.8/class/cc/mallet/fst/semi_supervised/constraints/OneLabelL2GEConstraints$OneLabelGEL2Constraint.class  \n",
            "  inflating: mallet-2.0.8/class/cc/mallet/fst/semi_supervised/constraints/OneLabelL2GEConstraints.class  \n",
            "  inflating: mallet-2.0.8/class/cc/mallet/fst/semi_supervised/constraints/OneLabelL2RangeGEConstraints$OneLabelL2IndGEConstraint.class  \n",
            "  inflating: mallet-2.0.8/class/cc/mallet/fst/semi_supervised/constraints/OneLabelL2RangeGEConstraints.class  \n",
            "  inflating: mallet-2.0.8/class/cc/mallet/fst/semi_supervised/constraints/SelfTransitionGEConstraint.class  \n",
            "  inflating: mallet-2.0.8/class/cc/mallet/fst/semi_supervised/constraints/TwoLabelGEConstraints$TwoLabelGEConstraint.class  \n",
            "  inflating: mallet-2.0.8/class/cc/mallet/fst/semi_supervised/constraints/TwoLabelGEConstraints.class  \n",
            "  inflating: mallet-2.0.8/class/cc/mallet/fst/semi_supervised/constraints/TwoLabelKLGEConstraints$TwoLabelKLGEConstraint.class  \n",
            "  inflating: mallet-2.0.8/class/cc/mallet/fst/semi_supervised/constraints/TwoLabelKLGEConstraints.class  \n",
            "  inflating: mallet-2.0.8/class/cc/mallet/fst/semi_supervised/constraints/TwoLabelL2GEConstraints$TwoLabelL2GEConstraint.class  \n",
            "  inflating: mallet-2.0.8/class/cc/mallet/fst/semi_supervised/constraints/TwoLabelL2GEConstraints.class  \n",
            "  inflating: mallet-2.0.8/class/cc/mallet/fst/semi_supervised/CRFOptimizableByEntropyRegularization.class  \n",
            "  inflating: mallet-2.0.8/class/cc/mallet/fst/semi_supervised/CRFOptimizableByGE.class  \n",
            "  inflating: mallet-2.0.8/class/cc/mallet/fst/semi_supervised/CRFTrainerByEntropyRegularization.class  \n",
            "  inflating: mallet-2.0.8/class/cc/mallet/fst/semi_supervised/CRFTrainerByGE.class  \n",
            "  inflating: mallet-2.0.8/class/cc/mallet/fst/semi_supervised/CRFTrainerByLikelihoodAndGE.class  \n",
            "  inflating: mallet-2.0.8/class/cc/mallet/fst/semi_supervised/EntropyLattice$LatticeNode.class  \n",
            "  inflating: mallet-2.0.8/class/cc/mallet/fst/semi_supervised/EntropyLattice.class  \n",
            "  inflating: mallet-2.0.8/class/cc/mallet/fst/semi_supervised/FSTConstraintUtil.class  \n",
            "  inflating: mallet-2.0.8/class/cc/mallet/fst/semi_supervised/GELattice$LatticeNode.class  \n",
            "  inflating: mallet-2.0.8/class/cc/mallet/fst/semi_supervised/GELattice.class  \n",
            "  inflating: mallet-2.0.8/class/cc/mallet/fst/semi_supervised/GELatticeTask.class  \n",
            "   creating: mallet-2.0.8/class/cc/mallet/fst/semi_supervised/pr/\n",
            "  inflating: mallet-2.0.8/class/cc/mallet/fst/semi_supervised/pr/CachedDotTransitionIterator.class  \n",
            "   creating: mallet-2.0.8/class/cc/mallet/fst/semi_supervised/pr/constraints/\n",
            "  inflating: mallet-2.0.8/class/cc/mallet/fst/semi_supervised/pr/constraints/OneLabelL2IndPRConstraints$OneLabelL2IndPRConstraint.class  \n",
            "  inflating: mallet-2.0.8/class/cc/mallet/fst/semi_supervised/pr/constraints/OneLabelL2IndPRConstraints.class  \n",
            "  inflating: mallet-2.0.8/class/cc/mallet/fst/semi_supervised/pr/constraints/OneLabelL2PRConstraints$OneLabelPRConstraint.class  \n",
            "  inflating: mallet-2.0.8/class/cc/mallet/fst/semi_supervised/pr/constraints/OneLabelL2PRConstraints.class  \n",
            "  inflating: mallet-2.0.8/class/cc/mallet/fst/semi_supervised/pr/constraints/PRConstraint.class  \n",
            "  inflating: mallet-2.0.8/class/cc/mallet/fst/semi_supervised/pr/ConstraintsOptimizableByPR$ExpectationTask.class  \n",
            "  inflating: mallet-2.0.8/class/cc/mallet/fst/semi_supervised/pr/ConstraintsOptimizableByPR.class  \n",
            "  inflating: mallet-2.0.8/class/cc/mallet/fst/semi_supervised/pr/CRFOptimizableByKL$ExpectationTask.class  \n",
            "  inflating: mallet-2.0.8/class/cc/mallet/fst/semi_supervised/pr/CRFOptimizableByKL.class  \n",
            "  inflating: mallet-2.0.8/class/cc/mallet/fst/semi_supervised/pr/CRFTrainerByPR.class  \n",
            "  inflating: mallet-2.0.8/class/cc/mallet/fst/semi_supervised/pr/PRAuxiliaryModel.class  \n",
            "  inflating: mallet-2.0.8/class/cc/mallet/fst/semi_supervised/pr/SumLatticeDefaultCachedDot$LatticeNode.class  \n",
            "  inflating: mallet-2.0.8/class/cc/mallet/fst/semi_supervised/pr/SumLatticeDefaultCachedDot.class  \n",
            "  inflating: mallet-2.0.8/class/cc/mallet/fst/semi_supervised/pr/SumLatticeKL.class  \n",
            "  inflating: mallet-2.0.8/class/cc/mallet/fst/semi_supervised/pr/SumLatticePR$LatticeNode.class  \n",
            "  inflating: mallet-2.0.8/class/cc/mallet/fst/semi_supervised/pr/SumLatticePR.class  \n",
            "  inflating: mallet-2.0.8/class/cc/mallet/fst/semi_supervised/StateLabelMap.class  \n",
            "  inflating: mallet-2.0.8/class/cc/mallet/fst/semi_supervised/SumLatticeTask.class  \n",
            "   creating: mallet-2.0.8/class/cc/mallet/fst/semi_supervised/tui/\n",
            "  inflating: mallet-2.0.8/class/cc/mallet/fst/semi_supervised/tui/SimpleTaggerWithConstraints.class  \n",
            "  inflating: mallet-2.0.8/class/cc/mallet/fst/ShallowTransducerTrainer.class  \n",
            "  inflating: mallet-2.0.8/class/cc/mallet/fst/SimpleTagger$SimpleTaggerSentence2FeatureVectorSequence.class  \n",
            "  inflating: mallet-2.0.8/class/cc/mallet/fst/SimpleTagger.class  \n",
            "  inflating: mallet-2.0.8/class/cc/mallet/fst/SumLattice.class  \n",
            "  inflating: mallet-2.0.8/class/cc/mallet/fst/SumLatticeBeam$Factory$1.class  \n",
            "  inflating: mallet-2.0.8/class/cc/mallet/fst/SumLatticeBeam$Factory.class  \n",
            "  inflating: mallet-2.0.8/class/cc/mallet/fst/SumLatticeBeam$LatticeNode.class  \n",
            "  inflating: mallet-2.0.8/class/cc/mallet/fst/SumLatticeBeam$NBestSlist.class  \n",
            "  inflating: mallet-2.0.8/class/cc/mallet/fst/SumLatticeBeam$NBForBackNode.class  \n",
            "  inflating: mallet-2.0.8/class/cc/mallet/fst/SumLatticeBeam.class  \n",
            "  inflating: mallet-2.0.8/class/cc/mallet/fst/SumLatticeConstrained.class  \n",
            "  inflating: mallet-2.0.8/class/cc/mallet/fst/SumLatticeDefault$Factory.class  \n",
            "  inflating: mallet-2.0.8/class/cc/mallet/fst/SumLatticeDefault$LatticeNode.class  \n",
            "  inflating: mallet-2.0.8/class/cc/mallet/fst/SumLatticeDefault.class  \n",
            "  inflating: mallet-2.0.8/class/cc/mallet/fst/SumLatticeFactory.class  \n",
            "  inflating: mallet-2.0.8/class/cc/mallet/fst/SumLatticeScaling$Factory.class  \n",
            "  inflating: mallet-2.0.8/class/cc/mallet/fst/SumLatticeScaling$LatticeNode.class  \n",
            "  inflating: mallet-2.0.8/class/cc/mallet/fst/SumLatticeScaling.class  \n",
            "   creating: mallet-2.0.8/class/cc/mallet/fst/tests/\n",
            "  inflating: mallet-2.0.8/class/cc/mallet/fst/tests/TestCRF$TestCRF2String.class  \n",
            "  inflating: mallet-2.0.8/class/cc/mallet/fst/tests/TestCRF$TestCRFTokenSequenceRemoveSpaces.class  \n",
            "  inflating: mallet-2.0.8/class/cc/mallet/fst/tests/TestCRF.class  \n",
            "  inflating: mallet-2.0.8/class/cc/mallet/fst/tests/TestFeatureTransducer.class  \n",
            "  inflating: mallet-2.0.8/class/cc/mallet/fst/tests/TestMEMM$TestMEMM2String.class  \n",
            "  inflating: mallet-2.0.8/class/cc/mallet/fst/tests/TestMEMM$TestMEMMTokenSequenceRemoveSpaces.class  \n",
            "  inflating: mallet-2.0.8/class/cc/mallet/fst/tests/TestMEMM.class  \n",
            "  inflating: mallet-2.0.8/class/cc/mallet/fst/tests/TestSumNegLogProb2.class  \n",
            "  inflating: mallet-2.0.8/class/cc/mallet/fst/ThreadedOptimizable$GradientHandler.class  \n",
            "  inflating: mallet-2.0.8/class/cc/mallet/fst/ThreadedOptimizable$ValueHandler.class  \n",
            "  inflating: mallet-2.0.8/class/cc/mallet/fst/ThreadedOptimizable.class  \n",
            "  inflating: mallet-2.0.8/class/cc/mallet/fst/TokenAccuracyEvaluator.class  \n",
            "  inflating: mallet-2.0.8/class/cc/mallet/fst/Transducer$Incrementor.class  \n",
            "  inflating: mallet-2.0.8/class/cc/mallet/fst/Transducer$State.class  \n",
            "  inflating: mallet-2.0.8/class/cc/mallet/fst/Transducer$TransitionIterator.class  \n",
            "  inflating: mallet-2.0.8/class/cc/mallet/fst/Transducer.class  \n",
            "  inflating: mallet-2.0.8/class/cc/mallet/fst/TransducerEvaluator.class  \n",
            "  inflating: mallet-2.0.8/class/cc/mallet/fst/TransducerTrainer$ByIncrements.class  \n",
            "  inflating: mallet-2.0.8/class/cc/mallet/fst/TransducerTrainer$ByInstanceIncrements.class  \n",
            "  inflating: mallet-2.0.8/class/cc/mallet/fst/TransducerTrainer$ByOptimization.class  \n",
            "  inflating: mallet-2.0.8/class/cc/mallet/fst/TransducerTrainer.class  \n",
            "  inflating: mallet-2.0.8/class/cc/mallet/fst/ViterbiWriter.class  \n",
            "   creating: mallet-2.0.8/class/cc/mallet/grmm/\n",
            "   creating: mallet-2.0.8/class/cc/mallet/grmm/examples/\n",
            "  inflating: mallet-2.0.8/class/cc/mallet/grmm/examples/CrossTemplate1.class  \n",
            "  inflating: mallet-2.0.8/class/cc/mallet/grmm/examples/ModelReaderExample.class  \n",
            "  inflating: mallet-2.0.8/class/cc/mallet/grmm/examples/SimpleCrfExample.class  \n",
            "  inflating: mallet-2.0.8/class/cc/mallet/grmm/examples/SimpleFactorExample.class  \n",
            "  inflating: mallet-2.0.8/class/cc/mallet/grmm/examples/SimpleGraphExample.class  \n",
            "   creating: mallet-2.0.8/class/cc/mallet/grmm/inference/\n",
            "  inflating: mallet-2.0.8/class/cc/mallet/grmm/inference/AbstractBeliefPropagation$AbstractMessageStrategy.class  \n",
            "  inflating: mallet-2.0.8/class/cc/mallet/grmm/inference/AbstractBeliefPropagation$MaxProductMessageStrategy.class  \n",
            "  inflating: mallet-2.0.8/class/cc/mallet/grmm/inference/AbstractBeliefPropagation$MessageStrategy.class  \n",
            "  inflating: mallet-2.0.8/class/cc/mallet/grmm/inference/AbstractBeliefPropagation$SumProductMessageStrategy.class  \n",
            "  inflating: mallet-2.0.8/class/cc/mallet/grmm/inference/AbstractBeliefPropagation.class  \n",
            "  inflating: mallet-2.0.8/class/cc/mallet/grmm/inference/AbstractInferencer.class  \n",
            "  inflating: mallet-2.0.8/class/cc/mallet/grmm/inference/BruteForceInferencer.class  \n",
            "  inflating: mallet-2.0.8/class/cc/mallet/grmm/inference/ExactSampler.class  \n",
            "   creating: mallet-2.0.8/class/cc/mallet/grmm/inference/gbp/\n",
            "  inflating: mallet-2.0.8/class/cc/mallet/grmm/inference/gbp/AbstractMessageStrategy.class  \n",
            "  inflating: mallet-2.0.8/class/cc/mallet/grmm/inference/gbp/BPRegionGenerator.class  \n",
            "  inflating: mallet-2.0.8/class/cc/mallet/grmm/inference/gbp/ClusterVariationalRegionGenerator$BaseRegionComputer.class  \n",
            "  inflating: mallet-2.0.8/class/cc/mallet/grmm/inference/gbp/ClusterVariationalRegionGenerator$ByFactorRegionComputer.class  \n",
            "  inflating: mallet-2.0.8/class/cc/mallet/grmm/inference/gbp/ClusterVariationalRegionGenerator$Grid2x2RegionComputer.class  \n",
            "  inflating: mallet-2.0.8/class/cc/mallet/grmm/inference/gbp/ClusterVariationalRegionGenerator.class  \n",
            "  inflating: mallet-2.0.8/class/cc/mallet/grmm/inference/gbp/FactorizedRegion.class  \n",
            "  inflating: mallet-2.0.8/class/cc/mallet/grmm/inference/gbp/FullMessageStrategy.class  \n",
            "  inflating: mallet-2.0.8/class/cc/mallet/grmm/inference/gbp/Kikuchi4SquareRegionGenerator.class  \n",
            "  inflating: mallet-2.0.8/class/cc/mallet/grmm/inference/gbp/MessageArray.class  \n",
            "  inflating: mallet-2.0.8/class/cc/mallet/grmm/inference/gbp/MessageStrategy.class  \n",
            "  inflating: mallet-2.0.8/class/cc/mallet/grmm/inference/gbp/ParentChildGBP$1.class  \n",
            "  inflating: mallet-2.0.8/class/cc/mallet/grmm/inference/gbp/ParentChildGBP.class  \n",
            "  inflating: mallet-2.0.8/class/cc/mallet/grmm/inference/gbp/Region.class  \n",
            "  inflating: mallet-2.0.8/class/cc/mallet/grmm/inference/gbp/RegionEdge.class  \n",
            "  inflating: mallet-2.0.8/class/cc/mallet/grmm/inference/gbp/RegionGraph.class  \n",
            "  inflating: mallet-2.0.8/class/cc/mallet/grmm/inference/gbp/RegionGraphGenerator.class  \n",
            "  inflating: mallet-2.0.8/class/cc/mallet/grmm/inference/gbp/SparseMessageSender.class  \n",
            "  inflating: mallet-2.0.8/class/cc/mallet/grmm/inference/GibbsSampler.class  \n",
            "  inflating: mallet-2.0.8/class/cc/mallet/grmm/inference/Inferencer.class  \n",
            "  inflating: mallet-2.0.8/class/cc/mallet/grmm/inference/JunctionTree$Sepset.class  \n",
            "  inflating: mallet-2.0.8/class/cc/mallet/grmm/inference/JunctionTree.class  \n",
            "  inflating: mallet-2.0.8/class/cc/mallet/grmm/inference/JunctionTreeInferencer$1.class  \n",
            "  inflating: mallet-2.0.8/class/cc/mallet/grmm/inference/JunctionTreeInferencer.class  \n",
            "  inflating: mallet-2.0.8/class/cc/mallet/grmm/inference/JunctionTreePropagation$MaxProductMessageStrategy.class  \n",
            "  inflating: mallet-2.0.8/class/cc/mallet/grmm/inference/JunctionTreePropagation$MessageStrategy.class  \n",
            "  inflating: mallet-2.0.8/class/cc/mallet/grmm/inference/JunctionTreePropagation$SumProductMessageStrategy.class  \n",
            "  inflating: mallet-2.0.8/class/cc/mallet/grmm/inference/JunctionTreePropagation.class  \n",
            "  inflating: mallet-2.0.8/class/cc/mallet/grmm/inference/LoopyBP.class  \n",
            "  inflating: mallet-2.0.8/class/cc/mallet/grmm/inference/MessageArray$1.class  \n",
            "  inflating: mallet-2.0.8/class/cc/mallet/grmm/inference/MessageArray$Iterator.class  \n",
            "  inflating: mallet-2.0.8/class/cc/mallet/grmm/inference/MessageArray$ToMsgsIterator.class  \n",
            "  inflating: mallet-2.0.8/class/cc/mallet/grmm/inference/MessageArray.class  \n",
            "  inflating: mallet-2.0.8/class/cc/mallet/grmm/inference/RandomGraphs$FactorGenerator.class  \n",
            "  inflating: mallet-2.0.8/class/cc/mallet/grmm/inference/RandomGraphs$UniformFactorGenerator.class  \n",
            "  inflating: mallet-2.0.8/class/cc/mallet/grmm/inference/RandomGraphs.class  \n",
            "  inflating: mallet-2.0.8/class/cc/mallet/grmm/inference/ResidualBP.class  \n",
            "  inflating: mallet-2.0.8/class/cc/mallet/grmm/inference/Sampler.class  \n",
            "  inflating: mallet-2.0.8/class/cc/mallet/grmm/inference/SamplingInferencer.class  \n",
            "  inflating: mallet-2.0.8/class/cc/mallet/grmm/inference/TreeBP.class  \n",
            "  inflating: mallet-2.0.8/class/cc/mallet/grmm/inference/TRP$1.class  \n",
            "  inflating: mallet-2.0.8/class/cc/mallet/grmm/inference/TRP$AlmostRandomTreeFactory.class  \n",
            "  inflating: mallet-2.0.8/class/cc/mallet/grmm/inference/TRP$ConvergenceTerminator.class  \n",
            "  inflating: mallet-2.0.8/class/cc/mallet/grmm/inference/TRP$DefaultConvergenceTerminator.class  \n",
            "  inflating: mallet-2.0.8/class/cc/mallet/grmm/inference/TRP$IterationTerminator.class  \n",
            "  inflating: mallet-2.0.8/class/cc/mallet/grmm/inference/TRP$SimpleUnionFind.class  \n",
            "  inflating: mallet-2.0.8/class/cc/mallet/grmm/inference/TRP$TerminationCondition.class  \n",
            "  inflating: mallet-2.0.8/class/cc/mallet/grmm/inference/TRP$TreeFactory.class  \n",
            "  inflating: mallet-2.0.8/class/cc/mallet/grmm/inference/TRP$TreeListFactory.class  \n",
            "  inflating: mallet-2.0.8/class/cc/mallet/grmm/inference/TRP.class  \n",
            "  inflating: mallet-2.0.8/class/cc/mallet/grmm/inference/Utils.class  \n",
            "  inflating: mallet-2.0.8/class/cc/mallet/grmm/inference/VariableElimination.class  \n",
            "   creating: mallet-2.0.8/class/cc/mallet/grmm/learning/\n",
            "  inflating: mallet-2.0.8/class/cc/mallet/grmm/learning/ACRF$BigramTemplate.class  \n",
            "  inflating: mallet-2.0.8/class/cc/mallet/grmm/learning/ACRF$FixedFactorTemplate.class  \n",
            "  inflating: mallet-2.0.8/class/cc/mallet/grmm/learning/ACRF$GraphPostProcessor.class  \n",
            "  inflating: mallet-2.0.8/class/cc/mallet/grmm/learning/ACRF$MaximizableACRF.class  \n",
            "  inflating: mallet-2.0.8/class/cc/mallet/grmm/learning/ACRF$PairwiseFactorTemplate.class  \n",
            "  inflating: mallet-2.0.8/class/cc/mallet/grmm/learning/ACRF$SequenceTemplate.class  \n",
            "  inflating: mallet-2.0.8/class/cc/mallet/grmm/learning/ACRF$Template.class  \n",
            "  inflating: mallet-2.0.8/class/cc/mallet/grmm/learning/ACRF$UnigramTemplate.class  \n",
            "  inflating: mallet-2.0.8/class/cc/mallet/grmm/learning/ACRF$UnrolledGraph.class  \n",
            "  inflating: mallet-2.0.8/class/cc/mallet/grmm/learning/ACRF$UnrolledVarSet.class  \n",
            "  inflating: mallet-2.0.8/class/cc/mallet/grmm/learning/ACRF.class  \n",
            "  inflating: mallet-2.0.8/class/cc/mallet/grmm/learning/ACRFEvaluator.class  \n",
            "  inflating: mallet-2.0.8/class/cc/mallet/grmm/learning/AcrfSerialEvaluator.class  \n",
            "  inflating: mallet-2.0.8/class/cc/mallet/grmm/learning/ACRFTrainer.class  \n",
            "  inflating: mallet-2.0.8/class/cc/mallet/grmm/learning/DefaultAcrfTrainer$FileEvaluator.class  \n",
            "  inflating: mallet-2.0.8/class/cc/mallet/grmm/learning/DefaultAcrfTrainer$LogEvaluator.class  \n",
            "  inflating: mallet-2.0.8/class/cc/mallet/grmm/learning/DefaultAcrfTrainer$TestResults.class  \n",
            "  inflating: mallet-2.0.8/class/cc/mallet/grmm/learning/DefaultAcrfTrainer.class  \n",
            "   creating: mallet-2.0.8/class/cc/mallet/grmm/learning/extract/\n",
            "  inflating: mallet-2.0.8/class/cc/mallet/grmm/learning/extract/ACRFExtractor.class  \n",
            "  inflating: mallet-2.0.8/class/cc/mallet/grmm/learning/extract/ACRFExtractorTrainer$CheckpointingEvaluator.class  \n",
            "  inflating: mallet-2.0.8/class/cc/mallet/grmm/learning/extract/ACRFExtractorTrainer.class  \n",
            "  inflating: mallet-2.0.8/class/cc/mallet/grmm/learning/extract/AcrfExtractorTui.class  \n",
            "  inflating: mallet-2.0.8/class/cc/mallet/grmm/learning/GenericAcrfData2TokenSequence.class  \n",
            "  inflating: mallet-2.0.8/class/cc/mallet/grmm/learning/GenericAcrfTui.class  \n",
            "  inflating: mallet-2.0.8/class/cc/mallet/grmm/learning/MultiSegmentationEvaluatorACRF$TestResults.class  \n",
            "  inflating: mallet-2.0.8/class/cc/mallet/grmm/learning/MultiSegmentationEvaluatorACRF.class  \n",
            "  inflating: mallet-2.0.8/class/cc/mallet/grmm/learning/PiecewiseACRFTrainer$Maxable.class  \n",
            "  inflating: mallet-2.0.8/class/cc/mallet/grmm/learning/PiecewiseACRFTrainer.class  \n",
            "  inflating: mallet-2.0.8/class/cc/mallet/grmm/learning/PseudolikelihoodACRFTrainer$CliquesIterator.class  \n",
            "  inflating: mallet-2.0.8/class/cc/mallet/grmm/learning/PseudolikelihoodACRFTrainer$EdgesIterator.class  \n",
            "  inflating: mallet-2.0.8/class/cc/mallet/grmm/learning/PseudolikelihoodACRFTrainer$Maxable.class  \n",
            "  inflating: mallet-2.0.8/class/cc/mallet/grmm/learning/PseudolikelihoodACRFTrainer$VariablesIterator.class  \n",
            "  inflating: mallet-2.0.8/class/cc/mallet/grmm/learning/PseudolikelihoodACRFTrainer.class  \n",
            "  inflating: mallet-2.0.8/class/cc/mallet/grmm/learning/PwplACRFTrainer$Maxable$WrongWrong.class  \n",
            "  inflating: mallet-2.0.8/class/cc/mallet/grmm/learning/PwplACRFTrainer$Maxable.class  \n",
            "  inflating: mallet-2.0.8/class/cc/mallet/grmm/learning/PwplACRFTrainer.class  \n",
            "   creating: mallet-2.0.8/class/cc/mallet/grmm/learning/templates/\n",
            "  inflating: mallet-2.0.8/class/cc/mallet/grmm/learning/templates/SimilarTokensTemplate$CapWordsBinner.class  \n",
            "  inflating: mallet-2.0.8/class/cc/mallet/grmm/learning/templates/SimilarTokensTemplate$FeatureVectorBinner.class  \n",
            "  inflating: mallet-2.0.8/class/cc/mallet/grmm/learning/templates/SimilarTokensTemplate$TokenInfo.class  \n",
            "  inflating: mallet-2.0.8/class/cc/mallet/grmm/learning/templates/SimilarTokensTemplate$WordFeatureBinner.class  \n",
            "  inflating: mallet-2.0.8/class/cc/mallet/grmm/learning/templates/SimilarTokensTemplate.class  \n",
            "   creating: mallet-2.0.8/class/cc/mallet/grmm/test/\n",
            "  inflating: mallet-2.0.8/class/cc/mallet/grmm/test/TestAbstractBeliefPropagation.class  \n",
            "  inflating: mallet-2.0.8/class/cc/mallet/grmm/test/TestAssignment.class  \n",
            "  inflating: mallet-2.0.8/class/cc/mallet/grmm/test/TestAssignmentIterator.class  \n",
            "  inflating: mallet-2.0.8/class/cc/mallet/grmm/test/TestBetaFactor.class  \n",
            "  inflating: mallet-2.0.8/class/cc/mallet/grmm/test/TestBitVarSet.class  \n",
            "  inflating: mallet-2.0.8/class/cc/mallet/grmm/test/TestDirectedModel.class  \n",
            "  inflating: mallet-2.0.8/class/cc/mallet/grmm/test/TestFactorGraph.class  \n",
            "  inflating: mallet-2.0.8/class/cc/mallet/grmm/test/TestFactors.class  \n",
            "  inflating: mallet-2.0.8/class/cc/mallet/grmm/test/TestGenericAcrfData2TokenSequence.class  \n",
            "  inflating: mallet-2.0.8/class/cc/mallet/grmm/test/TestGibbsSampler.class  \n",
            "  inflating: mallet-2.0.8/class/cc/mallet/grmm/test/TestHashClique.class  \n",
            "  inflating: mallet-2.0.8/class/cc/mallet/grmm/test/TestInference$1.class  \n",
            "  inflating: mallet-2.0.8/class/cc/mallet/grmm/test/TestInference.class  \n",
            "  inflating: mallet-2.0.8/class/cc/mallet/grmm/test/TestListVarSet.class  \n",
            "  inflating: mallet-2.0.8/class/cc/mallet/grmm/test/TestLogTableFactor.class  \n",
            "  inflating: mallet-2.0.8/class/cc/mallet/grmm/test/TestMIntInt2ObjectMap.class  \n",
            "  inflating: mallet-2.0.8/class/cc/mallet/grmm/test/TestNormalFactor.class  \n",
            "  inflating: mallet-2.0.8/class/cc/mallet/grmm/test/TestPottsFactor.class  \n",
            "  inflating: mallet-2.0.8/class/cc/mallet/grmm/test/TestRandomGraphs.class  \n",
            "  inflating: mallet-2.0.8/class/cc/mallet/grmm/test/TestTableFactor.class  \n",
            "  inflating: mallet-2.0.8/class/cc/mallet/grmm/test/TestTRP.class  \n",
            "  inflating: mallet-2.0.8/class/cc/mallet/grmm/test/TestUndirectedModel.class  \n",
            "  inflating: mallet-2.0.8/class/cc/mallet/grmm/test/TestUniformFactor.class  \n",
            "  inflating: mallet-2.0.8/class/cc/mallet/grmm/test/TestUniNormalFactor.class  \n",
            "   creating: mallet-2.0.8/class/cc/mallet/grmm/types/\n",
            "  inflating: mallet-2.0.8/class/cc/mallet/grmm/types/AbstractAssignmentIterator.class  \n",
            "  inflating: mallet-2.0.8/class/cc/mallet/grmm/types/AbstractFactor.class  \n",
            "  inflating: mallet-2.0.8/class/cc/mallet/grmm/types/AbstractTableFactor.class  \n",
            "  inflating: mallet-2.0.8/class/cc/mallet/grmm/types/Assignment.class  \n",
            "  inflating: mallet-2.0.8/class/cc/mallet/grmm/types/AssignmentIterator.class  \n",
            "  inflating: mallet-2.0.8/class/cc/mallet/grmm/types/BetaFactor.class  \n",
            "  inflating: mallet-2.0.8/class/cc/mallet/grmm/types/BidirectionalIntObjectMap.class  \n",
            "  inflating: mallet-2.0.8/class/cc/mallet/grmm/types/BinaryUnaryFactor.class  \n",
            "  inflating: mallet-2.0.8/class/cc/mallet/grmm/types/BitVarSet$Iterator.class  \n",
            "  inflating: mallet-2.0.8/class/cc/mallet/grmm/types/BitVarSet.class  \n",
            "  inflating: mallet-2.0.8/class/cc/mallet/grmm/types/BoltzmannPairFactor.class  \n",
            "  inflating: mallet-2.0.8/class/cc/mallet/grmm/types/BoltzmannUnaryFactor.class  \n",
            "  inflating: mallet-2.0.8/class/cc/mallet/grmm/types/ConstantFactor.class  \n",
            "  inflating: mallet-2.0.8/class/cc/mallet/grmm/types/CPT.class  \n",
            "  inflating: mallet-2.0.8/class/cc/mallet/grmm/types/DenseAssignmentIterator.class  \n",
            "  inflating: mallet-2.0.8/class/cc/mallet/grmm/types/DirectedModel.class  \n",
            "  inflating: mallet-2.0.8/class/cc/mallet/grmm/types/DiscreteFactor.class  \n",
            "  inflating: mallet-2.0.8/class/cc/mallet/grmm/types/Factor.class  \n",
            "  inflating: mallet-2.0.8/class/cc/mallet/grmm/types/FactorGraph$1.class  \n",
            "  inflating: mallet-2.0.8/class/cc/mallet/grmm/types/FactorGraph$2.class  \n",
            "  inflating: mallet-2.0.8/class/cc/mallet/grmm/types/FactorGraph$3.class  \n",
            "  inflating: mallet-2.0.8/class/cc/mallet/grmm/types/FactorGraph.class  \n",
            "  inflating: mallet-2.0.8/class/cc/mallet/grmm/types/Factors$1.class  \n",
            "  inflating: mallet-2.0.8/class/cc/mallet/grmm/types/Factors.class  \n",
            "  inflating: mallet-2.0.8/class/cc/mallet/grmm/types/HashVarSet.class  \n",
            "  inflating: mallet-2.0.8/class/cc/mallet/grmm/types/ListVarSet$Iterator.class  \n",
            "  inflating: mallet-2.0.8/class/cc/mallet/grmm/types/ListVarSet.class  \n",
            "  inflating: mallet-2.0.8/class/cc/mallet/grmm/types/LogTableFactor.class  \n",
            "  inflating: mallet-2.0.8/class/cc/mallet/grmm/types/NormalFactor.class  \n",
            "  inflating: mallet-2.0.8/class/cc/mallet/grmm/types/ParameterizedFactor.class  \n",
            "  inflating: mallet-2.0.8/class/cc/mallet/grmm/types/PottsTableFactor.class  \n",
            "  inflating: mallet-2.0.8/class/cc/mallet/grmm/types/SkeletonFactor.class  \n",
            "  inflating: mallet-2.0.8/class/cc/mallet/grmm/types/SparseAssignmentIterator.class  \n",
            "  inflating: mallet-2.0.8/class/cc/mallet/grmm/types/TableFactor.class  \n",
            "  inflating: mallet-2.0.8/class/cc/mallet/grmm/types/Tree.class  \n",
            "  inflating: mallet-2.0.8/class/cc/mallet/grmm/types/UndirectedGrid.class  \n",
            "  inflating: mallet-2.0.8/class/cc/mallet/grmm/types/UndirectedModel.class  \n",
            "  inflating: mallet-2.0.8/class/cc/mallet/grmm/types/UniformFactor.class  \n",
            "  inflating: mallet-2.0.8/class/cc/mallet/grmm/types/UniNormalFactor.class  \n",
            "  inflating: mallet-2.0.8/class/cc/mallet/grmm/types/Universe.class  \n",
            "  inflating: mallet-2.0.8/class/cc/mallet/grmm/types/UnmodifiableVarSet.class  \n",
            "  inflating: mallet-2.0.8/class/cc/mallet/grmm/types/Variable.class  \n",
            "  inflating: mallet-2.0.8/class/cc/mallet/grmm/types/VarSet.class  \n",
            "   creating: mallet-2.0.8/class/cc/mallet/grmm/util/\n",
            "  inflating: mallet-2.0.8/class/cc/mallet/grmm/util/CachingOptimizable$1.class  \n",
            "  inflating: mallet-2.0.8/class/cc/mallet/grmm/util/CachingOptimizable$Base.class  \n",
            "  inflating: mallet-2.0.8/class/cc/mallet/grmm/util/CachingOptimizable$ByBatchGradient.class  \n",
            "  inflating: mallet-2.0.8/class/cc/mallet/grmm/util/CachingOptimizable$ByGradient.class  \n",
            "  inflating: mallet-2.0.8/class/cc/mallet/grmm/util/CachingOptimizable.class  \n",
            "  inflating: mallet-2.0.8/class/cc/mallet/grmm/util/CSIntInt2ObjectMultiMap$1.class  \n",
            "  inflating: mallet-2.0.8/class/cc/mallet/grmm/util/CSIntInt2ObjectMultiMap.class  \n",
            "  inflating: mallet-2.0.8/class/cc/mallet/grmm/util/Flops$Watch.class  \n",
            "  inflating: mallet-2.0.8/class/cc/mallet/grmm/util/Flops.class  \n",
            "  inflating: mallet-2.0.8/class/cc/mallet/grmm/util/GeneralUtils.class  \n",
            "  inflating: mallet-2.0.8/class/cc/mallet/grmm/util/Graphs.class  \n",
            "  inflating: mallet-2.0.8/class/cc/mallet/grmm/util/LabelsAssignment.class  \n",
            "  inflating: mallet-2.0.8/class/cc/mallet/grmm/util/LabelsSequence2Assignment.class  \n",
            "  inflating: mallet-2.0.8/class/cc/mallet/grmm/util/Matrices.class  \n",
            "  inflating: mallet-2.0.8/class/cc/mallet/grmm/util/MIntInt2ObjectMap$1.class  \n",
            "  inflating: mallet-2.0.8/class/cc/mallet/grmm/util/MIntInt2ObjectMap.class  \n",
            "  inflating: mallet-2.0.8/class/cc/mallet/grmm/util/ModelReader.class  \n",
            "  inflating: mallet-2.0.8/class/cc/mallet/grmm/util/Models.class  \n",
            "  inflating: mallet-2.0.8/class/cc/mallet/grmm/util/ModelWriter.class  \n",
            "  inflating: mallet-2.0.8/class/cc/mallet/grmm/util/PipedIterator.class  \n",
            "  inflating: mallet-2.0.8/class/cc/mallet/grmm/util/RememberTokenizationPipe.class  \n",
            "  inflating: mallet-2.0.8/class/cc/mallet/grmm/util/SliceLabelsSequence.class  \n",
            "  inflating: mallet-2.0.8/class/cc/mallet/grmm/util/THashMultiMap.class  \n",
            "   creating: mallet-2.0.8/class/cc/mallet/optimize/\n",
            "  inflating: mallet-2.0.8/class/cc/mallet/optimize/AGIS.class  \n",
            "  inflating: mallet-2.0.8/class/cc/mallet/optimize/BackTrackLineSearch.class  \n",
            "  inflating: mallet-2.0.8/class/cc/mallet/optimize/ConjugateGradient.class  \n",
            "  inflating: mallet-2.0.8/class/cc/mallet/optimize/GradientAscent.class  \n",
            "  inflating: mallet-2.0.8/class/cc/mallet/optimize/GradientBracketLineOptimizer.class  \n",
            "  inflating: mallet-2.0.8/class/cc/mallet/optimize/InvalidOptimizableException.class  \n",
            "  inflating: mallet-2.0.8/class/cc/mallet/optimize/LimitedMemoryBFGS.class  \n",
            "  inflating: mallet-2.0.8/class/cc/mallet/optimize/LineOptimizer$ByGradient.class  \n",
            "  inflating: mallet-2.0.8/class/cc/mallet/optimize/LineOptimizer.class  \n",
            "  inflating: mallet-2.0.8/class/cc/mallet/optimize/Optimizable$ByBatchGradient.class  \n",
            "  inflating: mallet-2.0.8/class/cc/mallet/optimize/Optimizable$ByCombiningBatchGradient.class  \n",
            "  inflating: mallet-2.0.8/class/cc/mallet/optimize/Optimizable$ByGISUpdate.class  \n",
            "  inflating: mallet-2.0.8/class/cc/mallet/optimize/Optimizable$ByGradient.class  \n",
            "  inflating: mallet-2.0.8/class/cc/mallet/optimize/Optimizable$ByGradientValue.class  \n",
            "  inflating: mallet-2.0.8/class/cc/mallet/optimize/Optimizable$ByHessian.class  \n",
            "  inflating: mallet-2.0.8/class/cc/mallet/optimize/Optimizable$ByValue.class  \n",
            "  inflating: mallet-2.0.8/class/cc/mallet/optimize/Optimizable$ByVotedPerceptron.class  \n",
            "  inflating: mallet-2.0.8/class/cc/mallet/optimize/Optimizable.class  \n",
            "  inflating: mallet-2.0.8/class/cc/mallet/optimize/OptimizableCollection$ByGradientValue.class  \n",
            "  inflating: mallet-2.0.8/class/cc/mallet/optimize/OptimizableCollection.class  \n",
            "  inflating: mallet-2.0.8/class/cc/mallet/optimize/OptimizationException.class  \n",
            "  inflating: mallet-2.0.8/class/cc/mallet/optimize/Optimizer$ByBatches.class  \n",
            "  inflating: mallet-2.0.8/class/cc/mallet/optimize/Optimizer.class  \n",
            "  inflating: mallet-2.0.8/class/cc/mallet/optimize/OptimizerEvaluator$ByBatchGradient.class  \n",
            "  inflating: mallet-2.0.8/class/cc/mallet/optimize/OptimizerEvaluator$ByGradient.class  \n",
            "  inflating: mallet-2.0.8/class/cc/mallet/optimize/OptimizerEvaluator.class  \n",
            "  inflating: mallet-2.0.8/class/cc/mallet/optimize/OrthantWiseLimitedMemoryBFGS.class  \n",
            "  inflating: mallet-2.0.8/class/cc/mallet/optimize/StochasticMetaAscent.class  \n",
            "   creating: mallet-2.0.8/class/cc/mallet/optimize/tests/\n",
            "  inflating: mallet-2.0.8/class/cc/mallet/optimize/tests/TestOptimizable$SimplePoly.class  \n",
            "  inflating: mallet-2.0.8/class/cc/mallet/optimize/tests/TestOptimizable$WrongSimplePoly.class  \n",
            "  inflating: mallet-2.0.8/class/cc/mallet/optimize/tests/TestOptimizable.class  \n",
            "  inflating: mallet-2.0.8/class/cc/mallet/optimize/tests/TestOptimizer$SimplePoly.class  \n",
            "  inflating: mallet-2.0.8/class/cc/mallet/optimize/tests/TestOptimizer.class  \n",
            "   creating: mallet-2.0.8/class/cc/mallet/pipe/\n",
            "  inflating: mallet-2.0.8/class/cc/mallet/pipe/AddClassifierTokenPredictions$TokenClassifiers.class  \n",
            "  inflating: mallet-2.0.8/class/cc/mallet/pipe/AddClassifierTokenPredictions.class  \n",
            "  inflating: mallet-2.0.8/class/cc/mallet/pipe/Array2FeatureVector.class  \n",
            "  inflating: mallet-2.0.8/class/cc/mallet/pipe/AugmentableFeatureVectorAddConjunctions.class  \n",
            "  inflating: mallet-2.0.8/class/cc/mallet/pipe/AugmentableFeatureVectorLogScale.class  \n",
            "  inflating: mallet-2.0.8/class/cc/mallet/pipe/BranchingPipe$1.class  \n",
            "  inflating: mallet-2.0.8/class/cc/mallet/pipe/BranchingPipe$BranchingInstanceIterator.class  \n",
            "  inflating: mallet-2.0.8/class/cc/mallet/pipe/BranchingPipe$GateKeepingInstanceIterator.class  \n",
            "  inflating: mallet-2.0.8/class/cc/mallet/pipe/BranchingPipe$PeekingInstanceIterator.class  \n",
            "  inflating: mallet-2.0.8/class/cc/mallet/pipe/BranchingPipe.class  \n",
            "  inflating: mallet-2.0.8/class/cc/mallet/pipe/CharSequence2CharNGrams.class  \n",
            "  inflating: mallet-2.0.8/class/cc/mallet/pipe/CharSequence2TokenSequence.class  \n",
            "  inflating: mallet-2.0.8/class/cc/mallet/pipe/CharSequenceArray2TokenSequence.class  \n",
            "  inflating: mallet-2.0.8/class/cc/mallet/pipe/CharSequenceLowercase.class  \n",
            "  inflating: mallet-2.0.8/class/cc/mallet/pipe/CharSequenceRemoveHTML$1.class  \n",
            "  inflating: mallet-2.0.8/class/cc/mallet/pipe/CharSequenceRemoveHTML$ParserGetter.class  \n",
            "  inflating: mallet-2.0.8/class/cc/mallet/pipe/CharSequenceRemoveHTML$TagStripper.class  \n",
            "  inflating: mallet-2.0.8/class/cc/mallet/pipe/CharSequenceRemoveHTML.class  \n",
            "  inflating: mallet-2.0.8/class/cc/mallet/pipe/CharSequenceRemoveUUEncodedBlocks.class  \n",
            "  inflating: mallet-2.0.8/class/cc/mallet/pipe/CharSequenceReplace.class  \n",
            "  inflating: mallet-2.0.8/class/cc/mallet/pipe/CharSubsequence.class  \n",
            "  inflating: mallet-2.0.8/class/cc/mallet/pipe/Classification2ConfidencePredictingFeatureVector.class  \n",
            "  inflating: mallet-2.0.8/class/cc/mallet/pipe/Csv2Array.class  \n",
            "  inflating: mallet-2.0.8/class/cc/mallet/pipe/Csv2FeatureVector.class  \n",
            "  inflating: mallet-2.0.8/class/cc/mallet/pipe/Directory2FileIterator.class  \n",
            "  inflating: mallet-2.0.8/class/cc/mallet/pipe/FeatureCountPipe.class  \n",
            "  inflating: mallet-2.0.8/class/cc/mallet/pipe/FeatureDocFreqPipe.class  \n",
            "  inflating: mallet-2.0.8/class/cc/mallet/pipe/FeatureSequence2AugmentableFeatureVector.class  \n",
            "  inflating: mallet-2.0.8/class/cc/mallet/pipe/FeatureSequence2FeatureVector.class  \n",
            "  inflating: mallet-2.0.8/class/cc/mallet/pipe/FeatureSequenceConvolution.class  \n",
            "  inflating: mallet-2.0.8/class/cc/mallet/pipe/FeatureValueString2FeatureVector.class  \n",
            "  inflating: mallet-2.0.8/class/cc/mallet/pipe/FeatureVectorConjunctions.class  \n",
            "  inflating: mallet-2.0.8/class/cc/mallet/pipe/FeatureVectorSequence2FeatureVectors$FeatureVectorIterator.class  \n",
            "  inflating: mallet-2.0.8/class/cc/mallet/pipe/FeatureVectorSequence2FeatureVectors.class  \n",
            "  inflating: mallet-2.0.8/class/cc/mallet/pipe/Filename2CharSequence.class  \n",
            "  inflating: mallet-2.0.8/class/cc/mallet/pipe/FilterEmptyFeatureVectors$FilteringPipeInstanceIterator.class  \n",
            "  inflating: mallet-2.0.8/class/cc/mallet/pipe/FilterEmptyFeatureVectors.class  \n",
            "  inflating: mallet-2.0.8/class/cc/mallet/pipe/FixedVocabTokenizer.class  \n",
            "  inflating: mallet-2.0.8/class/cc/mallet/pipe/Input2CharSequence.class  \n",
            "  inflating: mallet-2.0.8/class/cc/mallet/pipe/InstanceListTrimFeaturesByCount.class  \n",
            "   creating: mallet-2.0.8/class/cc/mallet/pipe/iterator/\n",
            "  inflating: mallet-2.0.8/class/cc/mallet/pipe/iterator/ArrayDataAndTargetIterator.class  \n",
            "  inflating: mallet-2.0.8/class/cc/mallet/pipe/iterator/ArrayIterator.class  \n",
            "  inflating: mallet-2.0.8/class/cc/mallet/pipe/iterator/ConcatenatedInstanceIterator.class  \n",
            "  inflating: mallet-2.0.8/class/cc/mallet/pipe/iterator/CsvIterator.class  \n",
            "  inflating: mallet-2.0.8/class/cc/mallet/pipe/iterator/DBInstanceIterator.class  \n",
            "  inflating: mallet-2.0.8/class/cc/mallet/pipe/iterator/EmptyInstanceIterator.class  \n",
            "  inflating: mallet-2.0.8/class/cc/mallet/pipe/iterator/FileIterator.class  \n",
            "  inflating: mallet-2.0.8/class/cc/mallet/pipe/iterator/FileListIterator.class  \n",
            "  inflating: mallet-2.0.8/class/cc/mallet/pipe/iterator/FileUriIterator.class  \n",
            "  inflating: mallet-2.0.8/class/cc/mallet/pipe/iterator/LineGroupIterator.class  \n",
            "  inflating: mallet-2.0.8/class/cc/mallet/pipe/iterator/LineIterator.class  \n",
            "  inflating: mallet-2.0.8/class/cc/mallet/pipe/iterator/ParenGroupIterator.class  \n",
            "  inflating: mallet-2.0.8/class/cc/mallet/pipe/iterator/PatternMatchIterator.class  \n",
            "  inflating: mallet-2.0.8/class/cc/mallet/pipe/iterator/PipeExtendedIterator.class  \n",
            "  inflating: mallet-2.0.8/class/cc/mallet/pipe/iterator/PipeInputIterator.class  \n",
            "  inflating: mallet-2.0.8/class/cc/mallet/pipe/iterator/RandomFeatureVectorIterator.class  \n",
            "  inflating: mallet-2.0.8/class/cc/mallet/pipe/iterator/RandomTokenSequenceIterator.class  \n",
            "  inflating: mallet-2.0.8/class/cc/mallet/pipe/iterator/SegmentIterator.class  \n",
            "  inflating: mallet-2.0.8/class/cc/mallet/pipe/iterator/SelectiveFileLineIterator.class  \n",
            "  inflating: mallet-2.0.8/class/cc/mallet/pipe/iterator/SimpleFileLineIterator.class  \n",
            "  inflating: mallet-2.0.8/class/cc/mallet/pipe/iterator/StringArrayIterator.class  \n",
            "   creating: mallet-2.0.8/class/cc/mallet/pipe/iterator/tests/\n",
            "  inflating: mallet-2.0.8/class/cc/mallet/pipe/iterator/tests/TestPatternMatchIterator.class  \n",
            "  inflating: mallet-2.0.8/class/cc/mallet/pipe/iterator/UnlabeledFileIterator.class  \n",
            "  inflating: mallet-2.0.8/class/cc/mallet/pipe/LineGroupString2TokenSequence.class  \n",
            "  inflating: mallet-2.0.8/class/cc/mallet/pipe/MakeAmpersandXMLFriendly.class  \n",
            "  inflating: mallet-2.0.8/class/cc/mallet/pipe/NGramPreprocessor$ReplacementSet.class  \n",
            "  inflating: mallet-2.0.8/class/cc/mallet/pipe/NGramPreprocessor.class  \n",
            "  inflating: mallet-2.0.8/class/cc/mallet/pipe/Noop.class  \n",
            "  inflating: mallet-2.0.8/class/cc/mallet/pipe/Pipe$SimplePipeInstanceIterator.class  \n",
            "  inflating: mallet-2.0.8/class/cc/mallet/pipe/Pipe.class  \n",
            "  inflating: mallet-2.0.8/class/cc/mallet/pipe/PipeException.class  \n",
            "  inflating: mallet-2.0.8/class/cc/mallet/pipe/PipeUtils.class  \n",
            "  inflating: mallet-2.0.8/class/cc/mallet/pipe/PrintInput.class  \n",
            "  inflating: mallet-2.0.8/class/cc/mallet/pipe/PrintInputAndTarget.class  \n",
            "  inflating: mallet-2.0.8/class/cc/mallet/pipe/PrintTokenSequenceFeatures.class  \n",
            "  inflating: mallet-2.0.8/class/cc/mallet/pipe/SaveDataInSource.class  \n",
            "  inflating: mallet-2.0.8/class/cc/mallet/pipe/SelectiveSGML2TokenSequence.class  \n",
            "  inflating: mallet-2.0.8/class/cc/mallet/pipe/SerialPipes$Predicate.class  \n",
            "  inflating: mallet-2.0.8/class/cc/mallet/pipe/SerialPipes.class  \n",
            "  inflating: mallet-2.0.8/class/cc/mallet/pipe/SGML2TokenSequence.class  \n",
            "  inflating: mallet-2.0.8/class/cc/mallet/pipe/SimpleTaggerSentence2StringTokenization.class  \n",
            "  inflating: mallet-2.0.8/class/cc/mallet/pipe/SimpleTaggerSentence2TokenSequence.class  \n",
            "  inflating: mallet-2.0.8/class/cc/mallet/pipe/SimpleTokenizer.class  \n",
            "  inflating: mallet-2.0.8/class/cc/mallet/pipe/SourceLocation2TokenSequence.class  \n",
            "  inflating: mallet-2.0.8/class/cc/mallet/pipe/StringAddNewLineDelimiter.class  \n",
            "  inflating: mallet-2.0.8/class/cc/mallet/pipe/StringList2FeatureSequence.class  \n",
            "  inflating: mallet-2.0.8/class/cc/mallet/pipe/SvmLight2FeatureVectorAndLabel.class  \n",
            "  inflating: mallet-2.0.8/class/cc/mallet/pipe/Target2Double.class  \n",
            "  inflating: mallet-2.0.8/class/cc/mallet/pipe/Target2FeatureSequence.class  \n",
            "  inflating: mallet-2.0.8/class/cc/mallet/pipe/Target2Integer.class  \n",
            "  inflating: mallet-2.0.8/class/cc/mallet/pipe/Target2Label.class  \n",
            "  inflating: mallet-2.0.8/class/cc/mallet/pipe/Target2LabelSequence.class  \n",
            "  inflating: mallet-2.0.8/class/cc/mallet/pipe/TargetRememberLastLabel.class  \n",
            "  inflating: mallet-2.0.8/class/cc/mallet/pipe/TargetStringToFeatures.class  \n",
            "   creating: mallet-2.0.8/class/cc/mallet/pipe/tests/\n",
            "  inflating: mallet-2.0.8/class/cc/mallet/pipe/tests/TestInstancePipe$Array2ArrayIterator.class  \n",
            "  inflating: mallet-2.0.8/class/cc/mallet/pipe/tests/TestInstancePipe.class  \n",
            "  inflating: mallet-2.0.8/class/cc/mallet/pipe/tests/TestIterators.class  \n",
            "  inflating: mallet-2.0.8/class/cc/mallet/pipe/tests/TestPipeUtils$1.class  \n",
            "  inflating: mallet-2.0.8/class/cc/mallet/pipe/tests/TestPipeUtils$StupidPipe.class  \n",
            "  inflating: mallet-2.0.8/class/cc/mallet/pipe/tests/TestPipeUtils.class  \n",
            "  inflating: mallet-2.0.8/class/cc/mallet/pipe/tests/TestRainbowStyle.class  \n",
            "  inflating: mallet-2.0.8/class/cc/mallet/pipe/tests/TestSGML2TokenSequence$Array2ArrayIterator.class  \n",
            "  inflating: mallet-2.0.8/class/cc/mallet/pipe/tests/TestSGML2TokenSequence.class  \n",
            "  inflating: mallet-2.0.8/class/cc/mallet/pipe/tests/TestSpacePipe.class  \n",
            "  inflating: mallet-2.0.8/class/cc/mallet/pipe/Token2FeatureVector.class  \n",
            "  inflating: mallet-2.0.8/class/cc/mallet/pipe/TokenSequence2FeatureSequence.class  \n",
            "  inflating: mallet-2.0.8/class/cc/mallet/pipe/TokenSequence2FeatureSequenceWithBigrams.class  \n",
            "  inflating: mallet-2.0.8/class/cc/mallet/pipe/TokenSequence2FeatureVectorSequence.class  \n",
            "  inflating: mallet-2.0.8/class/cc/mallet/pipe/TokenSequence2TokenInstances$TokenInstanceIterator.class  \n",
            "  inflating: mallet-2.0.8/class/cc/mallet/pipe/TokenSequence2TokenInstances.class  \n",
            "  inflating: mallet-2.0.8/class/cc/mallet/pipe/TokenSequenceLowercase.class  \n",
            "  inflating: mallet-2.0.8/class/cc/mallet/pipe/TokenSequenceMatchDataAndTarget.class  \n",
            "  inflating: mallet-2.0.8/class/cc/mallet/pipe/TokenSequenceNGrams.class  \n",
            "  inflating: mallet-2.0.8/class/cc/mallet/pipe/TokenSequenceParseFeatureString.class  \n",
            "  inflating: mallet-2.0.8/class/cc/mallet/pipe/TokenSequenceRemoveNonAlpha.class  \n",
            "  inflating: mallet-2.0.8/class/cc/mallet/pipe/TokenSequenceRemoveStopPatterns.class  \n",
            "  inflating: mallet-2.0.8/class/cc/mallet/pipe/TokenSequenceRemoveStopwords.class  \n",
            "   creating: mallet-2.0.8/class/cc/mallet/pipe/tsf/\n",
            "  inflating: mallet-2.0.8/class/cc/mallet/pipe/tsf/CountMatches.class  \n",
            "  inflating: mallet-2.0.8/class/cc/mallet/pipe/tsf/CountMatchesAlignedWithOffsets.class  \n",
            "  inflating: mallet-2.0.8/class/cc/mallet/pipe/tsf/CountMatchesMatching.class  \n",
            "  inflating: mallet-2.0.8/class/cc/mallet/pipe/tsf/FeaturesInWindow.class  \n",
            "  inflating: mallet-2.0.8/class/cc/mallet/pipe/tsf/FeaturesOfFirstMention.class  \n",
            "  inflating: mallet-2.0.8/class/cc/mallet/pipe/tsf/LexiconMembership.class  \n",
            "  inflating: mallet-2.0.8/class/cc/mallet/pipe/tsf/OffsetConjunctions.class  \n",
            "  inflating: mallet-2.0.8/class/cc/mallet/pipe/tsf/OffsetFeatureConjunction.class  \n",
            "  inflating: mallet-2.0.8/class/cc/mallet/pipe/tsf/OffsetPropertyConjunctions.class  \n",
            "  inflating: mallet-2.0.8/class/cc/mallet/pipe/tsf/RegexMatches.class  \n",
            "  inflating: mallet-2.0.8/class/cc/mallet/pipe/tsf/SequencePrintingPipe.class  \n",
            "  inflating: mallet-2.0.8/class/cc/mallet/pipe/tsf/Target2BIOFormat.class  \n",
            "   creating: mallet-2.0.8/class/cc/mallet/pipe/tsf/tests/\n",
            "  inflating: mallet-2.0.8/class/cc/mallet/pipe/tsf/tests/TestOffsetConjunctions.class  \n",
            "  inflating: mallet-2.0.8/class/cc/mallet/pipe/tsf/tests/TestOffsetFeatureConjunctions.class  \n",
            "  inflating: mallet-2.0.8/class/cc/mallet/pipe/tsf/tests/TestSequencePrintingPipe.class  \n",
            "  inflating: mallet-2.0.8/class/cc/mallet/pipe/tsf/TokenFirstPosition.class  \n",
            "  inflating: mallet-2.0.8/class/cc/mallet/pipe/tsf/TokenText.class  \n",
            "  inflating: mallet-2.0.8/class/cc/mallet/pipe/tsf/TokenTextCharNGrams.class  \n",
            "  inflating: mallet-2.0.8/class/cc/mallet/pipe/tsf/TokenTextCharPrefix.class  \n",
            "  inflating: mallet-2.0.8/class/cc/mallet/pipe/tsf/TokenTextCharSuffix.class  \n",
            "  inflating: mallet-2.0.8/class/cc/mallet/pipe/tsf/TokenTextNGrams.class  \n",
            "  inflating: mallet-2.0.8/class/cc/mallet/pipe/tsf/TrieLexiconMembership$TrieLexicon.class  \n",
            "  inflating: mallet-2.0.8/class/cc/mallet/pipe/tsf/TrieLexiconMembership.class  \n",
            "  inflating: mallet-2.0.8/class/cc/mallet/pipe/tsf/WordVectors.class  \n",
            "  inflating: mallet-2.0.8/class/cc/mallet/pipe/ValueString2FeatureVector.class  \n",
            "   creating: mallet-2.0.8/class/cc/mallet/regression/\n",
            "  inflating: mallet-2.0.8/class/cc/mallet/regression/CoordinateDescent.class  \n",
            "  inflating: mallet-2.0.8/class/cc/mallet/regression/LeastSquares.class  \n",
            "  inflating: mallet-2.0.8/class/cc/mallet/regression/LinearRegression.class  \n",
            "  inflating: mallet-2.0.8/class/cc/mallet/regression/LinearRegressionTrainer.class  \n",
            "   creating: mallet-2.0.8/class/cc/mallet/regression/tui/\n",
            "  inflating: mallet-2.0.8/class/cc/mallet/regression/tui/Regression.class  \n",
            "  inflating: mallet-2.0.8/class/cc/mallet/regression/tui/RegressionImporter.class  \n",
            "   creating: mallet-2.0.8/class/cc/mallet/share/\n",
            "   creating: mallet-2.0.8/class/cc/mallet/share/casutton/\n",
            "   creating: mallet-2.0.8/class/cc/mallet/share/casutton/ner/\n",
            "  inflating: mallet-2.0.8/class/cc/mallet/share/casutton/ner/ConllNer2003Sentence2TokenSequence.class  \n",
            "   creating: mallet-2.0.8/class/cc/mallet/share/mccallum/\n",
            "   creating: mallet-2.0.8/class/cc/mallet/share/mccallum/ner/\n",
            "  inflating: mallet-2.0.8/class/cc/mallet/share/mccallum/ner/ConllNer2003Sentence2TokenSequence.class  \n",
            "  inflating: mallet-2.0.8/class/cc/mallet/share/mccallum/ner/TokenSequenceDocHeader.class  \n",
            "  inflating: mallet-2.0.8/class/cc/mallet/share/mccallum/ner/TUI.class  \n",
            "   creating: mallet-2.0.8/class/cc/mallet/share/upenn/\n",
            "  inflating: mallet-2.0.8/class/cc/mallet/share/upenn/MaxEntShell.class  \n",
            "   creating: mallet-2.0.8/class/cc/mallet/share/upenn/ner/\n",
            "  inflating: mallet-2.0.8/class/cc/mallet/share/upenn/ner/FeatureWindow.class  \n",
            "  inflating: mallet-2.0.8/class/cc/mallet/share/upenn/ner/LengthBins.class  \n",
            "  inflating: mallet-2.0.8/class/cc/mallet/share/upenn/ner/ListMember.class  \n",
            "  inflating: mallet-2.0.8/class/cc/mallet/share/upenn/ner/LongRegexMatches.class  \n",
            "  inflating: mallet-2.0.8/class/cc/mallet/share/upenn/ner/NEPipes.class  \n",
            "   creating: mallet-2.0.8/class/cc/mallet/share/weili/\n",
            "   creating: mallet-2.0.8/class/cc/mallet/share/weili/ner/\n",
            "   creating: mallet-2.0.8/class/cc/mallet/share/weili/ner/enron/\n",
            "  inflating: mallet-2.0.8/class/cc/mallet/share/weili/ner/enron/EnronMessage2TokenSequence.class  \n",
            "  inflating: mallet-2.0.8/class/cc/mallet/share/weili/ner/enron/TUI.class  \n",
            "  inflating: mallet-2.0.8/class/cc/mallet/share/weili/ner/WordTransformation.class  \n",
            "   creating: mallet-2.0.8/class/cc/mallet/topics/\n",
            "  inflating: mallet-2.0.8/class/cc/mallet/topics/AbstractTopicReports.class  \n",
            "  inflating: mallet-2.0.8/class/cc/mallet/topics/DMROptimizable.class  \n",
            "  inflating: mallet-2.0.8/class/cc/mallet/topics/DMRTopicModel.class  \n",
            "  inflating: mallet-2.0.8/class/cc/mallet/topics/HierarchicalLDA$NCRPNode.class  \n",
            "  inflating: mallet-2.0.8/class/cc/mallet/topics/HierarchicalLDA.class  \n",
            "  inflating: mallet-2.0.8/class/cc/mallet/topics/HierarchicalPAM.class  \n",
            "  inflating: mallet-2.0.8/class/cc/mallet/topics/JSONTopicReports.class  \n",
            "  inflating: mallet-2.0.8/class/cc/mallet/topics/LabeledLDA.class  \n",
            "  inflating: mallet-2.0.8/class/cc/mallet/topics/LDA$1WordProb.class  \n",
            "  inflating: mallet-2.0.8/class/cc/mallet/topics/LDA.class  \n",
            "  inflating: mallet-2.0.8/class/cc/mallet/topics/LDAHyper$Topication.class  \n",
            "  inflating: mallet-2.0.8/class/cc/mallet/topics/LDAHyper.class  \n",
            "  inflating: mallet-2.0.8/class/cc/mallet/topics/LDAStream.class  \n",
            "  inflating: mallet-2.0.8/class/cc/mallet/topics/MarginalProbEstimator.class  \n",
            "  inflating: mallet-2.0.8/class/cc/mallet/topics/MultinomialHMM.class  \n",
            "  inflating: mallet-2.0.8/class/cc/mallet/topics/NPTopicModel.class  \n",
            "  inflating: mallet-2.0.8/class/cc/mallet/topics/PAM4L$IDSorter.class  \n",
            "  inflating: mallet-2.0.8/class/cc/mallet/topics/PAM4L.class  \n",
            "  inflating: mallet-2.0.8/class/cc/mallet/topics/ParallelTopicModel.class  \n",
            "  inflating: mallet-2.0.8/class/cc/mallet/topics/PolylingualTopicModel$TopicAssignment.class  \n",
            "  inflating: mallet-2.0.8/class/cc/mallet/topics/PolylingualTopicModel.class  \n",
            "  inflating: mallet-2.0.8/class/cc/mallet/topics/RTopicModel.class  \n",
            "  inflating: mallet-2.0.8/class/cc/mallet/topics/SimpleLDA.class  \n",
            "  inflating: mallet-2.0.8/class/cc/mallet/topics/TopicalNGrams$1WordProb.class  \n",
            "  inflating: mallet-2.0.8/class/cc/mallet/topics/TopicalNGrams.class  \n",
            "  inflating: mallet-2.0.8/class/cc/mallet/topics/TopicAssignment.class  \n",
            "  inflating: mallet-2.0.8/class/cc/mallet/topics/TopicInferencer.class  \n",
            "  inflating: mallet-2.0.8/class/cc/mallet/topics/TopicModelDiagnostics$TopicScores.class  \n",
            "  inflating: mallet-2.0.8/class/cc/mallet/topics/TopicModelDiagnostics.class  \n",
            "  inflating: mallet-2.0.8/class/cc/mallet/topics/TopicReports.class  \n",
            "   creating: mallet-2.0.8/class/cc/mallet/topics/tui/\n",
            "  inflating: mallet-2.0.8/class/cc/mallet/topics/tui/DMRLoader.class  \n",
            "  inflating: mallet-2.0.8/class/cc/mallet/topics/tui/EvaluateTopics.class  \n",
            "  inflating: mallet-2.0.8/class/cc/mallet/topics/tui/HierarchicalLDATUI.class  \n",
            "  inflating: mallet-2.0.8/class/cc/mallet/topics/tui/InferTopics.class  \n",
            "  inflating: mallet-2.0.8/class/cc/mallet/topics/tui/TopicTrainer.class  \n",
            "  inflating: mallet-2.0.8/class/cc/mallet/topics/tui/Vectors2Topics.class  \n",
            "  inflating: mallet-2.0.8/class/cc/mallet/topics/WeightedTopicModel.class  \n",
            "  inflating: mallet-2.0.8/class/cc/mallet/topics/WordEmbeddingRunnable.class  \n",
            "  inflating: mallet-2.0.8/class/cc/mallet/topics/WordEmbeddings.class  \n",
            "  inflating: mallet-2.0.8/class/cc/mallet/topics/WorkerRunnable.class  \n",
            "   creating: mallet-2.0.8/class/cc/mallet/types/\n",
            "  inflating: mallet-2.0.8/class/cc/mallet/types/Alphabet.class  \n",
            "  inflating: mallet-2.0.8/class/cc/mallet/types/AlphabetCarrying.class  \n",
            "  inflating: mallet-2.0.8/class/cc/mallet/types/AlphabetFactory.class  \n",
            "  inflating: mallet-2.0.8/class/cc/mallet/types/ArrayListSequence.class  \n",
            "  inflating: mallet-2.0.8/class/cc/mallet/types/ArraySequence.class  \n",
            "  inflating: mallet-2.0.8/class/cc/mallet/types/AugmentableFeatureVector.class  \n",
            "  inflating: mallet-2.0.8/class/cc/mallet/types/BiNormalSeparation$Factory.class  \n",
            "  inflating: mallet-2.0.8/class/cc/mallet/types/BiNormalSeparation.class  \n",
            "  inflating: mallet-2.0.8/class/cc/mallet/types/CachedMetric.class  \n",
            "  inflating: mallet-2.0.8/class/cc/mallet/types/ChainedInstanceIterator.class  \n",
            "  inflating: mallet-2.0.8/class/cc/mallet/types/ConstantMatrix.class  \n",
            "  inflating: mallet-2.0.8/class/cc/mallet/types/CrossValidationIterator.class  \n",
            "  inflating: mallet-2.0.8/class/cc/mallet/types/DenseMatrix.class  \n",
            "  inflating: mallet-2.0.8/class/cc/mallet/types/DenseVector.class  \n",
            "  inflating: mallet-2.0.8/class/cc/mallet/types/Dirichlet$Estimator.class  \n",
            "  inflating: mallet-2.0.8/class/cc/mallet/types/Dirichlet$MethodOfMomentsEstimator.class  \n",
            "  inflating: mallet-2.0.8/class/cc/mallet/types/Dirichlet.class  \n",
            "  inflating: mallet-2.0.8/class/cc/mallet/types/EuclideanDistance.class  \n",
            "  inflating: mallet-2.0.8/class/cc/mallet/types/ExpGain$Factory.class  \n",
            "  inflating: mallet-2.0.8/class/cc/mallet/types/ExpGain.class  \n",
            "  inflating: mallet-2.0.8/class/cc/mallet/types/FeatureConjunction$List.class  \n",
            "  inflating: mallet-2.0.8/class/cc/mallet/types/FeatureConjunction.class  \n",
            "  inflating: mallet-2.0.8/class/cc/mallet/types/FeatureCounter.class  \n",
            "  inflating: mallet-2.0.8/class/cc/mallet/types/FeatureCounts$Factory.class  \n",
            "  inflating: mallet-2.0.8/class/cc/mallet/types/FeatureCounts.class  \n",
            "  inflating: mallet-2.0.8/class/cc/mallet/types/FeatureInducer.class  \n",
            "  inflating: mallet-2.0.8/class/cc/mallet/types/FeatureSelection.class  \n",
            "  inflating: mallet-2.0.8/class/cc/mallet/types/FeatureSelector.class  \n",
            "  inflating: mallet-2.0.8/class/cc/mallet/types/FeatureSequence.class  \n",
            "  inflating: mallet-2.0.8/class/cc/mallet/types/FeatureSequenceWithBigrams.class  \n",
            "  inflating: mallet-2.0.8/class/cc/mallet/types/FeatureVector.class  \n",
            "  inflating: mallet-2.0.8/class/cc/mallet/types/FeatureVectorSequence$Iterator.class  \n",
            "  inflating: mallet-2.0.8/class/cc/mallet/types/FeatureVectorSequence.class  \n",
            "  inflating: mallet-2.0.8/class/cc/mallet/types/GainRatio$1.class  \n",
            "  inflating: mallet-2.0.8/class/cc/mallet/types/GainRatio.class  \n",
            "  inflating: mallet-2.0.8/class/cc/mallet/types/GradientGain$Factory.class  \n",
            "  inflating: mallet-2.0.8/class/cc/mallet/types/GradientGain.class  \n",
            "  inflating: mallet-2.0.8/class/cc/mallet/types/HashedSparseVector.class  \n",
            "  inflating: mallet-2.0.8/class/cc/mallet/types/IDSorter.class  \n",
            "  inflating: mallet-2.0.8/class/cc/mallet/types/IndexedSparseVector.class  \n",
            "  inflating: mallet-2.0.8/class/cc/mallet/types/InfiniteDistance.class  \n",
            "  inflating: mallet-2.0.8/class/cc/mallet/types/InfoGain$Factory.class  \n",
            "  inflating: mallet-2.0.8/class/cc/mallet/types/InfoGain.class  \n",
            "  inflating: mallet-2.0.8/class/cc/mallet/types/Instance.class  \n",
            "  inflating: mallet-2.0.8/class/cc/mallet/types/InstanceList$1.class  \n",
            "  inflating: mallet-2.0.8/class/cc/mallet/types/InstanceList$CrossValidationIterator.class  \n",
            "  inflating: mallet-2.0.8/class/cc/mallet/types/InstanceList$NotYetSetPipe.class  \n",
            "  inflating: mallet-2.0.8/class/cc/mallet/types/InstanceList.class  \n",
            "  inflating: mallet-2.0.8/class/cc/mallet/types/InstanceListTUI.class  \n",
            "  inflating: mallet-2.0.8/class/cc/mallet/types/InvertedIndex.class  \n",
            "  inflating: mallet-2.0.8/class/cc/mallet/types/KLGain.class  \n",
            "  inflating: mallet-2.0.8/class/cc/mallet/types/Label.class  \n",
            "  inflating: mallet-2.0.8/class/cc/mallet/types/LabelAlphabet.class  \n",
            "  inflating: mallet-2.0.8/class/cc/mallet/types/Labeler.class  \n",
            "  inflating: mallet-2.0.8/class/cc/mallet/types/Labeling.class  \n",
            "  inflating: mallet-2.0.8/class/cc/mallet/types/Labelings.class  \n",
            "  inflating: mallet-2.0.8/class/cc/mallet/types/Labels.class  \n",
            "  inflating: mallet-2.0.8/class/cc/mallet/types/LabelSequence$Iterator.class  \n",
            "  inflating: mallet-2.0.8/class/cc/mallet/types/LabelSequence.class  \n",
            "  inflating: mallet-2.0.8/class/cc/mallet/types/LabelsSequence.class  \n",
            "  inflating: mallet-2.0.8/class/cc/mallet/types/LabelVector.class  \n",
            "  inflating: mallet-2.0.8/class/cc/mallet/types/LogNumber.class  \n",
            "  inflating: mallet-2.0.8/class/cc/mallet/types/ManhattenDistance.class  \n",
            "  inflating: mallet-2.0.8/class/cc/mallet/types/Matrix.class  \n",
            "  inflating: mallet-2.0.8/class/cc/mallet/types/Matrix2.class  \n",
            "  inflating: mallet-2.0.8/class/cc/mallet/types/Matrixn.class  \n",
            "  inflating: mallet-2.0.8/class/cc/mallet/types/MatrixOps.class  \n",
            "  inflating: mallet-2.0.8/class/cc/mallet/types/Metric.class  \n",
            "  inflating: mallet-2.0.8/class/cc/mallet/types/Minkowski.class  \n",
            "  inflating: mallet-2.0.8/class/cc/mallet/types/MultiInstanceList$MultiIterator.class  \n",
            "  inflating: mallet-2.0.8/class/cc/mallet/types/MultiInstanceList.class  \n",
            "  inflating: mallet-2.0.8/class/cc/mallet/types/Multinomial$Estimator.class  \n",
            "  inflating: mallet-2.0.8/class/cc/mallet/types/Multinomial$LaplaceEstimator.class  \n",
            "  inflating: mallet-2.0.8/class/cc/mallet/types/Multinomial$Logged.class  \n",
            "  inflating: mallet-2.0.8/class/cc/mallet/types/Multinomial$MAPEstimator.class  \n",
            "  inflating: mallet-2.0.8/class/cc/mallet/types/Multinomial$MEstimator.class  \n",
            "  inflating: mallet-2.0.8/class/cc/mallet/types/Multinomial$MLEstimator.class  \n",
            "  inflating: mallet-2.0.8/class/cc/mallet/types/Multinomial.class  \n",
            "  inflating: mallet-2.0.8/class/cc/mallet/types/NormalizedDotProductMetric.class  \n",
            "  inflating: mallet-2.0.8/class/cc/mallet/types/NullLabel.class  \n",
            "  inflating: mallet-2.0.8/class/cc/mallet/types/PagedInstanceList.class  \n",
            "  inflating: mallet-2.0.8/class/cc/mallet/types/PartiallyRankedFeatureVector$Factory.class  \n",
            "  inflating: mallet-2.0.8/class/cc/mallet/types/PartiallyRankedFeatureVector$PerLabelFactory.class  \n",
            "  inflating: mallet-2.0.8/class/cc/mallet/types/PartiallyRankedFeatureVector.class  \n",
            "  inflating: mallet-2.0.8/class/cc/mallet/types/PerLabelFeatureCounts$Factory.class  \n",
            "  inflating: mallet-2.0.8/class/cc/mallet/types/PerLabelFeatureCounts.class  \n",
            "  inflating: mallet-2.0.8/class/cc/mallet/types/PerLabelInfoGain$Factory.class  \n",
            "  inflating: mallet-2.0.8/class/cc/mallet/types/PerLabelInfoGain.class  \n",
            "  inflating: mallet-2.0.8/class/cc/mallet/types/PropertyHolder.class  \n",
            "  inflating: mallet-2.0.8/class/cc/mallet/types/RankedFeatureVector$EntryWithOriginalIndex.class  \n",
            "  inflating: mallet-2.0.8/class/cc/mallet/types/RankedFeatureVector$Factory.class  \n",
            "  inflating: mallet-2.0.8/class/cc/mallet/types/RankedFeatureVector$PerLabelFactory.class  \n",
            "  inflating: mallet-2.0.8/class/cc/mallet/types/RankedFeatureVector.class  \n",
            "  inflating: mallet-2.0.8/class/cc/mallet/types/ROCData.class  \n",
            "  inflating: mallet-2.0.8/class/cc/mallet/types/Sequence.class  \n",
            "  inflating: mallet-2.0.8/class/cc/mallet/types/SequencePair.class  \n",
            "  inflating: mallet-2.0.8/class/cc/mallet/types/SequencePairAlignment.class  \n",
            "  inflating: mallet-2.0.8/class/cc/mallet/types/SingleInstanceIterator.class  \n",
            "  inflating: mallet-2.0.8/class/cc/mallet/types/SparseMatrixn.class  \n",
            "  inflating: mallet-2.0.8/class/cc/mallet/types/SparseVector.class  \n",
            "  inflating: mallet-2.0.8/class/cc/mallet/types/StringEditFeatureVectorSequence.class  \n",
            "  inflating: mallet-2.0.8/class/cc/mallet/types/StringEditVector.class  \n",
            "  inflating: mallet-2.0.8/class/cc/mallet/types/StringKernel.class  \n",
            "   creating: mallet-2.0.8/class/cc/mallet/types/tests/\n",
            "  inflating: mallet-2.0.8/class/cc/mallet/types/tests/TestAlphabet.class  \n",
            "  inflating: mallet-2.0.8/class/cc/mallet/types/tests/TestAugmentableFeatureVector.class  \n",
            "  inflating: mallet-2.0.8/class/cc/mallet/types/tests/TestBiNormalSeparation$BinaryTestData.class  \n",
            "  inflating: mallet-2.0.8/class/cc/mallet/types/tests/TestBiNormalSeparation.class  \n",
            "  inflating: mallet-2.0.8/class/cc/mallet/types/tests/TestFeatureSequence.class  \n",
            "  inflating: mallet-2.0.8/class/cc/mallet/types/tests/TestFeatureVector.class  \n",
            "  inflating: mallet-2.0.8/class/cc/mallet/types/tests/TestHashedSparseVector.class  \n",
            "  inflating: mallet-2.0.8/class/cc/mallet/types/tests/TestIndexedSparseVector.class  \n",
            "  inflating: mallet-2.0.8/class/cc/mallet/types/tests/TestInstanceListWeights.class  \n",
            "  inflating: mallet-2.0.8/class/cc/mallet/types/tests/TestLabelAlphabet$Labelee.class  \n",
            "  inflating: mallet-2.0.8/class/cc/mallet/types/tests/TestLabelAlphabet.class  \n",
            "  inflating: mallet-2.0.8/class/cc/mallet/types/tests/TestLabelsSequence.class  \n",
            "  inflating: mallet-2.0.8/class/cc/mallet/types/tests/TestLabelVector.class  \n",
            "  inflating: mallet-2.0.8/class/cc/mallet/types/tests/TestMatrix.class  \n",
            "  inflating: mallet-2.0.8/class/cc/mallet/types/tests/TestMatrixn.class  \n",
            "  inflating: mallet-2.0.8/class/cc/mallet/types/tests/TestMultinomial.class  \n",
            "  inflating: mallet-2.0.8/class/cc/mallet/types/tests/TestPagedInstanceList.class  \n",
            "  inflating: mallet-2.0.8/class/cc/mallet/types/tests/TestRankedFeatureVector.class  \n",
            "  inflating: mallet-2.0.8/class/cc/mallet/types/tests/TestSerializable$1.class  \n",
            "  inflating: mallet-2.0.8/class/cc/mallet/types/tests/TestSerializable$WriteMe.class  \n",
            "  inflating: mallet-2.0.8/class/cc/mallet/types/tests/TestSerializable.class  \n",
            "  inflating: mallet-2.0.8/class/cc/mallet/types/tests/TestSparseMatrixn.class  \n",
            "  inflating: mallet-2.0.8/class/cc/mallet/types/tests/TestSparseVector.class  \n",
            "  inflating: mallet-2.0.8/class/cc/mallet/types/tests/TestToken.class  \n",
            "  inflating: mallet-2.0.8/class/cc/mallet/types/Token.class  \n",
            "  inflating: mallet-2.0.8/class/cc/mallet/types/TokenSequence.class  \n",
            "  inflating: mallet-2.0.8/class/cc/mallet/types/Vector.class  \n",
            "   creating: mallet-2.0.8/class/cc/mallet/util/\n",
            "  inflating: mallet-2.0.8/class/cc/mallet/util/Addable.class  \n",
            "  inflating: mallet-2.0.8/class/cc/mallet/util/ArrayListUtils.class  \n",
            "  inflating: mallet-2.0.8/class/cc/mallet/util/ArrayUtils.class  \n",
            "  inflating: mallet-2.0.8/class/cc/mallet/util/BshInterpreter.class  \n",
            "  inflating: mallet-2.0.8/class/cc/mallet/util/BulkLoader.class  \n",
            "  inflating: mallet-2.0.8/class/cc/mallet/util/CharSequenceLexer.class  \n",
            "  inflating: mallet-2.0.8/class/cc/mallet/util/CollectionUtils$1Accumulator.class  \n",
            "  inflating: mallet-2.0.8/class/cc/mallet/util/CollectionUtils$Fn.class  \n",
            "  inflating: mallet-2.0.8/class/cc/mallet/util/CollectionUtils.class  \n",
            "  inflating: mallet-2.0.8/class/cc/mallet/util/ColorUtils.class  \n",
            "  inflating: mallet-2.0.8/class/cc/mallet/util/CommandOption$1.class  \n",
            "  inflating: mallet-2.0.8/class/cc/mallet/util/CommandOption$Boolean.class  \n",
            "  inflating: mallet-2.0.8/class/cc/mallet/util/CommandOption$Double.class  \n",
            "  inflating: mallet-2.0.8/class/cc/mallet/util/CommandOption$DoubleArray.class  \n",
            "  inflating: mallet-2.0.8/class/cc/mallet/util/CommandOption$File.class  \n",
            "  inflating: mallet-2.0.8/class/cc/mallet/util/CommandOption$Integer.class  \n",
            "  inflating: mallet-2.0.8/class/cc/mallet/util/CommandOption$IntegerArray.class  \n",
            "  inflating: mallet-2.0.8/class/cc/mallet/util/CommandOption$List$1.class  \n",
            "  inflating: mallet-2.0.8/class/cc/mallet/util/CommandOption$List$2.class  \n",
            "  inflating: mallet-2.0.8/class/cc/mallet/util/CommandOption$List.class  \n",
            "  inflating: mallet-2.0.8/class/cc/mallet/util/CommandOption$ListProviding.class  \n",
            "  inflating: mallet-2.0.8/class/cc/mallet/util/CommandOption$Object.class  \n",
            "  inflating: mallet-2.0.8/class/cc/mallet/util/CommandOption$ObjectFromBean.class  \n",
            "  inflating: mallet-2.0.8/class/cc/mallet/util/CommandOption$Set.class  \n",
            "  inflating: mallet-2.0.8/class/cc/mallet/util/CommandOption$SpacedStrings.class  \n",
            "  inflating: mallet-2.0.8/class/cc/mallet/util/CommandOption$String.class  \n",
            "  inflating: mallet-2.0.8/class/cc/mallet/util/CommandOption.class  \n",
            "  inflating: mallet-2.0.8/class/cc/mallet/util/DBBulkLoader.class  \n",
            "  inflating: mallet-2.0.8/class/cc/mallet/util/DBInstanceStore.class  \n",
            "  inflating: mallet-2.0.8/class/cc/mallet/util/DirectoryFilter.class  \n",
            "  inflating: mallet-2.0.8/class/cc/mallet/util/DocumentLengths.class  \n",
            "  inflating: mallet-2.0.8/class/cc/mallet/util/DoubleList.class  \n",
            "  inflating: mallet-2.0.8/class/cc/mallet/util/FeatureCooccurrenceCounter.class  \n",
            "  inflating: mallet-2.0.8/class/cc/mallet/util/FeatureCountTool.class  \n",
            "  inflating: mallet-2.0.8/class/cc/mallet/util/FileUtils.class  \n",
            "  inflating: mallet-2.0.8/class/cc/mallet/util/InstanceListPrinter.class  \n",
            "  inflating: mallet-2.0.8/class/cc/mallet/util/IoUtils.class  \n",
            "  inflating: mallet-2.0.8/class/cc/mallet/util/Lexer.class  \n",
            "  inflating: mallet-2.0.8/class/cc/mallet/util/MalletLogger.class  \n",
            "  inflating: mallet-2.0.8/class/cc/mallet/util/MalletProgressMessageLogger.class  \n",
            "  inflating: mallet-2.0.8/class/cc/mallet/util/Maths.class  \n",
            "  inflating: mallet-2.0.8/class/cc/mallet/util/MVNormal.class  \n",
            "  inflating: mallet-2.0.8/class/cc/mallet/util/PlainLogFormatter.class  \n",
            "  inflating: mallet-2.0.8/class/cc/mallet/util/PrintUtilities.class  \n",
            "  inflating: mallet-2.0.8/class/cc/mallet/util/ProgressMessageLogFormatter.class  \n",
            "  inflating: mallet-2.0.8/class/cc/mallet/util/ProgressMessageLogRecord.class  \n",
            "  inflating: mallet-2.0.8/class/cc/mallet/util/PropertyList$Iterator.class  \n",
            "  inflating: mallet-2.0.8/class/cc/mallet/util/PropertyList$NumericIterator.class  \n",
            "  inflating: mallet-2.0.8/class/cc/mallet/util/PropertyList$NumericProperty.class  \n",
            "  inflating: mallet-2.0.8/class/cc/mallet/util/PropertyList$ObjectIterator.class  \n",
            "  inflating: mallet-2.0.8/class/cc/mallet/util/PropertyList$ObjectProperty.class  \n",
            "  inflating: mallet-2.0.8/class/cc/mallet/util/PropertyList.class  \n",
            "  inflating: mallet-2.0.8/class/cc/mallet/util/Randoms$1.class  \n",
            "  inflating: mallet-2.0.8/class/cc/mallet/util/Randoms.class  \n",
            "  inflating: mallet-2.0.8/class/cc/mallet/util/RegexFileFilter.class  \n",
            "  inflating: mallet-2.0.8/class/cc/mallet/util/Replacement.class  \n",
            "  inflating: mallet-2.0.8/class/cc/mallet/util/Replacer.class  \n",
            "   creating: mallet-2.0.8/class/cc/mallet/util/resources/\n",
            "  inflating: mallet-2.0.8/class/cc/mallet/util/resources/logging.properties  \n",
            "   creating: mallet-2.0.8/class/cc/mallet/util/resources/wn/\n",
            "  inflating: mallet-2.0.8/class/cc/mallet/util/resources/wn/Examples.class  \n",
            "   creating: mallet-2.0.8/class/cc/mallet/util/search/\n",
            "  inflating: mallet-2.0.8/class/cc/mallet/util/search/AStar.class  \n",
            "  inflating: mallet-2.0.8/class/cc/mallet/util/search/AStarNode$NextNodeIterator.class  \n",
            "  inflating: mallet-2.0.8/class/cc/mallet/util/search/AStarNode.class  \n",
            "  inflating: mallet-2.0.8/class/cc/mallet/util/search/AStarState.class  \n",
            "  inflating: mallet-2.0.8/class/cc/mallet/util/search/MinHeap.class  \n",
            "  inflating: mallet-2.0.8/class/cc/mallet/util/search/PriorityQueue.class  \n",
            "  inflating: mallet-2.0.8/class/cc/mallet/util/search/QueueElement.class  \n",
            "  inflating: mallet-2.0.8/class/cc/mallet/util/search/SearchNode$NextNodeIterator.class  \n",
            "  inflating: mallet-2.0.8/class/cc/mallet/util/search/SearchNode.class  \n",
            "  inflating: mallet-2.0.8/class/cc/mallet/util/search/SearchState$NextStateIterator.class  \n",
            "  inflating: mallet-2.0.8/class/cc/mallet/util/search/SearchState.class  \n",
            "  inflating: mallet-2.0.8/class/cc/mallet/util/Sequences.class  \n",
            "  inflating: mallet-2.0.8/class/cc/mallet/util/StatFunctions.class  \n",
            "  inflating: mallet-2.0.8/class/cc/mallet/util/Strings.class  \n",
            "   creating: mallet-2.0.8/class/cc/mallet/util/tests/\n",
            "  inflating: mallet-2.0.8/class/cc/mallet/util/tests/TestAStar$1.class  \n",
            "  inflating: mallet-2.0.8/class/cc/mallet/util/tests/TestAStar$State$NextStates.class  \n",
            "  inflating: mallet-2.0.8/class/cc/mallet/util/tests/TestAStar$State.class  \n",
            "  inflating: mallet-2.0.8/class/cc/mallet/util/tests/TestAStar.class  \n",
            "  inflating: mallet-2.0.8/class/cc/mallet/util/tests/TestMaths.class  \n",
            "  inflating: mallet-2.0.8/class/cc/mallet/util/tests/TestPriorityQueue$1.class  \n",
            "  inflating: mallet-2.0.8/class/cc/mallet/util/tests/TestPriorityQueue$Item.class  \n",
            "  inflating: mallet-2.0.8/class/cc/mallet/util/tests/TestPriorityQueue.class  \n",
            "  inflating: mallet-2.0.8/class/cc/mallet/util/tests/TestPropertyList.class  \n",
            "  inflating: mallet-2.0.8/class/cc/mallet/util/tests/TestRandom.class  \n",
            "  inflating: mallet-2.0.8/class/cc/mallet/util/tests/TestStrings.class  \n",
            "  inflating: mallet-2.0.8/class/cc/mallet/util/Timing.class  \n",
            "  inflating: mallet-2.0.8/class/cc/mallet/util/Univariate.class  \n",
            "  inflating: mallet-2.0.8/class/cc/mallet/util/UriUtils.class  \n",
            "  inflating: mallet-2.0.8/class/cc/mallet/util/VectorStats.class  \n",
            "   creating: mallet-2.0.8/dist/\n",
            "  inflating: mallet-2.0.8/dist/mallet-deps.jar  \n",
            "  inflating: mallet-2.0.8/dist/mallet.jar  \n",
            "   creating: mallet-2.0.8/lib/\n",
            "  inflating: mallet-2.0.8/lib/bsh.jar  \n",
            "  inflating: mallet-2.0.8/lib/derby.jar  \n",
            "  inflating: mallet-2.0.8/lib/grmm-deps.jar  \n",
            "  inflating: mallet-2.0.8/lib/jdom-1.0.jar  \n",
            "  inflating: mallet-2.0.8/lib/jgrapht-0.6.0.jar  \n",
            "  inflating: mallet-2.0.8/lib/junit-4.5.jar  \n",
            "  inflating: mallet-2.0.8/lib/jwnl-1.3.jar  \n",
            "  inflating: mallet-2.0.8/lib/LICENSES  \n",
            "  inflating: mallet-2.0.8/lib/Makefile  \n",
            "  inflating: mallet-2.0.8/lib/mallet-deps.jar  \n",
            "  inflating: mallet-2.0.8/lib/mtj-0.9.9.jar  \n",
            "  inflating: mallet-2.0.8/lib/openjgraph.jar  \n",
            "  inflating: mallet-2.0.8/lib/trove-2.0.2.jar  \n",
            "  inflating: mallet-2.0.8/LICENSE    \n",
            "  inflating: mallet-2.0.8/Makefile   \n",
            "  inflating: mallet-2.0.8/pom.xml    \n",
            "  inflating: mallet-2.0.8/README.md  \n",
            "   creating: mallet-2.0.8/sample-data/\n",
            "   creating: mallet-2.0.8/sample-data/numeric/\n",
            "  inflating: mallet-2.0.8/sample-data/numeric/boxes.txt  \n",
            "  inflating: mallet-2.0.8/sample-data/numeric/puffins.txt  \n",
            "  inflating: mallet-2.0.8/sample-data/README  \n",
            "   creating: mallet-2.0.8/sample-data/web/\n",
            "   creating: mallet-2.0.8/sample-data/web/de/\n",
            "  inflating: mallet-2.0.8/sample-data/web/de/apollo8.txt  \n",
            "  inflating: mallet-2.0.8/sample-data/web/de/fiv.txt  \n",
            "  inflating: mallet-2.0.8/sample-data/web/de/habichtsadler.txt  \n",
            "  inflating: mallet-2.0.8/sample-data/web/de/hoechst.txt  \n",
            "  inflating: mallet-2.0.8/sample-data/web/de/indogermanische.txt  \n",
            "  inflating: mallet-2.0.8/sample-data/web/de/konrad.txt  \n",
            "  inflating: mallet-2.0.8/sample-data/web/de/marcellinus.txt  \n",
            "  inflating: mallet-2.0.8/sample-data/web/de/rostock.txt  \n",
            "  inflating: mallet-2.0.8/sample-data/web/de/sadat.txt  \n",
            "  inflating: mallet-2.0.8/sample-data/web/de/t40.txt  \n",
            "  inflating: mallet-2.0.8/sample-data/web/de/ulrich.txt  \n",
            "  inflating: mallet-2.0.8/sample-data/web/de/wildenstein.txt  \n",
            "   creating: mallet-2.0.8/sample-data/web/en/\n",
            "  inflating: mallet-2.0.8/sample-data/web/en/elizabeth_needham.txt  \n",
            "  inflating: mallet-2.0.8/sample-data/web/en/equipartition_theorem.txt  \n",
            "  inflating: mallet-2.0.8/sample-data/web/en/gunnhild.txt  \n",
            "  inflating: mallet-2.0.8/sample-data/web/en/hawes.txt  \n",
            "  inflating: mallet-2.0.8/sample-data/web/en/hill.txt  \n",
            "  inflating: mallet-2.0.8/sample-data/web/en/shiloh.txt  \n",
            "  inflating: mallet-2.0.8/sample-data/web/en/sunderland_echo.txt  \n",
            "  inflating: mallet-2.0.8/sample-data/web/en/thespis.txt  \n",
            "  inflating: mallet-2.0.8/sample-data/web/en/thylacine.txt  \n",
            "  inflating: mallet-2.0.8/sample-data/web/en/uranus.txt  \n",
            "  inflating: mallet-2.0.8/sample-data/web/en/yard.txt  \n",
            "  inflating: mallet-2.0.8/sample-data/web/en/zinta.txt  \n",
            "   creating: mallet-2.0.8/src/\n",
            "   creating: mallet-2.0.8/src/cc/\n",
            "   creating: mallet-2.0.8/src/cc/mallet/\n",
            "   creating: mallet-2.0.8/src/cc/mallet/classify/\n",
            "  inflating: mallet-2.0.8/src/cc/mallet/classify/AdaBoost.java  \n",
            "  inflating: mallet-2.0.8/src/cc/mallet/classify/AdaBoostM2.java  \n",
            "  inflating: mallet-2.0.8/src/cc/mallet/classify/AdaBoostM2Trainer.java  \n",
            "  inflating: mallet-2.0.8/src/cc/mallet/classify/AdaBoostTrainer.java  \n",
            "  inflating: mallet-2.0.8/src/cc/mallet/classify/BaggingClassifier.java  \n",
            "  inflating: mallet-2.0.8/src/cc/mallet/classify/BaggingTrainer.java  \n",
            "  inflating: mallet-2.0.8/src/cc/mallet/classify/BalancedWinnow.java  \n",
            "  inflating: mallet-2.0.8/src/cc/mallet/classify/BalancedWinnowTrainer.java  \n",
            "  inflating: mallet-2.0.8/src/cc/mallet/classify/Boostable.java  \n",
            "  inflating: mallet-2.0.8/src/cc/mallet/classify/C45.java  \n",
            "  inflating: mallet-2.0.8/src/cc/mallet/classify/C45Trainer.java  \n",
            "  inflating: mallet-2.0.8/src/cc/mallet/classify/Classification.java  \n",
            "  inflating: mallet-2.0.8/src/cc/mallet/classify/Classifier.java  \n",
            "  inflating: mallet-2.0.8/src/cc/mallet/classify/ClassifierAccuracyEvaluator.java  \n",
            "  inflating: mallet-2.0.8/src/cc/mallet/classify/ClassifierEnsemble.java  \n",
            "  inflating: mallet-2.0.8/src/cc/mallet/classify/ClassifierEnsembleTrainer.java  \n",
            "  inflating: mallet-2.0.8/src/cc/mallet/classify/ClassifierEvaluator.java  \n",
            "  inflating: mallet-2.0.8/src/cc/mallet/classify/ClassifierTrainer.java  \n",
            "  inflating: mallet-2.0.8/src/cc/mallet/classify/ConfidencePredictingClassifier.java  \n",
            "  inflating: mallet-2.0.8/src/cc/mallet/classify/ConfidencePredictingClassifierTrainer.java  \n",
            "   creating: mallet-2.0.8/src/cc/mallet/classify/constraints/\n",
            "   creating: mallet-2.0.8/src/cc/mallet/classify/constraints/ge/\n",
            "  inflating: mallet-2.0.8/src/cc/mallet/classify/constraints/ge/MaxEntFLGEConstraints.java  \n",
            "  inflating: mallet-2.0.8/src/cc/mallet/classify/constraints/ge/MaxEntGEConstraint.java  \n",
            "  inflating: mallet-2.0.8/src/cc/mallet/classify/constraints/ge/MaxEntKLFLGEConstraints.java  \n",
            "  inflating: mallet-2.0.8/src/cc/mallet/classify/constraints/ge/MaxEntL2FLGEConstraints.java  \n",
            "  inflating: mallet-2.0.8/src/cc/mallet/classify/constraints/ge/MaxEntRangeL2FLGEConstraints.java  \n",
            "   creating: mallet-2.0.8/src/cc/mallet/classify/constraints/pr/\n",
            "  inflating: mallet-2.0.8/src/cc/mallet/classify/constraints/pr/MaxEntFLPRConstraints.java  \n",
            "  inflating: mallet-2.0.8/src/cc/mallet/classify/constraints/pr/MaxEntL2FLPRConstraints.java  \n",
            "  inflating: mallet-2.0.8/src/cc/mallet/classify/constraints/pr/MaxEntPRConstraint.java  \n",
            "  inflating: mallet-2.0.8/src/cc/mallet/classify/DecisionTree.java  \n",
            "  inflating: mallet-2.0.8/src/cc/mallet/classify/DecisionTreeTrainer.java  \n",
            "   creating: mallet-2.0.8/src/cc/mallet/classify/evaluate/\n",
            "  inflating: mallet-2.0.8/src/cc/mallet/classify/evaluate/AccuracyCoverage.java  \n",
            "  inflating: mallet-2.0.8/src/cc/mallet/classify/evaluate/ConfusionMatrix.java  \n",
            "  inflating: mallet-2.0.8/src/cc/mallet/classify/evaluate/Graph.java  \n",
            "  inflating: mallet-2.0.8/src/cc/mallet/classify/evaluate/Graph2.java  \n",
            "  inflating: mallet-2.0.8/src/cc/mallet/classify/evaluate/GraphItem.java  \n",
            "  inflating: mallet-2.0.8/src/cc/mallet/classify/evaluate/package.html  \n",
            "   creating: mallet-2.0.8/src/cc/mallet/classify/examples/\n",
            "  inflating: mallet-2.0.8/src/cc/mallet/classify/examples/DocumentClassifier.java  \n",
            "  inflating: mallet-2.0.8/src/cc/mallet/classify/examples/package.html  \n",
            "  inflating: mallet-2.0.8/src/cc/mallet/classify/FeatureConstraintUtil.java  \n",
            "  inflating: mallet-2.0.8/src/cc/mallet/classify/FeatureSelectingClassifierTrainer.java  \n",
            "  inflating: mallet-2.0.8/src/cc/mallet/classify/MaxEnt.java  \n",
            "  inflating: mallet-2.0.8/src/cc/mallet/classify/MaxEntGERangeTrainer.java  \n",
            "  inflating: mallet-2.0.8/src/cc/mallet/classify/MaxEntGETrainer.java  \n",
            "  inflating: mallet-2.0.8/src/cc/mallet/classify/MaxEntL1Trainer.java  \n",
            "  inflating: mallet-2.0.8/src/cc/mallet/classify/MaxEntOptimizableByGE.java  \n",
            "  inflating: mallet-2.0.8/src/cc/mallet/classify/MaxEntOptimizableByLabelDistribution.java  \n",
            "  inflating: mallet-2.0.8/src/cc/mallet/classify/MaxEntOptimizableByLabelLikelihood.java  \n",
            "  inflating: mallet-2.0.8/src/cc/mallet/classify/MaxEntPRTrainer.java  \n",
            "  inflating: mallet-2.0.8/src/cc/mallet/classify/MaxEntTrainer.java  \n",
            "  inflating: mallet-2.0.8/src/cc/mallet/classify/MCMaxEnt.java  \n",
            "  inflating: mallet-2.0.8/src/cc/mallet/classify/MCMaxEntTrainer.java  \n",
            "  inflating: mallet-2.0.8/src/cc/mallet/classify/MostFrequentClassAssignmentTrainer.java  \n",
            "  inflating: mallet-2.0.8/src/cc/mallet/classify/MostFrequentClassifier.java  \n",
            "  inflating: mallet-2.0.8/src/cc/mallet/classify/NaiveBayes.java  \n",
            "  inflating: mallet-2.0.8/src/cc/mallet/classify/NaiveBayesEMTrainer.java  \n",
            "  inflating: mallet-2.0.8/src/cc/mallet/classify/NaiveBayesTrainer.java  \n",
            "  inflating: mallet-2.0.8/src/cc/mallet/classify/package.html  \n",
            "  inflating: mallet-2.0.8/src/cc/mallet/classify/PRAuxClassifier.java  \n",
            "  inflating: mallet-2.0.8/src/cc/mallet/classify/PRAuxClassifierOptimizable.java  \n",
            "  inflating: mallet-2.0.8/src/cc/mallet/classify/RandomAssignmentTrainer.java  \n",
            "  inflating: mallet-2.0.8/src/cc/mallet/classify/RandomClassifier.java  \n",
            "  inflating: mallet-2.0.8/src/cc/mallet/classify/RankMaxEnt.java  \n",
            "  inflating: mallet-2.0.8/src/cc/mallet/classify/RankMaxEntTrainer.java  \n",
            "   creating: mallet-2.0.8/src/cc/mallet/classify/tests/\n",
            "   creating: mallet-2.0.8/src/cc/mallet/classify/tests/NaiveBayesData/\n",
            "   creating: mallet-2.0.8/src/cc/mallet/classify/tests/NaiveBayesData/learn/\n",
            "   creating: mallet-2.0.8/src/cc/mallet/classify/tests/NaiveBayesData/learn/a/\n",
            " extracting: mallet-2.0.8/src/cc/mallet/classify/tests/NaiveBayesData/learn/a/m1  \n",
            " extracting: mallet-2.0.8/src/cc/mallet/classify/tests/NaiveBayesData/learn/a/ma  \n",
            "   creating: mallet-2.0.8/src/cc/mallet/classify/tests/NaiveBayesData/learn/b/\n",
            " extracting: mallet-2.0.8/src/cc/mallet/classify/tests/NaiveBayesData/learn/b/m2  \n",
            "   creating: mallet-2.0.8/src/cc/mallet/classify/tests/NaiveBayesData/update/\n",
            "   creating: mallet-2.0.8/src/cc/mallet/classify/tests/NaiveBayesData/update/b/\n",
            " extracting: mallet-2.0.8/src/cc/mallet/classify/tests/NaiveBayesData/update/b/m3  \n",
            " extracting: mallet-2.0.8/src/cc/mallet/classify/tests/NaiveBayesData/update/b/m4  \n",
            " extracting: mallet-2.0.8/src/cc/mallet/classify/tests/NaiveBayesData/update/b/m5  \n",
            "  inflating: mallet-2.0.8/src/cc/mallet/classify/tests/package.html  \n",
            "  inflating: mallet-2.0.8/src/cc/mallet/classify/tests/TestClassifiers.java  \n",
            "  inflating: mallet-2.0.8/src/cc/mallet/classify/tests/TestMaxEntTrainer.java  \n",
            "  inflating: mallet-2.0.8/src/cc/mallet/classify/tests/TestNaiveBayes.java  \n",
            "  inflating: mallet-2.0.8/src/cc/mallet/classify/tests/TestStaticParameters.java  \n",
            "  inflating: mallet-2.0.8/src/cc/mallet/classify/Trial.java  \n",
            "   creating: mallet-2.0.8/src/cc/mallet/classify/tui/\n",
            "  inflating: mallet-2.0.8/src/cc/mallet/classify/tui/Calo2Classify.java  \n",
            "  inflating: mallet-2.0.8/src/cc/mallet/classify/tui/Classifier2Info.java  \n",
            "  inflating: mallet-2.0.8/src/cc/mallet/classify/tui/Csv2Classify.java  \n",
            "  inflating: mallet-2.0.8/src/cc/mallet/classify/tui/Csv2Vectors.java  \n",
            "  inflating: mallet-2.0.8/src/cc/mallet/classify/tui/package.html  \n",
            "  inflating: mallet-2.0.8/src/cc/mallet/classify/tui/SvmLight2Classify.java  \n",
            "  inflating: mallet-2.0.8/src/cc/mallet/classify/tui/SvmLight2Vectors.java  \n",
            "  inflating: mallet-2.0.8/src/cc/mallet/classify/tui/Text2Classify.java  \n",
            "  inflating: mallet-2.0.8/src/cc/mallet/classify/tui/Text2Vectors.java  \n",
            "  inflating: mallet-2.0.8/src/cc/mallet/classify/tui/TODO  \n",
            "  inflating: mallet-2.0.8/src/cc/mallet/classify/tui/Vectors2Classify.java  \n",
            "  inflating: mallet-2.0.8/src/cc/mallet/classify/tui/Vectors2FeatureConstraints.java  \n",
            "  inflating: mallet-2.0.8/src/cc/mallet/classify/tui/Vectors2Info.java  \n",
            "  inflating: mallet-2.0.8/src/cc/mallet/classify/tui/Vectors2Vectors.java  \n",
            "  inflating: mallet-2.0.8/src/cc/mallet/classify/Winnow.java  \n",
            "  inflating: mallet-2.0.8/src/cc/mallet/classify/WinnowTrainer.java  \n",
            "   creating: mallet-2.0.8/src/cc/mallet/cluster/\n",
            "  inflating: mallet-2.0.8/src/cc/mallet/cluster/Clusterer.java  \n",
            "  inflating: mallet-2.0.8/src/cc/mallet/cluster/Clustering.java  \n",
            "   creating: mallet-2.0.8/src/cc/mallet/cluster/clustering_scorer/\n",
            "  inflating: mallet-2.0.8/src/cc/mallet/cluster/clustering_scorer/ClusteringScorer.java  \n",
            "  inflating: mallet-2.0.8/src/cc/mallet/cluster/clustering_scorer/PairwiseScorer.java  \n",
            "  inflating: mallet-2.0.8/src/cc/mallet/cluster/Clusterings.java  \n",
            "   creating: mallet-2.0.8/src/cc/mallet/cluster/evaluate/\n",
            "  inflating: mallet-2.0.8/src/cc/mallet/cluster/evaluate/AccuracyEvaluator.java  \n",
            "  inflating: mallet-2.0.8/src/cc/mallet/cluster/evaluate/BCubedEvaluator.java  \n",
            "  inflating: mallet-2.0.8/src/cc/mallet/cluster/evaluate/ClusteringEvaluator.java  \n",
            "  inflating: mallet-2.0.8/src/cc/mallet/cluster/evaluate/ClusteringEvaluators.java  \n",
            "  inflating: mallet-2.0.8/src/cc/mallet/cluster/evaluate/MUCEvaluator.java  \n",
            "  inflating: mallet-2.0.8/src/cc/mallet/cluster/evaluate/PairF1Evaluator.java  \n",
            "   creating: mallet-2.0.8/src/cc/mallet/cluster/evaluate/tests/\n",
            "  inflating: mallet-2.0.8/src/cc/mallet/cluster/evaluate/tests/TestClusteringEvaluators.java  \n",
            "   creating: mallet-2.0.8/src/cc/mallet/cluster/examples/\n",
            "  inflating: mallet-2.0.8/src/cc/mallet/cluster/examples/FirstOrderClusterExample.java  \n",
            "  inflating: mallet-2.0.8/src/cc/mallet/cluster/GreedyAgglomerative.java  \n",
            "  inflating: mallet-2.0.8/src/cc/mallet/cluster/GreedyAgglomerativeByDensity.java  \n",
            "  inflating: mallet-2.0.8/src/cc/mallet/cluster/HillClimbingClusterer.java  \n",
            "   creating: mallet-2.0.8/src/cc/mallet/cluster/iterator/\n",
            "  inflating: mallet-2.0.8/src/cc/mallet/cluster/iterator/AllPairsIterator.java  \n",
            "  inflating: mallet-2.0.8/src/cc/mallet/cluster/iterator/ClusterSampleIterator.java  \n",
            "  inflating: mallet-2.0.8/src/cc/mallet/cluster/iterator/NeighborIterator.java  \n",
            "  inflating: mallet-2.0.8/src/cc/mallet/cluster/iterator/NodeClusterSampleIterator.java  \n",
            "  inflating: mallet-2.0.8/src/cc/mallet/cluster/iterator/PairSampleIterator.java  \n",
            "   creating: mallet-2.0.8/src/cc/mallet/cluster/iterator/tests/\n",
            "  inflating: mallet-2.0.8/src/cc/mallet/cluster/iterator/tests/TestIterators.java  \n",
            "  inflating: mallet-2.0.8/src/cc/mallet/cluster/KBestClusterer.java  \n",
            "  inflating: mallet-2.0.8/src/cc/mallet/cluster/KMeans.java  \n",
            "   creating: mallet-2.0.8/src/cc/mallet/cluster/neighbor_evaluator/\n",
            "  inflating: mallet-2.0.8/src/cc/mallet/cluster/neighbor_evaluator/AgglomerativeNeighbor.java  \n",
            "  inflating: mallet-2.0.8/src/cc/mallet/cluster/neighbor_evaluator/ClassifyingNeighborEvaluator.java  \n",
            "  inflating: mallet-2.0.8/src/cc/mallet/cluster/neighbor_evaluator/MedoidEvaluator.java  \n",
            "  inflating: mallet-2.0.8/src/cc/mallet/cluster/neighbor_evaluator/Neighbor.java  \n",
            "  inflating: mallet-2.0.8/src/cc/mallet/cluster/neighbor_evaluator/NeighborEvaluator.java  \n",
            "  inflating: mallet-2.0.8/src/cc/mallet/cluster/neighbor_evaluator/PairwiseEvaluator.java  \n",
            "  inflating: mallet-2.0.8/src/cc/mallet/cluster/neighbor_evaluator/RandomEvaluator.java  \n",
            "  inflating: mallet-2.0.8/src/cc/mallet/cluster/neighbor_evaluator/RankingNeighborEvaluator.java  \n",
            "  inflating: mallet-2.0.8/src/cc/mallet/cluster/package.html  \n",
            "  inflating: mallet-2.0.8/src/cc/mallet/cluster/README  \n",
            "  inflating: mallet-2.0.8/src/cc/mallet/cluster/Record.java  \n",
            "   creating: mallet-2.0.8/src/cc/mallet/cluster/tui/\n",
            "  inflating: mallet-2.0.8/src/cc/mallet/cluster/tui/Clusterings2Clusterer.java  \n",
            "  inflating: mallet-2.0.8/src/cc/mallet/cluster/tui/Clusterings2Clusterings.java  \n",
            "  inflating: mallet-2.0.8/src/cc/mallet/cluster/tui/Clusterings2Info.java  \n",
            "  inflating: mallet-2.0.8/src/cc/mallet/cluster/tui/Text2Clusterings.java  \n",
            "   creating: mallet-2.0.8/src/cc/mallet/cluster/util/\n",
            "  inflating: mallet-2.0.8/src/cc/mallet/cluster/util/ClusterUtils.java  \n",
            "  inflating: mallet-2.0.8/src/cc/mallet/cluster/util/PairwiseMatrix.java  \n",
            "   creating: mallet-2.0.8/src/cc/mallet/examples/\n",
            "  inflating: mallet-2.0.8/src/cc/mallet/examples/TestCRFPipe.java  \n",
            "  inflating: mallet-2.0.8/src/cc/mallet/examples/TopicModel.java  \n",
            "  inflating: mallet-2.0.8/src/cc/mallet/examples/TrainCRF.java  \n",
            "  inflating: mallet-2.0.8/src/cc/mallet/examples/TrainHMM.java  \n",
            "   creating: mallet-2.0.8/src/cc/mallet/extract/\n",
            "  inflating: mallet-2.0.8/src/cc/mallet/extract/AccuracyCoverageEvaluator.java  \n",
            "  inflating: mallet-2.0.8/src/cc/mallet/extract/BIOTokenizationFilter.java  \n",
            "  inflating: mallet-2.0.8/src/cc/mallet/extract/BIOTokenizationFilterWithTokenIndices.java  \n",
            "  inflating: mallet-2.0.8/src/cc/mallet/extract/ConfidenceTokenizationFilter.java  \n",
            "  inflating: mallet-2.0.8/src/cc/mallet/extract/CRFExtractor.java  \n",
            "  inflating: mallet-2.0.8/src/cc/mallet/extract/DefaultTokenizationFilter.java  \n",
            "  inflating: mallet-2.0.8/src/cc/mallet/extract/DocumentExtraction.java  \n",
            "  inflating: mallet-2.0.8/src/cc/mallet/extract/DocumentViewer.java  \n",
            "  inflating: mallet-2.0.8/src/cc/mallet/extract/ExactMatchComparator.java  \n",
            "  inflating: mallet-2.0.8/src/cc/mallet/extract/Extraction.java  \n",
            "  inflating: mallet-2.0.8/src/cc/mallet/extract/ExtractionConfidenceEstimator.java  \n",
            "  inflating: mallet-2.0.8/src/cc/mallet/extract/ExtractionEvaluator.java  \n",
            "  inflating: mallet-2.0.8/src/cc/mallet/extract/Extractor.java  \n",
            "  inflating: mallet-2.0.8/src/cc/mallet/extract/Field.java  \n",
            "  inflating: mallet-2.0.8/src/cc/mallet/extract/FieldCleaner.java  \n",
            "  inflating: mallet-2.0.8/src/cc/mallet/extract/FieldComparator.java  \n",
            "  inflating: mallet-2.0.8/src/cc/mallet/extract/HierarchicalTokenizationFilter.java  \n",
            "  inflating: mallet-2.0.8/src/cc/mallet/extract/LabeledSpan.java  \n",
            "  inflating: mallet-2.0.8/src/cc/mallet/extract/LabeledSpans.java  \n",
            "  inflating: mallet-2.0.8/src/cc/mallet/extract/LatticeViewer.java  \n",
            "  inflating: mallet-2.0.8/src/cc/mallet/extract/package.html  \n",
            "  inflating: mallet-2.0.8/src/cc/mallet/extract/PerDocumentF1Evaluator.java  \n",
            "  inflating: mallet-2.0.8/src/cc/mallet/extract/PerFieldF1Evaluator.java  \n",
            "   creating: mallet-2.0.8/src/cc/mallet/extract/pipe/\n",
            "  inflating: mallet-2.0.8/src/cc/mallet/extract/pipe/TokenSequence2Tokenization.java  \n",
            "  inflating: mallet-2.0.8/src/cc/mallet/extract/PunctuationIgnoringComparator.java  \n",
            "  inflating: mallet-2.0.8/src/cc/mallet/extract/Record.java  \n",
            "  inflating: mallet-2.0.8/src/cc/mallet/extract/RegexFieldCleaner.java  \n",
            "  inflating: mallet-2.0.8/src/cc/mallet/extract/Span.java  \n",
            "  inflating: mallet-2.0.8/src/cc/mallet/extract/StringSpan.java  \n",
            "  inflating: mallet-2.0.8/src/cc/mallet/extract/StringTokenization.java  \n",
            "   creating: mallet-2.0.8/src/cc/mallet/extract/test/\n",
            "  inflating: mallet-2.0.8/src/cc/mallet/extract/test/TestDocumentExtraction.java  \n",
            "  inflating: mallet-2.0.8/src/cc/mallet/extract/test/TestDocumentViewer.java  \n",
            "  inflating: mallet-2.0.8/src/cc/mallet/extract/test/TestLatticeViewer.java  \n",
            "  inflating: mallet-2.0.8/src/cc/mallet/extract/test/TestPerDocumentF1Evaluator.java  \n",
            "  inflating: mallet-2.0.8/src/cc/mallet/extract/Tokenization.java  \n",
            "  inflating: mallet-2.0.8/src/cc/mallet/extract/TokenizationFilter.java  \n",
            "  inflating: mallet-2.0.8/src/cc/mallet/extract/TransducerExtractionConfidenceEstimator.java  \n",
            "   creating: mallet-2.0.8/src/cc/mallet/fst/\n",
            "  inflating: mallet-2.0.8/src/cc/mallet/fst/CacheStaleIndicator.java  \n",
            "   creating: mallet-2.0.8/src/cc/mallet/fst/confidence/\n",
            "  inflating: mallet-2.0.8/src/cc/mallet/fst/confidence/ConfidenceCorrectorEvaluator.java  \n",
            "  inflating: mallet-2.0.8/src/cc/mallet/fst/confidence/ConfidenceEvaluator.java  \n",
            "  inflating: mallet-2.0.8/src/cc/mallet/fst/confidence/ConstrainedForwardBackwardConfidenceEstimator.java  \n",
            "  inflating: mallet-2.0.8/src/cc/mallet/fst/confidence/ConstrainedViterbiTransducerCorrector.java  \n",
            "  inflating: mallet-2.0.8/src/cc/mallet/fst/confidence/GammaAverageConfidenceEstimator.java  \n",
            "  inflating: mallet-2.0.8/src/cc/mallet/fst/confidence/GammaProductConfidenceEstimator.java  \n",
            "  inflating: mallet-2.0.8/src/cc/mallet/fst/confidence/InstanceWithConfidence.java  \n",
            "  inflating: mallet-2.0.8/src/cc/mallet/fst/confidence/IsolatedSegmentTransducerCorrector.java  \n",
            "  inflating: mallet-2.0.8/src/cc/mallet/fst/confidence/MaxEntConfidenceEstimator.java  \n",
            "  inflating: mallet-2.0.8/src/cc/mallet/fst/confidence/MaxEntSequenceConfidenceEstimator.java  \n",
            "  inflating: mallet-2.0.8/src/cc/mallet/fst/confidence/MinSegmentConfidenceEstimator.java  \n",
            "  inflating: mallet-2.0.8/src/cc/mallet/fst/confidence/NBestViterbiConfidenceEstimator.java  \n",
            "  inflating: mallet-2.0.8/src/cc/mallet/fst/confidence/PipedInstanceWithConfidence.java  \n",
            "  inflating: mallet-2.0.8/src/cc/mallet/fst/confidence/QBCSequenceConfidenceEstimator.java  \n",
            "  inflating: mallet-2.0.8/src/cc/mallet/fst/confidence/RandomConfidenceEstimator.java  \n",
            "  inflating: mallet-2.0.8/src/cc/mallet/fst/confidence/RandomSequenceConfidenceEstimator.java  \n",
            "  inflating: mallet-2.0.8/src/cc/mallet/fst/confidence/SegmentProductConfidenceEstimator.java  \n",
            "  inflating: mallet-2.0.8/src/cc/mallet/fst/confidence/SequenceConfidenceInstance.java  \n",
            "  inflating: mallet-2.0.8/src/cc/mallet/fst/confidence/TransducerConfidenceEstimator.java  \n",
            "  inflating: mallet-2.0.8/src/cc/mallet/fst/confidence/TransducerCorrector.java  \n",
            "  inflating: mallet-2.0.8/src/cc/mallet/fst/confidence/TransducerSequenceConfidenceEstimator.java  \n",
            "  inflating: mallet-2.0.8/src/cc/mallet/fst/confidence/ViterbiConfidenceEstimator.java  \n",
            "  inflating: mallet-2.0.8/src/cc/mallet/fst/confidence/ViterbiRatioConfidenceEstimator.java  \n",
            "  inflating: mallet-2.0.8/src/cc/mallet/fst/CRF.java  \n",
            "  inflating: mallet-2.0.8/src/cc/mallet/fst/CRFCacheStaleIndicator.java  \n",
            "  inflating: mallet-2.0.8/src/cc/mallet/fst/CRFOptimizableByBatchLabelLikelihood.java  \n",
            "  inflating: mallet-2.0.8/src/cc/mallet/fst/CRFOptimizableByGradientValues.java  \n",
            "  inflating: mallet-2.0.8/src/cc/mallet/fst/CRFOptimizableByLabelLikelihood.java  \n",
            "  inflating: mallet-2.0.8/src/cc/mallet/fst/CRFTrainerByL1LabelLikelihood.java  \n",
            "  inflating: mallet-2.0.8/src/cc/mallet/fst/CRFTrainerByLabelLikelihood.java  \n",
            "  inflating: mallet-2.0.8/src/cc/mallet/fst/CRFTrainerByStochasticGradient.java  \n",
            "  inflating: mallet-2.0.8/src/cc/mallet/fst/CRFTrainerByThreadedLabelLikelihood.java  \n",
            "  inflating: mallet-2.0.8/src/cc/mallet/fst/CRFTrainerByValueGradients.java  \n",
            "  inflating: mallet-2.0.8/src/cc/mallet/fst/CRFWriter.java  \n",
            "  inflating: mallet-2.0.8/src/cc/mallet/fst/FeatureTransducer.java  \n",
            "  inflating: mallet-2.0.8/src/cc/mallet/fst/HMM.java  \n",
            "  inflating: mallet-2.0.8/src/cc/mallet/fst/HMMTrainerByLikelihood.java  \n",
            "  inflating: mallet-2.0.8/src/cc/mallet/fst/InstanceAccuracyEvaluator.java  \n",
            "  inflating: mallet-2.0.8/src/cc/mallet/fst/LabelDistributionEvaluator.java  \n",
            "  inflating: mallet-2.0.8/src/cc/mallet/fst/MaxLattice.java  \n",
            "  inflating: mallet-2.0.8/src/cc/mallet/fst/MaxLatticeDefault.java  \n",
            "  inflating: mallet-2.0.8/src/cc/mallet/fst/MaxLatticeFactory.java  \n",
            "  inflating: mallet-2.0.8/src/cc/mallet/fst/MEMM.java  \n",
            "  inflating: mallet-2.0.8/src/cc/mallet/fst/MEMMTrainer.java  \n",
            "  inflating: mallet-2.0.8/src/cc/mallet/fst/MultiSegmentationEvaluator.java  \n",
            "  inflating: mallet-2.0.8/src/cc/mallet/fst/NoopTransducerTrainer.java  \n",
            "  inflating: mallet-2.0.8/src/cc/mallet/fst/package.html  \n",
            "  inflating: mallet-2.0.8/src/cc/mallet/fst/PerClassAccuracyEvaluator.java  \n",
            "  inflating: mallet-2.0.8/src/cc/mallet/fst/Segment.java  \n",
            "  inflating: mallet-2.0.8/src/cc/mallet/fst/SegmentationEvaluator.java  \n",
            "   creating: mallet-2.0.8/src/cc/mallet/fst/semi_supervised/\n",
            "   creating: mallet-2.0.8/src/cc/mallet/fst/semi_supervised/constraints/\n",
            "  inflating: mallet-2.0.8/src/cc/mallet/fst/semi_supervised/constraints/GEConstraint.java  \n",
            "  inflating: mallet-2.0.8/src/cc/mallet/fst/semi_supervised/constraints/OneLabelGEConstraints.java  \n",
            "  inflating: mallet-2.0.8/src/cc/mallet/fst/semi_supervised/constraints/OneLabelKLGEConstraints.java  \n",
            "  inflating: mallet-2.0.8/src/cc/mallet/fst/semi_supervised/constraints/OneLabelL2GEConstraints.java  \n",
            "  inflating: mallet-2.0.8/src/cc/mallet/fst/semi_supervised/constraints/OneLabelL2RangeGEConstraints.java  \n",
            "  inflating: mallet-2.0.8/src/cc/mallet/fst/semi_supervised/constraints/SelfTransitionGEConstraint.java  \n",
            "  inflating: mallet-2.0.8/src/cc/mallet/fst/semi_supervised/constraints/TwoLabelGEConstraints.java  \n",
            "  inflating: mallet-2.0.8/src/cc/mallet/fst/semi_supervised/constraints/TwoLabelKLGEConstraints.java  \n",
            "  inflating: mallet-2.0.8/src/cc/mallet/fst/semi_supervised/constraints/TwoLabelL2GEConstraints.java  \n",
            "  inflating: mallet-2.0.8/src/cc/mallet/fst/semi_supervised/CRFOptimizableByEntropyRegularization.java  \n",
            "  inflating: mallet-2.0.8/src/cc/mallet/fst/semi_supervised/CRFOptimizableByGE.java  \n",
            "  inflating: mallet-2.0.8/src/cc/mallet/fst/semi_supervised/CRFTrainerByEntropyRegularization.java  \n",
            "  inflating: mallet-2.0.8/src/cc/mallet/fst/semi_supervised/CRFTrainerByGE.java  \n",
            "  inflating: mallet-2.0.8/src/cc/mallet/fst/semi_supervised/CRFTrainerByLikelihoodAndGE.java  \n",
            "  inflating: mallet-2.0.8/src/cc/mallet/fst/semi_supervised/EntropyLattice.java  \n",
            "  inflating: mallet-2.0.8/src/cc/mallet/fst/semi_supervised/FSTConstraintUtil.java  \n",
            "  inflating: mallet-2.0.8/src/cc/mallet/fst/semi_supervised/GELattice.java  \n",
            "   creating: mallet-2.0.8/src/cc/mallet/fst/semi_supervised/pr/\n",
            "  inflating: mallet-2.0.8/src/cc/mallet/fst/semi_supervised/pr/CachedDotTransitionIterator.java  \n",
            "   creating: mallet-2.0.8/src/cc/mallet/fst/semi_supervised/pr/constraints/\n",
            "  inflating: mallet-2.0.8/src/cc/mallet/fst/semi_supervised/pr/constraints/OneLabelL2IndPRConstraints.java  \n",
            "  inflating: mallet-2.0.8/src/cc/mallet/fst/semi_supervised/pr/constraints/OneLabelL2PRConstraints.java  \n",
            "  inflating: mallet-2.0.8/src/cc/mallet/fst/semi_supervised/pr/constraints/PRConstraint.java  \n",
            "  inflating: mallet-2.0.8/src/cc/mallet/fst/semi_supervised/pr/ConstraintsOptimizableByPR.java  \n",
            "  inflating: mallet-2.0.8/src/cc/mallet/fst/semi_supervised/pr/CRFOptimizableByKL.java  \n",
            "  inflating: mallet-2.0.8/src/cc/mallet/fst/semi_supervised/pr/CRFTrainerByPR.java  \n",
            "  inflating: mallet-2.0.8/src/cc/mallet/fst/semi_supervised/pr/PRAuxiliaryModel.java  \n",
            "  inflating: mallet-2.0.8/src/cc/mallet/fst/semi_supervised/pr/SumLatticeDefaultCachedDot.java  \n",
            "  inflating: mallet-2.0.8/src/cc/mallet/fst/semi_supervised/pr/SumLatticeKL.java  \n",
            "  inflating: mallet-2.0.8/src/cc/mallet/fst/semi_supervised/pr/SumLatticePR.java  \n",
            "  inflating: mallet-2.0.8/src/cc/mallet/fst/semi_supervised/StateLabelMap.java  \n",
            "   creating: mallet-2.0.8/src/cc/mallet/fst/semi_supervised/tui/\n",
            "  inflating: mallet-2.0.8/src/cc/mallet/fst/semi_supervised/tui/SimpleTaggerWithConstraints.java  \n",
            "  inflating: mallet-2.0.8/src/cc/mallet/fst/ShallowTransducerTrainer.java  \n",
            "  inflating: mallet-2.0.8/src/cc/mallet/fst/SimpleTagger.java  \n",
            "  inflating: mallet-2.0.8/src/cc/mallet/fst/SumLattice.java  \n",
            "  inflating: mallet-2.0.8/src/cc/mallet/fst/SumLatticeBeam.java  \n",
            "  inflating: mallet-2.0.8/src/cc/mallet/fst/SumLatticeConstrained.java  \n",
            "  inflating: mallet-2.0.8/src/cc/mallet/fst/SumLatticeDefault.java  \n",
            "  inflating: mallet-2.0.8/src/cc/mallet/fst/SumLatticeFactory.java  \n",
            "  inflating: mallet-2.0.8/src/cc/mallet/fst/SumLatticeScaling.java  \n",
            "   creating: mallet-2.0.8/src/cc/mallet/fst/tests/\n",
            "  inflating: mallet-2.0.8/src/cc/mallet/fst/tests/package.html  \n",
            "  inflating: mallet-2.0.8/src/cc/mallet/fst/tests/TestCRF.java  \n",
            "  inflating: mallet-2.0.8/src/cc/mallet/fst/tests/TestFeatureTransducer.java  \n",
            "  inflating: mallet-2.0.8/src/cc/mallet/fst/tests/TestMEMM.java  \n",
            "  inflating: mallet-2.0.8/src/cc/mallet/fst/tests/TestSumNegLogProb2.java  \n",
            "  inflating: mallet-2.0.8/src/cc/mallet/fst/ThreadedOptimizable.java  \n",
            "  inflating: mallet-2.0.8/src/cc/mallet/fst/TokenAccuracyEvaluator.java  \n",
            "  inflating: mallet-2.0.8/src/cc/mallet/fst/Transducer.java  \n",
            "  inflating: mallet-2.0.8/src/cc/mallet/fst/TransducerEvaluator.java  \n",
            "  inflating: mallet-2.0.8/src/cc/mallet/fst/TransducerTrainer.java  \n",
            "  inflating: mallet-2.0.8/src/cc/mallet/fst/ViterbiWriter.java  \n",
            "   creating: mallet-2.0.8/src/cc/mallet/grmm/\n",
            "   creating: mallet-2.0.8/src/cc/mallet/grmm/examples/\n",
            "  inflating: mallet-2.0.8/src/cc/mallet/grmm/examples/CrossTemplate1.java  \n",
            "  inflating: mallet-2.0.8/src/cc/mallet/grmm/examples/ModelReaderExample.java  \n",
            "  inflating: mallet-2.0.8/src/cc/mallet/grmm/examples/SimpleCrfExample.java  \n",
            "  inflating: mallet-2.0.8/src/cc/mallet/grmm/examples/SimpleFactorExample.java  \n",
            "  inflating: mallet-2.0.8/src/cc/mallet/grmm/examples/SimpleGraphExample.java  \n",
            "   creating: mallet-2.0.8/src/cc/mallet/grmm/inference/\n",
            "  inflating: mallet-2.0.8/src/cc/mallet/grmm/inference/AbstractBeliefPropagation.java  \n",
            "  inflating: mallet-2.0.8/src/cc/mallet/grmm/inference/AbstractInferencer.java  \n",
            "  inflating: mallet-2.0.8/src/cc/mallet/grmm/inference/BruteForceInferencer.java  \n",
            "  inflating: mallet-2.0.8/src/cc/mallet/grmm/inference/ExactSampler.java  \n",
            "   creating: mallet-2.0.8/src/cc/mallet/grmm/inference/gbp/\n",
            "  inflating: mallet-2.0.8/src/cc/mallet/grmm/inference/gbp/AbstractMessageStrategy.java  \n",
            "  inflating: mallet-2.0.8/src/cc/mallet/grmm/inference/gbp/BPRegionGenerator.java  \n",
            "  inflating: mallet-2.0.8/src/cc/mallet/grmm/inference/gbp/ClusterVariationalRegionGenerator.java  \n",
            "  inflating: mallet-2.0.8/src/cc/mallet/grmm/inference/gbp/FactorizedRegion.java  \n",
            "  inflating: mallet-2.0.8/src/cc/mallet/grmm/inference/gbp/FullMessageStrategy.java  \n",
            "  inflating: mallet-2.0.8/src/cc/mallet/grmm/inference/gbp/Kikuchi4SquareRegionGenerator.java  \n",
            "  inflating: mallet-2.0.8/src/cc/mallet/grmm/inference/gbp/MessageArray.java  \n",
            "  inflating: mallet-2.0.8/src/cc/mallet/grmm/inference/gbp/MessageStrategy.java  \n",
            "  inflating: mallet-2.0.8/src/cc/mallet/grmm/inference/gbp/ParentChildGBP.java  \n",
            "  inflating: mallet-2.0.8/src/cc/mallet/grmm/inference/gbp/Region.java  \n",
            "  inflating: mallet-2.0.8/src/cc/mallet/grmm/inference/gbp/RegionEdge.java  \n",
            "  inflating: mallet-2.0.8/src/cc/mallet/grmm/inference/gbp/RegionGraph.java  \n",
            "  inflating: mallet-2.0.8/src/cc/mallet/grmm/inference/gbp/RegionGraphGenerator.java  \n",
            "  inflating: mallet-2.0.8/src/cc/mallet/grmm/inference/gbp/SparseMessageSender.java  \n",
            "  inflating: mallet-2.0.8/src/cc/mallet/grmm/inference/GibbsSampler.java  \n",
            "  inflating: mallet-2.0.8/src/cc/mallet/grmm/inference/Inferencer.java  \n",
            "  inflating: mallet-2.0.8/src/cc/mallet/grmm/inference/JunctionTree.java  \n",
            "  inflating: mallet-2.0.8/src/cc/mallet/grmm/inference/JunctionTreeInferencer.java  \n",
            "  inflating: mallet-2.0.8/src/cc/mallet/grmm/inference/JunctionTreePropagation.java  \n",
            "  inflating: mallet-2.0.8/src/cc/mallet/grmm/inference/LoopyBP.java  \n",
            "  inflating: mallet-2.0.8/src/cc/mallet/grmm/inference/MessageArray.java  \n",
            "  inflating: mallet-2.0.8/src/cc/mallet/grmm/inference/RandomGraphs.java  \n",
            "  inflating: mallet-2.0.8/src/cc/mallet/grmm/inference/ResidualBP.java  \n",
            "  inflating: mallet-2.0.8/src/cc/mallet/grmm/inference/Sampler.java  \n",
            "  inflating: mallet-2.0.8/src/cc/mallet/grmm/inference/SamplingInferencer.java  \n",
            "  inflating: mallet-2.0.8/src/cc/mallet/grmm/inference/TreeBP.java  \n",
            "  inflating: mallet-2.0.8/src/cc/mallet/grmm/inference/TRP.java  \n",
            "  inflating: mallet-2.0.8/src/cc/mallet/grmm/inference/Utils.java  \n",
            "  inflating: mallet-2.0.8/src/cc/mallet/grmm/inference/VariableElimination.java  \n",
            "   creating: mallet-2.0.8/src/cc/mallet/grmm/learning/\n",
            "  inflating: mallet-2.0.8/src/cc/mallet/grmm/learning/ACRF.java  \n",
            "  inflating: mallet-2.0.8/src/cc/mallet/grmm/learning/ACRFEvaluator.java  \n",
            "  inflating: mallet-2.0.8/src/cc/mallet/grmm/learning/AcrfSerialEvaluator.java  \n",
            "  inflating: mallet-2.0.8/src/cc/mallet/grmm/learning/ACRFTrainer.java  \n",
            "  inflating: mallet-2.0.8/src/cc/mallet/grmm/learning/DefaultAcrfTrainer.java  \n",
            "   creating: mallet-2.0.8/src/cc/mallet/grmm/learning/extract/\n",
            "  inflating: mallet-2.0.8/src/cc/mallet/grmm/learning/extract/ACRFExtractor.java  \n",
            "  inflating: mallet-2.0.8/src/cc/mallet/grmm/learning/extract/ACRFExtractorTrainer.java  \n",
            "  inflating: mallet-2.0.8/src/cc/mallet/grmm/learning/extract/AcrfExtractorTui.java  \n",
            "  inflating: mallet-2.0.8/src/cc/mallet/grmm/learning/GenericAcrfData2TokenSequence.java  \n",
            "  inflating: mallet-2.0.8/src/cc/mallet/grmm/learning/GenericAcrfTui.java  \n",
            "  inflating: mallet-2.0.8/src/cc/mallet/grmm/learning/MultiSegmentationEvaluatorACRF.java  \n",
            "  inflating: mallet-2.0.8/src/cc/mallet/grmm/learning/PiecewiseACRFTrainer.java  \n",
            "  inflating: mallet-2.0.8/src/cc/mallet/grmm/learning/PseudolikelihoodACRFTrainer.java  \n",
            "  inflating: mallet-2.0.8/src/cc/mallet/grmm/learning/PwplACRFTrainer.java  \n",
            "   creating: mallet-2.0.8/src/cc/mallet/grmm/learning/templates/\n",
            "  inflating: mallet-2.0.8/src/cc/mallet/grmm/learning/templates/SimilarTokensTemplate.java  \n",
            "   creating: mallet-2.0.8/src/cc/mallet/grmm/test/\n",
            "  inflating: mallet-2.0.8/src/cc/mallet/grmm/test/TestAbstractBeliefPropagation.java  \n",
            "  inflating: mallet-2.0.8/src/cc/mallet/grmm/test/TestAssignment.java  \n",
            "  inflating: mallet-2.0.8/src/cc/mallet/grmm/test/TestAssignmentIterator.java  \n",
            "  inflating: mallet-2.0.8/src/cc/mallet/grmm/test/TestBetaFactor.java  \n",
            "  inflating: mallet-2.0.8/src/cc/mallet/grmm/test/TestBitVarSet.java  \n",
            "  inflating: mallet-2.0.8/src/cc/mallet/grmm/test/TestDirectedModel.java  \n",
            "  inflating: mallet-2.0.8/src/cc/mallet/grmm/test/TestFactorGraph.java  \n",
            "  inflating: mallet-2.0.8/src/cc/mallet/grmm/test/TestFactors.java  \n",
            "  inflating: mallet-2.0.8/src/cc/mallet/grmm/test/TestGenericAcrfData2TokenSequence.java  \n",
            "  inflating: mallet-2.0.8/src/cc/mallet/grmm/test/TestGibbsSampler.java  \n",
            "  inflating: mallet-2.0.8/src/cc/mallet/grmm/test/TestHashClique.java  \n",
            "  inflating: mallet-2.0.8/src/cc/mallet/grmm/test/TestInference.java  \n",
            "  inflating: mallet-2.0.8/src/cc/mallet/grmm/test/TestListVarSet.java  \n",
            "  inflating: mallet-2.0.8/src/cc/mallet/grmm/test/TestLogTableFactor.java  \n",
            "  inflating: mallet-2.0.8/src/cc/mallet/grmm/test/TestMIntInt2ObjectMap.java  \n",
            "  inflating: mallet-2.0.8/src/cc/mallet/grmm/test/TestNormalFactor.java  \n",
            "  inflating: mallet-2.0.8/src/cc/mallet/grmm/test/TestPottsFactor.java  \n",
            "  inflating: mallet-2.0.8/src/cc/mallet/grmm/test/TestRandomGraphs.java  \n",
            "  inflating: mallet-2.0.8/src/cc/mallet/grmm/test/TestTableFactor.java  \n",
            "  inflating: mallet-2.0.8/src/cc/mallet/grmm/test/TestTRP.java  \n",
            "  inflating: mallet-2.0.8/src/cc/mallet/grmm/test/TestUndirectedModel.java  \n",
            "  inflating: mallet-2.0.8/src/cc/mallet/grmm/test/TestUniformFactor.java  \n",
            "  inflating: mallet-2.0.8/src/cc/mallet/grmm/test/TestUniNormalFactor.java  \n",
            "   creating: mallet-2.0.8/src/cc/mallet/grmm/types/\n",
            "  inflating: mallet-2.0.8/src/cc/mallet/grmm/types/AbstractAssignmentIterator.java  \n",
            "  inflating: mallet-2.0.8/src/cc/mallet/grmm/types/AbstractFactor.java  \n",
            "  inflating: mallet-2.0.8/src/cc/mallet/grmm/types/AbstractTableFactor.java  \n",
            "  inflating: mallet-2.0.8/src/cc/mallet/grmm/types/Assignment.java  \n",
            "  inflating: mallet-2.0.8/src/cc/mallet/grmm/types/AssignmentIterator.java  \n",
            "  inflating: mallet-2.0.8/src/cc/mallet/grmm/types/BetaFactor.java  \n",
            "  inflating: mallet-2.0.8/src/cc/mallet/grmm/types/BidirectionalIntObjectMap.java  \n",
            "  inflating: mallet-2.0.8/src/cc/mallet/grmm/types/BinaryUnaryFactor.java  \n",
            "  inflating: mallet-2.0.8/src/cc/mallet/grmm/types/BitVarSet.java  \n",
            "  inflating: mallet-2.0.8/src/cc/mallet/grmm/types/BoltzmannPairFactor.java  \n",
            "  inflating: mallet-2.0.8/src/cc/mallet/grmm/types/BoltzmannUnaryFactor.java  \n",
            "  inflating: mallet-2.0.8/src/cc/mallet/grmm/types/ConstantFactor.java  \n",
            "  inflating: mallet-2.0.8/src/cc/mallet/grmm/types/CPT.java  \n",
            "  inflating: mallet-2.0.8/src/cc/mallet/grmm/types/DenseAssignmentIterator.java  \n",
            "  inflating: mallet-2.0.8/src/cc/mallet/grmm/types/DirectedModel.java  \n",
            "  inflating: mallet-2.0.8/src/cc/mallet/grmm/types/DiscreteFactor.java  \n",
            "  inflating: mallet-2.0.8/src/cc/mallet/grmm/types/Factor.java  \n",
            "  inflating: mallet-2.0.8/src/cc/mallet/grmm/types/FactorGraph.java  \n",
            "  inflating: mallet-2.0.8/src/cc/mallet/grmm/types/Factors.java  \n",
            "  inflating: mallet-2.0.8/src/cc/mallet/grmm/types/HashVarSet.java  \n",
            "  inflating: mallet-2.0.8/src/cc/mallet/grmm/types/ListVarSet.java  \n",
            "  inflating: mallet-2.0.8/src/cc/mallet/grmm/types/LogTableFactor.java  \n",
            "  inflating: mallet-2.0.8/src/cc/mallet/grmm/types/NormalFactor.java  \n",
            "  inflating: mallet-2.0.8/src/cc/mallet/grmm/types/ParameterizedFactor.java  \n",
            "  inflating: mallet-2.0.8/src/cc/mallet/grmm/types/PottsTableFactor.java  \n",
            "  inflating: mallet-2.0.8/src/cc/mallet/grmm/types/SkeletonFactor.java  \n",
            "  inflating: mallet-2.0.8/src/cc/mallet/grmm/types/SparseAssignmentIterator.java  \n",
            "  inflating: mallet-2.0.8/src/cc/mallet/grmm/types/TableFactor.java  \n",
            "  inflating: mallet-2.0.8/src/cc/mallet/grmm/types/Tree.java  \n",
            "  inflating: mallet-2.0.8/src/cc/mallet/grmm/types/UndirectedGrid.java  \n",
            "  inflating: mallet-2.0.8/src/cc/mallet/grmm/types/UndirectedModel.java  \n",
            "  inflating: mallet-2.0.8/src/cc/mallet/grmm/types/UniformFactor.java  \n",
            "  inflating: mallet-2.0.8/src/cc/mallet/grmm/types/UniNormalFactor.java  \n",
            "  inflating: mallet-2.0.8/src/cc/mallet/grmm/types/Universe.java  \n",
            "  inflating: mallet-2.0.8/src/cc/mallet/grmm/types/UnmodifiableVarSet.java  \n",
            "  inflating: mallet-2.0.8/src/cc/mallet/grmm/types/Variable.java  \n",
            "  inflating: mallet-2.0.8/src/cc/mallet/grmm/types/VarSet.java  \n",
            "   creating: mallet-2.0.8/src/cc/mallet/grmm/util/\n",
            "  inflating: mallet-2.0.8/src/cc/mallet/grmm/util/CachingOptimizable.java  \n",
            "  inflating: mallet-2.0.8/src/cc/mallet/grmm/util/CSIntInt2ObjectMultiMap.java  \n",
            "  inflating: mallet-2.0.8/src/cc/mallet/grmm/util/Flops.java  \n",
            "  inflating: mallet-2.0.8/src/cc/mallet/grmm/util/GeneralUtils.java  \n",
            "  inflating: mallet-2.0.8/src/cc/mallet/grmm/util/Graphs.java  \n",
            "  inflating: mallet-2.0.8/src/cc/mallet/grmm/util/LabelsAssignment.java  \n",
            "  inflating: mallet-2.0.8/src/cc/mallet/grmm/util/LabelsSequence2Assignment.java  \n",
            "  inflating: mallet-2.0.8/src/cc/mallet/grmm/util/Matrices.java  \n",
            "  inflating: mallet-2.0.8/src/cc/mallet/grmm/util/MIntInt2ObjectMap.java  \n",
            "  inflating: mallet-2.0.8/src/cc/mallet/grmm/util/ModelReader.java  \n",
            "  inflating: mallet-2.0.8/src/cc/mallet/grmm/util/Models.java  \n",
            "  inflating: mallet-2.0.8/src/cc/mallet/grmm/util/ModelWriter.java  \n",
            "  inflating: mallet-2.0.8/src/cc/mallet/grmm/util/PipedIterator.java  \n",
            "  inflating: mallet-2.0.8/src/cc/mallet/grmm/util/RememberTokenizationPipe.java  \n",
            "  inflating: mallet-2.0.8/src/cc/mallet/grmm/util/SliceLabelsSequence.java  \n",
            "  inflating: mallet-2.0.8/src/cc/mallet/grmm/util/THashMultiMap.java  \n",
            "   creating: mallet-2.0.8/src/cc/mallet/optimize/\n",
            "  inflating: mallet-2.0.8/src/cc/mallet/optimize/AGIS.java  \n",
            "  inflating: mallet-2.0.8/src/cc/mallet/optimize/BackTrackLineSearch.java  \n",
            "  inflating: mallet-2.0.8/src/cc/mallet/optimize/ConjugateGradient.java  \n",
            "  inflating: mallet-2.0.8/src/cc/mallet/optimize/GradientAscent.java  \n",
            "  inflating: mallet-2.0.8/src/cc/mallet/optimize/GradientBracketLineOptimizer.java  \n",
            "  inflating: mallet-2.0.8/src/cc/mallet/optimize/InvalidOptimizableException.java  \n",
            "  inflating: mallet-2.0.8/src/cc/mallet/optimize/LimitedMemoryBFGS.java  \n",
            "  inflating: mallet-2.0.8/src/cc/mallet/optimize/LineOptimizer.java  \n",
            "  inflating: mallet-2.0.8/src/cc/mallet/optimize/Optimizable.java  \n",
            "  inflating: mallet-2.0.8/src/cc/mallet/optimize/OptimizableCollection.java  \n",
            "  inflating: mallet-2.0.8/src/cc/mallet/optimize/OptimizationException.java  \n",
            "  inflating: mallet-2.0.8/src/cc/mallet/optimize/Optimizer.java  \n",
            "  inflating: mallet-2.0.8/src/cc/mallet/optimize/OptimizerEvaluator.java  \n",
            "  inflating: mallet-2.0.8/src/cc/mallet/optimize/OrthantWiseLimitedMemoryBFGS.java  \n",
            "  inflating: mallet-2.0.8/src/cc/mallet/optimize/package.html  \n",
            "  inflating: mallet-2.0.8/src/cc/mallet/optimize/StochasticMetaAscent.java  \n",
            "   creating: mallet-2.0.8/src/cc/mallet/optimize/tests/\n",
            "  inflating: mallet-2.0.8/src/cc/mallet/optimize/tests/package.html  \n",
            "  inflating: mallet-2.0.8/src/cc/mallet/optimize/tests/TestOptimizable.java  \n",
            "  inflating: mallet-2.0.8/src/cc/mallet/optimize/tests/TestOptimizer.java  \n",
            "   creating: mallet-2.0.8/src/cc/mallet/pipe/\n",
            "  inflating: mallet-2.0.8/src/cc/mallet/pipe/AddClassifierTokenPredictions.java  \n",
            "  inflating: mallet-2.0.8/src/cc/mallet/pipe/Array2FeatureVector.java  \n",
            "  inflating: mallet-2.0.8/src/cc/mallet/pipe/AugmentableFeatureVectorAddConjunctions.java  \n",
            "  inflating: mallet-2.0.8/src/cc/mallet/pipe/AugmentableFeatureVectorLogScale.java  \n",
            "  inflating: mallet-2.0.8/src/cc/mallet/pipe/BranchingPipe.java  \n",
            "  inflating: mallet-2.0.8/src/cc/mallet/pipe/CharSequence2CharNGrams.java  \n",
            "  inflating: mallet-2.0.8/src/cc/mallet/pipe/CharSequence2TokenSequence.java  \n",
            "  inflating: mallet-2.0.8/src/cc/mallet/pipe/CharSequenceArray2TokenSequence.java  \n",
            "  inflating: mallet-2.0.8/src/cc/mallet/pipe/CharSequenceLowercase.java  \n",
            "  inflating: mallet-2.0.8/src/cc/mallet/pipe/CharSequenceRemoveHTML.java  \n",
            "  inflating: mallet-2.0.8/src/cc/mallet/pipe/CharSequenceRemoveUUEncodedBlocks.java  \n",
            "  inflating: mallet-2.0.8/src/cc/mallet/pipe/CharSequenceReplace.java  \n",
            "  inflating: mallet-2.0.8/src/cc/mallet/pipe/CharSubsequence.java  \n",
            "  inflating: mallet-2.0.8/src/cc/mallet/pipe/Classification2ConfidencePredictingFeatureVector.java  \n",
            "  inflating: mallet-2.0.8/src/cc/mallet/pipe/Csv2Array.java  \n",
            "  inflating: mallet-2.0.8/src/cc/mallet/pipe/Csv2FeatureVector.java  \n",
            "  inflating: mallet-2.0.8/src/cc/mallet/pipe/Directory2FileIterator.java  \n",
            "  inflating: mallet-2.0.8/src/cc/mallet/pipe/FeatureCountPipe.java  \n",
            "  inflating: mallet-2.0.8/src/cc/mallet/pipe/FeatureDocFreqPipe.java  \n",
            "  inflating: mallet-2.0.8/src/cc/mallet/pipe/FeatureSequence2AugmentableFeatureVector.java  \n",
            "  inflating: mallet-2.0.8/src/cc/mallet/pipe/FeatureSequence2FeatureVector.java  \n",
            "  inflating: mallet-2.0.8/src/cc/mallet/pipe/FeatureSequenceConvolution.java  \n",
            "  inflating: mallet-2.0.8/src/cc/mallet/pipe/FeatureValueString2FeatureVector.java  \n",
            "  inflating: mallet-2.0.8/src/cc/mallet/pipe/FeatureVectorConjunctions.java  \n",
            "  inflating: mallet-2.0.8/src/cc/mallet/pipe/FeatureVectorSequence2FeatureVectors.java  \n",
            "  inflating: mallet-2.0.8/src/cc/mallet/pipe/Filename2CharSequence.java  \n",
            "  inflating: mallet-2.0.8/src/cc/mallet/pipe/FilterEmptyFeatureVectors.java  \n",
            "  inflating: mallet-2.0.8/src/cc/mallet/pipe/FixedVocabTokenizer.java  \n",
            "  inflating: mallet-2.0.8/src/cc/mallet/pipe/HACKING  \n",
            "  inflating: mallet-2.0.8/src/cc/mallet/pipe/Input2CharSequence.java  \n",
            "  inflating: mallet-2.0.8/src/cc/mallet/pipe/InstanceListTrimFeaturesByCount.java  \n",
            "   creating: mallet-2.0.8/src/cc/mallet/pipe/iterator/\n",
            "  inflating: mallet-2.0.8/src/cc/mallet/pipe/iterator/ArrayDataAndTargetIterator.java  \n",
            "  inflating: mallet-2.0.8/src/cc/mallet/pipe/iterator/ArrayIterator.java  \n",
            "  inflating: mallet-2.0.8/src/cc/mallet/pipe/iterator/ConcatenatedInstanceIterator.java  \n",
            "  inflating: mallet-2.0.8/src/cc/mallet/pipe/iterator/CsvIterator.java  \n",
            "  inflating: mallet-2.0.8/src/cc/mallet/pipe/iterator/DBInstanceIterator.java  \n",
            "  inflating: mallet-2.0.8/src/cc/mallet/pipe/iterator/EmptyInstanceIterator.java  \n",
            "  inflating: mallet-2.0.8/src/cc/mallet/pipe/iterator/FileIterator.java  \n",
            "  inflating: mallet-2.0.8/src/cc/mallet/pipe/iterator/FileListIterator.java  \n",
            "  inflating: mallet-2.0.8/src/cc/mallet/pipe/iterator/FileUriIterator.java  \n",
            "  inflating: mallet-2.0.8/src/cc/mallet/pipe/iterator/LineGroupIterator.java  \n",
            "  inflating: mallet-2.0.8/src/cc/mallet/pipe/iterator/LineIterator.java  \n",
            "  inflating: mallet-2.0.8/src/cc/mallet/pipe/iterator/package.html  \n",
            "  inflating: mallet-2.0.8/src/cc/mallet/pipe/iterator/ParenGroupIterator.java  \n",
            "  inflating: mallet-2.0.8/src/cc/mallet/pipe/iterator/PatternMatchIterator.java  \n",
            "  inflating: mallet-2.0.8/src/cc/mallet/pipe/iterator/PipeExtendedIterator.java  \n",
            "  inflating: mallet-2.0.8/src/cc/mallet/pipe/iterator/PipeInputIterator.java  \n",
            "  inflating: mallet-2.0.8/src/cc/mallet/pipe/iterator/RandomFeatureVectorIterator.java  \n",
            "  inflating: mallet-2.0.8/src/cc/mallet/pipe/iterator/RandomTokenSequenceIterator.java  \n",
            "  inflating: mallet-2.0.8/src/cc/mallet/pipe/iterator/SegmentIterator.java  \n",
            "  inflating: mallet-2.0.8/src/cc/mallet/pipe/iterator/SelectiveFileLineIterator.java  \n",
            "  inflating: mallet-2.0.8/src/cc/mallet/pipe/iterator/SimpleFileLineIterator.java  \n",
            "  inflating: mallet-2.0.8/src/cc/mallet/pipe/iterator/StringArrayIterator.java  \n",
            "   creating: mallet-2.0.8/src/cc/mallet/pipe/iterator/tests/\n",
            "  inflating: mallet-2.0.8/src/cc/mallet/pipe/iterator/tests/TestPatternMatchIterator.java  \n",
            "  inflating: mallet-2.0.8/src/cc/mallet/pipe/iterator/UnlabeledFileIterator.java  \n",
            "  inflating: mallet-2.0.8/src/cc/mallet/pipe/LineGroupString2TokenSequence.java  \n",
            "  inflating: mallet-2.0.8/src/cc/mallet/pipe/MakeAmpersandXMLFriendly.java  \n",
            "  inflating: mallet-2.0.8/src/cc/mallet/pipe/NGramPreprocessor.java  \n",
            "  inflating: mallet-2.0.8/src/cc/mallet/pipe/Noop.java  \n",
            "  inflating: mallet-2.0.8/src/cc/mallet/pipe/package.html  \n",
            "  inflating: mallet-2.0.8/src/cc/mallet/pipe/Pipe.java  \n",
            "  inflating: mallet-2.0.8/src/cc/mallet/pipe/PipeException.java  \n",
            "  inflating: mallet-2.0.8/src/cc/mallet/pipe/PipeUtils.java  \n",
            "  inflating: mallet-2.0.8/src/cc/mallet/pipe/PrintInput.java  \n",
            "  inflating: mallet-2.0.8/src/cc/mallet/pipe/PrintInputAndTarget.java  \n",
            "  inflating: mallet-2.0.8/src/cc/mallet/pipe/PrintTokenSequenceFeatures.java  \n",
            "  inflating: mallet-2.0.8/src/cc/mallet/pipe/SaveDataInSource.java  \n",
            "  inflating: mallet-2.0.8/src/cc/mallet/pipe/SelectiveSGML2TokenSequence.java  \n",
            "  inflating: mallet-2.0.8/src/cc/mallet/pipe/SerialPipes.java  \n",
            "  inflating: mallet-2.0.8/src/cc/mallet/pipe/SGML2TokenSequence.java  \n",
            "  inflating: mallet-2.0.8/src/cc/mallet/pipe/SimpleTaggerSentence2StringTokenization.java  \n",
            "  inflating: mallet-2.0.8/src/cc/mallet/pipe/SimpleTaggerSentence2TokenSequence.java  \n",
            "  inflating: mallet-2.0.8/src/cc/mallet/pipe/SimpleTokenizer.java  \n",
            "  inflating: mallet-2.0.8/src/cc/mallet/pipe/SourceLocation2TokenSequence.java  \n",
            "  inflating: mallet-2.0.8/src/cc/mallet/pipe/StringAddNewLineDelimiter.java  \n",
            "  inflating: mallet-2.0.8/src/cc/mallet/pipe/StringList2FeatureSequence.java  \n",
            "  inflating: mallet-2.0.8/src/cc/mallet/pipe/SvmLight2FeatureVectorAndLabel.java  \n",
            "  inflating: mallet-2.0.8/src/cc/mallet/pipe/Target2Double.java  \n",
            "  inflating: mallet-2.0.8/src/cc/mallet/pipe/Target2FeatureSequence.java  \n",
            "  inflating: mallet-2.0.8/src/cc/mallet/pipe/Target2Integer.java  \n",
            "  inflating: mallet-2.0.8/src/cc/mallet/pipe/Target2Label.java  \n",
            "  inflating: mallet-2.0.8/src/cc/mallet/pipe/Target2LabelSequence.java  \n",
            "  inflating: mallet-2.0.8/src/cc/mallet/pipe/TargetRememberLastLabel.java  \n",
            "  inflating: mallet-2.0.8/src/cc/mallet/pipe/TargetStringToFeatures.java  \n",
            "   creating: mallet-2.0.8/src/cc/mallet/pipe/tests/\n",
            "  inflating: mallet-2.0.8/src/cc/mallet/pipe/tests/package.html  \n",
            "  inflating: mallet-2.0.8/src/cc/mallet/pipe/tests/TestInstancePipe.java  \n",
            "  inflating: mallet-2.0.8/src/cc/mallet/pipe/tests/TestIterators.java  \n",
            "  inflating: mallet-2.0.8/src/cc/mallet/pipe/tests/TestPipeUtils.java  \n",
            "  inflating: mallet-2.0.8/src/cc/mallet/pipe/tests/TestRainbowStyle.java  \n",
            "  inflating: mallet-2.0.8/src/cc/mallet/pipe/tests/TestSGML2TokenSequence.java  \n",
            "  inflating: mallet-2.0.8/src/cc/mallet/pipe/tests/TestSpacePipe.java  \n",
            "  inflating: mallet-2.0.8/src/cc/mallet/pipe/Token2FeatureVector.java  \n",
            "  inflating: mallet-2.0.8/src/cc/mallet/pipe/TokenSequence2FeatureSequence.java  \n",
            "  inflating: mallet-2.0.8/src/cc/mallet/pipe/TokenSequence2FeatureSequenceWithBigrams.java  \n",
            "  inflating: mallet-2.0.8/src/cc/mallet/pipe/TokenSequence2FeatureVectorSequence.java  \n",
            "  inflating: mallet-2.0.8/src/cc/mallet/pipe/TokenSequence2TokenInstances.java  \n",
            "  inflating: mallet-2.0.8/src/cc/mallet/pipe/TokenSequenceLowercase.java  \n",
            "  inflating: mallet-2.0.8/src/cc/mallet/pipe/TokenSequenceMatchDataAndTarget.java  \n",
            "  inflating: mallet-2.0.8/src/cc/mallet/pipe/TokenSequenceNGrams.java  \n",
            "  inflating: mallet-2.0.8/src/cc/mallet/pipe/TokenSequenceParseFeatureString.java  \n",
            "  inflating: mallet-2.0.8/src/cc/mallet/pipe/TokenSequenceRemoveNonAlpha.java  \n",
            "  inflating: mallet-2.0.8/src/cc/mallet/pipe/TokenSequenceRemoveStopPatterns.java  \n",
            "  inflating: mallet-2.0.8/src/cc/mallet/pipe/TokenSequenceRemoveStopwords.java  \n",
            "   creating: mallet-2.0.8/src/cc/mallet/pipe/tsf/\n",
            "  inflating: mallet-2.0.8/src/cc/mallet/pipe/tsf/CountMatches.java  \n",
            "  inflating: mallet-2.0.8/src/cc/mallet/pipe/tsf/CountMatchesAlignedWithOffsets.java  \n",
            "  inflating: mallet-2.0.8/src/cc/mallet/pipe/tsf/CountMatchesMatching.java  \n",
            "  inflating: mallet-2.0.8/src/cc/mallet/pipe/tsf/FeaturesInWindow.java  \n",
            "  inflating: mallet-2.0.8/src/cc/mallet/pipe/tsf/FeaturesOfFirstMention.java  \n",
            "  inflating: mallet-2.0.8/src/cc/mallet/pipe/tsf/LexiconMembership.java  \n",
            "  inflating: mallet-2.0.8/src/cc/mallet/pipe/tsf/OffsetConjunctions.java  \n",
            "  inflating: mallet-2.0.8/src/cc/mallet/pipe/tsf/OffsetFeatureConjunction.java  \n",
            "  inflating: mallet-2.0.8/src/cc/mallet/pipe/tsf/OffsetPropertyConjunctions.java  \n",
            "  inflating: mallet-2.0.8/src/cc/mallet/pipe/tsf/package.html  \n",
            "  inflating: mallet-2.0.8/src/cc/mallet/pipe/tsf/RegexMatches.java  \n",
            "  inflating: mallet-2.0.8/src/cc/mallet/pipe/tsf/SequencePrintingPipe.java  \n",
            "  inflating: mallet-2.0.8/src/cc/mallet/pipe/tsf/Target2BIOFormat.java  \n",
            "   creating: mallet-2.0.8/src/cc/mallet/pipe/tsf/tests/\n",
            "  inflating: mallet-2.0.8/src/cc/mallet/pipe/tsf/tests/package.html  \n",
            "  inflating: mallet-2.0.8/src/cc/mallet/pipe/tsf/tests/TestOffsetConjunctions.java  \n",
            "  inflating: mallet-2.0.8/src/cc/mallet/pipe/tsf/tests/TestOffsetFeatureConjunctions.java  \n",
            "  inflating: mallet-2.0.8/src/cc/mallet/pipe/tsf/tests/TestSequencePrintingPipe.java  \n",
            "  inflating: mallet-2.0.8/src/cc/mallet/pipe/tsf/TokenFirstPosition.java  \n",
            "  inflating: mallet-2.0.8/src/cc/mallet/pipe/tsf/TokenText.java  \n",
            "  inflating: mallet-2.0.8/src/cc/mallet/pipe/tsf/TokenTextCharNGrams.java  \n",
            "  inflating: mallet-2.0.8/src/cc/mallet/pipe/tsf/TokenTextCharPrefix.java  \n",
            "  inflating: mallet-2.0.8/src/cc/mallet/pipe/tsf/TokenTextCharSuffix.java  \n",
            "  inflating: mallet-2.0.8/src/cc/mallet/pipe/tsf/TokenTextNGrams.java  \n",
            "  inflating: mallet-2.0.8/src/cc/mallet/pipe/tsf/TrieLexiconMembership.java  \n",
            "  inflating: mallet-2.0.8/src/cc/mallet/pipe/tsf/WordVectors.java  \n",
            "  inflating: mallet-2.0.8/src/cc/mallet/pipe/ValueString2FeatureVector.java  \n",
            "   creating: mallet-2.0.8/src/cc/mallet/regression/\n",
            "  inflating: mallet-2.0.8/src/cc/mallet/regression/CoordinateDescent.java  \n",
            "  inflating: mallet-2.0.8/src/cc/mallet/regression/LeastSquares.java  \n",
            "  inflating: mallet-2.0.8/src/cc/mallet/regression/LinearRegression.java  \n",
            "  inflating: mallet-2.0.8/src/cc/mallet/regression/LinearRegressionTrainer.java  \n",
            "   creating: mallet-2.0.8/src/cc/mallet/regression/tui/\n",
            "  inflating: mallet-2.0.8/src/cc/mallet/regression/tui/Regression.java  \n",
            "  inflating: mallet-2.0.8/src/cc/mallet/regression/tui/RegressionImporter.java  \n",
            "   creating: mallet-2.0.8/src/cc/mallet/share/\n",
            "   creating: mallet-2.0.8/src/cc/mallet/share/casutton/\n",
            "   creating: mallet-2.0.8/src/cc/mallet/share/casutton/ner/\n",
            "  inflating: mallet-2.0.8/src/cc/mallet/share/casutton/ner/ConllNer2003Sentence2TokenSequence.java  \n",
            "   creating: mallet-2.0.8/src/cc/mallet/share/mccallum/\n",
            "   creating: mallet-2.0.8/src/cc/mallet/share/mccallum/ner/\n",
            "  inflating: mallet-2.0.8/src/cc/mallet/share/mccallum/ner/ConllNer2003Sentence2TokenSequence.java  \n",
            "  inflating: mallet-2.0.8/src/cc/mallet/share/mccallum/ner/package.html  \n",
            "  inflating: mallet-2.0.8/src/cc/mallet/share/mccallum/ner/TokenSequenceDocHeader.java  \n",
            "  inflating: mallet-2.0.8/src/cc/mallet/share/mccallum/ner/TUI.java  \n",
            "   creating: mallet-2.0.8/src/cc/mallet/share/upenn/\n",
            "  inflating: mallet-2.0.8/src/cc/mallet/share/upenn/MaxEntShell.java  \n",
            "   creating: mallet-2.0.8/src/cc/mallet/share/upenn/ner/\n",
            "  inflating: mallet-2.0.8/src/cc/mallet/share/upenn/ner/FeatureWindow.java  \n",
            "  inflating: mallet-2.0.8/src/cc/mallet/share/upenn/ner/LengthBins.java  \n",
            "  inflating: mallet-2.0.8/src/cc/mallet/share/upenn/ner/ListMember.java  \n",
            "  inflating: mallet-2.0.8/src/cc/mallet/share/upenn/ner/LongRegexMatches.java  \n",
            "  inflating: mallet-2.0.8/src/cc/mallet/share/upenn/ner/NEPipes.java  \n",
            "  inflating: mallet-2.0.8/src/cc/mallet/share/upenn/package.html  \n",
            "   creating: mallet-2.0.8/src/cc/mallet/share/weili/\n",
            "   creating: mallet-2.0.8/src/cc/mallet/share/weili/ner/\n",
            "   creating: mallet-2.0.8/src/cc/mallet/share/weili/ner/enron/\n",
            "  inflating: mallet-2.0.8/src/cc/mallet/share/weili/ner/enron/EnronMessage2TokenSequence.java  \n",
            "  inflating: mallet-2.0.8/src/cc/mallet/share/weili/ner/enron/TUI.java  \n",
            "  inflating: mallet-2.0.8/src/cc/mallet/share/weili/ner/WordTransformation.java  \n",
            "   creating: mallet-2.0.8/src/cc/mallet/topics/\n",
            "  inflating: mallet-2.0.8/src/cc/mallet/topics/AbstractTopicReports.java  \n",
            "  inflating: mallet-2.0.8/src/cc/mallet/topics/DMROptimizable.java  \n",
            "  inflating: mallet-2.0.8/src/cc/mallet/topics/DMRTopicModel.java  \n",
            "  inflating: mallet-2.0.8/src/cc/mallet/topics/HierarchicalLDA.java  \n",
            "  inflating: mallet-2.0.8/src/cc/mallet/topics/HierarchicalPAM.java  \n",
            "  inflating: mallet-2.0.8/src/cc/mallet/topics/JSONTopicReports.java  \n",
            "  inflating: mallet-2.0.8/src/cc/mallet/topics/LabeledLDA.java  \n",
            "  inflating: mallet-2.0.8/src/cc/mallet/topics/LDA.java  \n",
            "  inflating: mallet-2.0.8/src/cc/mallet/topics/LDAHyper.java  \n",
            "  inflating: mallet-2.0.8/src/cc/mallet/topics/LDAStream.java  \n",
            "  inflating: mallet-2.0.8/src/cc/mallet/topics/MarginalProbEstimator.java  \n",
            "  inflating: mallet-2.0.8/src/cc/mallet/topics/MultinomialHMM.java  \n",
            "  inflating: mallet-2.0.8/src/cc/mallet/topics/NPTopicModel.java  \n",
            "  inflating: mallet-2.0.8/src/cc/mallet/topics/PAM4L.java  \n",
            "  inflating: mallet-2.0.8/src/cc/mallet/topics/ParallelTopicModel.java  \n",
            "  inflating: mallet-2.0.8/src/cc/mallet/topics/PolylingualTopicModel.java  \n",
            "  inflating: mallet-2.0.8/src/cc/mallet/topics/RTopicModel.java  \n",
            "  inflating: mallet-2.0.8/src/cc/mallet/topics/SimpleLDA.java  \n",
            "  inflating: mallet-2.0.8/src/cc/mallet/topics/TopicalNGrams.java  \n",
            "  inflating: mallet-2.0.8/src/cc/mallet/topics/TopicAssignment.java  \n",
            "  inflating: mallet-2.0.8/src/cc/mallet/topics/TopicInferencer.java  \n",
            "  inflating: mallet-2.0.8/src/cc/mallet/topics/TopicModelDiagnostics.java  \n",
            "  inflating: mallet-2.0.8/src/cc/mallet/topics/TopicReports.java  \n",
            "   creating: mallet-2.0.8/src/cc/mallet/topics/tui/\n",
            "  inflating: mallet-2.0.8/src/cc/mallet/topics/tui/DMRLoader.java  \n",
            "  inflating: mallet-2.0.8/src/cc/mallet/topics/tui/EvaluateTopics.java  \n",
            "  inflating: mallet-2.0.8/src/cc/mallet/topics/tui/HierarchicalLDATUI.java  \n",
            "  inflating: mallet-2.0.8/src/cc/mallet/topics/tui/InferTopics.java  \n",
            "  inflating: mallet-2.0.8/src/cc/mallet/topics/tui/TopicTrainer.java  \n",
            "  inflating: mallet-2.0.8/src/cc/mallet/topics/tui/Vectors2Topics.java  \n",
            "  inflating: mallet-2.0.8/src/cc/mallet/topics/WeightedTopicModel.java  \n",
            "  inflating: mallet-2.0.8/src/cc/mallet/topics/WordEmbeddingRunnable.java  \n",
            "  inflating: mallet-2.0.8/src/cc/mallet/topics/WordEmbeddings.java  \n",
            "  inflating: mallet-2.0.8/src/cc/mallet/topics/WorkerRunnable.java  \n",
            "   creating: mallet-2.0.8/src/cc/mallet/types/\n",
            "  inflating: mallet-2.0.8/src/cc/mallet/types/Alphabet.java  \n",
            "  inflating: mallet-2.0.8/src/cc/mallet/types/AlphabetCarrying.java  \n",
            "  inflating: mallet-2.0.8/src/cc/mallet/types/AlphabetFactory.java  \n",
            "  inflating: mallet-2.0.8/src/cc/mallet/types/ArrayListSequence.java  \n",
            "  inflating: mallet-2.0.8/src/cc/mallet/types/ArraySequence.java  \n",
            "  inflating: mallet-2.0.8/src/cc/mallet/types/AugmentableFeatureVector.java  \n",
            "  inflating: mallet-2.0.8/src/cc/mallet/types/BiNormalSeparation.java  \n",
            "  inflating: mallet-2.0.8/src/cc/mallet/types/CachedMetric.java  \n",
            "  inflating: mallet-2.0.8/src/cc/mallet/types/ChainedInstanceIterator.java  \n",
            "  inflating: mallet-2.0.8/src/cc/mallet/types/ConstantMatrix.java  \n",
            "  inflating: mallet-2.0.8/src/cc/mallet/types/CrossValidationIterator.java  \n",
            "  inflating: mallet-2.0.8/src/cc/mallet/types/DenseMatrix.java  \n",
            "  inflating: mallet-2.0.8/src/cc/mallet/types/DenseVector.java  \n",
            "  inflating: mallet-2.0.8/src/cc/mallet/types/Dirichlet.java  \n",
            "  inflating: mallet-2.0.8/src/cc/mallet/types/EuclideanDistance.java  \n",
            "  inflating: mallet-2.0.8/src/cc/mallet/types/ExpGain.java  \n",
            "  inflating: mallet-2.0.8/src/cc/mallet/types/FeatureConjunction.java  \n",
            "  inflating: mallet-2.0.8/src/cc/mallet/types/FeatureCounter.java  \n",
            "  inflating: mallet-2.0.8/src/cc/mallet/types/FeatureCounts.java  \n",
            "  inflating: mallet-2.0.8/src/cc/mallet/types/FeatureInducer.java  \n",
            "  inflating: mallet-2.0.8/src/cc/mallet/types/FeatureSelection.java  \n",
            "  inflating: mallet-2.0.8/src/cc/mallet/types/FeatureSelector.java  \n",
            "  inflating: mallet-2.0.8/src/cc/mallet/types/FeatureSequence.java  \n",
            "  inflating: mallet-2.0.8/src/cc/mallet/types/FeatureSequenceWithBigrams.java  \n",
            "  inflating: mallet-2.0.8/src/cc/mallet/types/FeatureVector.java  \n",
            "  inflating: mallet-2.0.8/src/cc/mallet/types/FeatureVectorSequence.java  \n",
            "  inflating: mallet-2.0.8/src/cc/mallet/types/GainRatio.java  \n",
            "  inflating: mallet-2.0.8/src/cc/mallet/types/GradientGain.java  \n",
            "  inflating: mallet-2.0.8/src/cc/mallet/types/HashedSparseVector.java  \n",
            "  inflating: mallet-2.0.8/src/cc/mallet/types/IDSorter.java  \n",
            "  inflating: mallet-2.0.8/src/cc/mallet/types/IndexedSparseVector.java  \n",
            "  inflating: mallet-2.0.8/src/cc/mallet/types/InfiniteDistance.java  \n",
            "  inflating: mallet-2.0.8/src/cc/mallet/types/InfoGain.java  \n",
            "  inflating: mallet-2.0.8/src/cc/mallet/types/Instance.java  \n",
            "  inflating: mallet-2.0.8/src/cc/mallet/types/InstanceList.java  \n",
            "  inflating: mallet-2.0.8/src/cc/mallet/types/InstanceListTUI.java  \n",
            "  inflating: mallet-2.0.8/src/cc/mallet/types/InvertedIndex.java  \n",
            "  inflating: mallet-2.0.8/src/cc/mallet/types/KLGain.java  \n",
            "  inflating: mallet-2.0.8/src/cc/mallet/types/Label.java  \n",
            "  inflating: mallet-2.0.8/src/cc/mallet/types/LabelAlphabet.java  \n",
            "  inflating: mallet-2.0.8/src/cc/mallet/types/Labeler.java  \n",
            "  inflating: mallet-2.0.8/src/cc/mallet/types/Labeling.java  \n",
            "  inflating: mallet-2.0.8/src/cc/mallet/types/Labelings.java  \n",
            "  inflating: mallet-2.0.8/src/cc/mallet/types/Labels.java  \n",
            "  inflating: mallet-2.0.8/src/cc/mallet/types/LabelSequence.java  \n",
            "  inflating: mallet-2.0.8/src/cc/mallet/types/LabelsSequence.java  \n",
            "  inflating: mallet-2.0.8/src/cc/mallet/types/LabelVector.java  \n",
            "  inflating: mallet-2.0.8/src/cc/mallet/types/LogNumber.java  \n",
            "  inflating: mallet-2.0.8/src/cc/mallet/types/ManhattenDistance.java  \n",
            "  inflating: mallet-2.0.8/src/cc/mallet/types/Matrix.java  \n",
            "  inflating: mallet-2.0.8/src/cc/mallet/types/Matrix2.java  \n",
            "  inflating: mallet-2.0.8/src/cc/mallet/types/Matrixn.java  \n",
            "  inflating: mallet-2.0.8/src/cc/mallet/types/MatrixOps.java  \n",
            "  inflating: mallet-2.0.8/src/cc/mallet/types/Metric.java  \n",
            "  inflating: mallet-2.0.8/src/cc/mallet/types/Minkowski.java  \n",
            "  inflating: mallet-2.0.8/src/cc/mallet/types/MultiInstanceList.java  \n",
            "  inflating: mallet-2.0.8/src/cc/mallet/types/Multinomial.java  \n",
            "  inflating: mallet-2.0.8/src/cc/mallet/types/NormalizedDotProductMetric.java  \n",
            "  inflating: mallet-2.0.8/src/cc/mallet/types/NullLabel.java  \n",
            "  inflating: mallet-2.0.8/src/cc/mallet/types/package.html  \n",
            "  inflating: mallet-2.0.8/src/cc/mallet/types/PagedInstanceList.java  \n",
            "  inflating: mallet-2.0.8/src/cc/mallet/types/PartiallyRankedFeatureVector.java  \n",
            "  inflating: mallet-2.0.8/src/cc/mallet/types/PerLabelFeatureCounts.java  \n",
            "  inflating: mallet-2.0.8/src/cc/mallet/types/PerLabelInfoGain.java  \n",
            "  inflating: mallet-2.0.8/src/cc/mallet/types/PropertyHolder.java  \n",
            "  inflating: mallet-2.0.8/src/cc/mallet/types/RankedFeatureVector.java  \n",
            "  inflating: mallet-2.0.8/src/cc/mallet/types/ROCData.java  \n",
            "  inflating: mallet-2.0.8/src/cc/mallet/types/Sequence.java  \n",
            "  inflating: mallet-2.0.8/src/cc/mallet/types/SequencePair.java  \n",
            "  inflating: mallet-2.0.8/src/cc/mallet/types/SequencePairAlignment.java  \n",
            "  inflating: mallet-2.0.8/src/cc/mallet/types/SingleInstanceIterator.java  \n",
            "  inflating: mallet-2.0.8/src/cc/mallet/types/SparseMatrixn.java  \n",
            "  inflating: mallet-2.0.8/src/cc/mallet/types/SparseVector.java  \n",
            "  inflating: mallet-2.0.8/src/cc/mallet/types/StringEditFeatureVectorSequence.java  \n",
            "  inflating: mallet-2.0.8/src/cc/mallet/types/StringEditVector.java  \n",
            "  inflating: mallet-2.0.8/src/cc/mallet/types/StringKernel.java  \n",
            "   creating: mallet-2.0.8/src/cc/mallet/types/tests/\n",
            "  inflating: mallet-2.0.8/src/cc/mallet/types/tests/package.html  \n",
            "  inflating: mallet-2.0.8/src/cc/mallet/types/tests/TestAlphabet.java  \n",
            "  inflating: mallet-2.0.8/src/cc/mallet/types/tests/TestAugmentableFeatureVector.java  \n",
            "  inflating: mallet-2.0.8/src/cc/mallet/types/tests/TestBiNormalSeparation.java  \n",
            "  inflating: mallet-2.0.8/src/cc/mallet/types/tests/TestFeatureSequence.java  \n",
            "  inflating: mallet-2.0.8/src/cc/mallet/types/tests/TestFeatureVector.java  \n",
            "  inflating: mallet-2.0.8/src/cc/mallet/types/tests/TestHashedSparseVector.java  \n",
            "  inflating: mallet-2.0.8/src/cc/mallet/types/tests/TestIndexedSparseVector.java  \n",
            "  inflating: mallet-2.0.8/src/cc/mallet/types/tests/TestInstanceListWeights.java  \n",
            "  inflating: mallet-2.0.8/src/cc/mallet/types/tests/TestLabelAlphabet.java  \n",
            "  inflating: mallet-2.0.8/src/cc/mallet/types/tests/TestLabelsSequence.java  \n",
            "  inflating: mallet-2.0.8/src/cc/mallet/types/tests/TestLabelVector.java  \n",
            "  inflating: mallet-2.0.8/src/cc/mallet/types/tests/TestMatrix.java  \n",
            "  inflating: mallet-2.0.8/src/cc/mallet/types/tests/TestMatrixn.java  \n",
            "  inflating: mallet-2.0.8/src/cc/mallet/types/tests/TestMultinomial.java  \n",
            "  inflating: mallet-2.0.8/src/cc/mallet/types/tests/TestPagedInstanceList.java  \n",
            "  inflating: mallet-2.0.8/src/cc/mallet/types/tests/TestRankedFeatureVector.java  \n",
            "  inflating: mallet-2.0.8/src/cc/mallet/types/tests/TestSerializable.java  \n",
            "  inflating: mallet-2.0.8/src/cc/mallet/types/tests/TestSparseMatrixn.java  \n",
            "  inflating: mallet-2.0.8/src/cc/mallet/types/tests/TestSparseVector.java  \n",
            "  inflating: mallet-2.0.8/src/cc/mallet/types/tests/TestToken.java  \n",
            "  inflating: mallet-2.0.8/src/cc/mallet/types/Token.java  \n",
            "  inflating: mallet-2.0.8/src/cc/mallet/types/TokenSequence.java  \n",
            "  inflating: mallet-2.0.8/src/cc/mallet/types/Vector.java  \n",
            "   creating: mallet-2.0.8/src/cc/mallet/util/\n",
            "  inflating: mallet-2.0.8/src/cc/mallet/util/Addable.java  \n",
            "  inflating: mallet-2.0.8/src/cc/mallet/util/ArrayListUtils.java  \n",
            "  inflating: mallet-2.0.8/src/cc/mallet/util/ArrayUtils.java  \n",
            "  inflating: mallet-2.0.8/src/cc/mallet/util/BshInterpreter.java  \n",
            "  inflating: mallet-2.0.8/src/cc/mallet/util/BulkLoader.java  \n",
            "  inflating: mallet-2.0.8/src/cc/mallet/util/CharSequenceLexer.java  \n",
            "  inflating: mallet-2.0.8/src/cc/mallet/util/CollectionUtils.java  \n",
            "  inflating: mallet-2.0.8/src/cc/mallet/util/ColorUtils.java  \n",
            "  inflating: mallet-2.0.8/src/cc/mallet/util/CommandOption.java  \n",
            "  inflating: mallet-2.0.8/src/cc/mallet/util/DBBulkLoader.java  \n",
            "  inflating: mallet-2.0.8/src/cc/mallet/util/DBInstanceStore.java  \n",
            "  inflating: mallet-2.0.8/src/cc/mallet/util/DirectoryFilter.java  \n",
            "  inflating: mallet-2.0.8/src/cc/mallet/util/DocumentLengths.java  \n",
            "  inflating: mallet-2.0.8/src/cc/mallet/util/DoubleList.java  \n",
            "  inflating: mallet-2.0.8/src/cc/mallet/util/FeatureCooccurrenceCounter.java  \n",
            "  inflating: mallet-2.0.8/src/cc/mallet/util/FeatureCountTool.java  \n",
            "  inflating: mallet-2.0.8/src/cc/mallet/util/FileUtils.java  \n",
            "  inflating: mallet-2.0.8/src/cc/mallet/util/InstanceListPrinter.java  \n",
            "  inflating: mallet-2.0.8/src/cc/mallet/util/IoUtils.java  \n",
            "  inflating: mallet-2.0.8/src/cc/mallet/util/Lexer.java  \n",
            "  inflating: mallet-2.0.8/src/cc/mallet/util/MalletLogger.java  \n",
            "  inflating: mallet-2.0.8/src/cc/mallet/util/MalletProgressMessageLogger.java  \n",
            "  inflating: mallet-2.0.8/src/cc/mallet/util/Maths.java  \n",
            "  inflating: mallet-2.0.8/src/cc/mallet/util/MVNormal.java  \n",
            "  inflating: mallet-2.0.8/src/cc/mallet/util/package.html  \n",
            "  inflating: mallet-2.0.8/src/cc/mallet/util/PlainLogFormatter.java  \n",
            "  inflating: mallet-2.0.8/src/cc/mallet/util/PrintUtilities.java  \n",
            "  inflating: mallet-2.0.8/src/cc/mallet/util/ProgressMessageLogFormatter.java  \n",
            "  inflating: mallet-2.0.8/src/cc/mallet/util/ProgressMessageLogRecord.java  \n",
            "  inflating: mallet-2.0.8/src/cc/mallet/util/PropertyList.java  \n",
            "  inflating: mallet-2.0.8/src/cc/mallet/util/Randoms.java  \n",
            "  inflating: mallet-2.0.8/src/cc/mallet/util/RegexFileFilter.java  \n",
            "  inflating: mallet-2.0.8/src/cc/mallet/util/Replacement.java  \n",
            "  inflating: mallet-2.0.8/src/cc/mallet/util/Replacer.java  \n",
            "   creating: mallet-2.0.8/src/cc/mallet/util/resources/\n",
            "  inflating: mallet-2.0.8/src/cc/mallet/util/resources/logging.properties  \n",
            "   creating: mallet-2.0.8/src/cc/mallet/util/resources/wn/\n",
            "  inflating: mallet-2.0.8/src/cc/mallet/util/resources/wn/database_properties.xml  \n",
            "  inflating: mallet-2.0.8/src/cc/mallet/util/resources/wn/Examples.java  \n",
            "  inflating: mallet-2.0.8/src/cc/mallet/util/resources/wn/file_properties.xml  \n",
            "  inflating: mallet-2.0.8/src/cc/mallet/util/resources/wn/jwnl-properties.xml  \n",
            "  inflating: mallet-2.0.8/src/cc/mallet/util/resources/wn/jwnl_properties.dtd  \n",
            "  inflating: mallet-2.0.8/src/cc/mallet/util/resources/wn/jwnl_properties.xsd  \n",
            "  inflating: mallet-2.0.8/src/cc/mallet/util/resources/wn/map_properties.xml  \n",
            "  inflating: mallet-2.0.8/src/cc/mallet/util/resources/wn/README  \n",
            "   creating: mallet-2.0.8/src/cc/mallet/util/search/\n",
            "  inflating: mallet-2.0.8/src/cc/mallet/util/search/AStar.java  \n",
            "  inflating: mallet-2.0.8/src/cc/mallet/util/search/AStarNode.java  \n",
            "  inflating: mallet-2.0.8/src/cc/mallet/util/search/AStarState.java  \n",
            "  inflating: mallet-2.0.8/src/cc/mallet/util/search/MinHeap.java  \n",
            "  inflating: mallet-2.0.8/src/cc/mallet/util/search/PriorityQueue.java  \n",
            "  inflating: mallet-2.0.8/src/cc/mallet/util/search/QueueElement.java  \n",
            "  inflating: mallet-2.0.8/src/cc/mallet/util/search/SearchNode.java  \n",
            "  inflating: mallet-2.0.8/src/cc/mallet/util/search/SearchState.java  \n",
            "  inflating: mallet-2.0.8/src/cc/mallet/util/Sequences.java  \n",
            "  inflating: mallet-2.0.8/src/cc/mallet/util/StatFunctions.java  \n",
            "  inflating: mallet-2.0.8/src/cc/mallet/util/Strings.java  \n",
            "   creating: mallet-2.0.8/src/cc/mallet/util/tests/\n",
            "  inflating: mallet-2.0.8/src/cc/mallet/util/tests/package.html  \n",
            "  inflating: mallet-2.0.8/src/cc/mallet/util/tests/TestAStar.java  \n",
            "  inflating: mallet-2.0.8/src/cc/mallet/util/tests/TestMaths.java  \n",
            "  inflating: mallet-2.0.8/src/cc/mallet/util/tests/TestPriorityQueue.java  \n",
            "  inflating: mallet-2.0.8/src/cc/mallet/util/tests/TestPropertyList.java  \n",
            "  inflating: mallet-2.0.8/src/cc/mallet/util/tests/TestRandom.java  \n",
            "  inflating: mallet-2.0.8/src/cc/mallet/util/tests/TestStrings.java  \n",
            "  inflating: mallet-2.0.8/src/cc/mallet/util/Timing.java  \n",
            "  inflating: mallet-2.0.8/src/cc/mallet/util/Univariate.java  \n",
            "  inflating: mallet-2.0.8/src/cc/mallet/util/UriUtils.java  \n",
            "  inflating: mallet-2.0.8/src/cc/mallet/util/VectorStats.java  \n",
            "   creating: mallet-2.0.8/stoplists/\n",
            "  inflating: mallet-2.0.8/stoplists/de.txt  \n",
            "  inflating: mallet-2.0.8/stoplists/en.txt  \n",
            "  inflating: mallet-2.0.8/stoplists/fi.txt  \n",
            "  inflating: mallet-2.0.8/stoplists/fr.txt  \n",
            "  inflating: mallet-2.0.8/stoplists/jp.txt  \n",
            "  inflating: mallet-2.0.8/stoplists/README  \n",
            "   creating: mallet-2.0.8/test/\n"
          ],
          "name": "stdout"
        }
      ]
    },
    {
      "cell_type": "code",
      "metadata": {
        "id": "Qq3bqwzuUvPF",
        "outputId": "2a482561-9aab-4b15-c0e2-f59a1531bbaa",
        "colab": {
          "base_uri": "https://localhost:8080/",
          "height": 521
        }
      },
      "source": [
        "!pip install pyLDAvis"
      ],
      "execution_count": 14,
      "outputs": [
        {
          "output_type": "stream",
          "text": [
            "Collecting pyLDAvis\n",
            "\u001b[?25l  Downloading https://files.pythonhosted.org/packages/a5/3a/af82e070a8a96e13217c8f362f9a73e82d61ac8fff3a2561946a97f96266/pyLDAvis-2.1.2.tar.gz (1.6MB)\n",
            "\u001b[K     |████████████████████████████████| 1.6MB 3.3MB/s \n",
            "\u001b[?25hRequirement already satisfied: wheel>=0.23.0 in /usr/local/lib/python3.6/dist-packages (from pyLDAvis) (0.35.1)\n",
            "Requirement already satisfied: numpy>=1.9.2 in /usr/local/lib/python3.6/dist-packages (from pyLDAvis) (1.18.5)\n",
            "Requirement already satisfied: scipy>=0.18.0 in /usr/local/lib/python3.6/dist-packages (from pyLDAvis) (1.4.1)\n",
            "Requirement already satisfied: pandas>=0.17.0 in /usr/local/lib/python3.6/dist-packages (from pyLDAvis) (1.1.2)\n",
            "Requirement already satisfied: joblib>=0.8.4 in /usr/local/lib/python3.6/dist-packages (from pyLDAvis) (0.16.0)\n",
            "Requirement already satisfied: jinja2>=2.7.2 in /usr/local/lib/python3.6/dist-packages (from pyLDAvis) (2.11.2)\n",
            "Requirement already satisfied: numexpr in /usr/local/lib/python3.6/dist-packages (from pyLDAvis) (2.7.1)\n",
            "Requirement already satisfied: pytest in /usr/local/lib/python3.6/dist-packages (from pyLDAvis) (3.6.4)\n",
            "Requirement already satisfied: future in /usr/local/lib/python3.6/dist-packages (from pyLDAvis) (0.16.0)\n",
            "Collecting funcy\n",
            "  Downloading https://files.pythonhosted.org/packages/66/89/479de0afbbfb98d1c4b887936808764627300208bb771fcd823403645a36/funcy-1.15-py2.py3-none-any.whl\n",
            "Requirement already satisfied: pytz>=2017.2 in /usr/local/lib/python3.6/dist-packages (from pandas>=0.17.0->pyLDAvis) (2018.9)\n",
            "Requirement already satisfied: python-dateutil>=2.7.3 in /usr/local/lib/python3.6/dist-packages (from pandas>=0.17.0->pyLDAvis) (2.8.1)\n",
            "Requirement already satisfied: MarkupSafe>=0.23 in /usr/local/lib/python3.6/dist-packages (from jinja2>=2.7.2->pyLDAvis) (1.1.1)\n",
            "Requirement already satisfied: six>=1.10.0 in /usr/local/lib/python3.6/dist-packages (from pytest->pyLDAvis) (1.15.0)\n",
            "Requirement already satisfied: attrs>=17.4.0 in /usr/local/lib/python3.6/dist-packages (from pytest->pyLDAvis) (20.2.0)\n",
            "Requirement already satisfied: setuptools in /usr/local/lib/python3.6/dist-packages (from pytest->pyLDAvis) (50.3.0)\n",
            "Requirement already satisfied: pluggy<0.8,>=0.5 in /usr/local/lib/python3.6/dist-packages (from pytest->pyLDAvis) (0.7.1)\n",
            "Requirement already satisfied: more-itertools>=4.0.0 in /usr/local/lib/python3.6/dist-packages (from pytest->pyLDAvis) (8.5.0)\n",
            "Requirement already satisfied: py>=1.5.0 in /usr/local/lib/python3.6/dist-packages (from pytest->pyLDAvis) (1.9.0)\n",
            "Requirement already satisfied: atomicwrites>=1.0 in /usr/local/lib/python3.6/dist-packages (from pytest->pyLDAvis) (1.4.0)\n",
            "Building wheels for collected packages: pyLDAvis\n",
            "  Building wheel for pyLDAvis (setup.py) ... \u001b[?25l\u001b[?25hdone\n",
            "  Created wheel for pyLDAvis: filename=pyLDAvis-2.1.2-py2.py3-none-any.whl size=97712 sha256=37c08034855e308db6157ffb4cf003f0110d0878e376730eac5496227efecc8e\n",
            "  Stored in directory: /root/.cache/pip/wheels/98/71/24/513a99e58bb6b8465bae4d2d5e9dba8f0bef8179e3051ac414\n",
            "Successfully built pyLDAvis\n",
            "Installing collected packages: funcy, pyLDAvis\n",
            "Successfully installed funcy-1.15 pyLDAvis-2.1.2\n"
          ],
          "name": "stdout"
        }
      ]
    },
    {
      "cell_type": "code",
      "metadata": {
        "id": "bK33yJLU6xAm",
        "outputId": "3815d1e4-7229-40af-b11e-8e8919edbdc1",
        "colab": {
          "base_uri": "https://localhost:8080/",
          "height": 50
        }
      },
      "source": [
        "import pandas as pd\n",
        "import email\n",
        "import re\n",
        "\n",
        "import datetime as DT\n",
        "from datetime import datetime\n",
        "\n",
        "import nltk\n",
        "from nltk import word_tokenize\n",
        "from nltk.corpus import stopwords\n",
        "from nltk.stem.porter import PorterStemmer\n",
        "from nltk.sentiment.vader import SentimentIntensityAnalyzer\n",
        "\n",
        "from wordcloud import WordCloud, STOPWORDS\n",
        "\n",
        "import gensim\n",
        "import gensim.corpora as corpora\n",
        "from gensim.models import CoherenceModel\n",
        "from gensim.utils import simple_preprocess\n",
        "from gensim.models.phrases import Phrases, Phraser\n",
        "\n",
        "import spacy\n",
        "\n",
        "import pyLDAvis\n",
        "import pyLDAvis.gensim\n",
        "import matplotlib.pyplot as plt\n",
        "\n",
        "import warnings\n",
        "warnings.filterwarnings(\"ignore\")\n"
      ],
      "execution_count": 15,
      "outputs": [
        {
          "output_type": "stream",
          "text": [
            "/usr/local/lib/python3.6/dist-packages/nltk/twitter/__init__.py:20: UserWarning: The twython library has not been installed. Some functionality from the twitter package will not be available.\n",
            "  warnings.warn(\"The twython library has not been installed. \"\n"
          ],
          "name": "stderr"
        }
      ]
    },
    {
      "cell_type": "code",
      "metadata": {
        "id": "HxnLzjix7Chs"
      },
      "source": [
        "df = pd.read_csv('emails.csv')"
      ],
      "execution_count": 16,
      "outputs": []
    },
    {
      "cell_type": "code",
      "metadata": {
        "id": "QT8lIY4G9TEM",
        "outputId": "7b675522-8796-4c31-fe52-c13493fe0fa5",
        "colab": {
          "base_uri": "https://localhost:8080/",
          "height": 191
        }
      },
      "source": [
        "df.head()"
      ],
      "execution_count": 17,
      "outputs": [
        {
          "output_type": "execute_result",
          "data": {
            "text/html": [
              "<div>\n",
              "<style scoped>\n",
              "    .dataframe tbody tr th:only-of-type {\n",
              "        vertical-align: middle;\n",
              "    }\n",
              "\n",
              "    .dataframe tbody tr th {\n",
              "        vertical-align: top;\n",
              "    }\n",
              "\n",
              "    .dataframe thead th {\n",
              "        text-align: right;\n",
              "    }\n",
              "</style>\n",
              "<table border=\"1\" class=\"dataframe\">\n",
              "  <thead>\n",
              "    <tr style=\"text-align: right;\">\n",
              "      <th></th>\n",
              "      <th>file</th>\n",
              "      <th>message</th>\n",
              "    </tr>\n",
              "  </thead>\n",
              "  <tbody>\n",
              "    <tr>\n",
              "      <th>0</th>\n",
              "      <td>allen-p/_sent_mail/1.</td>\n",
              "      <td>Message-ID: &lt;18782981.1075855378110.JavaMail.e...</td>\n",
              "    </tr>\n",
              "    <tr>\n",
              "      <th>1</th>\n",
              "      <td>allen-p/_sent_mail/10.</td>\n",
              "      <td>Message-ID: &lt;15464986.1075855378456.JavaMail.e...</td>\n",
              "    </tr>\n",
              "    <tr>\n",
              "      <th>2</th>\n",
              "      <td>allen-p/_sent_mail/100.</td>\n",
              "      <td>Message-ID: &lt;24216240.1075855687451.JavaMail.e...</td>\n",
              "    </tr>\n",
              "    <tr>\n",
              "      <th>3</th>\n",
              "      <td>allen-p/_sent_mail/1000.</td>\n",
              "      <td>Message-ID: &lt;13505866.1075863688222.JavaMail.e...</td>\n",
              "    </tr>\n",
              "    <tr>\n",
              "      <th>4</th>\n",
              "      <td>allen-p/_sent_mail/1001.</td>\n",
              "      <td>Message-ID: &lt;30922949.1075863688243.JavaMail.e...</td>\n",
              "    </tr>\n",
              "  </tbody>\n",
              "</table>\n",
              "</div>"
            ],
            "text/plain": [
              "                       file                                            message\n",
              "0     allen-p/_sent_mail/1.  Message-ID: <18782981.1075855378110.JavaMail.e...\n",
              "1    allen-p/_sent_mail/10.  Message-ID: <15464986.1075855378456.JavaMail.e...\n",
              "2   allen-p/_sent_mail/100.  Message-ID: <24216240.1075855687451.JavaMail.e...\n",
              "3  allen-p/_sent_mail/1000.  Message-ID: <13505866.1075863688222.JavaMail.e...\n",
              "4  allen-p/_sent_mail/1001.  Message-ID: <30922949.1075863688243.JavaMail.e..."
            ]
          },
          "metadata": {
            "tags": []
          },
          "execution_count": 17
        }
      ]
    },
    {
      "cell_type": "code",
      "metadata": {
        "id": "ANoUF5HV7LIl",
        "outputId": "563629c5-ec43-4318-adc8-12f3572b8a54",
        "colab": {
          "base_uri": "https://localhost:8080/",
          "height": 33
        }
      },
      "source": [
        "df.shape"
      ],
      "execution_count": 18,
      "outputs": [
        {
          "output_type": "execute_result",
          "data": {
            "text/plain": [
              "(517401, 2)"
            ]
          },
          "metadata": {
            "tags": []
          },
          "execution_count": 18
        }
      ]
    },
    {
      "cell_type": "code",
      "metadata": {
        "id": "cknpNmG99mRq",
        "outputId": "24c21ef4-6a9d-4fe2-c852-ca9a8f3f31e6",
        "colab": {
          "base_uri": "https://localhost:8080/",
          "height": 391
        }
      },
      "source": [
        "print(df['message'][153])"
      ],
      "execution_count": 19,
      "outputs": [
        {
          "output_type": "stream",
          "text": [
            "Message-ID: <5063236.1075855690328.JavaMail.evans@thyme>\n",
            "Date: Thu, 6 Jul 2000 09:38:00 -0700 (PDT)\n",
            "From: phillip.allen@enron.com\n",
            "To: tim.belden@enron.com\n",
            "Subject: Re: Thoughts on Presentation\n",
            "Mime-Version: 1.0\n",
            "Content-Type: text/plain; charset=us-ascii\n",
            "Content-Transfer-Encoding: 7bit\n",
            "X-From: Phillip K Allen\n",
            "X-To: Tim Belden\n",
            "X-cc: \n",
            "X-bcc: \n",
            "X-Folder: \\Phillip_Allen_Dec2000\\Notes Folders\\'sent mail\n",
            "X-Origin: Allen-P\n",
            "X-FileName: pallen.nsf\n",
            "\n",
            "Tim,\n",
            " Matt sent you a email with his attempt to organize some of the cems and wscc \n",
            "data.  Tim H. expressed concern over the reliability of the wscc data.  I \n",
            "don't know if we should scrap the wscc or just keep monitoring in case it \n",
            "improves.  Let me know what you think.\n",
            "\n",
            "Phillip\n"
          ],
          "name": "stdout"
        }
      ]
    },
    {
      "cell_type": "code",
      "metadata": {
        "id": "SFWZ9CwU94vI"
      },
      "source": [
        "def get_text_from_email(msg):\n",
        "    '''To get the content from email objects'''\n",
        "    texts = []\n",
        "    for txt in msg.walk():\n",
        "        if txt.get_content_type() == 'text/plain':\n",
        "            texts.append( txt.get_payload() )\n",
        "    return ''.join(texts)\n",
        "\n",
        "def split_email_addresses(line):\n",
        "    '''To separate multiple email addresses'''\n",
        "    if line:\n",
        "        addr = line.split(',')\n",
        "        addr = list(frozenset(map(lambda x: x.strip(), addr)))\n",
        "    else:\n",
        "        addr = None\n",
        "    return addr"
      ],
      "execution_count": 20,
      "outputs": []
    },
    {
      "cell_type": "code",
      "metadata": {
        "id": "oHIRR8Y49v8H"
      },
      "source": [
        "# Parse the emails into a list email objects\n",
        "messages = list(map(email.message_from_string, df['message']))\n",
        "df.drop('message', axis=1, inplace=True)\n",
        "# Get fields from parsed email objects\n",
        "keys = messages[0].keys()\n",
        "for key in keys:\n",
        "    df[key] = [doc[key] for doc in messages]\n",
        "# Parse content from emails\n",
        "df['Content'] = list(map(get_text_from_email, messages))\n",
        "# Split multiple email addresses\n",
        "df['From'] = df['From'].map(split_email_addresses)\n",
        "df['To'] = df['To'].map(split_email_addresses)\n",
        "\n",
        "# Extract the root of 'file' as 'user'\n",
        "df['User'] = df['file'].map(lambda x:x.split('/')[0])\n",
        "del messages"
      ],
      "execution_count": 21,
      "outputs": []
    },
    {
      "cell_type": "code",
      "metadata": {
        "id": "qdiS1_C3tuKe",
        "outputId": "550e1887-3761-4444-89f9-8d6ac8ea9ca9",
        "colab": {
          "base_uri": "https://localhost:8080/",
          "height": 650
        }
      },
      "source": [
        "df.head()"
      ],
      "execution_count": 22,
      "outputs": [
        {
          "output_type": "execute_result",
          "data": {
            "text/html": [
              "<div>\n",
              "<style scoped>\n",
              "    .dataframe tbody tr th:only-of-type {\n",
              "        vertical-align: middle;\n",
              "    }\n",
              "\n",
              "    .dataframe tbody tr th {\n",
              "        vertical-align: top;\n",
              "    }\n",
              "\n",
              "    .dataframe thead th {\n",
              "        text-align: right;\n",
              "    }\n",
              "</style>\n",
              "<table border=\"1\" class=\"dataframe\">\n",
              "  <thead>\n",
              "    <tr style=\"text-align: right;\">\n",
              "      <th></th>\n",
              "      <th>file</th>\n",
              "      <th>Message-ID</th>\n",
              "      <th>Date</th>\n",
              "      <th>From</th>\n",
              "      <th>To</th>\n",
              "      <th>Subject</th>\n",
              "      <th>Mime-Version</th>\n",
              "      <th>Content-Type</th>\n",
              "      <th>Content-Transfer-Encoding</th>\n",
              "      <th>X-From</th>\n",
              "      <th>X-To</th>\n",
              "      <th>X-cc</th>\n",
              "      <th>X-bcc</th>\n",
              "      <th>X-Folder</th>\n",
              "      <th>X-Origin</th>\n",
              "      <th>X-FileName</th>\n",
              "      <th>Content</th>\n",
              "      <th>User</th>\n",
              "    </tr>\n",
              "  </thead>\n",
              "  <tbody>\n",
              "    <tr>\n",
              "      <th>0</th>\n",
              "      <td>allen-p/_sent_mail/1.</td>\n",
              "      <td>&lt;18782981.1075855378110.JavaMail.evans@thyme&gt;</td>\n",
              "      <td>Mon, 14 May 2001 16:39:00 -0700 (PDT)</td>\n",
              "      <td>[phillip.allen@enron.com]</td>\n",
              "      <td>[tim.belden@enron.com]</td>\n",
              "      <td></td>\n",
              "      <td>1.0</td>\n",
              "      <td>text/plain; charset=us-ascii</td>\n",
              "      <td>7bit</td>\n",
              "      <td>Phillip K Allen</td>\n",
              "      <td>Tim Belden &lt;Tim Belden/Enron@EnronXGate&gt;</td>\n",
              "      <td></td>\n",
              "      <td></td>\n",
              "      <td>\\Phillip_Allen_Jan2002_1\\Allen, Phillip K.\\'Se...</td>\n",
              "      <td>Allen-P</td>\n",
              "      <td>pallen (Non-Privileged).pst</td>\n",
              "      <td>Here is our forecast\\n\\n</td>\n",
              "      <td>allen-p</td>\n",
              "    </tr>\n",
              "    <tr>\n",
              "      <th>1</th>\n",
              "      <td>allen-p/_sent_mail/10.</td>\n",
              "      <td>&lt;15464986.1075855378456.JavaMail.evans@thyme&gt;</td>\n",
              "      <td>Fri, 4 May 2001 13:51:00 -0700 (PDT)</td>\n",
              "      <td>[phillip.allen@enron.com]</td>\n",
              "      <td>[john.lavorato@enron.com]</td>\n",
              "      <td>Re:</td>\n",
              "      <td>1.0</td>\n",
              "      <td>text/plain; charset=us-ascii</td>\n",
              "      <td>7bit</td>\n",
              "      <td>Phillip K Allen</td>\n",
              "      <td>John J Lavorato &lt;John J Lavorato/ENRON@enronXg...</td>\n",
              "      <td></td>\n",
              "      <td></td>\n",
              "      <td>\\Phillip_Allen_Jan2002_1\\Allen, Phillip K.\\'Se...</td>\n",
              "      <td>Allen-P</td>\n",
              "      <td>pallen (Non-Privileged).pst</td>\n",
              "      <td>Traveling to have a business meeting takes the...</td>\n",
              "      <td>allen-p</td>\n",
              "    </tr>\n",
              "    <tr>\n",
              "      <th>2</th>\n",
              "      <td>allen-p/_sent_mail/100.</td>\n",
              "      <td>&lt;24216240.1075855687451.JavaMail.evans@thyme&gt;</td>\n",
              "      <td>Wed, 18 Oct 2000 03:00:00 -0700 (PDT)</td>\n",
              "      <td>[phillip.allen@enron.com]</td>\n",
              "      <td>[leah.arsdall@enron.com]</td>\n",
              "      <td>Re: test</td>\n",
              "      <td>1.0</td>\n",
              "      <td>text/plain; charset=us-ascii</td>\n",
              "      <td>7bit</td>\n",
              "      <td>Phillip K Allen</td>\n",
              "      <td>Leah Van Arsdall</td>\n",
              "      <td></td>\n",
              "      <td></td>\n",
              "      <td>\\Phillip_Allen_Dec2000\\Notes Folders\\'sent mail</td>\n",
              "      <td>Allen-P</td>\n",
              "      <td>pallen.nsf</td>\n",
              "      <td>test successful.  way to go!!!</td>\n",
              "      <td>allen-p</td>\n",
              "    </tr>\n",
              "    <tr>\n",
              "      <th>3</th>\n",
              "      <td>allen-p/_sent_mail/1000.</td>\n",
              "      <td>&lt;13505866.1075863688222.JavaMail.evans@thyme&gt;</td>\n",
              "      <td>Mon, 23 Oct 2000 06:13:00 -0700 (PDT)</td>\n",
              "      <td>[phillip.allen@enron.com]</td>\n",
              "      <td>[randall.gay@enron.com]</td>\n",
              "      <td></td>\n",
              "      <td>1.0</td>\n",
              "      <td>text/plain; charset=us-ascii</td>\n",
              "      <td>7bit</td>\n",
              "      <td>Phillip K Allen</td>\n",
              "      <td>Randall L Gay</td>\n",
              "      <td></td>\n",
              "      <td></td>\n",
              "      <td>\\Phillip_Allen_Dec2000\\Notes Folders\\'sent mail</td>\n",
              "      <td>Allen-P</td>\n",
              "      <td>pallen.nsf</td>\n",
              "      <td>Randy,\\n\\n Can you send me a schedule of the s...</td>\n",
              "      <td>allen-p</td>\n",
              "    </tr>\n",
              "    <tr>\n",
              "      <th>4</th>\n",
              "      <td>allen-p/_sent_mail/1001.</td>\n",
              "      <td>&lt;30922949.1075863688243.JavaMail.evans@thyme&gt;</td>\n",
              "      <td>Thu, 31 Aug 2000 05:07:00 -0700 (PDT)</td>\n",
              "      <td>[phillip.allen@enron.com]</td>\n",
              "      <td>[greg.piper@enron.com]</td>\n",
              "      <td>Re: Hello</td>\n",
              "      <td>1.0</td>\n",
              "      <td>text/plain; charset=us-ascii</td>\n",
              "      <td>7bit</td>\n",
              "      <td>Phillip K Allen</td>\n",
              "      <td>Greg Piper</td>\n",
              "      <td></td>\n",
              "      <td></td>\n",
              "      <td>\\Phillip_Allen_Dec2000\\Notes Folders\\'sent mail</td>\n",
              "      <td>Allen-P</td>\n",
              "      <td>pallen.nsf</td>\n",
              "      <td>Let's shoot for Tuesday at 11:45.</td>\n",
              "      <td>allen-p</td>\n",
              "    </tr>\n",
              "  </tbody>\n",
              "</table>\n",
              "</div>"
            ],
            "text/plain": [
              "                       file  ...     User\n",
              "0     allen-p/_sent_mail/1.  ...  allen-p\n",
              "1    allen-p/_sent_mail/10.  ...  allen-p\n",
              "2   allen-p/_sent_mail/100.  ...  allen-p\n",
              "3  allen-p/_sent_mail/1000.  ...  allen-p\n",
              "4  allen-p/_sent_mail/1001.  ...  allen-p\n",
              "\n",
              "[5 rows x 18 columns]"
            ]
          },
          "metadata": {
            "tags": []
          },
          "execution_count": 22
        }
      ]
    },
    {
      "cell_type": "code",
      "metadata": {
        "id": "02bwXJEe98-i",
        "outputId": "05e7099e-4f3c-43a2-e352-35786b0faab2",
        "colab": {
          "base_uri": "https://localhost:8080/",
          "height": 326
        }
      },
      "source": [
        "print('Shape of the dataframe:', df.shape)\n",
        "\n",
        "# Find number of unique values in each columns\n",
        "for col in df.columns:\n",
        "    print(col, df[col].nunique())"
      ],
      "execution_count": null,
      "outputs": [
        {
          "output_type": "stream",
          "text": [
            "Shape of the dataframe: (517401, 18)\n",
            "file 517401\n",
            "Message-ID 517401\n",
            "Date 224128\n",
            "From 20328\n",
            "To 54748\n",
            "Subject 159290\n",
            "Mime-Version 1\n",
            "Content-Type 2\n",
            "Content-Transfer-Encoding 3\n",
            "X-From 27980\n",
            "X-To 73552\n",
            "X-cc 33701\n",
            "X-bcc 132\n",
            "X-Folder 5335\n",
            "X-Origin 259\n",
            "X-FileName 429\n",
            "Content 249025\n",
            "User 150\n"
          ],
          "name": "stdout"
        }
      ]
    },
    {
      "cell_type": "code",
      "metadata": {
        "id": "mdecrKgC_K5S",
        "outputId": "94ff24db-03a5-43ff-d2ff-1e5291634fa8",
        "colab": {
          "base_uri": "https://localhost:8080/",
          "height": 326
        }
      },
      "source": [
        "df.dtypes"
      ],
      "execution_count": 23,
      "outputs": [
        {
          "output_type": "execute_result",
          "data": {
            "text/plain": [
              "file                         object\n",
              "Message-ID                   object\n",
              "Date                         object\n",
              "From                         object\n",
              "To                           object\n",
              "Subject                      object\n",
              "Mime-Version                 object\n",
              "Content-Type                 object\n",
              "Content-Transfer-Encoding    object\n",
              "X-From                       object\n",
              "X-To                         object\n",
              "X-cc                         object\n",
              "X-bcc                        object\n",
              "X-Folder                     object\n",
              "X-Origin                     object\n",
              "X-FileName                   object\n",
              "Content                      object\n",
              "User                         object\n",
              "dtype: object"
            ]
          },
          "metadata": {
            "tags": []
          },
          "execution_count": 23
        }
      ]
    },
    {
      "cell_type": "code",
      "metadata": {
        "id": "DzG3VBqw_jX7"
      },
      "source": [
        "# Set index and drop columns with two few values\n",
        "df = df.set_index('Message-ID').drop(['Mime-Version', 'Content-Type', 'Content-Transfer-Encoding'], axis=1)"
      ],
      "execution_count": 24,
      "outputs": []
    },
    {
      "cell_type": "code",
      "metadata": {
        "id": "7n0bmSCd_nn3"
      },
      "source": [
        "df['Date'] = pd.to_datetime(df['Date'], infer_datetime_format=True)"
      ],
      "execution_count": 25,
      "outputs": []
    },
    {
      "cell_type": "code",
      "metadata": {
        "id": "UPuPmCOd_wxR",
        "outputId": "6d30baf3-89e8-4973-8f1f-38b4e5888562",
        "colab": {
          "base_uri": "https://localhost:8080/",
          "height": 261
        }
      },
      "source": [
        "df.dtypes"
      ],
      "execution_count": 26,
      "outputs": [
        {
          "output_type": "execute_result",
          "data": {
            "text/plain": [
              "file          object\n",
              "Date          object\n",
              "From          object\n",
              "To            object\n",
              "Subject       object\n",
              "X-From        object\n",
              "X-To          object\n",
              "X-cc          object\n",
              "X-bcc         object\n",
              "X-Folder      object\n",
              "X-Origin      object\n",
              "X-FileName    object\n",
              "Content       object\n",
              "User          object\n",
              "dtype: object"
            ]
          },
          "metadata": {
            "tags": []
          },
          "execution_count": 26
        }
      ]
    },
    {
      "cell_type": "code",
      "metadata": {
        "id": "02XHpAGrAega",
        "outputId": "a752e75a-7255-4088-eed9-47e53df55619",
        "colab": {
          "base_uri": "https://localhost:8080/",
          "height": 943
        }
      },
      "source": [
        "df"
      ],
      "execution_count": 27,
      "outputs": [
        {
          "output_type": "execute_result",
          "data": {
            "text/html": [
              "<div>\n",
              "<style scoped>\n",
              "    .dataframe tbody tr th:only-of-type {\n",
              "        vertical-align: middle;\n",
              "    }\n",
              "\n",
              "    .dataframe tbody tr th {\n",
              "        vertical-align: top;\n",
              "    }\n",
              "\n",
              "    .dataframe thead th {\n",
              "        text-align: right;\n",
              "    }\n",
              "</style>\n",
              "<table border=\"1\" class=\"dataframe\">\n",
              "  <thead>\n",
              "    <tr style=\"text-align: right;\">\n",
              "      <th></th>\n",
              "      <th>file</th>\n",
              "      <th>Date</th>\n",
              "      <th>From</th>\n",
              "      <th>To</th>\n",
              "      <th>Subject</th>\n",
              "      <th>X-From</th>\n",
              "      <th>X-To</th>\n",
              "      <th>X-cc</th>\n",
              "      <th>X-bcc</th>\n",
              "      <th>X-Folder</th>\n",
              "      <th>X-Origin</th>\n",
              "      <th>X-FileName</th>\n",
              "      <th>Content</th>\n",
              "      <th>User</th>\n",
              "    </tr>\n",
              "    <tr>\n",
              "      <th>Message-ID</th>\n",
              "      <th></th>\n",
              "      <th></th>\n",
              "      <th></th>\n",
              "      <th></th>\n",
              "      <th></th>\n",
              "      <th></th>\n",
              "      <th></th>\n",
              "      <th></th>\n",
              "      <th></th>\n",
              "      <th></th>\n",
              "      <th></th>\n",
              "      <th></th>\n",
              "      <th></th>\n",
              "      <th></th>\n",
              "    </tr>\n",
              "  </thead>\n",
              "  <tbody>\n",
              "    <tr>\n",
              "      <th>&lt;18782981.1075855378110.JavaMail.evans@thyme&gt;</th>\n",
              "      <td>allen-p/_sent_mail/1.</td>\n",
              "      <td>2001-05-14 16:39:00-07:00</td>\n",
              "      <td>[phillip.allen@enron.com]</td>\n",
              "      <td>[tim.belden@enron.com]</td>\n",
              "      <td></td>\n",
              "      <td>Phillip K Allen</td>\n",
              "      <td>Tim Belden &lt;Tim Belden/Enron@EnronXGate&gt;</td>\n",
              "      <td></td>\n",
              "      <td></td>\n",
              "      <td>\\Phillip_Allen_Jan2002_1\\Allen, Phillip K.\\'Se...</td>\n",
              "      <td>Allen-P</td>\n",
              "      <td>pallen (Non-Privileged).pst</td>\n",
              "      <td>Here is our forecast\\n\\n</td>\n",
              "      <td>allen-p</td>\n",
              "    </tr>\n",
              "    <tr>\n",
              "      <th>&lt;15464986.1075855378456.JavaMail.evans@thyme&gt;</th>\n",
              "      <td>allen-p/_sent_mail/10.</td>\n",
              "      <td>2001-05-04 13:51:00-07:00</td>\n",
              "      <td>[phillip.allen@enron.com]</td>\n",
              "      <td>[john.lavorato@enron.com]</td>\n",
              "      <td>Re:</td>\n",
              "      <td>Phillip K Allen</td>\n",
              "      <td>John J Lavorato &lt;John J Lavorato/ENRON@enronXg...</td>\n",
              "      <td></td>\n",
              "      <td></td>\n",
              "      <td>\\Phillip_Allen_Jan2002_1\\Allen, Phillip K.\\'Se...</td>\n",
              "      <td>Allen-P</td>\n",
              "      <td>pallen (Non-Privileged).pst</td>\n",
              "      <td>Traveling to have a business meeting takes the...</td>\n",
              "      <td>allen-p</td>\n",
              "    </tr>\n",
              "    <tr>\n",
              "      <th>&lt;24216240.1075855687451.JavaMail.evans@thyme&gt;</th>\n",
              "      <td>allen-p/_sent_mail/100.</td>\n",
              "      <td>2000-10-18 03:00:00-07:00</td>\n",
              "      <td>[phillip.allen@enron.com]</td>\n",
              "      <td>[leah.arsdall@enron.com]</td>\n",
              "      <td>Re: test</td>\n",
              "      <td>Phillip K Allen</td>\n",
              "      <td>Leah Van Arsdall</td>\n",
              "      <td></td>\n",
              "      <td></td>\n",
              "      <td>\\Phillip_Allen_Dec2000\\Notes Folders\\'sent mail</td>\n",
              "      <td>Allen-P</td>\n",
              "      <td>pallen.nsf</td>\n",
              "      <td>test successful.  way to go!!!</td>\n",
              "      <td>allen-p</td>\n",
              "    </tr>\n",
              "    <tr>\n",
              "      <th>&lt;13505866.1075863688222.JavaMail.evans@thyme&gt;</th>\n",
              "      <td>allen-p/_sent_mail/1000.</td>\n",
              "      <td>2000-10-23 06:13:00-07:00</td>\n",
              "      <td>[phillip.allen@enron.com]</td>\n",
              "      <td>[randall.gay@enron.com]</td>\n",
              "      <td></td>\n",
              "      <td>Phillip K Allen</td>\n",
              "      <td>Randall L Gay</td>\n",
              "      <td></td>\n",
              "      <td></td>\n",
              "      <td>\\Phillip_Allen_Dec2000\\Notes Folders\\'sent mail</td>\n",
              "      <td>Allen-P</td>\n",
              "      <td>pallen.nsf</td>\n",
              "      <td>Randy,\\n\\n Can you send me a schedule of the s...</td>\n",
              "      <td>allen-p</td>\n",
              "    </tr>\n",
              "    <tr>\n",
              "      <th>&lt;30922949.1075863688243.JavaMail.evans@thyme&gt;</th>\n",
              "      <td>allen-p/_sent_mail/1001.</td>\n",
              "      <td>2000-08-31 05:07:00-07:00</td>\n",
              "      <td>[phillip.allen@enron.com]</td>\n",
              "      <td>[greg.piper@enron.com]</td>\n",
              "      <td>Re: Hello</td>\n",
              "      <td>Phillip K Allen</td>\n",
              "      <td>Greg Piper</td>\n",
              "      <td></td>\n",
              "      <td></td>\n",
              "      <td>\\Phillip_Allen_Dec2000\\Notes Folders\\'sent mail</td>\n",
              "      <td>Allen-P</td>\n",
              "      <td>pallen.nsf</td>\n",
              "      <td>Let's shoot for Tuesday at 11:45.</td>\n",
              "      <td>allen-p</td>\n",
              "    </tr>\n",
              "    <tr>\n",
              "      <th>...</th>\n",
              "      <td>...</td>\n",
              "      <td>...</td>\n",
              "      <td>...</td>\n",
              "      <td>...</td>\n",
              "      <td>...</td>\n",
              "      <td>...</td>\n",
              "      <td>...</td>\n",
              "      <td>...</td>\n",
              "      <td>...</td>\n",
              "      <td>...</td>\n",
              "      <td>...</td>\n",
              "      <td>...</td>\n",
              "      <td>...</td>\n",
              "      <td>...</td>\n",
              "    </tr>\n",
              "    <tr>\n",
              "      <th>&lt;26807948.1075842029936.JavaMail.evans@thyme&gt;</th>\n",
              "      <td>zufferli-j/sent_items/95.</td>\n",
              "      <td>2001-11-28 13:30:11-08:00</td>\n",
              "      <td>[john.zufferli@enron.com]</td>\n",
              "      <td>[kori.loibl@enron.com]</td>\n",
              "      <td>Trade with John Lavorato</td>\n",
              "      <td>Zufferli, John &lt;/O=ENRON/OU=NA/CN=RECIPIENTS/C...</td>\n",
              "      <td>Loibl, Kori &lt;/O=ENRON/OU=NA/CN=RECIPIENTS/CN=K...</td>\n",
              "      <td></td>\n",
              "      <td></td>\n",
              "      <td>\\ExMerge - Zufferli, John\\Sent Items</td>\n",
              "      <td>ZUFFERLI-J</td>\n",
              "      <td>john zufferli 6-26-02.PST</td>\n",
              "      <td>This is a trade with OIL-SPEC-HEDGE-NG (John L...</td>\n",
              "      <td>zufferli-j</td>\n",
              "    </tr>\n",
              "    <tr>\n",
              "      <th>&lt;25835861.1075842029959.JavaMail.evans@thyme&gt;</th>\n",
              "      <td>zufferli-j/sent_items/96.</td>\n",
              "      <td>2001-11-28 12:47:48-08:00</td>\n",
              "      <td>[john.zufferli@enron.com]</td>\n",
              "      <td>[john.lavorato@enron.com]</td>\n",
              "      <td>Gas Hedges</td>\n",
              "      <td>Zufferli, John &lt;/O=ENRON/OU=NA/CN=RECIPIENTS/C...</td>\n",
              "      <td>Lavorato, John &lt;/O=ENRON/OU=NA/CN=RECIPIENTS/C...</td>\n",
              "      <td></td>\n",
              "      <td></td>\n",
              "      <td>\\ExMerge - Zufferli, John\\Sent Items</td>\n",
              "      <td>ZUFFERLI-J</td>\n",
              "      <td>john zufferli 6-26-02.PST</td>\n",
              "      <td>Some of my position is with the Alberta Term b...</td>\n",
              "      <td>zufferli-j</td>\n",
              "    </tr>\n",
              "    <tr>\n",
              "      <th>&lt;28979867.1075842029988.JavaMail.evans@thyme&gt;</th>\n",
              "      <td>zufferli-j/sent_items/97.</td>\n",
              "      <td>2001-11-28 07:20:00-08:00</td>\n",
              "      <td>[john.zufferli@enron.com]</td>\n",
              "      <td>[dawn.doucet@enron.com]</td>\n",
              "      <td>RE: CONFIDENTIAL</td>\n",
              "      <td>Zufferli, John &lt;/O=ENRON/OU=NA/CN=RECIPIENTS/C...</td>\n",
              "      <td>Doucet, Dawn &lt;/O=ENRON/OU=NA/CN=RECIPIENTS/CN=...</td>\n",
              "      <td></td>\n",
              "      <td></td>\n",
              "      <td>\\ExMerge - Zufferli, John\\Sent Items</td>\n",
              "      <td>ZUFFERLI-J</td>\n",
              "      <td>john zufferli 6-26-02.PST</td>\n",
              "      <td>2\\n\\n -----Original Message-----\\nFrom: \\tDouc...</td>\n",
              "      <td>zufferli-j</td>\n",
              "    </tr>\n",
              "    <tr>\n",
              "      <th>&lt;22052556.1075842030013.JavaMail.evans@thyme&gt;</th>\n",
              "      <td>zufferli-j/sent_items/98.</td>\n",
              "      <td>2001-11-27 11:52:45-08:00</td>\n",
              "      <td>[john.zufferli@enron.com]</td>\n",
              "      <td>[jeanie.slone@enron.com]</td>\n",
              "      <td>Calgary Analyst/Associate</td>\n",
              "      <td>Zufferli, John &lt;/O=ENRON/OU=NA/CN=RECIPIENTS/C...</td>\n",
              "      <td>Slone, Jeanie &lt;/O=ENRON/OU=NA/CN=RECIPIENTS/CN...</td>\n",
              "      <td></td>\n",
              "      <td></td>\n",
              "      <td>\\ExMerge - Zufferli, John\\Sent Items</td>\n",
              "      <td>ZUFFERLI-J</td>\n",
              "      <td>john zufferli 6-26-02.PST</td>\n",
              "      <td>Analyst\\t\\t\\t\\t\\tRank\\n\\nStephane Brodeur\\t\\t\\...</td>\n",
              "      <td>zufferli-j</td>\n",
              "    </tr>\n",
              "    <tr>\n",
              "      <th>&lt;28618979.1075842030037.JavaMail.evans@thyme&gt;</th>\n",
              "      <td>zufferli-j/sent_items/99.</td>\n",
              "      <td>2001-11-26 10:48:43-08:00</td>\n",
              "      <td>[john.zufferli@enron.com]</td>\n",
              "      <td>[livia_zufferli@monitor.com]</td>\n",
              "      <td>RE: ali's essays</td>\n",
              "      <td>Zufferli, John &lt;/O=ENRON/OU=NA/CN=RECIPIENTS/C...</td>\n",
              "      <td>'Livia_Zufferli@Monitor.com@ENRON'</td>\n",
              "      <td></td>\n",
              "      <td></td>\n",
              "      <td>\\ExMerge - Zufferli, John\\Sent Items</td>\n",
              "      <td>ZUFFERLI-J</td>\n",
              "      <td>john zufferli 6-26-02.PST</td>\n",
              "      <td>i think the YMCA has a class that is for peopl...</td>\n",
              "      <td>zufferli-j</td>\n",
              "    </tr>\n",
              "  </tbody>\n",
              "</table>\n",
              "<p>517401 rows × 14 columns</p>\n",
              "</div>"
            ],
            "text/plain": [
              "                                                                    file  ...        User\n",
              "Message-ID                                                                ...            \n",
              "<18782981.1075855378110.JavaMail.evans@thyme>      allen-p/_sent_mail/1.  ...     allen-p\n",
              "<15464986.1075855378456.JavaMail.evans@thyme>     allen-p/_sent_mail/10.  ...     allen-p\n",
              "<24216240.1075855687451.JavaMail.evans@thyme>    allen-p/_sent_mail/100.  ...     allen-p\n",
              "<13505866.1075863688222.JavaMail.evans@thyme>   allen-p/_sent_mail/1000.  ...     allen-p\n",
              "<30922949.1075863688243.JavaMail.evans@thyme>   allen-p/_sent_mail/1001.  ...     allen-p\n",
              "...                                                                  ...  ...         ...\n",
              "<26807948.1075842029936.JavaMail.evans@thyme>  zufferli-j/sent_items/95.  ...  zufferli-j\n",
              "<25835861.1075842029959.JavaMail.evans@thyme>  zufferli-j/sent_items/96.  ...  zufferli-j\n",
              "<28979867.1075842029988.JavaMail.evans@thyme>  zufferli-j/sent_items/97.  ...  zufferli-j\n",
              "<22052556.1075842030013.JavaMail.evans@thyme>  zufferli-j/sent_items/98.  ...  zufferli-j\n",
              "<28618979.1075842030037.JavaMail.evans@thyme>  zufferli-j/sent_items/99.  ...  zufferli-j\n",
              "\n",
              "[517401 rows x 14 columns]"
            ]
          },
          "metadata": {
            "tags": []
          },
          "execution_count": 27
        }
      ]
    },
    {
      "cell_type": "code",
      "metadata": {
        "id": "4mtu5H1IAiY6",
        "outputId": "c37936d5-2ad9-460d-daf6-f9b8b039f51c",
        "colab": {
          "base_uri": "https://localhost:8080/",
          "height": 303
        }
      },
      "source": [
        "ax = df.groupby(df['Date'].dt.year)['Content'].count().plot()\n",
        "ax.set_xlabel('Year', fontsize=18)\n",
        "ax.set_ylabel('Emails', fontsize=18)"
      ],
      "execution_count": null,
      "outputs": [
        {
          "output_type": "execute_result",
          "data": {
            "text/plain": [
              "Text(0, 0.5, 'Emails')"
            ]
          },
          "metadata": {
            "tags": []
          },
          "execution_count": 33
        },
        {
          "output_type": "display_data",
          "data": {
            "image/png": "[encoded data removed]",
            "text/plain": [
              "<Figure size 432x288 with 1 Axes>"
            ]
          },
          "metadata": {
            "tags": [],
            "needs_background": "light"
          }
        }
      ]
    },
    {
      "cell_type": "code",
      "metadata": {
        "id": "T9a4WYUpAotl",
        "outputId": "10033b8e-35e3-4aa4-9f9e-d7db01841643",
        "colab": {
          "base_uri": "https://localhost:8080/",
          "height": 303
        }
      },
      "source": [
        "ax = df.groupby(df['Date'].dt.dayofweek)['Content'].count().plot()\n",
        "ax.set_xlabel('Day of week', fontsize=18)\n",
        "ax.set_ylabel('Emails', fontsize=18)"
      ],
      "execution_count": null,
      "outputs": [
        {
          "output_type": "execute_result",
          "data": {
            "text/plain": [
              "Text(0, 0.5, 'Emails')"
            ]
          },
          "metadata": {
            "tags": []
          },
          "execution_count": 35
        },
        {
          "output_type": "display_data",
          "data": {
            "image/png": "[encoded data removed]",
            "text/plain": [
              "<Figure size 432x288 with 1 Axes>"
            ]
          },
          "metadata": {
            "tags": [],
            "needs_background": "light"
          }
        }
      ]
    },
    {
      "cell_type": "code",
      "metadata": {
        "id": "AIFE83crArmr"
      },
      "source": [
        "df['Month'] = df['Date'].dt.month\n",
        "df['Year'] = df['Date'].dt.year\n",
        "df['Day'] = df['Date'].dt.dayofweek"
      ],
      "execution_count": null,
      "outputs": []
    },
    {
      "cell_type": "code",
      "metadata": {
        "id": "1kfKitg4Au9I",
        "outputId": "68e6ce6b-3bc6-459f-8ab7-b3c4c71e9cd4",
        "colab": {
          "base_uri": "https://localhost:8080/",
          "height": 387
        }
      },
      "source": [
        "import matplotlib.pyplot as plt\n",
        "\n",
        "indices = (df['Year'] > 1995) & (df['Year'] <= 2004)\n",
        "plt.figure(figsize = (10,6))\n",
        "figure1 = df.loc[indices].groupby('Year')['Content'].count().plot()"
      ],
      "execution_count": null,
      "outputs": [
        {
          "output_type": "display_data",
          "data": {
            "image/png": "[encoded data removed]",
            "text/plain": [
              "<Figure size 720x432 with 1 Axes>"
            ]
          },
          "metadata": {
            "tags": [],
            "needs_background": "light"
          }
        }
      ]
    },
    {
      "cell_type": "markdown",
      "metadata": {
        "id": "Cp9SQKV2A9DW"
      },
      "source": [
        "### Looks like the total number of emails really ramped up in 2000 and 2001\n",
        "\n",
        "```\n",
        "# This is formatted as code\n",
        "```\n",
        "\n"
      ]
    },
    {
      "cell_type": "code",
      "metadata": {
        "id": "SGjPxep2BiEw",
        "outputId": "d0edf790-1cb2-4193-96aa-ed1fd5ae8800",
        "colab": {
          "base_uri": "https://localhost:8080/",
          "height": 305
        }
      },
      "source": [
        "df.Year.agg({'max': max, 'min': min})\n",
        "#\n",
        "df[df['Year']==2044]"
      ],
      "execution_count": 28,
      "outputs": [
        {
          "output_type": "error",
          "ename": "AttributeError",
          "evalue": "ignored",
          "traceback": [
            "\u001b[0;31m---------------------------------------------------------------------------\u001b[0m",
            "\u001b[0;31mAttributeError\u001b[0m                            Traceback (most recent call last)",
            "\u001b[0;32m<ipython-input-28-df760f1f3ff3>\u001b[0m in \u001b[0;36m<module>\u001b[0;34m()\u001b[0m\n\u001b[0;32m----> 1\u001b[0;31m \u001b[0mdf\u001b[0m\u001b[0;34m.\u001b[0m\u001b[0mYear\u001b[0m\u001b[0;34m.\u001b[0m\u001b[0magg\u001b[0m\u001b[0;34m(\u001b[0m\u001b[0;34m{\u001b[0m\u001b[0;34m'max'\u001b[0m\u001b[0;34m:\u001b[0m \u001b[0mmax\u001b[0m\u001b[0;34m,\u001b[0m \u001b[0;34m'min'\u001b[0m\u001b[0;34m:\u001b[0m \u001b[0mmin\u001b[0m\u001b[0;34m}\u001b[0m\u001b[0;34m)\u001b[0m\u001b[0;34m\u001b[0m\u001b[0;34m\u001b[0m\u001b[0m\n\u001b[0m\u001b[1;32m      2\u001b[0m \u001b[0;31m#\u001b[0m\u001b[0;34m\u001b[0m\u001b[0;34m\u001b[0m\u001b[0;34m\u001b[0m\u001b[0m\n\u001b[1;32m      3\u001b[0m \u001b[0mdf\u001b[0m\u001b[0;34m[\u001b[0m\u001b[0mdf\u001b[0m\u001b[0;34m[\u001b[0m\u001b[0;34m'Year'\u001b[0m\u001b[0;34m]\u001b[0m\u001b[0;34m==\u001b[0m\u001b[0;36m2044\u001b[0m\u001b[0;34m]\u001b[0m\u001b[0;34m\u001b[0m\u001b[0;34m\u001b[0m\u001b[0m\n",
            "\u001b[0;32m/usr/local/lib/python3.6/dist-packages/pandas/core/generic.py\u001b[0m in \u001b[0;36m__getattr__\u001b[0;34m(self, name)\u001b[0m\n\u001b[1;32m   5134\u001b[0m             \u001b[0;32mif\u001b[0m \u001b[0mself\u001b[0m\u001b[0;34m.\u001b[0m\u001b[0m_info_axis\u001b[0m\u001b[0;34m.\u001b[0m\u001b[0m_can_hold_identifiers_and_holds_name\u001b[0m\u001b[0;34m(\u001b[0m\u001b[0mname\u001b[0m\u001b[0;34m)\u001b[0m\u001b[0;34m:\u001b[0m\u001b[0;34m\u001b[0m\u001b[0;34m\u001b[0m\u001b[0m\n\u001b[1;32m   5135\u001b[0m                 \u001b[0;32mreturn\u001b[0m \u001b[0mself\u001b[0m\u001b[0;34m[\u001b[0m\u001b[0mname\u001b[0m\u001b[0;34m]\u001b[0m\u001b[0;34m\u001b[0m\u001b[0;34m\u001b[0m\u001b[0m\n\u001b[0;32m-> 5136\u001b[0;31m             \u001b[0;32mreturn\u001b[0m \u001b[0mobject\u001b[0m\u001b[0;34m.\u001b[0m\u001b[0m__getattribute__\u001b[0m\u001b[0;34m(\u001b[0m\u001b[0mself\u001b[0m\u001b[0;34m,\u001b[0m \u001b[0mname\u001b[0m\u001b[0;34m)\u001b[0m\u001b[0;34m\u001b[0m\u001b[0;34m\u001b[0m\u001b[0m\n\u001b[0m\u001b[1;32m   5137\u001b[0m \u001b[0;34m\u001b[0m\u001b[0m\n\u001b[1;32m   5138\u001b[0m     \u001b[0;32mdef\u001b[0m \u001b[0m__setattr__\u001b[0m\u001b[0;34m(\u001b[0m\u001b[0mself\u001b[0m\u001b[0;34m,\u001b[0m \u001b[0mname\u001b[0m\u001b[0;34m:\u001b[0m \u001b[0mstr\u001b[0m\u001b[0;34m,\u001b[0m \u001b[0mvalue\u001b[0m\u001b[0;34m)\u001b[0m \u001b[0;34m->\u001b[0m \u001b[0;32mNone\u001b[0m\u001b[0;34m:\u001b[0m\u001b[0;34m\u001b[0m\u001b[0;34m\u001b[0m\u001b[0m\n",
            "\u001b[0;31mAttributeError\u001b[0m: 'DataFrame' object has no attribute 'Year'"
          ]
        }
      ]
    },
    {
      "cell_type": "code",
      "metadata": {
        "id": "h9wbN493Blg-",
        "outputId": "7a3d6786-e70a-448f-966d-9ceb93b32618",
        "colab": {
          "base_uri": "https://localhost:8080/",
          "height": 391
        }
      },
      "source": [
        "plt.figure(figsize = (10,6))\n",
        "figure2 = df.groupby('Month')['Content'].count().plot()"
      ],
      "execution_count": null,
      "outputs": [
        {
          "output_type": "display_data",
          "data": {
            "image/png": "[encoded data removed]",
            "text/plain": [
              "<Figure size 720x432 with 1 Axes>"
            ]
          },
          "metadata": {
            "tags": [],
            "needs_background": "light"
          }
        }
      ]
    },
    {
      "cell_type": "code",
      "metadata": {
        "id": "elrMG85nBpaP",
        "outputId": "0dd0b6e4-34b8-438f-f37d-d371dbb768fe",
        "colab": {
          "base_uri": "https://localhost:8080/",
          "height": 387
        }
      },
      "source": [
        "plt.figure(figsize = (10,6))\n",
        "figure3 = df.groupby('Day')['Content'].count().plot()"
      ],
      "execution_count": null,
      "outputs": [
        {
          "output_type": "display_data",
          "data": {
            "image/png": "[encoded data removed]",
            "text/plain": [
              "<Figure size 720x432 with 1 Axes>"
            ]
          },
          "metadata": {
            "tags": [],
            "needs_background": "light"
          }
        }
      ]
    },
    {
      "cell_type": "code",
      "metadata": {
        "id": "whX-2rOABvzl",
        "outputId": "cdaaf19d-59dc-4481-e65b-37e538655656",
        "colab": {
          "base_uri": "https://localhost:8080/",
          "height": 293
        }
      },
      "source": [
        "# Find number of unique values in each columns\n",
        "for col in df.columns:\n",
        "    print(col, df[col].nunique())"
      ],
      "execution_count": null,
      "outputs": [
        {
          "output_type": "stream",
          "text": [
            "file 517401\n",
            "Date 224122\n",
            "From 20328\n",
            "To 54748\n",
            "Subject 159290\n",
            "X-From 27980\n",
            "X-To 73552\n",
            "X-cc 33701\n",
            "X-bcc 132\n",
            "X-Folder 5335\n",
            "X-Origin 259\n",
            "X-FileName 429\n",
            "Content 249025\n",
            "User 150\n",
            "Month 12\n",
            "Year 16\n",
            "Day 7\n"
          ],
          "name": "stdout"
        }
      ]
    },
    {
      "cell_type": "code",
      "metadata": {
        "id": "MZi_dS7mB6Ck",
        "outputId": "069549c4-f2e7-42d5-99cd-8a37fb77848c",
        "colab": {
          "base_uri": "https://localhost:8080/",
          "height": 537
        }
      },
      "source": [
        "top_10_frequent = df.groupby('User')['file'].count().sort_values(ascending = False)[:30]\n",
        "top_10_frequent"
      ],
      "execution_count": 29,
      "outputs": [
        {
          "output_type": "execute_result",
          "data": {
            "text/plain": [
              "User\n",
              "kaminski-v       28465\n",
              "dasovich-j       28234\n",
              "kean-s           25351\n",
              "mann-k           23381\n",
              "jones-t          19950\n",
              "shackleton-s     18687\n",
              "taylor-m         13875\n",
              "farmer-d         13032\n",
              "germany-c        12436\n",
              "beck-s           11830\n",
              "symes-k          10827\n",
              "nemec-g          10655\n",
              "scott-s           8022\n",
              "rogers-b          8009\n",
              "bass-e            7823\n",
              "sanders-r         7329\n",
              "campbell-l        6490\n",
              "shapiro-r         6071\n",
              "guzman-m          6054\n",
              "lay-k             5937\n",
              "lenhart-m         5920\n",
              "lokay-m           5568\n",
              "kitchen-l         5546\n",
              "haedicke-m        5246\n",
              "sager-e           5200\n",
              "love-p            5002\n",
              "arnold-j          4898\n",
              "fossum-d          4796\n",
              "perlingiere-d     4778\n",
              "lavorato-j        4685\n",
              "Name: file, dtype: int64"
            ]
          },
          "metadata": {
            "tags": []
          },
          "execution_count": 29
        }
      ]
    },
    {
      "cell_type": "code",
      "metadata": {
        "id": "BgQ_YqVCB-bk",
        "outputId": "163b5b3d-329d-4ba7-9d3c-6a0bcd4453a2",
        "colab": {
          "base_uri": "https://localhost:8080/",
          "height": 458
        }
      },
      "source": [
        "plt.figure(figsize = (10,6))\n",
        "top_10_frequent.plot(kind = 'bar')"
      ],
      "execution_count": 30,
      "outputs": [
        {
          "output_type": "execute_result",
          "data": {
            "text/plain": [
              "<matplotlib.axes._subplots.AxesSubplot at 0x7fec63cb2c18>"
            ]
          },
          "metadata": {
            "tags": []
          },
          "execution_count": 30
        },
        {
          "output_type": "display_data",
          "data": {
            "image/png": "[encoded data removed]",
            "text/plain": [
              "<Figure size 720x432 with 1 Axes>"
            ]
          },
          "metadata": {
            "tags": [],
            "needs_background": "light"
          }
        }
      ]
    },
    {
      "cell_type": "code",
      "metadata": {
        "id": "DrpChn59CBt1",
        "outputId": "d994fbf7-0549-48d3-bbf0-8cd31ae93655",
        "colab": {
          "base_uri": "https://localhost:8080/",
          "height": 312
        }
      },
      "source": [
        "# Users and emails they sent by year\n",
        "df.groupby(['User', 'Year'])['file'].count()[:39]"
      ],
      "execution_count": 31,
      "outputs": [
        {
          "output_type": "error",
          "ename": "KeyError",
          "evalue": "ignored",
          "traceback": [
            "\u001b[0;31m---------------------------------------------------------------------------\u001b[0m",
            "\u001b[0;31mKeyError\u001b[0m                                  Traceback (most recent call last)",
            "\u001b[0;32m<ipython-input-31-7fc497f8c232>\u001b[0m in \u001b[0;36m<module>\u001b[0;34m()\u001b[0m\n\u001b[1;32m      1\u001b[0m \u001b[0;31m# Users and emails they sent by year\u001b[0m\u001b[0;34m\u001b[0m\u001b[0;34m\u001b[0m\u001b[0;34m\u001b[0m\u001b[0m\n\u001b[0;32m----> 2\u001b[0;31m \u001b[0mdf\u001b[0m\u001b[0;34m.\u001b[0m\u001b[0mgroupby\u001b[0m\u001b[0;34m(\u001b[0m\u001b[0;34m[\u001b[0m\u001b[0;34m'User'\u001b[0m\u001b[0;34m,\u001b[0m \u001b[0;34m'Year'\u001b[0m\u001b[0;34m]\u001b[0m\u001b[0;34m)\u001b[0m\u001b[0;34m[\u001b[0m\u001b[0;34m'file'\u001b[0m\u001b[0;34m]\u001b[0m\u001b[0;34m.\u001b[0m\u001b[0mcount\u001b[0m\u001b[0;34m(\u001b[0m\u001b[0;34m)\u001b[0m\u001b[0;34m[\u001b[0m\u001b[0;34m:\u001b[0m\u001b[0;36m39\u001b[0m\u001b[0;34m]\u001b[0m\u001b[0;34m\u001b[0m\u001b[0;34m\u001b[0m\u001b[0m\n\u001b[0m",
            "\u001b[0;32m/usr/local/lib/python3.6/dist-packages/pandas/core/frame.py\u001b[0m in \u001b[0;36mgroupby\u001b[0;34m(self, by, axis, level, as_index, sort, group_keys, squeeze, observed, dropna)\u001b[0m\n\u001b[1;32m   6518\u001b[0m             \u001b[0msqueeze\u001b[0m\u001b[0;34m=\u001b[0m\u001b[0msqueeze\u001b[0m\u001b[0;34m,\u001b[0m\u001b[0;34m\u001b[0m\u001b[0;34m\u001b[0m\u001b[0m\n\u001b[1;32m   6519\u001b[0m             \u001b[0mobserved\u001b[0m\u001b[0;34m=\u001b[0m\u001b[0mobserved\u001b[0m\u001b[0;34m,\u001b[0m\u001b[0;34m\u001b[0m\u001b[0;34m\u001b[0m\u001b[0m\n\u001b[0;32m-> 6520\u001b[0;31m             \u001b[0mdropna\u001b[0m\u001b[0;34m=\u001b[0m\u001b[0mdropna\u001b[0m\u001b[0;34m,\u001b[0m\u001b[0;34m\u001b[0m\u001b[0;34m\u001b[0m\u001b[0m\n\u001b[0m\u001b[1;32m   6521\u001b[0m         )\n\u001b[1;32m   6522\u001b[0m \u001b[0;34m\u001b[0m\u001b[0m\n",
            "\u001b[0;32m/usr/local/lib/python3.6/dist-packages/pandas/core/groupby/groupby.py\u001b[0m in \u001b[0;36m__init__\u001b[0;34m(self, obj, keys, axis, level, grouper, exclusions, selection, as_index, sort, group_keys, squeeze, observed, mutated, dropna)\u001b[0m\n\u001b[1;32m    531\u001b[0m                 \u001b[0mobserved\u001b[0m\u001b[0;34m=\u001b[0m\u001b[0mobserved\u001b[0m\u001b[0;34m,\u001b[0m\u001b[0;34m\u001b[0m\u001b[0;34m\u001b[0m\u001b[0m\n\u001b[1;32m    532\u001b[0m                 \u001b[0mmutated\u001b[0m\u001b[0;34m=\u001b[0m\u001b[0mself\u001b[0m\u001b[0;34m.\u001b[0m\u001b[0mmutated\u001b[0m\u001b[0;34m,\u001b[0m\u001b[0;34m\u001b[0m\u001b[0;34m\u001b[0m\u001b[0m\n\u001b[0;32m--> 533\u001b[0;31m                 \u001b[0mdropna\u001b[0m\u001b[0;34m=\u001b[0m\u001b[0mself\u001b[0m\u001b[0;34m.\u001b[0m\u001b[0mdropna\u001b[0m\u001b[0;34m,\u001b[0m\u001b[0;34m\u001b[0m\u001b[0;34m\u001b[0m\u001b[0m\n\u001b[0m\u001b[1;32m    534\u001b[0m             )\n\u001b[1;32m    535\u001b[0m \u001b[0;34m\u001b[0m\u001b[0m\n",
            "\u001b[0;32m/usr/local/lib/python3.6/dist-packages/pandas/core/groupby/grouper.py\u001b[0m in \u001b[0;36mget_grouper\u001b[0;34m(obj, key, axis, level, sort, observed, mutated, validate, dropna)\u001b[0m\n\u001b[1;32m    779\u001b[0m                 \u001b[0min_axis\u001b[0m\u001b[0;34m,\u001b[0m \u001b[0mname\u001b[0m\u001b[0;34m,\u001b[0m \u001b[0mlevel\u001b[0m\u001b[0;34m,\u001b[0m \u001b[0mgpr\u001b[0m \u001b[0;34m=\u001b[0m \u001b[0;32mFalse\u001b[0m\u001b[0;34m,\u001b[0m \u001b[0;32mNone\u001b[0m\u001b[0;34m,\u001b[0m \u001b[0mgpr\u001b[0m\u001b[0;34m,\u001b[0m \u001b[0;32mNone\u001b[0m\u001b[0;34m\u001b[0m\u001b[0;34m\u001b[0m\u001b[0m\n\u001b[1;32m    780\u001b[0m             \u001b[0;32melse\u001b[0m\u001b[0;34m:\u001b[0m\u001b[0;34m\u001b[0m\u001b[0;34m\u001b[0m\u001b[0m\n\u001b[0;32m--> 781\u001b[0;31m                 \u001b[0;32mraise\u001b[0m \u001b[0mKeyError\u001b[0m\u001b[0;34m(\u001b[0m\u001b[0mgpr\u001b[0m\u001b[0;34m)\u001b[0m\u001b[0;34m\u001b[0m\u001b[0;34m\u001b[0m\u001b[0m\n\u001b[0m\u001b[1;32m    782\u001b[0m         \u001b[0;32melif\u001b[0m \u001b[0misinstance\u001b[0m\u001b[0;34m(\u001b[0m\u001b[0mgpr\u001b[0m\u001b[0;34m,\u001b[0m \u001b[0mGrouper\u001b[0m\u001b[0;34m)\u001b[0m \u001b[0;32mand\u001b[0m \u001b[0mgpr\u001b[0m\u001b[0;34m.\u001b[0m\u001b[0mkey\u001b[0m \u001b[0;32mis\u001b[0m \u001b[0;32mnot\u001b[0m \u001b[0;32mNone\u001b[0m\u001b[0;34m:\u001b[0m\u001b[0;34m\u001b[0m\u001b[0;34m\u001b[0m\u001b[0m\n\u001b[1;32m    783\u001b[0m             \u001b[0;31m# Add key to exclusions\u001b[0m\u001b[0;34m\u001b[0m\u001b[0;34m\u001b[0m\u001b[0;34m\u001b[0m\u001b[0m\n",
            "\u001b[0;31mKeyError\u001b[0m: 'Year'"
          ]
        }
      ]
    },
    {
      "cell_type": "markdown",
      "metadata": {
        "id": "hQ3QpEtTCREb"
      },
      "source": [
        "### Huge increase in emails numbers in 2000 and 2001"
      ]
    },
    {
      "cell_type": "code",
      "metadata": {
        "id": "ADKPqFbpCOB6"
      },
      "source": [
        " "
      ],
      "execution_count": null,
      "outputs": []
    },
    {
      "cell_type": "code",
      "metadata": {
        "id": "tu4k1r1ALjor",
        "outputId": "228afe0f-2c0a-48a1-ce1a-d6149352a1a0",
        "colab": {
          "base_uri": "https://localhost:8080/",
          "height": 66
        }
      },
      "source": [
        "nltk.download('stopwords')"
      ],
      "execution_count": 32,
      "outputs": [
        {
          "output_type": "stream",
          "text": [
            "[nltk_data] Downloading package stopwords to /root/nltk_data...\n",
            "[nltk_data]   Unzipping corpora/stopwords.zip.\n"
          ],
          "name": "stdout"
        },
        {
          "output_type": "execute_result",
          "data": {
            "text/plain": [
              "True"
            ]
          },
          "metadata": {
            "tags": []
          },
          "execution_count": 32
        }
      ]
    },
    {
      "cell_type": "code",
      "metadata": {
        "id": "x_fajCUgCXtK"
      },
      "source": [
        "# Clean the Subject column\n",
        "\n",
        "def clean_column(data):\n",
        "    if data is not None:\n",
        "        stopwords_list = stopwords.words('english')\n",
        "        #exclusions = ['RE:', 'Re:', 're:']\n",
        "        #exclusions = '|'.join(exclusions)\n",
        "        data =  data.lower()\n",
        "        data = re.sub('re:', '', data)\n",
        "        data = re.sub('-', '', data)\n",
        "        data = re.sub('_', '', data)\n",
        "        # Remove data between square brackets\n",
        "        data =re.sub('\\[[^]]*\\]', '', data)\n",
        "        # Removes punctuation\n",
        "        data = re.sub(r'[^\\w\\s]','',data)\n",
        "        data = re.sub(r'\\n',' ',data)\n",
        "        data = re.sub(r'[0-9]+','',data)\n",
        "        # Strip html \n",
        "        p = re.compile(r'<.*?>')\n",
        "        data = re.sub(r\"\\'ve\", \" have \", data)\n",
        "        data = re.sub(r\"can't\", \"cannot \", data)\n",
        "        data = re.sub(r\"n't\", \" not \", data)\n",
        "        data = re.sub(r\"I'm\", \"I am\", data)\n",
        "        data = re.sub(r\" m \", \" am \", data)\n",
        "        data = re.sub(r\"\\'re\", \" are \", data)\n",
        "        data = re.sub(r\"\\'d\", \" would \", data)\n",
        "        data = re.sub(r\"\\'ll\", \" will \", data)\n",
        "        data = re.sub(r'forwarded by phillip k allenhouect on    pm', '',data)\n",
        "        data = re.sub(r'forwarded by phillip k allenhouect on    am', '',data)\n",
        "        data = re.sub(r\"httpitcappscorpenroncomsrrsauthemaillinkaspidpage\", \"\", data)\n",
        "        \n",
        "        data = p.sub('', data)\n",
        "        if 'forwarded by:' in data:\n",
        "            data = data.split('Subject')[1]\n",
        "        data = data.strip()\n",
        "        return data\n",
        "    return 'No Subject'\n",
        "\n",
        "\n",
        "df['email_Subject'] = df['Subject'].apply(clean_column)\n",
        "df['email_body'] = df['Content'].apply(clean_column)"
      ],
      "execution_count": null,
      "outputs": []
    },
    {
      "cell_type": "code",
      "metadata": {
        "id": "7GFAG7ofCgc5",
        "outputId": "9a126f0c-817c-41ff-98e8-2662591e5e65",
        "colab": {
          "base_uri": "https://localhost:8080/",
          "height": 83
        }
      },
      "source": [
        "df['email_body'][135]"
      ],
      "execution_count": null,
      "outputs": [
        {
          "output_type": "execute_result",
          "data": {
            "application/vnd.google.colaboratory.intrinsic+json": {
              "type": "string"
            },
            "text/plain": [
              "'from andy chen on   pm to michael etringerhouectect cc frank w vickershouectect saji johnhouectect phillip k  allenhouectect john arnoldhouectect  subject project elvis and cactus open gas position  mike  here are the net open socal border positions we have for elvis and cactus   lets try and set up a conference call with phillip and john to talk about  their offers at the backend of their curves  roughly speaking we are looking at a nominal  mmbtud for  years from  may  on elvis and  mmbtud on cactus fromjune  to april    andy'"
            ]
          },
          "metadata": {
            "tags": []
          },
          "execution_count": 47
        }
      ]
    },
    {
      "cell_type": "code",
      "metadata": {
        "id": "rmZreBaVSMmF",
        "outputId": "ed6e9e22-05b5-409a-b03f-602a5930a547",
        "colab": {
          "base_uri": "https://localhost:8080/",
          "height": 483
        }
      },
      "source": [
        "df.head()"
      ],
      "execution_count": null,
      "outputs": [
        {
          "output_type": "execute_result",
          "data": {
            "text/html": [
              "<div>\n",
              "<style scoped>\n",
              "    .dataframe tbody tr th:only-of-type {\n",
              "        vertical-align: middle;\n",
              "    }\n",
              "\n",
              "    .dataframe tbody tr th {\n",
              "        vertical-align: top;\n",
              "    }\n",
              "\n",
              "    .dataframe thead th {\n",
              "        text-align: right;\n",
              "    }\n",
              "</style>\n",
              "<table border=\"1\" class=\"dataframe\">\n",
              "  <thead>\n",
              "    <tr style=\"text-align: right;\">\n",
              "      <th></th>\n",
              "      <th>file</th>\n",
              "      <th>Date</th>\n",
              "      <th>From</th>\n",
              "      <th>To</th>\n",
              "      <th>Subject</th>\n",
              "      <th>X-From</th>\n",
              "      <th>X-To</th>\n",
              "      <th>X-cc</th>\n",
              "      <th>X-bcc</th>\n",
              "      <th>X-Folder</th>\n",
              "      <th>X-Origin</th>\n",
              "      <th>X-FileName</th>\n",
              "      <th>Content</th>\n",
              "      <th>User</th>\n",
              "      <th>Month</th>\n",
              "      <th>Year</th>\n",
              "      <th>Day</th>\n",
              "      <th>email_Subject</th>\n",
              "      <th>email_body</th>\n",
              "    </tr>\n",
              "    <tr>\n",
              "      <th>Message-ID</th>\n",
              "      <th></th>\n",
              "      <th></th>\n",
              "      <th></th>\n",
              "      <th></th>\n",
              "      <th></th>\n",
              "      <th></th>\n",
              "      <th></th>\n",
              "      <th></th>\n",
              "      <th></th>\n",
              "      <th></th>\n",
              "      <th></th>\n",
              "      <th></th>\n",
              "      <th></th>\n",
              "      <th></th>\n",
              "      <th></th>\n",
              "      <th></th>\n",
              "      <th></th>\n",
              "      <th></th>\n",
              "      <th></th>\n",
              "    </tr>\n",
              "  </thead>\n",
              "  <tbody>\n",
              "    <tr>\n",
              "      <th>&lt;18782981.1075855378110.JavaMail.evans@thyme&gt;</th>\n",
              "      <td>allen-p/_sent_mail/1.</td>\n",
              "      <td>2001-05-14 23:39:00+00:00</td>\n",
              "      <td>(phillip.allen@enron.com)</td>\n",
              "      <td>(tim.belden@enron.com)</td>\n",
              "      <td></td>\n",
              "      <td>Phillip K Allen</td>\n",
              "      <td>Tim Belden &lt;Tim Belden/Enron@EnronXGate&gt;</td>\n",
              "      <td></td>\n",
              "      <td></td>\n",
              "      <td>\\Phillip_Allen_Jan2002_1\\Allen, Phillip K.\\'Se...</td>\n",
              "      <td>Allen-P</td>\n",
              "      <td>pallen (Non-Privileged).pst</td>\n",
              "      <td>Here is our forecast\\n\\n</td>\n",
              "      <td>allen-p</td>\n",
              "      <td>5</td>\n",
              "      <td>2001</td>\n",
              "      <td>0</td>\n",
              "      <td></td>\n",
              "      <td>here is our forecast</td>\n",
              "    </tr>\n",
              "    <tr>\n",
              "      <th>&lt;15464986.1075855378456.JavaMail.evans@thyme&gt;</th>\n",
              "      <td>allen-p/_sent_mail/10.</td>\n",
              "      <td>2001-05-04 20:51:00+00:00</td>\n",
              "      <td>(phillip.allen@enron.com)</td>\n",
              "      <td>(john.lavorato@enron.com)</td>\n",
              "      <td>Re:</td>\n",
              "      <td>Phillip K Allen</td>\n",
              "      <td>John J Lavorato &lt;John J Lavorato/ENRON@enronXg...</td>\n",
              "      <td></td>\n",
              "      <td></td>\n",
              "      <td>\\Phillip_Allen_Jan2002_1\\Allen, Phillip K.\\'Se...</td>\n",
              "      <td>Allen-P</td>\n",
              "      <td>pallen (Non-Privileged).pst</td>\n",
              "      <td>Traveling to have a business meeting takes the...</td>\n",
              "      <td>allen-p</td>\n",
              "      <td>5</td>\n",
              "      <td>2001</td>\n",
              "      <td>4</td>\n",
              "      <td></td>\n",
              "      <td>traveling to have a business meeting takes the...</td>\n",
              "    </tr>\n",
              "    <tr>\n",
              "      <th>&lt;24216240.1075855687451.JavaMail.evans@thyme&gt;</th>\n",
              "      <td>allen-p/_sent_mail/100.</td>\n",
              "      <td>2000-10-18 10:00:00+00:00</td>\n",
              "      <td>(phillip.allen@enron.com)</td>\n",
              "      <td>(leah.arsdall@enron.com)</td>\n",
              "      <td>Re: test</td>\n",
              "      <td>Phillip K Allen</td>\n",
              "      <td>Leah Van Arsdall</td>\n",
              "      <td></td>\n",
              "      <td></td>\n",
              "      <td>\\Phillip_Allen_Dec2000\\Notes Folders\\'sent mail</td>\n",
              "      <td>Allen-P</td>\n",
              "      <td>pallen.nsf</td>\n",
              "      <td>test successful.  way to go!!!</td>\n",
              "      <td>allen-p</td>\n",
              "      <td>10</td>\n",
              "      <td>2000</td>\n",
              "      <td>2</td>\n",
              "      <td>test</td>\n",
              "      <td>test successful  way to go</td>\n",
              "    </tr>\n",
              "    <tr>\n",
              "      <th>&lt;13505866.1075863688222.JavaMail.evans@thyme&gt;</th>\n",
              "      <td>allen-p/_sent_mail/1000.</td>\n",
              "      <td>2000-10-23 13:13:00+00:00</td>\n",
              "      <td>(phillip.allen@enron.com)</td>\n",
              "      <td>(randall.gay@enron.com)</td>\n",
              "      <td></td>\n",
              "      <td>Phillip K Allen</td>\n",
              "      <td>Randall L Gay</td>\n",
              "      <td></td>\n",
              "      <td></td>\n",
              "      <td>\\Phillip_Allen_Dec2000\\Notes Folders\\'sent mail</td>\n",
              "      <td>Allen-P</td>\n",
              "      <td>pallen.nsf</td>\n",
              "      <td>Randy,\\n\\n Can you send me a schedule of the s...</td>\n",
              "      <td>allen-p</td>\n",
              "      <td>10</td>\n",
              "      <td>2000</td>\n",
              "      <td>0</td>\n",
              "      <td></td>\n",
              "      <td>randy   can you send me a schedule of the sala...</td>\n",
              "    </tr>\n",
              "    <tr>\n",
              "      <th>&lt;30922949.1075863688243.JavaMail.evans@thyme&gt;</th>\n",
              "      <td>allen-p/_sent_mail/1001.</td>\n",
              "      <td>2000-08-31 12:07:00+00:00</td>\n",
              "      <td>(phillip.allen@enron.com)</td>\n",
              "      <td>(greg.piper@enron.com)</td>\n",
              "      <td>Re: Hello</td>\n",
              "      <td>Phillip K Allen</td>\n",
              "      <td>Greg Piper</td>\n",
              "      <td></td>\n",
              "      <td></td>\n",
              "      <td>\\Phillip_Allen_Dec2000\\Notes Folders\\'sent mail</td>\n",
              "      <td>Allen-P</td>\n",
              "      <td>pallen.nsf</td>\n",
              "      <td>Let's shoot for Tuesday at 11:45.</td>\n",
              "      <td>allen-p</td>\n",
              "      <td>8</td>\n",
              "      <td>2000</td>\n",
              "      <td>3</td>\n",
              "      <td>hello</td>\n",
              "      <td>lets shoot for tuesday at</td>\n",
              "    </tr>\n",
              "  </tbody>\n",
              "</table>\n",
              "</div>"
            ],
            "text/plain": [
              "                                                                   file  ...                                         email_body\n",
              "Message-ID                                                               ...                                                   \n",
              "<18782981.1075855378110.JavaMail.evans@thyme>     allen-p/_sent_mail/1.  ...                               here is our forecast\n",
              "<15464986.1075855378456.JavaMail.evans@thyme>    allen-p/_sent_mail/10.  ...  traveling to have a business meeting takes the...\n",
              "<24216240.1075855687451.JavaMail.evans@thyme>   allen-p/_sent_mail/100.  ...                         test successful  way to go\n",
              "<13505866.1075863688222.JavaMail.evans@thyme>  allen-p/_sent_mail/1000.  ...  randy   can you send me a schedule of the sala...\n",
              "<30922949.1075863688243.JavaMail.evans@thyme>  allen-p/_sent_mail/1001.  ...                          lets shoot for tuesday at\n",
              "\n",
              "[5 rows x 19 columns]"
            ]
          },
          "metadata": {
            "tags": []
          },
          "execution_count": 48
        }
      ]
    },
    {
      "cell_type": "code",
      "metadata": {
        "id": "1uOmr8wFF2TA"
      },
      "source": [
        "\n",
        "stopwords = set(STOPWORDS)\n",
        "to_add = ['FW', 'ga', 'new', 'httpitcappscorpenroncomsrrsauthemaillinkaspidpage', 'forwarded by phillip k allenhouect on    pm', 'cc', 'aa', 'aaa', 'aaaa', 'hou', 'wc', 'etc', 'subject', 'pm', 'enron', 'fwd', 'from',  'You', 'is', 'a', 'your', 'I', 'at', 'be', 'will', 'on', 'PM', 'AM', 'are', 'that', 'this', 'with', 'have', 'for']\n",
        "\n",
        "for i in to_add:\n",
        "    stopwords.add(i)"
      ],
      "execution_count": null,
      "outputs": []
    },
    {
      "cell_type": "code",
      "metadata": {
        "id": "TQKZ_1Z6GLBj",
        "outputId": "4b501dda-8ed5-4b93-fe6b-1c036c1e12fe",
        "colab": {
          "base_uri": "https://localhost:8080/",
          "height": 298
        }
      },
      "source": [
        "wordcloud = WordCloud(\n",
        "                          collocations = False,\n",
        "                          width=1600, height=800,\n",
        "                          background_color='gray',\n",
        "                          stopwords=stopwords,\n",
        "                          max_words=150,\n",
        "                          #max_font_size=40, \n",
        "                          random_state=42\n",
        "                         ).generate(' '.join(df['email_Subject'])) # can't pass a series, needs to be strings and function computes frequencies\n",
        "print(wordcloud)\n",
        "plt.figure(figsize=(9,8))\n",
        "fig = plt.figure(1)\n",
        "plt.imshow(wordcloud)\n",
        "plt.axis('off')\n",
        "plt.show()"
      ],
      "execution_count": null,
      "outputs": [
        {
          "output_type": "stream",
          "text": [
            "<wordcloud.wordcloud.WordCloud object at 0x7f12612e8908>\n"
          ],
          "name": "stdout"
        },
        {
          "output_type": "display_data",
          "data": {
            "image/png": "[encoded data removed]",
            "text/plain": [
              "<Figure size 648x576 with 1 Axes>"
            ]
          },
          "metadata": {
            "tags": [],
            "needs_background": "light"
          }
        }
      ]
    },
    {
      "cell_type": "code",
      "metadata": {
        "id": "iPfOAvkBGSrD"
      },
      "source": [
        "stemmer = PorterStemmer()\n",
        "def stemming_tokenizer(str_input):\n",
        "    words = re.sub(r\"[^A-Za-z0-9\\-]\", \" \", str_input).lower().split()\n",
        "    words = [porter_stemmer.stem(word) for word in words]\n",
        "    return words"
      ],
      "execution_count": null,
      "outputs": []
    },
    {
      "cell_type": "code",
      "metadata": {
        "id": "tRsg6a0wGcKz"
      },
      "source": [
        "def tokenize_and_stem(text):\n",
        "    # first tokenize by sentence, then by word to ensure that punctuation is caught as it's own token\n",
        "    tokens = [word for sent in nltk.sent_tokenize(text) for word in nltk.word_tokenize(sent)]\n",
        "    filtered_tokens = []\n",
        "    # filter out any tokens not containing letters (e.g., numeric tokens, raw punctuation)\n",
        "    for token in tokens:\n",
        "        if re.search('[a-zA-Z]', token):\n",
        "            filtered_tokens.append(token)\n",
        "    stems = [stemmer.stem(t) for t in filtered_tokens]\n",
        "    return stems"
      ],
      "execution_count": null,
      "outputs": []
    },
    {
      "cell_type": "code",
      "metadata": {
        "id": "6TU7UKE2Ldj3",
        "outputId": "6fc3b586-b135-4511-b558-06e133a3775d",
        "colab": {
          "base_uri": "https://localhost:8080/",
          "height": 50
        }
      },
      "source": [
        "nltk.download('vader_lexicon')"
      ],
      "execution_count": null,
      "outputs": [
        {
          "output_type": "stream",
          "text": [
            "[nltk_data] Downloading package vader_lexicon to /root/nltk_data...\n"
          ],
          "name": "stdout"
        },
        {
          "output_type": "execute_result",
          "data": {
            "text/plain": [
              "True"
            ]
          },
          "metadata": {
            "tags": []
          },
          "execution_count": 53
        }
      ]
    },
    {
      "cell_type": "code",
      "metadata": {
        "id": "mgEuhxMMGnaJ"
      },
      "source": [
        "sid = SentimentIntensityAnalyzer()"
      ],
      "execution_count": null,
      "outputs": []
    },
    {
      "cell_type": "code",
      "metadata": {
        "id": "wZzrsavbLaWg",
        "outputId": "47209dd8-1d7e-4e8f-c5c0-ce2364220960",
        "colab": {
          "base_uri": "https://localhost:8080/",
          "height": 33
        }
      },
      "source": [
        "## Testing##\n",
        "a = 'This was a good movie.'\n",
        "sid.polarity_scores(a)"
      ],
      "execution_count": null,
      "outputs": [
        {
          "output_type": "execute_result",
          "data": {
            "text/plain": [
              "{'compound': 0.4404, 'neg': 0.0, 'neu': 0.508, 'pos': 0.492}"
            ]
          },
          "metadata": {
            "tags": []
          },
          "execution_count": 55
        }
      ]
    },
    {
      "cell_type": "code",
      "metadata": {
        "id": "7GhfIFcaLpTF",
        "outputId": "ff45630d-a78e-43a6-8d80-449c07950643",
        "colab": {
          "base_uri": "https://localhost:8080/",
          "height": 33
        }
      },
      "source": [
        "a = 'This was the best, most awesome movie EVER MADE!!!'\n",
        "sid.polarity_scores(a)"
      ],
      "execution_count": null,
      "outputs": [
        {
          "output_type": "execute_result",
          "data": {
            "text/plain": [
              "{'compound': 0.8877, 'neg': 0.0, 'neu': 0.425, 'pos': 0.575}"
            ]
          },
          "metadata": {
            "tags": []
          },
          "execution_count": 56
        }
      ]
    },
    {
      "cell_type": "code",
      "metadata": {
        "id": "em79ZXd9Lrlg",
        "outputId": "8a6dfb96-7b92-4400-d09d-3defdfcef117",
        "colab": {
          "base_uri": "https://localhost:8080/",
          "height": 83
        }
      },
      "source": [
        "df['email_body'][135]"
      ],
      "execution_count": null,
      "outputs": [
        {
          "output_type": "execute_result",
          "data": {
            "application/vnd.google.colaboratory.intrinsic+json": {
              "type": "string"
            },
            "text/plain": [
              "'from andy chen on   pm to michael etringerhouectect cc frank w vickershouectect saji johnhouectect phillip k  allenhouectect john arnoldhouectect  subject project elvis and cactus open gas position  mike  here are the net open socal border positions we have for elvis and cactus   lets try and set up a conference call with phillip and john to talk about  their offers at the backend of their curves  roughly speaking we are looking at a nominal  mmbtud for  years from  may  on elvis and  mmbtud on cactus fromjune  to april    andy'"
            ]
          },
          "metadata": {
            "tags": []
          },
          "execution_count": 57
        }
      ]
    },
    {
      "cell_type": "code",
      "metadata": {
        "id": "kwhxZUizLvH4"
      },
      "source": [
        "df['scores'] = df['email_body'].apply(lambda email_body: sid.polarity_scores(email_body))\n",
        "df.head()"
      ],
      "execution_count": null,
      "outputs": []
    },
    {
      "cell_type": "markdown",
      "metadata": {
        "id": "s0j6PXst84Xd"
      },
      "source": [
        "### The Compound score \n",
        "The coumpound score is a metric that calculates the sum of all the lexicon ratings which have been normalized between \n",
        "- -1(most extreme negative) and \n",
        "- +1 (most extreme positive).\n",
        "----------------------------------------------------\n",
        "- positive sentiment : (compound score >= 0.05)\n",
        "- neutral sentiment : (compound score > -0.05) and (compound score < 0.05)\n",
        "- negative sentiment : (compound score <= -0.05)"
      ]
    },
    {
      "cell_type": "code",
      "metadata": {
        "id": "KwZ_yr4s82lH"
      },
      "source": [
        ""
      ],
      "execution_count": null,
      "outputs": []
    },
    {
      "cell_type": "code",
      "metadata": {
        "id": "mtagqSOaPU8a",
        "outputId": "99e6c7d2-ff08-444c-e435-4490b1fea352",
        "colab": {
          "base_uri": "https://localhost:8080/",
          "height": 532
        }
      },
      "source": [
        "df['compound']  = df['scores'].apply(lambda score_dict: score_dict['compound'])\n",
        "\n",
        "df.head()"
      ],
      "execution_count": null,
      "outputs": [
        {
          "output_type": "execute_result",
          "data": {
            "text/html": [
              "<div>\n",
              "<style scoped>\n",
              "    .dataframe tbody tr th:only-of-type {\n",
              "        vertical-align: middle;\n",
              "    }\n",
              "\n",
              "    .dataframe tbody tr th {\n",
              "        vertical-align: top;\n",
              "    }\n",
              "\n",
              "    .dataframe thead th {\n",
              "        text-align: right;\n",
              "    }\n",
              "</style>\n",
              "<table border=\"1\" class=\"dataframe\">\n",
              "  <thead>\n",
              "    <tr style=\"text-align: right;\">\n",
              "      <th></th>\n",
              "      <th>file</th>\n",
              "      <th>Date</th>\n",
              "      <th>From</th>\n",
              "      <th>To</th>\n",
              "      <th>Subject</th>\n",
              "      <th>X-From</th>\n",
              "      <th>X-To</th>\n",
              "      <th>X-cc</th>\n",
              "      <th>X-bcc</th>\n",
              "      <th>X-Folder</th>\n",
              "      <th>X-Origin</th>\n",
              "      <th>X-FileName</th>\n",
              "      <th>Content</th>\n",
              "      <th>User</th>\n",
              "      <th>Month</th>\n",
              "      <th>Year</th>\n",
              "      <th>Day</th>\n",
              "      <th>email_Subject</th>\n",
              "      <th>email_body</th>\n",
              "      <th>scores</th>\n",
              "      <th>compound</th>\n",
              "      <th>comp_score</th>\n",
              "    </tr>\n",
              "    <tr>\n",
              "      <th>Message-ID</th>\n",
              "      <th></th>\n",
              "      <th></th>\n",
              "      <th></th>\n",
              "      <th></th>\n",
              "      <th></th>\n",
              "      <th></th>\n",
              "      <th></th>\n",
              "      <th></th>\n",
              "      <th></th>\n",
              "      <th></th>\n",
              "      <th></th>\n",
              "      <th></th>\n",
              "      <th></th>\n",
              "      <th></th>\n",
              "      <th></th>\n",
              "      <th></th>\n",
              "      <th></th>\n",
              "      <th></th>\n",
              "      <th></th>\n",
              "      <th></th>\n",
              "      <th></th>\n",
              "      <th></th>\n",
              "    </tr>\n",
              "  </thead>\n",
              "  <tbody>\n",
              "    <tr>\n",
              "      <th>&lt;18782981.1075855378110.JavaMail.evans@thyme&gt;</th>\n",
              "      <td>allen-p/_sent_mail/1.</td>\n",
              "      <td>2001-05-14 23:39:00+00:00</td>\n",
              "      <td>(phillip.allen@enron.com)</td>\n",
              "      <td>(tim.belden@enron.com)</td>\n",
              "      <td></td>\n",
              "      <td>Phillip K Allen</td>\n",
              "      <td>Tim Belden &lt;Tim Belden/Enron@EnronXGate&gt;</td>\n",
              "      <td></td>\n",
              "      <td></td>\n",
              "      <td>\\Phillip_Allen_Jan2002_1\\Allen, Phillip K.\\'Se...</td>\n",
              "      <td>Allen-P</td>\n",
              "      <td>pallen (Non-Privileged).pst</td>\n",
              "      <td>Here is our forecast\\n\\n</td>\n",
              "      <td>allen-p</td>\n",
              "      <td>5</td>\n",
              "      <td>2001</td>\n",
              "      <td>0</td>\n",
              "      <td></td>\n",
              "      <td>here is our forecast</td>\n",
              "      <td>{'neg': 0.0, 'neu': 1.0, 'pos': 0.0, 'compound...</td>\n",
              "      <td>0.0000</td>\n",
              "      <td>neutr</td>\n",
              "    </tr>\n",
              "    <tr>\n",
              "      <th>&lt;15464986.1075855378456.JavaMail.evans@thyme&gt;</th>\n",
              "      <td>allen-p/_sent_mail/10.</td>\n",
              "      <td>2001-05-04 20:51:00+00:00</td>\n",
              "      <td>(phillip.allen@enron.com)</td>\n",
              "      <td>(john.lavorato@enron.com)</td>\n",
              "      <td>Re:</td>\n",
              "      <td>Phillip K Allen</td>\n",
              "      <td>John J Lavorato &lt;John J Lavorato/ENRON@enronXg...</td>\n",
              "      <td></td>\n",
              "      <td></td>\n",
              "      <td>\\Phillip_Allen_Jan2002_1\\Allen, Phillip K.\\'Se...</td>\n",
              "      <td>Allen-P</td>\n",
              "      <td>pallen (Non-Privileged).pst</td>\n",
              "      <td>Traveling to have a business meeting takes the...</td>\n",
              "      <td>allen-p</td>\n",
              "      <td>5</td>\n",
              "      <td>2001</td>\n",
              "      <td>4</td>\n",
              "      <td></td>\n",
              "      <td>traveling to have a business meeting takes the...</td>\n",
              "      <td>{'neg': 0.0, 'neu': 0.886, 'pos': 0.114, 'comp...</td>\n",
              "      <td>0.9313</td>\n",
              "      <td>pos</td>\n",
              "    </tr>\n",
              "    <tr>\n",
              "      <th>&lt;24216240.1075855687451.JavaMail.evans@thyme&gt;</th>\n",
              "      <td>allen-p/_sent_mail/100.</td>\n",
              "      <td>2000-10-18 10:00:00+00:00</td>\n",
              "      <td>(phillip.allen@enron.com)</td>\n",
              "      <td>(leah.arsdall@enron.com)</td>\n",
              "      <td>Re: test</td>\n",
              "      <td>Phillip K Allen</td>\n",
              "      <td>Leah Van Arsdall</td>\n",
              "      <td></td>\n",
              "      <td></td>\n",
              "      <td>\\Phillip_Allen_Dec2000\\Notes Folders\\'sent mail</td>\n",
              "      <td>Allen-P</td>\n",
              "      <td>pallen.nsf</td>\n",
              "      <td>test successful.  way to go!!!</td>\n",
              "      <td>allen-p</td>\n",
              "      <td>10</td>\n",
              "      <td>2000</td>\n",
              "      <td>2</td>\n",
              "      <td>test</td>\n",
              "      <td>test successful  way to go</td>\n",
              "      <td>{'neg': 0.0, 'neu': 0.513, 'pos': 0.487, 'comp...</td>\n",
              "      <td>0.5859</td>\n",
              "      <td>pos</td>\n",
              "    </tr>\n",
              "    <tr>\n",
              "      <th>&lt;13505866.1075863688222.JavaMail.evans@thyme&gt;</th>\n",
              "      <td>allen-p/_sent_mail/1000.</td>\n",
              "      <td>2000-10-23 13:13:00+00:00</td>\n",
              "      <td>(phillip.allen@enron.com)</td>\n",
              "      <td>(randall.gay@enron.com)</td>\n",
              "      <td></td>\n",
              "      <td>Phillip K Allen</td>\n",
              "      <td>Randall L Gay</td>\n",
              "      <td></td>\n",
              "      <td></td>\n",
              "      <td>\\Phillip_Allen_Dec2000\\Notes Folders\\'sent mail</td>\n",
              "      <td>Allen-P</td>\n",
              "      <td>pallen.nsf</td>\n",
              "      <td>Randy,\\n\\n Can you send me a schedule of the s...</td>\n",
              "      <td>allen-p</td>\n",
              "      <td>10</td>\n",
              "      <td>2000</td>\n",
              "      <td>0</td>\n",
              "      <td></td>\n",
              "      <td>randy   can you send me a schedule of the sala...</td>\n",
              "      <td>{'neg': 0.0, 'neu': 1.0, 'pos': 0.0, 'compound...</td>\n",
              "      <td>0.0000</td>\n",
              "      <td>neutr</td>\n",
              "    </tr>\n",
              "    <tr>\n",
              "      <th>&lt;30922949.1075863688243.JavaMail.evans@thyme&gt;</th>\n",
              "      <td>allen-p/_sent_mail/1001.</td>\n",
              "      <td>2000-08-31 12:07:00+00:00</td>\n",
              "      <td>(phillip.allen@enron.com)</td>\n",
              "      <td>(greg.piper@enron.com)</td>\n",
              "      <td>Re: Hello</td>\n",
              "      <td>Phillip K Allen</td>\n",
              "      <td>Greg Piper</td>\n",
              "      <td></td>\n",
              "      <td></td>\n",
              "      <td>\\Phillip_Allen_Dec2000\\Notes Folders\\'sent mail</td>\n",
              "      <td>Allen-P</td>\n",
              "      <td>pallen.nsf</td>\n",
              "      <td>Let's shoot for Tuesday at 11:45.</td>\n",
              "      <td>allen-p</td>\n",
              "      <td>8</td>\n",
              "      <td>2000</td>\n",
              "      <td>3</td>\n",
              "      <td>hello</td>\n",
              "      <td>lets shoot for tuesday at</td>\n",
              "      <td>{'neg': 0.375, 'neu': 0.625, 'pos': 0.0, 'comp...</td>\n",
              "      <td>-0.3400</td>\n",
              "      <td>neg</td>\n",
              "    </tr>\n",
              "  </tbody>\n",
              "</table>\n",
              "</div>"
            ],
            "text/plain": [
              "                                                                   file  ... comp_score\n",
              "Message-ID                                                               ...           \n",
              "<18782981.1075855378110.JavaMail.evans@thyme>     allen-p/_sent_mail/1.  ...      neutr\n",
              "<15464986.1075855378456.JavaMail.evans@thyme>    allen-p/_sent_mail/10.  ...        pos\n",
              "<24216240.1075855687451.JavaMail.evans@thyme>   allen-p/_sent_mail/100.  ...        pos\n",
              "<13505866.1075863688222.JavaMail.evans@thyme>  allen-p/_sent_mail/1000.  ...      neutr\n",
              "<30922949.1075863688243.JavaMail.evans@thyme>  allen-p/_sent_mail/1001.  ...        neg\n",
              "\n",
              "[5 rows x 22 columns]"
            ]
          },
          "metadata": {
            "tags": []
          },
          "execution_count": 53
        }
      ]
    },
    {
      "cell_type": "code",
      "metadata": {
        "id": "G2l2nAYR80po",
        "outputId": "f7f7f7f1-f256-4b9f-e7e5-01aeed9e5192",
        "colab": {
          "base_uri": "https://localhost:8080/",
          "height": 532
        }
      },
      "source": [
        "df['Sentiment'] = df['compound'].apply(lambda c: 'pos' if c >=0.5 else ('neutr' if 0<=c<0.05  else 'neg'))\n",
        "\n",
        "df.head()"
      ],
      "execution_count": null,
      "outputs": [
        {
          "output_type": "execute_result",
          "data": {
            "text/html": [
              "<div>\n",
              "<style scoped>\n",
              "    .dataframe tbody tr th:only-of-type {\n",
              "        vertical-align: middle;\n",
              "    }\n",
              "\n",
              "    .dataframe tbody tr th {\n",
              "        vertical-align: top;\n",
              "    }\n",
              "\n",
              "    .dataframe thead th {\n",
              "        text-align: right;\n",
              "    }\n",
              "</style>\n",
              "<table border=\"1\" class=\"dataframe\">\n",
              "  <thead>\n",
              "    <tr style=\"text-align: right;\">\n",
              "      <th></th>\n",
              "      <th>file</th>\n",
              "      <th>Date</th>\n",
              "      <th>From</th>\n",
              "      <th>To</th>\n",
              "      <th>Subject</th>\n",
              "      <th>X-From</th>\n",
              "      <th>X-To</th>\n",
              "      <th>X-cc</th>\n",
              "      <th>X-bcc</th>\n",
              "      <th>X-Folder</th>\n",
              "      <th>X-Origin</th>\n",
              "      <th>X-FileName</th>\n",
              "      <th>Content</th>\n",
              "      <th>User</th>\n",
              "      <th>Month</th>\n",
              "      <th>Year</th>\n",
              "      <th>Day</th>\n",
              "      <th>email_Subject</th>\n",
              "      <th>email_body</th>\n",
              "      <th>scores</th>\n",
              "      <th>compound</th>\n",
              "      <th>comp_score</th>\n",
              "    </tr>\n",
              "    <tr>\n",
              "      <th>Message-ID</th>\n",
              "      <th></th>\n",
              "      <th></th>\n",
              "      <th></th>\n",
              "      <th></th>\n",
              "      <th></th>\n",
              "      <th></th>\n",
              "      <th></th>\n",
              "      <th></th>\n",
              "      <th></th>\n",
              "      <th></th>\n",
              "      <th></th>\n",
              "      <th></th>\n",
              "      <th></th>\n",
              "      <th></th>\n",
              "      <th></th>\n",
              "      <th></th>\n",
              "      <th></th>\n",
              "      <th></th>\n",
              "      <th></th>\n",
              "      <th></th>\n",
              "      <th></th>\n",
              "      <th></th>\n",
              "    </tr>\n",
              "  </thead>\n",
              "  <tbody>\n",
              "    <tr>\n",
              "      <th>&lt;18782981.1075855378110.JavaMail.evans@thyme&gt;</th>\n",
              "      <td>allen-p/_sent_mail/1.</td>\n",
              "      <td>2001-05-14 23:39:00+00:00</td>\n",
              "      <td>(phillip.allen@enron.com)</td>\n",
              "      <td>(tim.belden@enron.com)</td>\n",
              "      <td></td>\n",
              "      <td>Phillip K Allen</td>\n",
              "      <td>Tim Belden &lt;Tim Belden/Enron@EnronXGate&gt;</td>\n",
              "      <td></td>\n",
              "      <td></td>\n",
              "      <td>\\Phillip_Allen_Jan2002_1\\Allen, Phillip K.\\'Se...</td>\n",
              "      <td>Allen-P</td>\n",
              "      <td>pallen (Non-Privileged).pst</td>\n",
              "      <td>Here is our forecast\\n\\n</td>\n",
              "      <td>allen-p</td>\n",
              "      <td>5</td>\n",
              "      <td>2001</td>\n",
              "      <td>0</td>\n",
              "      <td></td>\n",
              "      <td>here is our forecast</td>\n",
              "      <td>{'neg': 0.0, 'neu': 1.0, 'pos': 0.0, 'compound...</td>\n",
              "      <td>0.0000</td>\n",
              "      <td>neutr</td>\n",
              "    </tr>\n",
              "    <tr>\n",
              "      <th>&lt;15464986.1075855378456.JavaMail.evans@thyme&gt;</th>\n",
              "      <td>allen-p/_sent_mail/10.</td>\n",
              "      <td>2001-05-04 20:51:00+00:00</td>\n",
              "      <td>(phillip.allen@enron.com)</td>\n",
              "      <td>(john.lavorato@enron.com)</td>\n",
              "      <td>Re:</td>\n",
              "      <td>Phillip K Allen</td>\n",
              "      <td>John J Lavorato &lt;John J Lavorato/ENRON@enronXg...</td>\n",
              "      <td></td>\n",
              "      <td></td>\n",
              "      <td>\\Phillip_Allen_Jan2002_1\\Allen, Phillip K.\\'Se...</td>\n",
              "      <td>Allen-P</td>\n",
              "      <td>pallen (Non-Privileged).pst</td>\n",
              "      <td>Traveling to have a business meeting takes the...</td>\n",
              "      <td>allen-p</td>\n",
              "      <td>5</td>\n",
              "      <td>2001</td>\n",
              "      <td>4</td>\n",
              "      <td></td>\n",
              "      <td>traveling to have a business meeting takes the...</td>\n",
              "      <td>{'neg': 0.0, 'neu': 0.886, 'pos': 0.114, 'comp...</td>\n",
              "      <td>0.9313</td>\n",
              "      <td>pos</td>\n",
              "    </tr>\n",
              "    <tr>\n",
              "      <th>&lt;24216240.1075855687451.JavaMail.evans@thyme&gt;</th>\n",
              "      <td>allen-p/_sent_mail/100.</td>\n",
              "      <td>2000-10-18 10:00:00+00:00</td>\n",
              "      <td>(phillip.allen@enron.com)</td>\n",
              "      <td>(leah.arsdall@enron.com)</td>\n",
              "      <td>Re: test</td>\n",
              "      <td>Phillip K Allen</td>\n",
              "      <td>Leah Van Arsdall</td>\n",
              "      <td></td>\n",
              "      <td></td>\n",
              "      <td>\\Phillip_Allen_Dec2000\\Notes Folders\\'sent mail</td>\n",
              "      <td>Allen-P</td>\n",
              "      <td>pallen.nsf</td>\n",
              "      <td>test successful.  way to go!!!</td>\n",
              "      <td>allen-p</td>\n",
              "      <td>10</td>\n",
              "      <td>2000</td>\n",
              "      <td>2</td>\n",
              "      <td>test</td>\n",
              "      <td>test successful  way to go</td>\n",
              "      <td>{'neg': 0.0, 'neu': 0.513, 'pos': 0.487, 'comp...</td>\n",
              "      <td>0.5859</td>\n",
              "      <td>pos</td>\n",
              "    </tr>\n",
              "    <tr>\n",
              "      <th>&lt;13505866.1075863688222.JavaMail.evans@thyme&gt;</th>\n",
              "      <td>allen-p/_sent_mail/1000.</td>\n",
              "      <td>2000-10-23 13:13:00+00:00</td>\n",
              "      <td>(phillip.allen@enron.com)</td>\n",
              "      <td>(randall.gay@enron.com)</td>\n",
              "      <td></td>\n",
              "      <td>Phillip K Allen</td>\n",
              "      <td>Randall L Gay</td>\n",
              "      <td></td>\n",
              "      <td></td>\n",
              "      <td>\\Phillip_Allen_Dec2000\\Notes Folders\\'sent mail</td>\n",
              "      <td>Allen-P</td>\n",
              "      <td>pallen.nsf</td>\n",
              "      <td>Randy,\\n\\n Can you send me a schedule of the s...</td>\n",
              "      <td>allen-p</td>\n",
              "      <td>10</td>\n",
              "      <td>2000</td>\n",
              "      <td>0</td>\n",
              "      <td></td>\n",
              "      <td>randy   can you send me a schedule of the sala...</td>\n",
              "      <td>{'neg': 0.0, 'neu': 1.0, 'pos': 0.0, 'compound...</td>\n",
              "      <td>0.0000</td>\n",
              "      <td>neutr</td>\n",
              "    </tr>\n",
              "    <tr>\n",
              "      <th>&lt;30922949.1075863688243.JavaMail.evans@thyme&gt;</th>\n",
              "      <td>allen-p/_sent_mail/1001.</td>\n",
              "      <td>2000-08-31 12:07:00+00:00</td>\n",
              "      <td>(phillip.allen@enron.com)</td>\n",
              "      <td>(greg.piper@enron.com)</td>\n",
              "      <td>Re: Hello</td>\n",
              "      <td>Phillip K Allen</td>\n",
              "      <td>Greg Piper</td>\n",
              "      <td></td>\n",
              "      <td></td>\n",
              "      <td>\\Phillip_Allen_Dec2000\\Notes Folders\\'sent mail</td>\n",
              "      <td>Allen-P</td>\n",
              "      <td>pallen.nsf</td>\n",
              "      <td>Let's shoot for Tuesday at 11:45.</td>\n",
              "      <td>allen-p</td>\n",
              "      <td>8</td>\n",
              "      <td>2000</td>\n",
              "      <td>3</td>\n",
              "      <td>hello</td>\n",
              "      <td>lets shoot for tuesday at</td>\n",
              "      <td>{'neg': 0.375, 'neu': 0.625, 'pos': 0.0, 'comp...</td>\n",
              "      <td>-0.3400</td>\n",
              "      <td>neg</td>\n",
              "    </tr>\n",
              "  </tbody>\n",
              "</table>\n",
              "</div>"
            ],
            "text/plain": [
              "                                                                   file  ... comp_score\n",
              "Message-ID                                                               ...           \n",
              "<18782981.1075855378110.JavaMail.evans@thyme>     allen-p/_sent_mail/1.  ...      neutr\n",
              "<15464986.1075855378456.JavaMail.evans@thyme>    allen-p/_sent_mail/10.  ...        pos\n",
              "<24216240.1075855687451.JavaMail.evans@thyme>   allen-p/_sent_mail/100.  ...        pos\n",
              "<13505866.1075863688222.JavaMail.evans@thyme>  allen-p/_sent_mail/1000.  ...      neutr\n",
              "<30922949.1075863688243.JavaMail.evans@thyme>  allen-p/_sent_mail/1001.  ...        neg\n",
              "\n",
              "[5 rows x 22 columns]"
            ]
          },
          "metadata": {
            "tags": []
          },
          "execution_count": 54
        }
      ]
    },
    {
      "cell_type": "code",
      "metadata": {
        "id": "45XQbzCZkhm7",
        "outputId": "954683b0-95c2-4c8e-ccf0-2a24357c13ec",
        "colab": {
          "base_uri": "https://localhost:8080/",
          "height": 296
        }
      },
      "source": [
        "df.to_csv('EnronEmails.csv')"
      ],
      "execution_count": null,
      "outputs": [
        {
          "output_type": "error",
          "ename": "KeyboardInterrupt",
          "evalue": "ignored",
          "traceback": [
            "\u001b[0;31m---------------------------------------------------------------------------\u001b[0m",
            "\u001b[0;31mKeyboardInterrupt\u001b[0m                         Traceback (most recent call last)",
            "\u001b[0;32m<ipython-input-55-0753f8d9c764>\u001b[0m in \u001b[0;36m<module>\u001b[0;34m()\u001b[0m\n\u001b[0;32m----> 1\u001b[0;31m \u001b[0mdf\u001b[0m\u001b[0;34m.\u001b[0m\u001b[0mto_csv\u001b[0m\u001b[0;34m(\u001b[0m\u001b[0;34m'EnronEmails.csv'\u001b[0m\u001b[0;34m)\u001b[0m\u001b[0;34m\u001b[0m\u001b[0;34m\u001b[0m\u001b[0m\n\u001b[0m",
            "\u001b[0;32m/usr/local/lib/python3.6/dist-packages/pandas/core/generic.py\u001b[0m in \u001b[0;36mto_csv\u001b[0;34m(self, path_or_buf, sep, na_rep, float_format, columns, header, index, index_label, mode, encoding, compression, quoting, quotechar, line_terminator, chunksize, date_format, doublequote, escapechar, decimal, errors)\u001b[0m\n\u001b[1;32m   3165\u001b[0m             \u001b[0mdecimal\u001b[0m\u001b[0;34m=\u001b[0m\u001b[0mdecimal\u001b[0m\u001b[0;34m,\u001b[0m\u001b[0;34m\u001b[0m\u001b[0;34m\u001b[0m\u001b[0m\n\u001b[1;32m   3166\u001b[0m         )\n\u001b[0;32m-> 3167\u001b[0;31m         \u001b[0mformatter\u001b[0m\u001b[0;34m.\u001b[0m\u001b[0msave\u001b[0m\u001b[0;34m(\u001b[0m\u001b[0;34m)\u001b[0m\u001b[0;34m\u001b[0m\u001b[0;34m\u001b[0m\u001b[0m\n\u001b[0m\u001b[1;32m   3168\u001b[0m \u001b[0;34m\u001b[0m\u001b[0m\n\u001b[1;32m   3169\u001b[0m         \u001b[0;32mif\u001b[0m \u001b[0mpath_or_buf\u001b[0m \u001b[0;32mis\u001b[0m \u001b[0;32mNone\u001b[0m\u001b[0;34m:\u001b[0m\u001b[0;34m\u001b[0m\u001b[0;34m\u001b[0m\u001b[0m\n",
            "\u001b[0;32m/usr/local/lib/python3.6/dist-packages/pandas/io/formats/csvs.py\u001b[0m in \u001b[0;36msave\u001b[0;34m(self)\u001b[0m\n\u001b[1;32m    204\u001b[0m             )\n\u001b[1;32m    205\u001b[0m \u001b[0;34m\u001b[0m\u001b[0m\n\u001b[0;32m--> 206\u001b[0;31m             \u001b[0mself\u001b[0m\u001b[0;34m.\u001b[0m\u001b[0m_save\u001b[0m\u001b[0;34m(\u001b[0m\u001b[0;34m)\u001b[0m\u001b[0;34m\u001b[0m\u001b[0;34m\u001b[0m\u001b[0m\n\u001b[0m\u001b[1;32m    207\u001b[0m \u001b[0;34m\u001b[0m\u001b[0m\n\u001b[1;32m    208\u001b[0m         \u001b[0;32mfinally\u001b[0m\u001b[0;34m:\u001b[0m\u001b[0;34m\u001b[0m\u001b[0;34m\u001b[0m\u001b[0m\n",
            "\u001b[0;32m/usr/local/lib/python3.6/dist-packages/pandas/io/formats/csvs.py\u001b[0m in \u001b[0;36m_save\u001b[0;34m(self)\u001b[0m\n\u001b[1;32m    326\u001b[0m                 \u001b[0;32mbreak\u001b[0m\u001b[0;34m\u001b[0m\u001b[0;34m\u001b[0m\u001b[0m\n\u001b[1;32m    327\u001b[0m \u001b[0;34m\u001b[0m\u001b[0m\n\u001b[0;32m--> 328\u001b[0;31m             \u001b[0mself\u001b[0m\u001b[0;34m.\u001b[0m\u001b[0m_save_chunk\u001b[0m\u001b[0;34m(\u001b[0m\u001b[0mstart_i\u001b[0m\u001b[0;34m,\u001b[0m \u001b[0mend_i\u001b[0m\u001b[0;34m)\u001b[0m\u001b[0;34m\u001b[0m\u001b[0;34m\u001b[0m\u001b[0m\n\u001b[0m\u001b[1;32m    329\u001b[0m \u001b[0;34m\u001b[0m\u001b[0m\n\u001b[1;32m    330\u001b[0m     \u001b[0;32mdef\u001b[0m \u001b[0m_save_chunk\u001b[0m\u001b[0;34m(\u001b[0m\u001b[0mself\u001b[0m\u001b[0;34m,\u001b[0m \u001b[0mstart_i\u001b[0m\u001b[0;34m:\u001b[0m \u001b[0mint\u001b[0m\u001b[0;34m,\u001b[0m \u001b[0mend_i\u001b[0m\u001b[0;34m:\u001b[0m \u001b[0mint\u001b[0m\u001b[0;34m)\u001b[0m \u001b[0;34m->\u001b[0m \u001b[0;32mNone\u001b[0m\u001b[0;34m:\u001b[0m\u001b[0;34m\u001b[0m\u001b[0;34m\u001b[0m\u001b[0m\n",
            "\u001b[0;32m/usr/local/lib/python3.6/dist-packages/pandas/io/formats/csvs.py\u001b[0m in \u001b[0;36m_save_chunk\u001b[0;34m(self, start_i, end_i)\u001b[0m\n\u001b[1;32m    360\u001b[0m         )\n\u001b[1;32m    361\u001b[0m \u001b[0;34m\u001b[0m\u001b[0m\n\u001b[0;32m--> 362\u001b[0;31m         \u001b[0mlibwriters\u001b[0m\u001b[0;34m.\u001b[0m\u001b[0mwrite_csv_rows\u001b[0m\u001b[0;34m(\u001b[0m\u001b[0mself\u001b[0m\u001b[0;34m.\u001b[0m\u001b[0mdata\u001b[0m\u001b[0;34m,\u001b[0m \u001b[0mix\u001b[0m\u001b[0;34m,\u001b[0m \u001b[0mself\u001b[0m\u001b[0;34m.\u001b[0m\u001b[0mnlevels\u001b[0m\u001b[0;34m,\u001b[0m \u001b[0mself\u001b[0m\u001b[0;34m.\u001b[0m\u001b[0mcols\u001b[0m\u001b[0;34m,\u001b[0m \u001b[0mself\u001b[0m\u001b[0;34m.\u001b[0m\u001b[0mwriter\u001b[0m\u001b[0;34m)\u001b[0m\u001b[0;34m\u001b[0m\u001b[0;34m\u001b[0m\u001b[0m\n\u001b[0m",
            "\u001b[0;32mpandas/_libs/writers.pyx\u001b[0m in \u001b[0;36mpandas._libs.writers.write_csv_rows\u001b[0;34m()\u001b[0m\n",
            "\u001b[0;31mKeyboardInterrupt\u001b[0m: "
          ]
        }
      ]
    },
    {
      "cell_type": "code",
      "metadata": {
        "id": "vZU6g4BTktpq"
      },
      "source": [
        "!cp EnronEmails.csv \"drive/My Drive/\""
      ],
      "execution_count": null,
      "outputs": []
    },
    {
      "cell_type": "code",
      "metadata": {
        "id": "4s8VX8fBLVG5"
      },
      "source": [
        "#df.to_csv('df.csv')\n",
        "files.download('EnronEmails.csv')"
      ],
      "execution_count": null,
      "outputs": []
    },
    {
      "cell_type": "code",
      "metadata": {
        "id": "l9f0tKSX9O0f"
      },
      "source": [
        "nltk.download('punkt')"
      ],
      "execution_count": null,
      "outputs": []
    },
    {
      "cell_type": "code",
      "metadata": {
        "id": "hdOW4ITs9EuD"
      },
      "source": [
        "tokenizer = nltk.data.load('tokenizers/punkt/english.pickle')"
      ],
      "execution_count": null,
      "outputs": []
    },
    {
      "cell_type": "code",
      "metadata": {
        "id": "fElxyoj59L09"
      },
      "source": [
        "#df['email_body'].apply(word_tokenize)"
      ],
      "execution_count": null,
      "outputs": []
    },
    {
      "cell_type": "code",
      "metadata": {
        "id": "2wIeUp5P-RzH"
      },
      "source": [
        "# Convert email body to list\n",
        "data = df.email_body.values.tolist()"
      ],
      "execution_count": null,
      "outputs": []
    },
    {
      "cell_type": "code",
      "metadata": {
        "id": "jgJFwkWnJNiP"
      },
      "source": [
        "for lines in data[:50]: \n",
        "        print(lines)\n",
        "        scores = sid.polarity_scores(lines)\n",
        "        for key in sorted(scores):\n",
        "                print('{0}: {1}, '.format(key, scores[key]), end='')\n",
        "        print()"
      ],
      "execution_count": null,
      "outputs": []
    },
    {
      "cell_type": "code",
      "metadata": {
        "id": "TyD08fJhTh8_"
      },
      "source": [
        ""
      ],
      "execution_count": null,
      "outputs": []
    },
    {
      "cell_type": "code",
      "metadata": {
        "id": "8EhFi3Scw5bY"
      },
      "source": [
        ""
      ],
      "execution_count": null,
      "outputs": []
    },
    {
      "cell_type": "markdown",
      "metadata": {
        "id": "LnenR_AzTlCE"
      },
      "source": [
        "#Topics Labeling"
      ]
    },
    {
      "cell_type": "code",
      "metadata": {
        "id": "_Gd7BO5FxCHL"
      },
      "source": [
        "stop_words = stopwords.words('english')\n",
        "stop_words.extend(['subject', 're', 'edu', 'use', 'FW', 'ga', 'go', 'httpitcappscorpenroncomsrrsauthemaillinkaspidpage', 'forwarded by phillip k allenhouect on    pm', 'cc', 'aa', 'aaa', 'aaaa', 'hou', 'wc', 'etc', 'subject', 'pm', 'enron', 'fwd', 'from',  'You', 'is', 'a', 'your', 'I', 'at', 'be', 'will', 'on', 'PM', 'AM', 'are', 'that', 'this', 'with', 'have', 'for'])"
      ],
      "execution_count": null,
      "outputs": []
    },
    {
      "cell_type": "code",
      "metadata": {
        "id": "_A0P_TehTIiG",
        "outputId": "452ff27f-9dbd-4d8f-de82-6da3a4ea2318",
        "colab": {
          "base_uri": "https://localhost:8080/",
          "height": 54
        }
      },
      "source": [
        "# tokenize - break down each sentence into a list of words\n",
        "def sentence_to_words(sentences):\n",
        "    for sentence in sentences:\n",
        "        yield(gensim.utils.simple_preprocess(str(sentence), deacc=True))  # deacc=True removes punctuations\n",
        "data_words = list(sentence_to_words(data[:1000]))\n",
        "print(data_words[10])"
      ],
      "execution_count": null,
      "outputs": [
        {
          "output_type": "stream",
          "text": [
            "['mr', 'buckner', 'for', 'delivered', 'gas', 'behind', 'san', 'diego', 'enron', 'energy', 'services', 'is', 'the', 'appropriate', 'enron', 'entity', 'have', 'forwarded', 'your', 'request', 'to', 'zarin', 'imam', 'at', 'ees', 'her', 'phone', 'number', 'is', 'phillip', 'allen']\n"
          ],
          "name": "stdout"
        }
      ]
    },
    {
      "cell_type": "code",
      "metadata": {
        "id": "jmNKNBefU-Eu",
        "outputId": "45ed892c-5339-4fa1-e8b7-667c9a4e2738",
        "colab": {
          "base_uri": "https://localhost:8080/",
          "height": 54
        }
      },
      "source": [
        "# Build the bigram and trigram models\n",
        "# Higher threshold fewer phrases\n",
        "bigram = Phrases(data_words, min_count=5, threshold=100) \n",
        "trigram = Phrases(bigram[data_words], threshold=100)\n",
        "\n",
        "# Faster way to get a sentence clubbed as a trigram/bigram\n",
        "bigram_mod = Phraser(bigram)\n",
        "trigram_mod = Phraser(trigram)\n",
        "\n",
        "# See trigram example\n",
        "print(trigram_mod[bigram_mod[data_words[200]]])"
      ],
      "execution_count": null,
      "outputs": [
        {
          "output_type": "stream",
          "text": [
            "['from', 'julie', 'gomez', 'am', 'to', 'hunter', 'phillip', 'allenhouectect', 'cc', 'subject', 'alliance', 'netback', 'worksheet', 'hello', 'men', 'have', 'attached', 'my', 'worksheet', 'in', 'case', 'you', 'want', 'to', 'review', 'the', 'data', 'while', 'am', 'on', 'holiday', 'thanks', 'julie']\n"
          ],
          "name": "stdout"
        }
      ]
    },
    {
      "cell_type": "code",
      "metadata": {
        "id": "_vM4lSr1hkzf"
      },
      "source": [
        "def lemmatization(texts, allowed_postags=['NOUN', 'ADJ', 'VERB', 'ADV']):\n",
        "    \"\"\"https://spacy.io/api/annotation\"\"\"\n",
        "    texts_out = []\n",
        "    for sent in texts:\n",
        "        doc = nlp(\" \".join(sent))\n",
        "        texts_out.append([token.lemma_ for token in doc if token.pos_ in allowed_postags])\n",
        "    return texts_out"
      ],
      "execution_count": null,
      "outputs": []
    },
    {
      "cell_type": "code",
      "metadata": {
        "id": "200lTKZCuAt0"
      },
      "source": [
        "def remove_stopwords(texts):\n",
        "    return [[word for word in simple_preprocess(str(doc)) if word not in stop_words] for doc in texts]"
      ],
      "execution_count": null,
      "outputs": []
    },
    {
      "cell_type": "code",
      "metadata": {
        "id": "nLvdgsXfxVho"
      },
      "source": [
        "def make_bigrams(texts):\n",
        "    return [bigram_mod[doc] for doc in texts]\n",
        "\n",
        "def make_trigrams(texts):\n",
        "    return [trigram_mod[bigram_mod[doc]] for doc in texts]"
      ],
      "execution_count": null,
      "outputs": []
    },
    {
      "cell_type": "code",
      "metadata": {
        "id": "CCYMSMIHxjbq"
      },
      "source": [
        "# Initialize spacy 'en' model, keeping only tagger component (for efficiency)\n",
        "nlp = spacy.load('en', disable=['parser', 'ner'])"
      ],
      "execution_count": null,
      "outputs": []
    },
    {
      "cell_type": "code",
      "metadata": {
        "id": "rhOLJmQiuDcY"
      },
      "source": [
        "# Remove Stop Words\n",
        "data_words_nostops = remove_stopwords(data_words)\n",
        "# Form Bigrams\n",
        "data_words_bigrams = make_bigrams(data_words_nostops)\n",
        "# Do lemmatization keeping only noun, adj, vb, adv\n",
        "data_lemmatized = lemmatization(data_words_bigrams, allowed_postags=['NOUN', 'ADJ', 'VERB', 'ADV'])"
      ],
      "execution_count": null,
      "outputs": []
    },
    {
      "cell_type": "code",
      "metadata": {
        "id": "oB1HAiRQuDQ3"
      },
      "source": [
        "# Create Dictionary\n",
        "id2word = corpora.Dictionary(data_lemmatized)"
      ],
      "execution_count": null,
      "outputs": []
    },
    {
      "cell_type": "code",
      "metadata": {
        "id": "j8qyPkrbxuvp"
      },
      "source": [
        "# Create Corpus\n",
        "texts = data_lemmatized\n",
        "# Term Document Frequency\n",
        "corpus = [id2word.doc2bow(text) for text in texts]"
      ],
      "execution_count": null,
      "outputs": []
    },
    {
      "cell_type": "markdown",
      "metadata": {
        "id": "DwVAeTaULbBa"
      },
      "source": [
        "##Topic Modeling — Gensim LDA Model"
      ]
    },
    {
      "cell_type": "code",
      "metadata": {
        "id": "4xygDtsRx7qg"
      },
      "source": [
        "# Build LDA model\n",
        "lda_model = gensim.models.ldamodel.LdaModel(corpus=corpus,\n",
        "                                           id2word=id2word,\n",
        "                                           num_topics=20,\n",
        "                                           random_state=100,\n",
        "                                           update_every=1,\n",
        "                                           chunksize=100,\n",
        "                                           passes=10,\n",
        "                                           alpha='auto',\n",
        "                                           per_word_topics=True)"
      ],
      "execution_count": null,
      "outputs": []
    },
    {
      "cell_type": "code",
      "metadata": {
        "id": "KKk8Bm2Jyy83",
        "outputId": "223ab71c-6c2f-4aea-dfa0-e5007de2f1bc",
        "colab": {
          "base_uri": "https://localhost:8080/",
          "height": 54
        }
      },
      "source": [
        "print(lda_model.print_topics())"
      ],
      "execution_count": null,
      "outputs": [
        {
          "output_type": "stream",
          "text": [
            "[(0, '0.057*\"today\" + 0.045*\"file\" + 0.044*\"check\" + 0.034*\"phillip\" + 0.028*\"attach\" + 0.024*\"service\" + 0.019*\"socal\" + 0.018*\"item\" + 0.018*\"get\" + 0.018*\"support\"'), (1, '0.027*\"analyst\" + 0.021*\"offer\" + 0.018*\"new\" + 0.017*\"pipeline\" + 0.014*\"include\" + 0.013*\"first\" + 0.012*\"group\" + 0.012*\"may\" + 0.012*\"center\" + 0.011*\"parking\"'), (2, '0.038*\"cost\" + 0.031*\"loan\" + 0.030*\"would\" + 0.017*\"land\" + 0.013*\"construction\" + 0.011*\"total\" + 0.011*\"cash\" + 0.011*\"fee\" + 0.010*\"front\" + 0.009*\"contract\"'), (3, '0.028*\"good\" + 0.025*\"want\" + 0.023*\"may\" + 0.021*\"look\" + 0.016*\"email\" + 0.016*\"see\" + 0.015*\"job\" + 0.015*\"visit\" + 0.015*\"holiday\" + 0.015*\"send\"'), (4, '0.060*\"change\" + 0.032*\"deal\" + 0.029*\"downgrade\" + 0.028*\"book\" + 0.027*\"set\" + 0.022*\"grid\" + 0.022*\"transport\" + 0.017*\"position\" + 0.016*\"different\" + 0.015*\"result\"'), (5, '0.053*\"pay\" + 0.037*\"plan\" + 0.036*\"go\" + 0.029*\"work\" + 0.027*\"would\" + 0.020*\"also\" + 0.018*\"late\" + 0.018*\"way\" + 0.015*\"tomorrow\" + 0.013*\"need\"'), (6, '0.029*\"new\" + 0.026*\"storage\" + 0.024*\"quote\" + 0.023*\"credit\" + 0.023*\"notice\" + 0.020*\"daily\" + 0.020*\"go\" + 0.019*\"call\" + 0.019*\"people\" + 0.019*\"stay\"'), (7, '0.045*\"request\" + 0.032*\"update\" + 0.028*\"forecast\" + 0.027*\"type\" + 0.020*\"normal\" + 0.020*\"application\" + 0.018*\"name\" + 0.018*\"hour\" + 0.017*\"office\" + 0.015*\"list\"'), (8, '0.030*\"pass\" + 0.028*\"reduction\" + 0.024*\"rate\" + 0.023*\"approval\" + 0.020*\"would\" + 0.020*\"power\" + 0.019*\"may\" + 0.018*\"program\" + 0.017*\"detail\" + 0.017*\"utility\"'), (9, '0.065*\"price\" + 0.034*\"gas\" + 0.033*\"high\" + 0.032*\"market\" + 0.031*\"trade\" + 0.022*\"fall\" + 0.017*\"trader\" + 0.015*\"physical\" + 0.014*\"point\" + 0.012*\"follow\"'), (10, '0.030*\"state\" + 0.028*\"report\" + 0.026*\"comment\" + 0.021*\"source\" + 0.021*\"increase\" + 0.019*\"generation\" + 0.015*\"gas\" + 0.013*\"would\" + 0.013*\"weather\" + 0.012*\"may\"'), (11, '0.070*\"power\" + 0.055*\"say\" + 0.026*\"utility\" + 0.024*\"demand\" + 0.024*\"load\" + 0.024*\"iso\" + 0.017*\"see\" + 0.017*\"could\" + 0.015*\"energy\" + 0.014*\"temperature\"'), (12, '0.031*\"list\" + 0.030*\"desk\" + 0.027*\"position\" + 0.023*\"issue\" + 0.019*\"need\" + 0.019*\"trading\" + 0.016*\"request\" + 0.016*\"member\" + 0.014*\"help\" + 0.013*\"policy\"'), (13, '0.040*\"call\" + 0.027*\"time\" + 0.023*\"meeting\" + 0.021*\"would\" + 0.021*\"date\" + 0.020*\"want\" + 0.019*\"discuss\" + 0.019*\"floor\" + 0.017*\"work\" + 0.015*\"give\"'), (14, '0.060*\"email\" + 0.042*\"receive\" + 0.041*\"thank\" + 0.035*\"send\" + 0.035*\"information\" + 0.033*\"need\" + 0.028*\"would\" + 0.024*\"number\" + 0.024*\"phillip\" + 0.022*\"provide\"'), (15, '0.032*\"project\" + 0.027*\"unit\" + 0.021*\"week\" + 0.019*\"bid\" + 0.018*\"would\" + 0.017*\"sell\" + 0.016*\"price\" + 0.014*\"low\" + 0.014*\"year\" + 0.014*\"put\"'), (16, '0.030*\"let\" + 0.029*\"know\" + 0.025*\"line\" + 0.020*\"get\" + 0.019*\"new\" + 0.017*\"s\" + 0.017*\"take\" + 0.016*\"find\" + 0.016*\"right\" + 0.015*\"time\"'), (17, '0.049*\"basis\" + 0.030*\"region\" + 0.024*\"sell\" + 0.023*\"study\" + 0.022*\"gas\" + 0.021*\"actual\" + 0.021*\"socal\" + 0.021*\"spot\" + 0.019*\"market\" + 0.018*\"spread\"'), (18, '0.045*\"gas\" + 0.032*\"plant\" + 0.031*\"power\" + 0.026*\"meeting\" + 0.026*\"phillip\" + 0.025*\"week\" + 0.023*\"start\" + 0.023*\"response\" + 0.021*\"thank\" + 0.020*\"update\"'), (19, '0.033*\"buy\" + 0.027*\"access\" + 0.024*\"use\" + 0.022*\"web\" + 0.020*\"natural\" + 0.019*\"note\" + 0.018*\"site\" + 0.016*\"question\" + 0.016*\"electricity\" + 0.016*\"available\"')]\n"
          ],
          "name": "stdout"
        }
      ]
    },
    {
      "cell_type": "code",
      "metadata": {
        "id": "Jua1j-_xy7Zj",
        "outputId": "ec29b539-5ef1-4de2-e117-8099e98aa15d",
        "colab": {
          "base_uri": "https://localhost:8080/",
          "height": 861
        }
      },
      "source": [
        "# Visualize the topics\n",
        "pyLDAvis.enable_notebook(sort=True)\n",
        "vis = pyLDAvis.gensim.prepare(lda_model, corpus, id2word)\n",
        "pyLDAvis.display(vis)"
      ],
      "execution_count": null,
      "outputs": [
        {
          "output_type": "execute_result",
          "data": {
            "text/html": [
              "\n",
              "<link rel=\"stylesheet\" type=\"text/css\" href=\"https://cdn.rawgit.com/bmabey/pyLDAvis/files/ldavis.v1.0.0.css\">\n",
              "\n",
              "\n",
              "<div id=\"ldavis_el1682139946587881544465664540\"></div>\n",
              "<script type=\"text/javascript\">\n",
              "\n",
              "var ldavis_el1682139946587881544465664540_data = {\"mdsDat\": {\"x\": [-0.02708969327338267, -0.1418367031272253, 0.11755598628660098, -0.12064459787874789, 0.1691551399340878, 0.0002936942633539806, -0.14801317556504093, -0.02603426945334864, 0.13921184532511718, -0.1470061827199863, -0.04378030869948283, -0.11142502065816584, -0.05822920512170535, -0.1104183592094257, -0.0670123671783316, 0.1869345214860842, -0.01544951928639876, 0.15258745809239282, 0.11817930839412834, 0.1330214483894785], \"y\": [0.26502477898548366, 0.15402571327000564, 0.18383983820696048, 0.09469775290040938, -0.03120737503573031, 0.037887036858515674, 0.009657669568072081, 0.028150645093355606, -0.12043366790345272, -0.08542921700867578, -0.11331482348603807, -0.14218622749343746, -0.06111743603682862, -0.09782253119280591, -0.02990412841659488, -0.005865322344276726, -0.04722926529881149, -0.0716762188771652, -0.01584411079771748, 0.04874688900873358], \"topics\": [1, 2, 3, 4, 5, 6, 7, 8, 9, 10, 11, 12, 13, 14, 15, 16, 17, 18, 19, 20], \"cluster\": [1, 1, 1, 1, 1, 1, 1, 1, 1, 1, 1, 1, 1, 1, 1, 1, 1, 1, 1, 1], \"Freq\": [16.372153672175383, 7.5622267549311175, 6.37104619154199, 5.68069205753074, 5.598122768742645, 5.2848419015858505, 5.058758747548656, 4.874913660446028, 4.721842802966474, 4.665603648334216, 4.643266495926729, 4.642823507864914, 4.492230174060171, 3.6992701272360815, 3.3928150677018256, 2.8585077138614237, 2.7546316475465105, 2.6399855695944496, 2.4765730446433736, 2.209694445761423]}, \"tinfo\": {\"Term\": [\"power\", \"price\", \"cost\", \"gas\", \"email\", \"loan\", \"would\", \"today\", \"say\", \"pay\", \"receive\", \"request\", \"file\", \"call\", \"change\", \"thank\", \"project\", \"market\", \"check\", \"phillip\", \"plan\", \"need\", \"high\", \"go\", \"send\", \"unit\", \"meeting\", \"trade\", \"want\", \"list\", \"loan\", \"land\", \"front\", \"design\", \"investor\", \"improvement\", \"investment\", \"equity\", \"interest\", \"partnership\", \"early\", \"bond\", \"area\", \"engineer\", \"consider\", \"management\", \"fund\", \"cause\", \"obtain\", \"appraisal\", \"professional\", \"alternative\", \"entity\", \"phase\", \"mind\", \"equipment\", \"george_richards\", \"extension\", \"present\", \"sub\", \"cost\", \"fee\", \"cash\", \"construction\", \"total\", \"likely\", \"expense\", \"payment\", \"would\", \"amount\", \"profit\", \"buyer\", \"contract\", \"development\", \"estimate\", \"project\", \"include\", \"due\", \"value\", \"name\", \"range\", \"package\", \"model\", \"strong\", \"emergency\", \"city\", \"evening\", \"mix\", \"local\", \"bedroom\", \"proceed\", \"past\", \"actually\", \"lower\", \"quality\", \"attract\", \"comfortable\", \"extra\", \"commitment\", \"designate\", \"competitive\", \"residence\", \"lock\", \"put\", \"push\", \"hear\", \"interim\", \"enormous\", \"university\", \"reward\", \"decline\", \"risk\", \"bid\", \"property\", \"seem\", \"unit\", \"rather\", \"low\", \"project\", \"sell\", \"lot\", \"week\", \"original\", \"tell\", \"site\", \"less\", \"year\", \"close\", \"contract\", \"back\", \"price\", \"believe\", \"would\", \"know\", \"look\", \"market\", \"also\", \"deal\", \"plan\", \"instruction\", \"degree\", \"download\", \"page\", \"privacy\", \"hope\", \"western\", \"enron\", \"winter\", \"will\", \"trade\", \"transmission\", \"zone\", \"season\", \"mark\", \"execute\", \"accurate\", \"attempt\", \"penny\", \"midcontinent\", \"break\", \"mapp\", \"belief\", \"welcome\", \"clarification\", \"cold\", \"indece\", \"physical_bom\", \"reader\", \"concerned\", \"fall\", \"physical\", \"price\", \"average\", \"high\", \"index\", \"clear\", \"trader\", \"market\", \"summary\", \"gas\", \"point\", \"low\", \"follow\", \"trading\", \"line\", \"expect\", \"view\", \"daily\", \"day\", \"firm\", \"value\", \"set\", \"may\", \"floor\", \"play\", \"agree\", \"turn\", \"attorney\", \"stock\", \"face\", \"reference\", \"eastern\", \"suggestion\", \"trip\", \"product_privilege\", \"conf_call\", \"assert\", \"element\", \"round\", \"general\", \"weekly\", \"unable\", \"fundamental\", \"golf\", \"upcoming\", \"regulatory\", \"hearing\", \"discount\", \"outline\", \"especially\", \"crude\", \"opinion\", \"single\", \"several\", \"opportunity\", \"date\", \"resource\", \"spreadsheet\", \"attend\", \"discuss\", \"call\", \"business\", \"table\", \"feel_free\", \"meeting\", \"discussion\", \"time\", \"hold\", \"speak\", \"give\", \"want\", \"review\", \"activity\", \"work\", \"issue\", \"forward\", \"make\", \"take\", \"would\", \"look\", \"gas\", \"may\", \"go\", \"think\", \"contact\", \"find\", \"state\", \"comment\", \"source\", \"generation\", \"weather\", \"consumer\", \"interview\", \"price_cap\", \"asset\", \"article\", \"matter\", \"research\", \"decision\", \"control\", \"never\", \"contain\", \"governor\", \"potential\", \"staff\", \"version\", \"agenda\", \"live\", \"delay\", \"assumption\", \"coverage\", \"chart\", \"situation\", \"exactly\", \"sort\", \"distribute\", \"increase\", \"report\", \"allenhouectect\", \"free\", \"cap\", \"however\", \"well\", \"demand\", \"gas\", \"already\", \"may\", \"order\", \"would\", \"meet\", \"think\", \"web\", \"natural\", \"electricity\", \"outlook\", \"peak\", \"personal\", \"feature\", \"delivery\", \"percent\", \"real\", \"owa\", \"reply\", \"window\", \"client\", \"configure\", \"mailing\", \"debt\", \"exclusive\", \"main\", \"network\", \"proposal\", \"onsite\", \"task\", \"ensure\", \"topic\", \"difference\", \"oil\", \"vote\", \"desktop\", \"calendar\", \"buy\", \"access\", \"account\", \"available\", \"product\", \"note\", \"click\", \"use\", \"view\", \"full\", \"customer\", \"site\", \"internet\", \"able\", \"question\", \"make\", \"follow\", \"last\", \"time\", \"thank\", \"late\", \"continue\", \"accord\", \"architect\", \"ready\", \"house\", \"fine\", \"remember\", \"stop\", \"technology\", \"draw\", \"inspect\", \"detailed\", \"budget\", \"factory\", \"panel\", \"unclear\", \"satisfied\", \"purchasing\", \"benefit\", \"light\", \"claim\", \"buying\", \"favorite\", \"officer\", \"serve\", \"expertise\", \"ever\", \"engage\", \"crack\", \"little\", \"pay\", \"home\", \"bill\", \"way\", \"go\", \"plan\", \"tomorrow\", \"work\", \"build\", \"assume\", \"decide\", \"mention\", \"soon\", \"run\", \"also\", \"less\", \"leave\", \"would\", \"day\", \"help\", \"set\", \"issue\", \"get\", \"need\", \"time\", \"take\", \"may\", \"phillip\", \"member\", \"policy\", \"communication\", \"addition\", \"top\", \"raise\", \"participate\", \"mid\", \"performance\", \"tds\", \"split\", \"realtime\", \"drill\", \"erika_duprehouee\", \"scope\", \"economic\", \"inclusion\", \"tie\", \"isolate\", \"administrator\", \"deep\", \"gable\", \"approximate\", \"appropriate_propose\", \"reviseadd\", \"subpoena\", \"tomorrows_conference\", \"relative\", \"multipurpose\", \"sync\", \"desk\", \"ability\", \"position\", \"trading\", \"valuation\", \"option\", \"goal\", \"list\", \"team\", \"issue\", \"drive\", \"create\", \"group\", \"requirement\", \"tomorrow\", \"request\", \"trader\", \"help\", \"need\", \"meet\", \"system\", \"schedule\", \"well\", \"try\", \"bring\", \"project\", \"work\", \"gas\", \"new\", \"load\", \"iso\", \"temperature\", \"stage\", \"industry\", \"facility\", \"rest\", \"car\", \"spokesman\", \"music\", \"hand\", \"newswire\", \"rolling_blackout\", \"growth\", \"megawatt\", \"megawatthour\", \"security\", \"protect\", \"data_center\", \"public\", \"active\", \"force\", \"recently\", \"regulator\", \"repair\", \"originally_published\", \"exchange\", \"say\", \"consecutive\", \"representative\", \"power\", \"demand\", \"utility\", \"energy\", \"summer\", \"miss\", \"could\", \"come\", \"see\", \"company\", \"last\", \"information\", \"datum\", \"much\", \"internet\", \"get\", \"market\", \"number\", \"event\", \"transfer\", \"employee\", \"person\", \"marketing\", \"appreciate\", \"planning\", \"assistance\", \"easily\", \"guest\", \"wire\", \"tax\", \"promote\", \"executive\", \"id\", \"immediately\", \"tori\", \"team_selection\", \"dexter\", \"advance\", \"link\", \"overnight\", \"rentrollxls\", \"excel_spreadsheet\", \"commercial\", \"liane\", \"role\", \"regular\", \"shortly\", \"rater\", \"associate\", \"form\", \"manager\", \"possible\", \"email\", \"receive\", \"information\", \"number\", \"complete\", \"provide\", \"thank\", \"return\", \"nee\", \"phone\", \"send\", \"feedback\", \"need\", \"company\", \"office\", \"see\", \"phillip\", \"would\", \"reach\", \"regard\", \"help\", \"follow\", \"know\", \"also\", \"s\", \"unsubscribe\", \"news\", \"sheet\", \"night\", \"suppose\", \"map\", \"wholesale\", \"photo\", \"course\", \"director\", \"cst\", \"shockmachine\", \"world\", \"here\", \"transaction\", \"noon\", \"insurance\", \"friend\", \"global\", \"advertisement\", \"guess\", \"frogger\", \"resolve\", \"assoc\", \"blank\", \"classic\", \"game\", \"collect\", \"away\", \"special\", \"offline\", \"right\", \"line\", \"stuff\", \"answer\", \"read\", \"rent\", \"place\", \"let\", \"know\", \"find\", \"program\", \"get\", \"take\", \"review\", \"new\", \"sign\", \"free\", \"time\", \"bring\", \"need\", \"look\", \"short\", \"back\", \"check\", \"item\", \"support\", \"later\", \"money\", \"statement\", \"apply\", \"operation\", \"balance\", \"resume\", \"together\", \"insight\", \"file\", \"receipt\", \"inspection\", \"station\", \"progress\", \"session\", \"authorization\", \"slide\", \"looks_like\", \"attachment\", \"service\", \"expenditure\", \"pivot\", \"provider\", \"fair\", \"organize\", \"install\", \"resistance\", \"today\", \"info\", \"add\", \"socal\", \"attach\", \"morning\", \"do\", \"detail\", \"write\", \"yesterday\", \"choice\", \"phillip\", \"note\", \"back\", \"close\", \"get\", \"let\", \"question\", \"email\", \"follow\", \"send\", \"try\", \"unit\", \"work\", \"need\", \"plant\", \"response\", \"supply\", \"move\", \"rise\", \"drop\", \"save\", \"couple\", \"reflect\", \"rentroll\", \"status\", \"ca\", \"invite\", \"meeting_repeat\", \"ago\", \"description\", \"briefing\", \"definitely\", \"afternoon\", \"fletcher_sturmhouect\", \"step\", \"stab\", \"christi\", \"warm\", \"stupid_decision\", \"cantrell\", \"commentary\", \"environmental\", \"weekend\", \"reschedule\", \"deposit\", \"begin\", \"yet\", \"end\", \"ask\", \"start\", \"have\", \"update\", \"meeting\", \"gas\", \"next\", \"week\", \"power\", \"forward\", \"thank\", \"phillip\", \"send\", \"year\", \"request\", \"want\", \"need\", \"job\", \"holiday\", \"attractive\", \"sound\", \"wish\", \"kid\", \"worth\", \"adjust\", \"roof\", \"net\", \"life\", \"thinking\", \"obvious\", \"reagan_allowed\", \"place_gable\", \"ft_thought\", \"left_side\", \"finishing\", \"exterior\", \"double_porch\", \"detailed_sketch\", \"avoid_leak\", \"simple_farmhouse\", \"bike\", \"auction\", \"busy\", \"subscription\", \"mobile\", \"tip\", \"selling\", \"suggest\", \"visit\", \"good\", \"long\", \"keep\", \"look\", \"want\", \"may\", \"can\", \"be\", \"small\", \"see\", \"email\", \"send\", \"receive\", \"deliver\", \"message\", \"tell\", \"day\", \"point\", \"forward\", \"phillip\", \"last\", \"forecast\", \"normal\", \"application\", \"permission\", \"responsible\", \"emailcalendar\", \"hunter_shively\", \"upgrade\", \"participant\", \"history\", \"forwarded\", \"participation\", \"pda\", \"highlight\", \"button\", \"allenhouect\", \"desktop_laptop\", \"anyone_else\", \"mass_mailing\", \"country\", \"orientation\", \"complex\", \"exodus\", \"hour\", \"yellow\", \"automatically\", \"experience_successful\", \"gather_individual\", \"server\", \"park\", \"migration\", \"type\", \"double\", \"process\", \"request\", \"update\", \"survey\", \"office\", \"computer\", \"assessment\", \"name\", \"ask\", \"business\", \"feedback\", \"access\", \"list\", \"call\", \"full\", \"input\", \"plan\", \"information\", \"also\", \"know\", \"analyst\", \"center\", \"wait\", \"select\", \"choose\", \"card\", \"tile\", \"concrete\", \"trend\", \"stain\", \"basic\", \"porch\", \"cement\", \"gift\", \"join\", \"newsletter\", \"specific\", \"american\", \"easy\", \"foreign\", \"score\", \"guide\", \"various\", \"upstairs\", \"center_garage\", \"saving\", \"pool\", \"editor\", \"broadband\", \"directory\", \"garage\", \"pipeline\", \"space\", \"parking\", \"offer\", \"group\", \"transportation\", \"first\", \"new\", \"include\", \"level\", \"may\", \"change\", \"storage\", \"quote\", \"notice\", \"stay\", \"tenant\", \"strategy\", \"injection\", \"fuel\", \"ill\", \"dollar\", \"transwestern\", \"listen\", \"withdrawal\", \"wade\", \"constraint\", \"people\", \"content\", \"allocation\", \"correct\", \"transmit\", \"rock\", \"negotiation\", \"effective\", \"overage\", \"autowebcom\", \"frequently\", \"fire\", \"arrive\", \"duty\", \"lie\", \"apartment\", \"capacity\", \"post\", \"understand\", \"lease\", \"credit\", \"daily\", \"cut\", \"new\", \"release\", \"regard\", \"go\", \"call\", \"email\", \"see\", \"get\", \"fax\", \"know\", \"need\", \"work\", \"let\", \"phillip\", \"make\", \"downgrade\", \"transport\", \"result\", \"rockie\", \"coverage_initiate\", \"color\", \"official\", \"iron\", \"assistant\", \"lead\", \"measure\", \"authority\", \"ticket\", \"quesclay_basin\", \"sustainable\", \"green\", \"strike\", \"affect\", \"joist\", \"insulation\", \"vent\", \"neutral\", \"advantage\", \"route\", \"background\", \"eliminate\", \"var\", \"offset\", \"citygate\", \"enable\", \"change\", \"grid\", \"impact\", \"book\", \"exist\", \"set\", \"deal\", \"different\", \"short\", \"position\", \"term\", \"order\", \"manage\", \"appear\", \"think\", \"future\", \"show\", \"have\", \"physical\", \"make\", \"curve\", \"get\", \"know\", \"pass\", \"reduction\", \"legislature\", \"authorize\", \"style\", \"improve\", \"reportedly\", \"action\", \"district\", \"co\", \"mou\", \"bankruptcy\", \"deadline\", \"legislative\", \"record\", \"conservation\", \"lack\", \"bond_issuance\", \"rotation\", \"th\", \"dwr\", \"college\", \"crisis\", \"trigger\", \"unnecessary\", \"legislation\", \"taxexempt\", \"voluntary\", \"disclosure\", \"unwilling\", \"wscc\", \"approval\", \"rate\", \"case\", \"mail\", \"program\", \"detail\", \"negotiate\", \"utility\", \"amount\", \"power\", \"may\", \"report\", \"would\", \"represent\", \"payment\", \"study\", \"spot\", \"story\", \"reliability\", \"pricing\", \"subscribe\", \"central\", \"bidweek\", \"announce\", \"similar\", \"monitor\", \"border\", \"infrastructure\", \"seasonal\", \"wide\", \"meantime\", \"hemp\", \"east_basis\", \"street\", \"cheap\", \"parcel\", \"sagewood\", \"serious\", \"student\", \"secure\", \"basis\", \"payout\", \"enclose\", \"poor\", \"energyill\", \"region\", \"volume\", \"actual\", \"print\", \"alert\", \"online\", \"spread\", \"socal\", \"sell\", \"financial\", \"market\", \"gas\", \"enough\", \"index\", \"year\", \"daily\", \"month\"], \"Freq\": [226.0, 255.0, 273.0, 289.0, 212.0, 214.0, 489.0, 142.0, 122.0, 133.0, 142.0, 124.0, 94.0, 193.0, 95.0, 187.0, 194.0, 178.0, 85.0, 290.0, 186.0, 244.0, 128.0, 163.0, 191.0, 136.0, 122.0, 86.0, 168.0, 161.0, 213.30630492754264, 114.82026056063224, 65.74784788214481, 57.96680304738417, 54.23426136148618, 53.48728406480682, 53.41560526191861, 49.88928469300157, 45.0917907800421, 41.78134131672544, 38.73366846658384, 37.60038578197552, 36.28763688445555, 34.44078708165975, 31.191381999966314, 30.609897707190747, 29.97795885193059, 28.88800713305775, 28.1172346019781, 28.090909789841326, 28.022095080637115, 27.259385976825794, 26.008500228533943, 25.44359040449147, 25.304170529297277, 23.08634731950053, 22.663227655080398, 22.385670215824167, 21.728661779696978, 21.158168725197083, 258.1968158690286, 74.09846824194928, 75.4257000870638, 91.79055156984617, 77.64385940574115, 35.76508792990076, 41.04252939503174, 41.091142526871884, 203.26583106377913, 54.790634657134554, 47.970848477436384, 38.09815825535064, 61.074558147566606, 39.47038408833974, 50.49402580879523, 60.688641435310004, 46.91806625913232, 39.95041765889777, 39.72647356843058, 38.56649651121012, 27.381082654681872, 24.75504994250787, 24.35908414704688, 23.069039966953685, 20.177541842616286, 19.5780520739841, 16.44686104983713, 15.142350182011237, 13.595638914030284, 13.488646346471658, 13.431307877597229, 12.663452115990127, 12.370802986759688, 10.23380494730658, 9.82429291098267, 9.606385391962304, 8.475193713216331, 7.8254781534796285, 6.8120484913993655, 6.77240599987511, 6.692772998146017, 6.2255921327202355, 6.141879292547556, 42.75282791524814, 5.708666669037927, 20.922774182679042, 5.657019372455861, 5.483107521542524, 5.295738825685278, 5.295738825685278, 24.281784268438546, 40.17936147498823, 60.556769047900765, 40.10662336344035, 28.230674981248043, 83.78106654945049, 15.068415710263313, 44.47556011563901, 100.04192964085514, 52.57030392755095, 32.88647624773694, 65.37288258119622, 16.780513107252272, 22.025831530964084, 41.82911128856282, 31.17083097320515, 42.901300189226184, 29.237406939207123, 37.0109052285706, 31.72788747894851, 50.33704524543339, 24.10361783397245, 56.751696135129876, 37.231020790002006, 30.455887294886068, 31.84730571136472, 30.82748295347989, 27.031092113501483, 24.668617700552055, 25.712458780995927, 23.40142477882843, 22.412985771867437, 21.875437170273216, 20.527981562635397, 18.980711246574653, 15.800990194619182, 15.215111362385036, 13.83587488407067, 13.719880594891434, 81.65931011972205, 13.116327953709957, 12.512643899527047, 11.615567922193831, 11.130441950463382, 10.474516269229996, 9.795986312004977, 9.20026886109757, 8.991682954701695, 8.817325796070364, 8.721363311392459, 8.6817621273854, 8.469507814657094, 8.317072452231656, 8.31568455737219, 8.266681145036248, 8.098944226288388, 7.826640990504706, 7.639801456355263, 7.531587188784401, 58.94817800149211, 40.34453776634765, 172.37519766169265, 28.57226107969124, 88.3071764873801, 28.57212470770862, 15.344470105860864, 44.308546487793926, 84.95201907851268, 15.884703995767369, 89.40227822067335, 36.100877218872505, 25.296474644198252, 30.75850975878181, 21.012336412791406, 20.843254990269457, 20.66068637866656, 16.78346106772268, 17.693900259607194, 18.485284231175335, 15.41134320690099, 16.78171426659987, 16.166927053541237, 16.572895288088247, 44.27205153127074, 23.614202886053214, 20.925985474962708, 19.74371084542235, 19.308380917251323, 18.69758722115084, 14.221671560929593, 14.210285849102908, 14.059776687434365, 12.912278222366579, 12.25792588796216, 11.931466578441468, 11.931466578441468, 11.931466578441468, 10.794675104126426, 10.009322969998044, 10.003753919883206, 9.783819551294762, 9.450276781445389, 9.233948809442825, 8.099750071738415, 7.752118312560205, 7.5458876982936465, 7.451518939201984, 7.124593699823528, 6.84730076803364, 6.846905031641994, 6.797573947982821, 6.784161468910094, 6.496303591413066, 21.265224416952172, 28.90642544625553, 49.25516417487662, 23.689762007043626, 21.091498351837426, 15.913444635216056, 44.3933502623548, 94.49507637922184, 30.308395676058648, 27.689045240385862, 16.39337560229806, 53.82068870340062, 19.539294207185655, 64.45424050945464, 23.963708866047167, 22.103027098698455, 36.2526105226314, 46.70124952534873, 28.542443031107958, 19.583320433460724, 39.50112876139333, 31.815928035628865, 32.51248156618934, 33.46019947801083, 31.244049154979514, 50.02891504243985, 29.496850877684313, 34.92916854216496, 29.929200623419927, 28.124693526324467, 23.713260789763208, 22.021220206519263, 21.9873239475432, 71.06564241613414, 60.137562432748226, 49.82100838547693, 44.59947110988349, 30.817106684808245, 22.485145871862525, 21.46172458327568, 21.141370972314345, 20.731776309539985, 20.372757603817153, 20.26822655172035, 19.177222503258502, 17.75154653635954, 17.36763310446934, 16.62759861581291, 16.125793355715867, 16.00671959175041, 14.635061901716082, 14.27512705961261, 12.976182928921553, 12.859119000416596, 12.759448591043235, 12.493657927803035, 11.49468364593951, 11.473234507610385, 10.695432541763974, 10.488415131965684, 10.056881127091348, 9.811891443861033, 9.772738324012106, 49.54222405428397, 65.16349315298713, 16.3645204134381, 24.950903519507072, 16.916774177606246, 24.539897069872655, 23.75267774491729, 23.339666906530937, 36.13138179911346, 16.19643280843757, 29.21121438227613, 19.466686740605784, 30.844802108519755, 17.51078132029227, 18.845633421869206, 47.98928485560339, 44.30637967833883, 35.686385600936454, 32.195121134613835, 29.932289750430886, 25.389438635051366, 24.70436052647399, 23.931462860544947, 23.604127379443376, 22.82276614429559, 17.77834931401392, 17.34564393870927, 17.17660496826425, 17.04942107281353, 15.867399818427357, 14.792042160562271, 13.882186873562219, 12.75201243639748, 12.496725273578472, 11.578238791383649, 11.361397623126352, 9.554227117540998, 9.11300058372522, 9.03370218488468, 8.962792283506753, 8.924020292414987, 8.694376818786585, 8.543438882801325, 8.16989776418056, 7.914141659980779, 72.92732833321382, 58.808165635047544, 20.075224197032522, 34.88527329526433, 28.36237890239059, 41.983182375183766, 31.11558105438998, 53.66334393026974, 25.77831855885831, 21.913575190918294, 21.13689514253645, 38.84946925761585, 26.312399599587717, 25.7526357912193, 36.33443379451642, 28.66087037505383, 25.903941373133566, 23.341213748905506, 26.722941324369593, 24.583521736986775, 38.16667186923121, 27.23199353240068, 26.609544242152005, 25.710614231075994, 24.794443673459746, 24.70444908365722, 19.3531523583048, 17.63281277922938, 16.6980117212237, 13.651720155143195, 12.856417503598827, 11.899055289594767, 11.574123061361329, 9.565118024386797, 8.933427312936812, 8.43446144389976, 7.517802138347163, 7.138265986590435, 7.017405463417895, 6.961336772665424, 6.863581279076027, 6.777721112904251, 6.157009757160362, 6.121754936228991, 5.831875237484991, 5.773434667271021, 5.713071097875462, 5.411766608498483, 5.379935484088007, 5.120937468899278, 21.05483584293974, 111.64433770556262, 28.101777825653045, 22.07012231639722, 37.66078773131869, 75.85914503574672, 79.10468333607238, 32.23644164673036, 61.928747993319, 19.78139989552442, 13.738453472210324, 11.428028280435809, 18.383832800528655, 19.223727179703843, 15.684264828375388, 42.15507553243777, 23.81133876603478, 19.348281613513144, 57.98200357012515, 27.112552002481408, 26.581697914612313, 20.385222622929973, 23.74798955214587, 26.416866319546855, 28.294260839715605, 24.759149477065225, 22.897300389748107, 22.815043078454558, 22.75410167413727, 31.649957743787322, 25.46718699301013, 25.387108956963438, 24.123043539154807, 20.59039892995286, 13.186857415996146, 12.828548615561145, 11.189523409747295, 10.915199978453144, 10.879966629149145, 10.820384305370563, 10.141284311656156, 9.034515849178158, 8.744586800808994, 8.691329822277277, 8.553791507640549, 8.172198075467463, 8.170449783432375, 7.310584171908714, 7.278424800000106, 6.651613251899443, 6.651613251899443, 6.448972639880126, 6.271428034336281, 6.271428034336281, 6.271428034336281, 6.271428034336281, 6.174355613151977, 5.846020582428705, 5.846020582428705, 60.67303034158252, 23.48810902594483, 55.97579177566766, 38.32456108337879, 12.096775039734759, 19.40259243601877, 14.559046585541866, 64.03176210653001, 23.41113674579769, 46.92929969917371, 13.420279540900214, 22.016713058069417, 21.653445862372664, 17.9175895766885, 23.81475220705086, 33.40846633081205, 24.398880955304087, 28.755347712022516, 39.484375932510154, 17.77582329807977, 16.180269188739054, 18.014089984797838, 17.674665204733163, 19.96694262272474, 17.655729010699282, 24.121370187472824, 21.735157408394628, 22.43241193980167, 20.51318001066892, 47.1416687808773, 46.87506960127933, 27.46693379505296, 19.314071921048384, 17.872244767624597, 16.46386471549849, 15.167509757719293, 14.123745559495642, 12.75792184888109, 12.345463647924376, 12.241947800462745, 12.076879804329836, 11.958461519201396, 11.841148581659933, 10.734008365305199, 10.40330178214037, 10.39530064599125, 9.774736642605726, 8.59280399601003, 8.585817243681378, 8.477238665376655, 8.194679479472962, 7.80424645474851, 7.578088019971304, 7.570461305386352, 7.261573162620807, 6.921183991865323, 108.97119629749642, 6.311980811621252, 6.311980811621252, 138.6442458380952, 47.44516433429292, 51.588459152635075, 29.229956764498777, 12.874157003613306, 13.145568074577028, 32.884930519441404, 26.407205915219894, 34.008753858104306, 19.349990664082533, 20.882675000208373, 22.510303456747717, 13.878736951467719, 16.1895400475287, 13.960583208329806, 15.911183571402917, 15.520807513885776, 13.06131449379318, 22.04716308026929, 20.996154931685396, 20.941701966072564, 19.88176388701804, 15.557050127804494, 13.490221533481458, 10.090142335845838, 9.910523266708733, 9.809675698929324, 8.802052522630945, 8.07450922538201, 7.805352078489156, 7.579999345512295, 7.18743738679027, 7.0474959524969485, 7.006185491305927, 6.827870141176125, 6.395059489632884, 6.110658544695374, 5.905125336641168, 25.299517114566243, 5.791734920710367, 5.331480348545774, 5.125218564932124, 9.12348371757568, 4.5786039570626595, 4.496042954913542, 4.2937903796120445, 4.200811427874624, 3.855377186290205, 14.668916066901788, 25.4838317510472, 37.62250885252725, 31.912088865485828, 117.00963794636431, 81.48582254172439, 67.66822409200375, 47.1213873820916, 41.32184603527796, 43.825335156109745, 80.05279204023726, 21.36846657532532, 23.112960631798146, 17.072748761554152, 68.2351493891294, 20.34699002275087, 63.718841593016684, 21.92238555037672, 21.700539058908358, 32.95390924502104, 46.23331868871572, 55.29560387506279, 16.14176265528605, 20.653075282890285, 22.705256103909818, 21.111508643126847, 19.21867387910439, 19.147606667089295, 33.61332857478997, 27.420552585843414, 21.44759780187322, 20.381158207361445, 17.38339836485828, 15.708028101086885, 14.807969187939594, 14.583908593371605, 14.549053799491185, 13.356367676699081, 11.907696331793963, 11.820074148412026, 10.354861775106635, 10.048376134610052, 9.655490794558785, 9.642746423248038, 9.561930574434257, 9.391483982336107, 8.891894688061948, 8.814674007872446, 8.15097100335175, 8.080222349514525, 7.985344774312289, 7.573082659007949, 7.55153288035166, 7.46846993820574, 7.463388001556516, 23.53178183687895, 7.256231656747673, 6.799965996644303, 24.928028232319896, 20.986697003533468, 30.19661186907555, 48.62788759064284, 14.392523464530793, 22.65282048276079, 26.859182229739062, 22.738172080881906, 24.63297502927066, 59.168361804884206, 55.76545473909276, 30.819187734757357, 19.981855053101015, 38.5569628186396, 32.956458107373265, 25.142196917840735, 36.33661775791343, 19.294717946182907, 18.61960147846495, 28.355478942371185, 19.38540401918659, 25.24075278695336, 21.35977774416891, 16.012944300040274, 16.034473749142894, 84.44012132719614, 35.7840236266238, 34.81994541910849, 32.852637115795815, 28.809315656348957, 21.613125230007064, 21.072249879884254, 20.7820835777134, 18.000760031710243, 17.120491222117508, 15.860540525280026, 11.900628235619575, 88.26149595752405, 10.849218080513705, 10.494222951329391, 9.36686069875297, 8.64276036582303, 7.9003335594345, 7.853061466890886, 7.618832241584144, 6.307263860024796, 6.257870016289784, 46.19654673465353, 5.804973031887168, 5.40125983920679, 5.3876850584844815, 5.357283530502315, 5.237179855120931, 5.043774351428018, 4.930659309787769, 111.07287350993262, 15.379941520052958, 31.12396235418676, 37.37352741078869, 54.51431733666107, 17.712568670184222, 25.14525507667178, 23.490760748029835, 15.640230746686445, 18.69466888867079, 12.560461687135824, 66.48219022330339, 25.942493261825856, 28.24341475459672, 22.29846396484643, 35.38179706012415, 28.084796122842985, 28.546182370634984, 33.53565217847667, 25.443386189787223, 27.382788744409293, 22.03548065175233, 22.876691531812813, 20.51855458111085, 19.26927362307277, 60.13976841079839, 43.83322785828786, 32.98469083818227, 28.73323184898987, 26.468695045383022, 21.990204740496964, 21.502204285006226, 20.59604584956087, 19.389658652534685, 17.783395354116085, 14.098935095704812, 13.634050543278946, 13.465927017315993, 10.969225915758752, 10.601868900356221, 26.976358529293872, 9.563704007732191, 9.443778241082807, 22.398355503000108, 7.327430075774623, 7.237251479799028, 7.044152306263162, 7.044152306263162, 5.724055828166392, 5.530751667515539, 5.238711900788424, 4.910682690517064, 4.8979975283885695, 27.126755259074226, 4.636167792366738, 21.174352526267242, 36.73401269118641, 13.1426977398736, 30.04189406713958, 28.601977156923727, 43.99299367931952, 16.638102184665307, 37.35787283713029, 48.298233595004255, 84.70018639111245, 27.3844323669948, 47.62355412745322, 58.16094430893668, 34.37655072650678, 39.94280144195246, 48.13112844852514, 32.76708805563252, 26.60524705905608, 27.031155212833607, 26.12554399245854, 25.46858170548982, 23.760265410170362, 22.768969671679553, 19.42261699343438, 17.243843835533546, 16.08079356708565, 14.44741518562332, 12.502609705232262, 11.844098806256213, 11.437825918925906, 9.378818072972557, 9.026731364361947, 8.75512741759703, 8.75512741759703, 8.75512741759703, 8.75512741759703, 8.75512741759703, 8.75512741759703, 8.75512741759703, 8.75512741759703, 8.75512741759703, 8.75512741759703, 8.75512741759703, 8.75512741759703, 8.570602153708807, 8.36612284300411, 7.659169392276209, 7.596815155503607, 6.355648968858376, 6.355648968858376, 6.296606009696011, 12.552569685941153, 23.481467352875725, 43.54101147401108, 21.222827618701885, 16.923263213541386, 32.18114670704637, 38.38875565238063, 35.61091910640893, 14.404250522445, 13.745372503559992, 12.875747501328474, 24.29927230019295, 24.841409067400168, 22.46033556343076, 20.413973198733725, 10.659482762607206, 11.889278309876065, 12.673195210224344, 17.2728074368217, 14.713873694919112, 15.088736234744484, 15.500980219417599, 11.908535548708471, 39.11626301050815, 28.59670869438059, 27.654193320526424, 20.88392238000191, 16.514744345485216, 15.451695806336982, 14.58173483814622, 13.70844905388462, 12.890714634561963, 12.29181992592258, 9.974783599046425, 9.404829843004599, 9.399424045945818, 8.059462430104952, 7.845782918470463, 7.790378120085872, 7.747718670042732, 7.747718670042732, 7.2511472226335, 7.232650127348215, 6.451405498382045, 6.2589642727250805, 6.098435603544713, 25.00029291454926, 5.409439435721123, 5.041575209954854, 5.041575209954854, 5.041575209954854, 4.44908288492289, 4.4468890080755115, 19.796917471523564, 38.724991049676035, 12.745859343761602, 21.260224745998798, 63.43230402416889, 45.29244028736293, 15.508130531860276, 24.237481340527058, 17.138946212509705, 10.274934076701193, 25.413806019899727, 16.99164286412581, 16.84689980897518, 14.46635130854567, 18.13629596356395, 21.75114347791984, 18.492225578505643, 12.48821250665976, 11.444453974651672, 16.681117190968017, 13.261366925909478, 13.355034837916296, 12.80763384537325, 32.0261798559174, 14.22261811038965, 11.86490423217855, 10.805415529589945, 10.555702245017207, 10.13912518288832, 10.129619066074753, 9.693166488089672, 8.610708470831703, 8.45279234658527, 8.07370576270298, 7.919498637105631, 7.475086285475018, 7.332349355010059, 7.1758088086969165, 7.1420295540536, 6.876643692105844, 6.854297920850642, 6.591458518983197, 6.408499422754294, 6.242672473854697, 6.179642302600787, 6.012667833573257, 5.8882784316685965, 5.875206825751755, 5.865597804806503, 5.7825964446658595, 5.4381067860948775, 5.259778375791834, 5.168126949965539, 12.11158379170148, 20.024300768409745, 12.260970554027539, 13.293768706049605, 25.238636679649144, 14.406720833076639, 9.400074383983709, 15.353121788612428, 21.366333067248696, 16.52763172345244, 9.146601483053868, 14.249745864456218, 9.427150964103708, 29.686109667452637, 27.78324147032987, 26.238266612246115, 21.42144508549836, 19.90059350777362, 15.537337250817693, 12.171185515788832, 10.168777429707964, 9.707639195181619, 9.076444805935227, 7.935080880478184, 7.182430137869652, 7.1252716213421445, 6.773731789593496, 6.6928407551143465, 21.54248601929161, 5.514286861774687, 5.45060170180101, 5.058377017538582, 4.74709536220457, 4.641809282564559, 4.082834111299931, 4.014264421234004, 3.8299893927151016, 3.769116489216484, 3.6139867616255232, 3.2664285254351983, 3.1391327129976183, 3.13852191222504, 2.970929597567435, 13.473097580078262, 19.737485312346383, 17.25450807642021, 17.18705037073578, 9.293574698125928, 26.642099459326403, 22.53285913612694, 6.04305218596452, 33.34211920061639, 11.688012355278161, 16.047638649239886, 22.467526234534215, 21.890079097123195, 17.73374681159457, 13.957775899491434, 13.706100251977244, 9.284541600609925, 12.571009966048287, 13.419210961677843, 12.721910722427967, 11.658674621285405, 12.254092541233902, 11.386557114830417, 32.215990030630095, 24.456308758201924, 16.02274997513204, 12.049142774270653, 11.49971917969889, 9.979167492273897, 9.271068262696001, 7.131008733257387, 7.062674203221206, 7.047257066092084, 7.018028154984967, 6.568518253209753, 6.277301781581649, 5.731692016140758, 5.647582288778227, 5.332036217522146, 5.157315170464067, 5.093904096568818, 4.767295146765682, 4.767295146765682, 4.767295146765682, 4.556362244180236, 4.51915943008694, 3.8746318107194084, 3.654963677726992, 3.4968002177805966, 3.435251365140656, 3.435251365140656, 3.4313900172605107, 3.3793351538672898, 66.69528216394944, 24.48214046402315, 12.34448027732223, 31.20150942695328, 9.31489955702578, 29.504745888033543, 34.82952329553155, 17.73358831072845, 13.224827524131152, 19.154506794406657, 13.229350281629563, 13.358073179390997, 8.873395408641663, 7.854584691044574, 12.173183662509086, 8.218563926424931, 9.622037121383409, 7.53383005115192, 7.944241012308778, 7.843396979458888, 7.356246577380854, 7.620289002735285, 7.417152257327926, 31.27321299726073, 28.51035774801257, 17.772281552574242, 16.75549501092853, 15.346809158632034, 15.137705078382732, 14.536969633711317, 13.554160215997147, 12.501444783826182, 11.801737905735086, 10.87475286794237, 10.87475286794237, 8.886300772956037, 8.886300772956037, 8.853209413715664, 8.070470529386832, 7.639439021408733, 7.639439021408733, 7.3968382891523135, 6.9373370124606675, 6.5104326474723235, 6.181901656065933, 5.808330638524258, 5.52890754036858, 5.355722230373304, 5.242436878097747, 5.106228147658516, 4.933043801498594, 4.932905973042841, 4.932905973042841, 16.168621446331535, 23.480047055919467, 24.757383353718545, 10.726297163565881, 15.208011084511819, 18.915280406275663, 17.975872494593418, 8.297211350878088, 17.77241456185322, 16.081348082614486, 20.650108865969063, 19.594899991734927, 14.541390746484323, 20.752053731458663, 9.791359520259743, 9.15895919267323, 21.403604423988227, 19.081307086834652, 14.236890351584869, 13.17388676250635, 11.166441241422966, 10.225132184701668, 9.951972635066427, 9.775059348397447, 9.628703420347993, 8.7502488027155, 8.349486718198172, 8.177580184178359, 8.026988897695865, 6.517565200220606, 6.200615484272768, 6.099374078269289, 6.0896701626229115, 5.6397289019207735, 5.28476587656875, 5.158971861236851, 5.0245506142703835, 4.953263727036368, 4.655441491752011, 4.619962087651978, 4.246099044033537, 45.556640148166665, 4.008146287610356, 3.8332001851881934, 3.771285264695955, 3.7248167179082907, 27.67177151034701, 9.281098739043136, 19.66287468792308, 12.778872725860378, 7.1447177276317335, 12.269866919392156, 16.712225593442664, 19.5571395021243, 21.85086343434465, 10.729136398348254, 17.849145431868703, 20.459995804129885, 10.043458097162574, 10.022820506974542, 12.657324388616582, 10.341922300989117, 9.04633002619322], \"Total\": [226.0, 255.0, 273.0, 289.0, 212.0, 214.0, 489.0, 142.0, 122.0, 133.0, 142.0, 124.0, 94.0, 193.0, 95.0, 187.0, 194.0, 178.0, 85.0, 290.0, 186.0, 244.0, 128.0, 163.0, 191.0, 136.0, 122.0, 86.0, 168.0, 161.0, 214.11171289268427, 115.62566852577395, 66.5532558764209, 58.77221102690192, 55.03966932880068, 54.292692029948505, 54.22101322706029, 50.69469265814325, 45.897198761536714, 42.58674928571238, 39.539076487300896, 38.40579377397488, 37.09304493487732, 35.24619506203446, 31.99678998328021, 31.41530572892505, 30.783366820618678, 29.69341519294157, 28.922642572867968, 28.8963177585121, 28.827503080990265, 28.064793963470134, 26.813908207268216, 26.248998373179557, 26.10957853081836, 23.891755288231366, 23.468635625970265, 23.1910781848111, 22.53406977170658, 21.963576690338755, 273.60954491561625, 78.29199054238468, 79.77187580121137, 97.81748110650268, 82.69232723670211, 37.88031166749741, 45.325836637671, 51.01570431236876, 489.5535249390491, 79.00803037263834, 65.97505722230669, 46.58562227092893, 102.55377807736687, 49.55840972677266, 77.68805297132761, 194.8738645085539, 99.85774977539248, 65.66780780775876, 72.03028196344816, 88.0100920029709, 28.190135015517054, 25.564152767500044, 25.16813649663825, 23.878092333088507, 20.98659420868058, 20.387104511965017, 17.25591723205687, 15.951402592098027, 14.40469126818102, 14.297699994528672, 14.240360229223308, 13.472505927384992, 13.179855369622247, 11.04285729893266, 10.633345281724596, 10.415437744800412, 9.284246060792821, 8.63453062620207, 7.621100845245986, 7.581458348984308, 7.501825375184603, 7.0346445271672025, 6.950931657743315, 48.42470665409388, 6.5177190178008715, 23.891875821296182, 6.466071724081938, 6.292159904280576, 6.10479117108896, 6.10479117108896, 29.610171740222494, 51.439115981323894, 85.04420542400364, 55.52439069764417, 38.294754643400076, 136.8054308469156, 19.514994468968318, 70.53878235636401, 194.8738645085539, 95.89908028216263, 55.198077509179356, 150.46787329125016, 23.36874703598173, 35.47131724660793, 101.61378183093582, 63.838273931144464, 117.47383291666684, 61.1880299263458, 102.55377807736687, 86.70055408640177, 255.36575315146598, 53.40180485235774, 489.5535249390491, 169.84247814381445, 114.17718628041287, 178.2545232621839, 177.96616362349366, 97.82245341074729, 186.94094152732757, 26.531269275588002, 24.220235260642745, 23.231796291375613, 22.694247691542344, 21.346792124579913, 19.799521830918973, 16.619800684943975, 16.03392188120875, 14.654685368057795, 14.538691107727182, 86.68399119642186, 13.935138439541387, 13.331454381341366, 12.434378467104189, 11.949252455347876, 11.293326764641407, 10.614796793819297, 10.019079346441325, 9.810493440105178, 9.636136289497367, 9.540173811148618, 9.50057260919972, 9.288318314098769, 9.135882973784788, 9.134495094847193, 9.085491636740507, 8.917754721410724, 8.645451472319026, 8.458611970673294, 8.350397678033143, 67.35022929177075, 49.06772170778841, 255.36575315146598, 36.0643429394227, 128.5284585645643, 41.47291619709766, 19.699245209071773, 75.97860584847585, 178.2545232621839, 22.248521173708184, 289.15551104458183, 89.8780311897369, 70.53878235636401, 135.13984481132718, 60.106819343496184, 70.24787399426147, 73.33339963530901, 43.33867666262966, 62.81527176777121, 110.09959099416386, 32.25684464737582, 72.03028196344816, 66.79451698128354, 205.450750381416, 45.086479207283155, 24.428630535743697, 21.74041312960571, 20.558138491628775, 20.12280855470807, 19.512014920617098, 15.036099258319927, 15.024713501470071, 14.874204613897088, 13.726705911560236, 13.072353534658847, 12.745896476262905, 12.745896476262905, 12.745896476262905, 11.609102741583179, 10.823750607454796, 10.818825307968359, 10.598247221270917, 10.264704424650336, 10.048376478398247, 8.914177918890044, 8.566545964739387, 8.3603153357504, 8.265946576658736, 7.939021342812348, 7.6617284131952665, 7.661332675526793, 7.612001592867611, 7.5985891085396515, 7.310731272520754, 24.752241056227085, 34.9714341817011, 62.45024912494004, 28.832863856341625, 25.596501389930385, 20.120719229524994, 72.91508915435269, 193.16242232690908, 47.926084561380605, 42.84340895057857, 22.03571385352448, 122.1948792936531, 28.75945398510119, 194.53466872023387, 42.425824348764166, 38.00294091855027, 97.70294358933398, 168.79940768472213, 75.54167911954913, 35.128362229777565, 189.5187065579909, 114.08420928957776, 123.17311570766387, 133.81885101368397, 127.55896352523997, 489.5535249390491, 114.17718628041287, 289.15551104458183, 205.450750381416, 163.81306616864524, 107.81179454761127, 67.72922855340005, 69.34827945555332, 71.88352009019289, 60.95544009513482, 50.63888605898265, 45.417348782803316, 31.634984374475085, 23.303023542856852, 22.279602247835072, 21.95924863470093, 21.549654018903208, 21.1906352843251, 21.0861042381945, 19.995101545831506, 18.569446304420474, 18.185510774210076, 17.44547630540931, 16.943671037927896, 16.824597261666963, 15.45293958502672, 15.093004757278225, 13.79406059974007, 13.676996685050156, 13.577326304548686, 13.311535600125524, 12.312561312513804, 12.291112202272881, 11.513310225325169, 11.306292797941445, 10.874758808177287, 10.629769125547742, 10.590616004148904, 56.21511927944844, 115.27249084330195, 21.259122570191632, 44.3463035711654, 24.312332971501423, 49.398707118646215, 52.35277141120369, 71.5640975348803, 289.15551104458183, 27.956412469515264, 205.450750381416, 53.71237372195341, 489.5535249390491, 47.76435590551358, 107.81179454761127, 48.80848663562197, 45.12558146805815, 36.505587395661294, 33.014322914805604, 30.751491550174297, 26.208640426031224, 25.523562320129585, 24.7506646488535, 24.42332916775193, 23.64196792291863, 18.597551089047798, 18.164845721073842, 17.99580677051611, 17.868622880377195, 16.686601593461237, 15.611243953358947, 14.701388679260155, 13.571214220722776, 13.316064569925594, 12.397440580867524, 12.180599412825575, 10.373428935229539, 9.932202375669426, 9.852903978677285, 9.781994067701401, 9.743222081465717, 9.513578610426194, 9.362640784313502, 8.989099555453965, 8.733343439028074, 80.67533277275484, 77.71992404231518, 25.738024000467103, 51.1177616491328, 42.899099344232035, 72.96070351018933, 49.86667180736406, 110.11383901460577, 43.33867666262966, 35.177250170014574, 34.089980359398275, 101.61378183093582, 50.81224676382796, 55.52857116685651, 132.82016548077647, 133.81885101368397, 135.13984481132718, 91.10703733248735, 194.53466872023387, 187.99726580718436, 38.986465606729354, 28.05178727698099, 27.42933833224745, 26.53040796069827, 25.614237403689376, 25.524242810045404, 20.17294607817558, 18.45260651098862, 17.517805455288933, 14.471513904558314, 13.676211241597445, 12.718849033651113, 12.393916785245523, 10.384911744257584, 9.753221041008704, 9.254255163770548, 8.337598916528789, 7.95805971222319, 7.837199195661399, 7.781130659900971, 7.683375017379374, 7.5975148363641996, 6.976803500957263, 6.941548663642621, 6.6516689650729095, 6.593228420912778, 6.532864856715394, 6.231560336146129, 6.199729203958792, 5.940731196312908, 24.501051062240823, 133.02650016365104, 33.11876579479412, 26.227917611540885, 51.445948336205475, 163.81306616864524, 186.94094152732757, 59.85344506456962, 189.5187065579909, 38.76273886761055, 22.503432046692563, 17.026203600762198, 37.85029243498238, 41.65629189190801, 29.425973173027323, 177.96616362349366, 63.838273931144464, 46.17937880753603, 489.5535249390491, 110.09959099416386, 108.18849027853022, 66.79451698128354, 114.08420928957776, 175.5510089373584, 244.23213185548167, 194.53466872023387, 127.55896352523997, 205.450750381416, 290.15941555081855, 32.46218436371659, 26.279413612600408, 26.199335561772585, 24.93527017020676, 21.402625579522056, 13.999084011715121, 13.640775219399382, 12.00175005301845, 11.727426620543742, 11.692193221338684, 11.632610911882999, 10.95351096212695, 9.846742449799617, 9.556813392998533, 9.503556414466816, 9.366018130289952, 8.984424667657002, 8.98267640273836, 8.122810789895013, 8.090651418013701, 7.463839844088979, 7.463839844088979, 7.261199261196389, 7.083654630843821, 7.083654630843821, 7.083654630843821, 7.083654630843821, 6.986582226762458, 6.658247174618241, 6.658247174618241, 76.87708394576282, 29.728004702035626, 80.4044981995888, 60.106819343496184, 15.66188896213761, 30.630697267896657, 21.246906870772136, 161.64185373851, 42.09045484146806, 114.08420928957776, 20.384420291018007, 43.180434895527725, 42.76108829362323, 33.87655168524241, 59.85344506456962, 124.59657786133137, 75.97860584847585, 108.18849027853022, 244.23213185548167, 47.76435590551358, 37.09855618975471, 55.08412772886081, 52.35277141120369, 78.1728256916736, 55.92377763642117, 194.8738645085539, 189.5187065579909, 289.15551104458183, 179.72851087853292, 47.96417264323842, 47.69757345879769, 28.289437657414076, 20.13657578209585, 18.694748639117968, 17.286368573016855, 15.990013704139532, 14.946249493133585, 13.58042570639946, 13.167967572825882, 13.064451674185426, 12.899383661848207, 12.780965376719767, 12.66365244560635, 11.55651223250908, 11.225805644501495, 11.217804523122371, 10.597240533502962, 9.415308249590188, 9.408321141641634, 9.299742532055784, 9.017183345192436, 8.626750324943904, 8.400591877489672, 8.392965172840613, 8.084077020139173, 7.743687856399252, 122.25971508224933, 7.134484673982374, 7.134484689448671, 226.19933776209652, 71.5640975348803, 87.04797233112731, 46.84384108321178, 17.52679815384567, 18.749709641426616, 83.5169436204247, 59.19880645814524, 133.7972258005593, 45.86637043115395, 91.10703733248735, 115.60645695326848, 32.91203956179593, 67.56836707798469, 50.81224676382796, 175.5510089373584, 178.2545232621839, 87.09848416142508, 22.8624245002108, 21.811416339602506, 21.756963369734432, 20.69702535256832, 16.372311655094933, 14.305482937143333, 10.905403747037676, 10.725784677370191, 10.62493737787388, 9.617313929998335, 8.889770629043886, 8.620613493445976, 8.395260775923763, 8.002698821632492, 7.862757356158822, 7.821446905512461, 7.643131711772299, 7.210320893294758, 6.925919948357247, 6.720386792464229, 28.84953695353859, 6.606996694288102, 6.146741755622278, 5.940479968593997, 10.58044569401494, 5.393865360724533, 5.311304363733304, 5.109051783273918, 5.016072846855622, 4.670638589952078, 17.832612738395028, 32.30021447125029, 52.229983007655576, 44.82966250582362, 212.86162849907817, 142.1935918833229, 115.60645695326848, 87.09848416142508, 74.16629560662753, 81.59941375492404, 187.99726580718436, 33.928840223260075, 38.55657883610275, 26.312957066256484, 191.00993233661595, 35.58486341807823, 244.23213185548167, 45.86637043115395, 46.70954247176712, 133.7972258005593, 290.15941555081855, 489.5535249390491, 32.413570179487735, 69.83927903881916, 108.18849027853022, 135.13984481132718, 169.84247814381445, 177.96616362349366, 34.43236473445702, 28.23958873015335, 22.26663395856842, 21.200194346686686, 18.20243451196038, 16.52706426063053, 15.627005344868055, 15.402944751491829, 15.368089945973932, 14.175403816024328, 12.726732474478473, 12.639110310182748, 11.173897914431882, 10.867412294774644, 10.474526946428545, 10.461782596700449, 10.380966719945716, 10.210520125849051, 9.710930834212487, 9.633710176844374, 8.97000714967658, 8.899258488839772, 8.804380913637537, 8.392118798333197, 8.370569019676907, 8.2875060979582, 8.282424140881762, 26.17829399852685, 8.075267796072916, 7.619002240913889, 28.58978586416337, 26.498318212432434, 40.16652902341281, 70.24787399426147, 18.30360333905399, 31.95876157827408, 40.94666361005385, 34.471977707249614, 38.439877751386405, 124.76052933761048, 169.84247814381445, 69.34827945555332, 45.108937068728274, 175.5510089373584, 127.55896352523997, 75.54167911954913, 179.72851087853292, 44.76788419052078, 44.3463035711654, 194.53466872023387, 55.92377763642117, 244.23213185548167, 114.17718628041287, 30.016941854405495, 86.70055408640177, 85.25809395376191, 36.60199626903116, 35.63791804901655, 33.670609743935884, 29.627288287334782, 22.43109785238515, 21.8902225142182, 21.600056273372818, 18.818732686120775, 17.938463844495594, 16.678513162450535, 12.71860091209127, 94.38925892844765, 11.667190702891796, 11.31219564188256, 10.184833378551518, 9.460732992456363, 8.718306191052525, 8.67103409679894, 8.436804866774121, 7.12523649077828, 7.075842642432855, 52.37057928984647, 6.62294566685757, 6.219232464944142, 6.205657714242159, 6.175256159102799, 6.055152497390287, 5.861747003273962, 5.748631938884384, 142.94496730234684, 19.479667216550443, 44.043255512381045, 62.45527227162591, 101.39279788802767, 26.337903398753696, 42.646282493572535, 42.24480050922837, 25.172207060647267, 34.257877340083404, 18.635545016256966, 290.15941555081855, 72.96070351018933, 86.70055408640177, 61.1880299263458, 175.5510089373584, 124.76052933761048, 132.82016548077647, 212.86162849907817, 135.13984481132718, 191.00993233661595, 78.1728256916736, 136.8054308469156, 189.5187065579909, 244.23213185548167, 60.957048697771214, 44.65050811804745, 33.80197111637721, 29.550512132679454, 27.285975318417275, 22.807485013300404, 22.31948457007937, 21.413326124458937, 20.206938915653527, 18.600675624796438, 14.9162153641687, 14.451330821579829, 14.283207279248382, 11.786506175518335, 11.41914916796021, 29.20989905966433, 10.380984271020875, 10.261058530140547, 24.799115863676867, 8.144710335534205, 8.054531784737694, 7.86143256955218, 7.86143256955218, 6.541336101200648, 6.348031927275121, 6.055992164803246, 5.727962953806083, 5.715277841209658, 31.703881079324802, 5.45344805212632, 26.812255687744788, 50.08943436074069, 16.757043938406188, 42.85462781776523, 46.36716112940674, 79.57723729185506, 24.95009156960793, 83.42385408058739, 122.1948792936531, 289.15551104458183, 55.513361637811535, 150.46787329125016, 226.19933776209652, 123.17311570766387, 187.99726580718436, 290.15941555081855, 191.00993233661595, 117.47383291666684, 124.59657786133137, 168.79940768472213, 244.23213185548167, 24.584618601313714, 23.593322860366754, 20.246970174414678, 18.06819702210128, 16.905147472543007, 15.27176836613663, 13.326962943731324, 12.668452008439354, 12.262180622797343, 10.203171266639481, 9.851084541328841, 9.579480598409186, 9.579480598409186, 9.579480598409186, 9.579480598409186, 9.579480598409186, 9.579480598409186, 9.579480598409186, 9.579480598409186, 9.579480598409186, 9.579480598409186, 9.579480598409186, 9.579480598409186, 9.394955330675701, 9.190476072488647, 8.483522573498345, 8.4211683324705, 7.180002145825269, 7.180002179481969, 7.120959256428879, 16.394538774187975, 38.446979910277676, 114.34106826268538, 42.402416836857384, 32.19431929534023, 114.17718628041287, 168.79940768472213, 205.450750381416, 28.305038503269497, 28.457763074352865, 24.771082206934032, 133.7972258005593, 212.86162849907817, 191.00993233661595, 142.1935918833229, 18.14488525378371, 27.192537256355063, 35.47131724660793, 110.09959099416386, 89.8780311897369, 123.17311570766387, 290.15941555081855, 91.10703733248735, 39.93363892889212, 29.414084619538453, 28.471569230297614, 21.701298287238057, 17.332120244846312, 16.269071705698078, 15.399110779784936, 14.525824965285944, 13.70809053793647, 13.109195837988315, 10.792159515553827, 10.222205756692658, 10.216799948118807, 8.876838352648324, 8.663158828419874, 8.607754035142525, 8.565094569403835, 8.565094569403835, 8.0685231219946, 8.050026500121897, 7.268781416194385, 7.076340172086182, 6.9174399049213156, 28.60369354816736, 6.226815339095633, 5.858951109315956, 5.858951109315956, 5.858951109315956, 5.266458784283992, 5.264264907436613, 23.724679464892063, 57.771807859583454, 17.196044641312135, 32.06405905452307, 124.59657786133137, 83.42385408058739, 24.87360111359764, 46.70954247176712, 28.79988118190418, 15.362582855510864, 88.0100920029709, 46.36716112940674, 47.926084561380605, 35.58486341807823, 77.71992404231518, 161.64185373851, 193.16242232690908, 35.177250170014574, 26.3163461702334, 186.94094152732757, 115.60645695326848, 177.96616362349366, 169.84247814381445, 32.85444840943233, 15.050886646779007, 12.693172781685055, 11.63368406846504, 11.383970818945151, 10.967393716588548, 10.957887597447064, 10.521435015448576, 9.438977003033363, 9.281060873944174, 8.901974315360343, 8.747767168477942, 8.30335481684733, 8.160617921883098, 8.00407733605582, 7.970298094753412, 7.704912237069926, 7.682566451021433, 7.419727057246234, 7.236768013243978, 7.070941022777061, 7.007910839112902, 6.840936379319664, 6.716546974912985, 6.703475360203491, 6.693866341318618, 6.610865016920165, 6.266375323154367, 6.0880469031507385, 5.9963955006209595, 16.088517240060185, 29.079062230452465, 18.719452490340842, 22.396206061850744, 80.31967900079952, 42.76108829362323, 18.03116908195764, 66.78948539556761, 179.72851087853292, 99.85774977539248, 25.144384557438705, 205.450750381416, 95.36821798239912, 30.504826683449966, 28.601958487655594, 27.056983623400686, 22.240162137546577, 20.719310518928193, 16.35605428829791, 12.989902526943407, 10.987494494497636, 10.526356219502473, 9.895161825945962, 8.753797894444645, 8.001147189651453, 7.943988632496719, 7.5924488089113344, 7.511557769080808, 24.629105899296142, 6.333003954398182, 6.2693187129555845, 5.877094091010626, 5.565812462901752, 5.460526293719134, 4.9015511224545065, 4.832981440412098, 4.648707063874284, 4.587833510328544, 4.4327038006051005, 4.085145550307733, 3.957849760161955, 3.9572389340188603, 3.7896469180757673, 17.324702261390424, 30.724107574057847, 27.32747974764544, 27.731600558354206, 14.604568903220756, 56.85160187292335, 62.81527176777121, 9.504123257637014, 179.72851087853292, 36.31408837778236, 69.83927903881916, 163.81306616864524, 193.16242232690908, 212.86162849907817, 133.7972258005593, 175.5510089373584, 36.1400150298289, 169.84247814381445, 244.23213185548167, 189.5187065579909, 124.76052933761048, 290.15941555081855, 133.81885101368397, 33.03723770493352, 25.277556432505342, 16.843997660355317, 12.870390540527396, 12.32096685400231, 10.800415181786963, 10.092315982385466, 7.952256407560807, 7.883921895960635, 7.868504852114127, 7.8392758675998975, 7.389765939534255, 7.098549455885069, 6.552939690444178, 6.4688299674272605, 6.153283895371981, 5.978562844767487, 5.9151517830206926, 5.588542821069102, 5.588542821069102, 5.588542821069102, 5.377609930470541, 5.340407161923222, 4.695879544480001, 4.4762113865658195, 4.318047900044774, 4.256499039444076, 4.256499043699317, 4.252637691563931, 4.200582889587942, 95.36821798239912, 33.761799954727884, 17.548330265719954, 49.726943780827185, 13.982512509886199, 66.79451698128354, 97.82245341074729, 41.70961075461465, 30.016941854405495, 80.4044981995888, 49.264776653817876, 53.71237372195341, 28.226375641178127, 22.195330018160625, 107.81179454761127, 30.800557580878262, 63.34641812171039, 24.95009156960793, 49.06772170778841, 133.81885101368397, 31.14909992975188, 175.5510089373584, 169.84247814381445, 32.09452285563397, 29.33166761423021, 18.59359141094748, 17.576804869301768, 16.1681190668129, 15.95901501874094, 15.358279492084552, 14.375470087130843, 13.32275468219159, 12.623047893675889, 11.696062726315605, 11.696062726315605, 9.707610631329272, 9.707610631329272, 9.674519302627294, 8.891780393982462, 8.460748879781969, 8.460748879781969, 8.218148151538957, 7.758646870833904, 7.33174250584556, 7.00321151443917, 6.629640496897495, 6.350217398741816, 6.17703208874654, 6.063746790220849, 5.927538006031752, 5.754353663460995, 5.754364757207002, 5.754364757207002, 20.5653620681732, 32.19088527194253, 62.9729776090662, 18.37497240337738, 31.708901768355158, 45.108937068728274, 42.24480050922837, 14.446121009949506, 87.04797233112731, 79.00803037263834, 226.19933776209652, 205.450750381416, 115.27249084330195, 489.5535249390491, 32.811419258744685, 51.01570431236876, 22.224669199836708, 19.902372263098645, 15.05795514736022, 13.99495155888889, 11.98750604143152, 11.046196987212626, 10.7730374087421, 10.59612413386162, 10.449768222656196, 9.571313583745319, 9.170551506009007, 8.998644957854031, 8.848053686136657, 7.338630069428289, 7.021680277806749, 6.920438863486805, 6.910734943533536, 6.460793675596446, 6.105830668115516, 5.980036682258842, 5.845615410814185, 5.77432850071204, 5.476506274840813, 5.441026866485539, 5.0671638276371205, 54.70747044551483, 4.82921108297914, 4.6542649631191075, 4.592350038371627, 4.545881495771661, 35.406538190976725, 11.661594696051317, 26.275899617257814, 16.818987650140386, 10.49192664426134, 23.2784559508706, 40.55886103499042, 62.45527227162591, 95.89908028216263, 32.20635358771181, 178.2545232621839, 289.15551104458183, 36.485160026084, 41.47291619709766, 117.47383291666684, 62.81527176777121, 98.4527504521418], \"Category\": [\"Default\", \"Default\", \"Default\", \"Default\", \"Default\", \"Default\", \"Default\", \"Default\", \"Default\", \"Default\", \"Default\", \"Default\", \"Default\", \"Default\", \"Default\", \"Default\", \"Default\", \"Default\", \"Default\", \"Default\", \"Default\", \"Default\", \"Default\", \"Default\", \"Default\", \"Default\", \"Default\", \"Default\", \"Default\", \"Default\", \"Topic1\", \"Topic1\", \"Topic1\", \"Topic1\", \"Topic1\", \"Topic1\", \"Topic1\", \"Topic1\", \"Topic1\", \"Topic1\", \"Topic1\", \"Topic1\", \"Topic1\", \"Topic1\", \"Topic1\", \"Topic1\", \"Topic1\", \"Topic1\", \"Topic1\", \"Topic1\", \"Topic1\", \"Topic1\", \"Topic1\", \"Topic1\", \"Topic1\", \"Topic1\", \"Topic1\", \"Topic1\", \"Topic1\", \"Topic1\", \"Topic1\", \"Topic1\", \"Topic1\", \"Topic1\", \"Topic1\", \"Topic1\", \"Topic1\", \"Topic1\", \"Topic1\", \"Topic1\", \"Topic1\", \"Topic1\", \"Topic1\", \"Topic1\", \"Topic1\", \"Topic1\", \"Topic1\", \"Topic1\", \"Topic1\", \"Topic1\", \"Topic2\", \"Topic2\", \"Topic2\", \"Topic2\", \"Topic2\", \"Topic2\", \"Topic2\", \"Topic2\", \"Topic2\", \"Topic2\", \"Topic2\", \"Topic2\", \"Topic2\", \"Topic2\", \"Topic2\", \"Topic2\", \"Topic2\", \"Topic2\", \"Topic2\", \"Topic2\", \"Topic2\", \"Topic2\", \"Topic2\", \"Topic2\", \"Topic2\", \"Topic2\", \"Topic2\", \"Topic2\", \"Topic2\", \"Topic2\", \"Topic2\", \"Topic2\", \"Topic2\", \"Topic2\", \"Topic2\", \"Topic2\", \"Topic2\", \"Topic2\", \"Topic2\", \"Topic2\", \"Topic2\", \"Topic2\", \"Topic2\", \"Topic2\", \"Topic2\", \"Topic2\", \"Topic2\", \"Topic2\", \"Topic2\", \"Topic2\", \"Topic2\", \"Topic2\", \"Topic2\", \"Topic2\", \"Topic2\", \"Topic2\", \"Topic2\", \"Topic2\", \"Topic2\", \"Topic3\", \"Topic3\", \"Topic3\", \"Topic3\", \"Topic3\", \"Topic3\", \"Topic3\", \"Topic3\", \"Topic3\", \"Topic3\", \"Topic3\", \"Topic3\", \"Topic3\", \"Topic3\", \"Topic3\", \"Topic3\", \"Topic3\", \"Topic3\", \"Topic3\", \"Topic3\", \"Topic3\", \"Topic3\", \"Topic3\", \"Topic3\", \"Topic3\", \"Topic3\", \"Topic3\", \"Topic3\", \"Topic3\", \"Topic3\", \"Topic3\", \"Topic3\", \"Topic3\", \"Topic3\", \"Topic3\", \"Topic3\", \"Topic3\", \"Topic3\", \"Topic3\", \"Topic3\", \"Topic3\", \"Topic3\", \"Topic3\", \"Topic3\", \"Topic3\", \"Topic3\", \"Topic3\", \"Topic3\", \"Topic3\", \"Topic3\", \"Topic3\", \"Topic3\", \"Topic3\", \"Topic3\", \"Topic4\", \"Topic4\", \"Topic4\", \"Topic4\", \"Topic4\", \"Topic4\", \"Topic4\", \"Topic4\", \"Topic4\", \"Topic4\", \"Topic4\", \"Topic4\", \"Topic4\", \"Topic4\", \"Topic4\", \"Topic4\", \"Topic4\", \"Topic4\", \"Topic4\", \"Topic4\", \"Topic4\", \"Topic4\", \"Topic4\", \"Topic4\", \"Topic4\", \"Topic4\", \"Topic4\", \"Topic4\", \"Topic4\", \"Topic4\", \"Topic4\", \"Topic4\", \"Topic4\", \"Topic4\", \"Topic4\", \"Topic4\", \"Topic4\", \"Topic4\", \"Topic4\", \"Topic4\", \"Topic4\", \"Topic4\", \"Topic4\", \"Topic4\", \"Topic4\", \"Topic4\", \"Topic4\", \"Topic4\", \"Topic4\", \"Topic4\", \"Topic4\", \"Topic4\", \"Topic4\", \"Topic4\", \"Topic4\", \"Topic4\", \"Topic4\", \"Topic4\", \"Topic4\", \"Topic4\", \"Topic4\", \"Topic4\", \"Topic4\", \"Topic5\", \"Topic5\", \"Topic5\", \"Topic5\", \"Topic5\", \"Topic5\", \"Topic5\", \"Topic5\", \"Topic5\", \"Topic5\", \"Topic5\", \"Topic5\", \"Topic5\", \"Topic5\", \"Topic5\", \"Topic5\", \"Topic5\", \"Topic5\", \"Topic5\", \"Topic5\", \"Topic5\", \"Topic5\", \"Topic5\", \"Topic5\", \"Topic5\", \"Topic5\", \"Topic5\", \"Topic5\", \"Topic5\", \"Topic5\", \"Topic5\", \"Topic5\", \"Topic5\", \"Topic5\", \"Topic5\", \"Topic5\", \"Topic5\", \"Topic5\", \"Topic5\", \"Topic5\", \"Topic5\", \"Topic5\", \"Topic5\", \"Topic5\", \"Topic5\", \"Topic6\", \"Topic6\", \"Topic6\", \"Topic6\", \"Topic6\", \"Topic6\", \"Topic6\", \"Topic6\", \"Topic6\", \"Topic6\", \"Topic6\", \"Topic6\", \"Topic6\", \"Topic6\", \"Topic6\", \"Topic6\", \"Topic6\", \"Topic6\", \"Topic6\", \"Topic6\", \"Topic6\", \"Topic6\", \"Topic6\", \"Topic6\", \"Topic6\", \"Topic6\", \"Topic6\", \"Topic6\", \"Topic6\", \"Topic6\", \"Topic6\", \"Topic6\", \"Topic6\", \"Topic6\", \"Topic6\", \"Topic6\", \"Topic6\", \"Topic6\", \"Topic6\", \"Topic6\", \"Topic6\", \"Topic6\", \"Topic6\", \"Topic6\", \"Topic6\", \"Topic6\", \"Topic6\", \"Topic6\", \"Topic6\", \"Topic6\", \"Topic7\", \"Topic7\", \"Topic7\", \"Topic7\", \"Topic7\", \"Topic7\", \"Topic7\", \"Topic7\", \"Topic7\", \"Topic7\", \"Topic7\", \"Topic7\", \"Topic7\", \"Topic7\", \"Topic7\", \"Topic7\", \"Topic7\", \"Topic7\", \"Topic7\", \"Topic7\", \"Topic7\", \"Topic7\", \"Topic7\", \"Topic7\", \"Topic7\", \"Topic7\", \"Topic7\", \"Topic7\", \"Topic7\", \"Topic7\", \"Topic7\", \"Topic7\", \"Topic7\", \"Topic7\", \"Topic7\", \"Topic7\", \"Topic7\", \"Topic7\", \"Topic7\", \"Topic7\", \"Topic7\", \"Topic7\", \"Topic7\", \"Topic7\", \"Topic7\", \"Topic7\", \"Topic7\", \"Topic7\", \"Topic7\", \"Topic7\", \"Topic7\", \"Topic7\", \"Topic7\", \"Topic7\", \"Topic7\", \"Topic7\", \"Topic7\", \"Topic7\", \"Topic7\", \"Topic8\", \"Topic8\", \"Topic8\", \"Topic8\", \"Topic8\", \"Topic8\", \"Topic8\", \"Topic8\", \"Topic8\", \"Topic8\", \"Topic8\", \"Topic8\", \"Topic8\", \"Topic8\", \"Topic8\", \"Topic8\", \"Topic8\", \"Topic8\", \"Topic8\", \"Topic8\", \"Topic8\", \"Topic8\", \"Topic8\", \"Topic8\", \"Topic8\", \"Topic8\", \"Topic8\", \"Topic8\", \"Topic8\", \"Topic8\", \"Topic8\", \"Topic8\", \"Topic8\", \"Topic8\", \"Topic8\", \"Topic8\", \"Topic8\", \"Topic8\", \"Topic8\", \"Topic8\", \"Topic8\", \"Topic8\", \"Topic8\", \"Topic8\", \"Topic8\", \"Topic8\", \"Topic8\", \"Topic8\", \"Topic8\", \"Topic8\", \"Topic8\", \"Topic8\", \"Topic8\", \"Topic8\", \"Topic8\", \"Topic8\", \"Topic8\", \"Topic8\", \"Topic8\", \"Topic9\", \"Topic9\", \"Topic9\", \"Topic9\", \"Topic9\", \"Topic9\", \"Topic9\", \"Topic9\", \"Topic9\", \"Topic9\", \"Topic9\", \"Topic9\", \"Topic9\", \"Topic9\", \"Topic9\", \"Topic9\", \"Topic9\", \"Topic9\", \"Topic9\", \"Topic9\", \"Topic9\", \"Topic9\", \"Topic9\", \"Topic9\", \"Topic9\", \"Topic9\", \"Topic9\", \"Topic9\", \"Topic9\", \"Topic9\", \"Topic9\", \"Topic9\", \"Topic9\", \"Topic9\", \"Topic9\", \"Topic9\", \"Topic9\", \"Topic9\", \"Topic9\", \"Topic9\", \"Topic9\", \"Topic9\", \"Topic9\", \"Topic9\", \"Topic9\", \"Topic9\", \"Topic9\", \"Topic9\", \"Topic10\", \"Topic10\", \"Topic10\", \"Topic10\", \"Topic10\", \"Topic10\", \"Topic10\", \"Topic10\", \"Topic10\", \"Topic10\", \"Topic10\", \"Topic10\", \"Topic10\", \"Topic10\", \"Topic10\", \"Topic10\", \"Topic10\", \"Topic10\", \"Topic10\", \"Topic10\", \"Topic10\", \"Topic10\", \"Topic10\", \"Topic10\", \"Topic10\", \"Topic10\", \"Topic10\", \"Topic10\", \"Topic10\", \"Topic10\", \"Topic10\", \"Topic10\", \"Topic10\", \"Topic10\", \"Topic10\", \"Topic10\", \"Topic10\", \"Topic10\", \"Topic10\", \"Topic10\", \"Topic10\", \"Topic10\", \"Topic10\", \"Topic10\", \"Topic10\", \"Topic10\", \"Topic10\", \"Topic10\", \"Topic10\", \"Topic10\", \"Topic10\", \"Topic10\", \"Topic10\", \"Topic10\", \"Topic10\", \"Topic10\", \"Topic10\", \"Topic10\", \"Topic11\", \"Topic11\", \"Topic11\", \"Topic11\", \"Topic11\", \"Topic11\", \"Topic11\", \"Topic11\", \"Topic11\", \"Topic11\", \"Topic11\", \"Topic11\", \"Topic11\", \"Topic11\", \"Topic11\", \"Topic11\", \"Topic11\", \"Topic11\", \"Topic11\", \"Topic11\", \"Topic11\", \"Topic11\", \"Topic11\", \"Topic11\", \"Topic11\", \"Topic11\", \"Topic11\", \"Topic11\", \"Topic11\", \"Topic11\", \"Topic11\", \"Topic11\", \"Topic11\", \"Topic11\", \"Topic11\", \"Topic11\", \"Topic11\", \"Topic11\", \"Topic11\", \"Topic11\", \"Topic11\", \"Topic11\", \"Topic11\", \"Topic11\", \"Topic11\", \"Topic11\", \"Topic11\", \"Topic11\", \"Topic11\", \"Topic11\", \"Topic11\", \"Topic11\", \"Topic11\", \"Topic11\", \"Topic11\", \"Topic12\", \"Topic12\", \"Topic12\", \"Topic12\", \"Topic12\", \"Topic12\", \"Topic12\", \"Topic12\", \"Topic12\", \"Topic12\", \"Topic12\", \"Topic12\", \"Topic12\", \"Topic12\", \"Topic12\", \"Topic12\", \"Topic12\", \"Topic12\", \"Topic12\", \"Topic12\", \"Topic12\", \"Topic12\", \"Topic12\", \"Topic12\", \"Topic12\", \"Topic12\", \"Topic12\", \"Topic12\", \"Topic12\", \"Topic12\", \"Topic12\", \"Topic12\", \"Topic12\", \"Topic12\", \"Topic12\", \"Topic12\", \"Topic12\", \"Topic12\", \"Topic12\", \"Topic12\", \"Topic12\", \"Topic12\", \"Topic12\", \"Topic12\", \"Topic12\", \"Topic12\", \"Topic12\", \"Topic12\", \"Topic12\", \"Topic12\", \"Topic12\", \"Topic12\", \"Topic12\", \"Topic12\", \"Topic12\", \"Topic13\", \"Topic13\", \"Topic13\", \"Topic13\", \"Topic13\", \"Topic13\", \"Topic13\", \"Topic13\", \"Topic13\", \"Topic13\", \"Topic13\", \"Topic13\", \"Topic13\", \"Topic13\", \"Topic13\", \"Topic13\", \"Topic13\", \"Topic13\", \"Topic13\", \"Topic13\", \"Topic13\", \"Topic13\", \"Topic13\", \"Topic13\", \"Topic13\", \"Topic13\", \"Topic13\", \"Topic13\", \"Topic13\", \"Topic13\", \"Topic13\", \"Topic13\", \"Topic13\", \"Topic13\", \"Topic13\", \"Topic13\", \"Topic13\", \"Topic13\", \"Topic13\", \"Topic13\", \"Topic13\", \"Topic13\", \"Topic13\", \"Topic13\", \"Topic13\", \"Topic13\", \"Topic13\", \"Topic13\", \"Topic13\", \"Topic13\", \"Topic13\", \"Topic14\", \"Topic14\", \"Topic14\", \"Topic14\", \"Topic14\", \"Topic14\", \"Topic14\", \"Topic14\", \"Topic14\", \"Topic14\", \"Topic14\", \"Topic14\", \"Topic14\", \"Topic14\", \"Topic14\", \"Topic14\", \"Topic14\", \"Topic14\", \"Topic14\", \"Topic14\", \"Topic14\", \"Topic14\", \"Topic14\", \"Topic14\", \"Topic14\", \"Topic14\", \"Topic14\", \"Topic14\", \"Topic14\", \"Topic14\", \"Topic14\", \"Topic14\", \"Topic14\", \"Topic14\", \"Topic14\", \"Topic14\", \"Topic14\", \"Topic14\", \"Topic14\", \"Topic14\", \"Topic14\", \"Topic14\", \"Topic14\", \"Topic14\", \"Topic14\", \"Topic14\", \"Topic14\", \"Topic14\", \"Topic14\", \"Topic14\", \"Topic14\", \"Topic14\", \"Topic14\", \"Topic15\", \"Topic15\", \"Topic15\", \"Topic15\", \"Topic15\", \"Topic15\", \"Topic15\", \"Topic15\", \"Topic15\", \"Topic15\", \"Topic15\", \"Topic15\", \"Topic15\", \"Topic15\", \"Topic15\", \"Topic15\", \"Topic15\", \"Topic15\", \"Topic15\", \"Topic15\", \"Topic15\", \"Topic15\", \"Topic15\", \"Topic15\", \"Topic15\", \"Topic15\", \"Topic15\", \"Topic15\", \"Topic15\", \"Topic15\", \"Topic15\", \"Topic15\", \"Topic15\", \"Topic15\", \"Topic15\", \"Topic15\", \"Topic15\", \"Topic15\", \"Topic15\", \"Topic15\", \"Topic15\", \"Topic15\", \"Topic15\", \"Topic15\", \"Topic15\", \"Topic15\", \"Topic15\", \"Topic15\", \"Topic15\", \"Topic15\", \"Topic15\", \"Topic15\", \"Topic15\", \"Topic16\", \"Topic16\", \"Topic16\", \"Topic16\", \"Topic16\", \"Topic16\", \"Topic16\", \"Topic16\", \"Topic16\", \"Topic16\", \"Topic16\", \"Topic16\", \"Topic16\", \"Topic16\", \"Topic16\", \"Topic16\", \"Topic16\", \"Topic16\", \"Topic16\", \"Topic16\", \"Topic16\", \"Topic16\", \"Topic16\", \"Topic16\", \"Topic16\", \"Topic16\", \"Topic16\", \"Topic16\", \"Topic16\", \"Topic16\", \"Topic16\", \"Topic16\", \"Topic16\", \"Topic16\", \"Topic16\", \"Topic16\", \"Topic16\", \"Topic16\", \"Topic16\", \"Topic16\", \"Topic16\", \"Topic16\", \"Topic16\", \"Topic17\", \"Topic17\", \"Topic17\", \"Topic17\", \"Topic17\", \"Topic17\", \"Topic17\", \"Topic17\", \"Topic17\", \"Topic17\", \"Topic17\", \"Topic17\", \"Topic17\", \"Topic17\", \"Topic17\", \"Topic17\", \"Topic17\", \"Topic17\", \"Topic17\", \"Topic17\", \"Topic17\", \"Topic17\", \"Topic17\", \"Topic17\", \"Topic17\", \"Topic17\", \"Topic17\", \"Topic17\", \"Topic17\", \"Topic17\", \"Topic17\", \"Topic17\", \"Topic17\", \"Topic17\", \"Topic17\", \"Topic17\", \"Topic17\", \"Topic17\", \"Topic17\", \"Topic17\", \"Topic17\", \"Topic17\", \"Topic17\", \"Topic17\", \"Topic17\", \"Topic17\", \"Topic17\", \"Topic17\", \"Topic17\", \"Topic17\", \"Topic17\", \"Topic17\", \"Topic17\", \"Topic18\", \"Topic18\", \"Topic18\", \"Topic18\", \"Topic18\", \"Topic18\", \"Topic18\", \"Topic18\", \"Topic18\", \"Topic18\", \"Topic18\", \"Topic18\", \"Topic18\", \"Topic18\", \"Topic18\", \"Topic18\", \"Topic18\", \"Topic18\", \"Topic18\", \"Topic18\", \"Topic18\", \"Topic18\", \"Topic18\", \"Topic18\", \"Topic18\", \"Topic18\", \"Topic18\", \"Topic18\", \"Topic18\", \"Topic18\", \"Topic18\", \"Topic18\", \"Topic18\", \"Topic18\", \"Topic18\", \"Topic18\", \"Topic18\", \"Topic18\", \"Topic18\", \"Topic18\", \"Topic18\", \"Topic18\", \"Topic18\", \"Topic18\", \"Topic18\", \"Topic18\", \"Topic18\", \"Topic18\", \"Topic18\", \"Topic18\", \"Topic18\", \"Topic18\", \"Topic18\", \"Topic19\", \"Topic19\", \"Topic19\", \"Topic19\", \"Topic19\", \"Topic19\", \"Topic19\", \"Topic19\", \"Topic19\", \"Topic19\", \"Topic19\", \"Topic19\", \"Topic19\", \"Topic19\", \"Topic19\", \"Topic19\", \"Topic19\", \"Topic19\", \"Topic19\", \"Topic19\", \"Topic19\", \"Topic19\", \"Topic19\", \"Topic19\", \"Topic19\", \"Topic19\", \"Topic19\", \"Topic19\", \"Topic19\", \"Topic19\", \"Topic19\", \"Topic19\", \"Topic19\", \"Topic19\", \"Topic19\", \"Topic19\", \"Topic19\", \"Topic19\", \"Topic19\", \"Topic19\", \"Topic19\", \"Topic19\", \"Topic19\", \"Topic19\", \"Topic19\", \"Topic19\", \"Topic20\", \"Topic20\", \"Topic20\", \"Topic20\", \"Topic20\", \"Topic20\", \"Topic20\", \"Topic20\", \"Topic20\", \"Topic20\", \"Topic20\", \"Topic20\", \"Topic20\", \"Topic20\", \"Topic20\", \"Topic20\", \"Topic20\", \"Topic20\", \"Topic20\", \"Topic20\", \"Topic20\", \"Topic20\", \"Topic20\", \"Topic20\", \"Topic20\", \"Topic20\", \"Topic20\", \"Topic20\", \"Topic20\", \"Topic20\", \"Topic20\", \"Topic20\", \"Topic20\", \"Topic20\", \"Topic20\", \"Topic20\", \"Topic20\", \"Topic20\", \"Topic20\", \"Topic20\", \"Topic20\", \"Topic20\", \"Topic20\", \"Topic20\", \"Topic20\", \"Topic20\", \"Topic20\"], \"logprob\": [30.0, 29.0, 28.0, 27.0, 26.0, 25.0, 24.0, 23.0, 22.0, 21.0, 20.0, 19.0, 18.0, 17.0, 16.0, 15.0, 14.0, 13.0, 12.0, 11.0, 10.0, 9.0, 8.0, 7.0, 6.0, 5.0, 4.0, 3.0, 2.0, 1.0, -3.4679999351501465, -4.087399959564209, -4.644899845123291, -4.770899772644043, -4.837500095367432, -4.85129976272583, -4.852700233459473, -4.921000003814697, -5.02209997177124, -5.098299980163574, -5.174099922180176, -5.203800201416016, -5.239299774169922, -5.291500091552734, -5.390600204467773, -5.4095001220703125, -5.430300235748291, -5.467299938201904, -5.4944000244140625, -5.495299816131592, -5.497799873352051, -5.525400161743164, -5.572400093078613, -5.594299793243408, -5.599800109863281, -5.691500186920166, -5.710000038146973, -5.722400188446045, -5.752099990844727, -5.778800010681152, -3.277100086212158, -4.525400161743164, -4.507599830627441, -4.311299800872803, -4.478600025177002, -5.253799915313721, -5.116199970245361, -5.114999771118164, -3.5162999629974365, -4.827300071716309, -4.96019983291626, -5.1905999183654785, -4.718699932098389, -5.155200004577637, -4.908899784088135, -4.724999904632568, -4.982399940490723, -5.143099784851074, -5.148799896240234, -5.178400039672852, -4.748499870300293, -4.849299907684326, -4.865499973297119, -4.919899940490723, -5.053800106048584, -5.084000110626221, -5.258200168609619, -5.34089994430542, -5.448599815368652, -5.456500053405762, -5.4608001708984375, -5.519599914550781, -5.543000221252441, -5.732699871063232, -5.773499965667725, -5.795899868011475, -5.921199798583984, -6.000999927520752, -6.139699935913086, -6.145500183105469, -6.157299995422363, -6.229700088500977, -6.243199825286865, -4.3028998374938965, -6.316400051116943, -5.017499923706055, -6.325500011444092, -6.3566999435424805, -6.391499996185303, -6.391499996185303, -4.868599891662598, -4.364999771118164, -3.9547998905181885, -4.366799831390381, -4.7179999351501465, -3.630199909210205, -5.345799922943115, -4.263400077819824, -3.4528000354766846, -4.096199989318848, -4.565299987792969, -3.8782999515533447, -5.238100051879883, -4.966100215911865, -4.32480001449585, -4.618899822235107, -4.299499988555908, -4.6828999519348145, -4.4471001625061035, -4.601200103759766, -4.139599800109863, -4.875999927520752, -4.019700050354004, -4.441199779510498, -4.642099857330322, -4.597400188446045, -4.630000114440918, -4.76140022277832, -4.852799892425537, -4.639999866485596, -4.7342000007629395, -4.777299880981445, -4.801599979400635, -4.865200042724609, -4.94350004196167, -5.1269001960754395, -5.164700031280518, -5.259699821472168, -5.268099784851074, -3.4844000339508057, -5.3130998611450195, -5.360199928283691, -5.434599876403809, -5.47730016708374, -5.538000106811523, -5.605000019073486, -5.667699813842773, -5.690700054168701, -5.71019983291626, -5.721199989318848, -5.7256999015808105, -5.750500202178955, -5.768599987030029, -5.768799781799316, -5.774700164794922, -5.795199871063232, -5.829400062561035, -5.853600025177002, -5.8678998947143555, -3.81030011177063, -4.189499855041504, -2.737299919128418, -4.5345001220703125, -3.406100034713745, -4.5345001220703125, -5.156199932098389, -4.095799922943115, -3.4449000358581543, -5.121600151062012, -3.3938000202178955, -4.300600051879883, -4.656300067901611, -4.4608001708984375, -4.841800212860107, -4.849899768829346, -4.858699798583984, -5.0665998458862305, -5.013700008392334, -4.96999979019165, -5.151899814605713, -5.066699981689453, -5.104000091552734, -5.07919979095459, -3.9818999767303467, -4.610400199890137, -4.731299877166748, -4.789400100708008, -4.811699867248535, -4.843900203704834, -5.117499828338623, -5.118299961090088, -5.128900051116943, -5.214099884033203, -5.26609992980957, -5.293099880218506, -5.293099880218506, -5.293099880218506, -5.393199920654297, -5.468800067901611, -5.469299793243408, -5.491499900817871, -5.526199817657471, -5.5493998527526855, -5.6803998947143555, -5.724299907684326, -5.751299858093262, -5.763800144195557, -5.808700084686279, -5.848400115966797, -5.848499774932861, -5.8557000160217285, -5.857699871063232, -5.901000022888184, -4.715199947357178, -4.408199787139893, -3.8752999305725098, -4.6072001457214355, -4.723400115966797, -5.005099773406982, -3.9791998863220215, -3.2237000465393066, -4.360799789428711, -4.451200008392334, -4.975399971008301, -3.786600112915039, -4.799799919128418, -3.606300115585327, -4.595699787139893, -4.676599979400635, -4.18179988861084, -3.928499937057495, -4.420899868011475, -4.797599792480469, -4.095900058746338, -4.312300205230713, -4.290599822998047, -4.261899948120117, -4.330399990081787, -3.8596999645233154, -4.388000011444092, -4.218900203704834, -4.3734002113342285, -4.4355998039245605, -4.606200218200684, -4.680300235748291, -4.68179988861084, -3.49399995803833, -3.6610000133514404, -3.8492000102996826, -3.95989990234375, -4.329599857330322, -4.644800186157227, -4.691400051116943, -4.706399917602539, -4.72599983215332, -4.7434000968933105, -4.748600006103516, -4.803899765014648, -4.881199836730957, -4.9029998779296875, -4.946599960327148, -4.977200031280518, -4.984600067138672, -5.07420015335083, -5.099100112915039, -5.194499969482422, -5.20359992980957, -5.211400032043457, -5.232399940490723, -5.315700054168701, -5.317599773406982, -5.387800216674805, -5.407400131225586, -5.449399948120117, -5.473999977111816, -5.478000164031982, -3.85479998588562, -3.580699920654297, -4.962500095367432, -4.5406999588012695, -4.929299831390381, -4.557300090789795, -4.589900016784668, -4.607500076293945, -4.170499801635742, -4.972799777984619, -4.3831000328063965, -4.788899898529053, -4.328700065612793, -4.894800186157227, -4.821300029754639, -3.8290998935699463, -3.908900022506714, -4.12529993057251, -4.2281999588012695, -4.30109977722168, -4.465700149536133, -4.493100166320801, -4.524799823760986, -4.538599967956543, -4.572299957275391, -4.8221001625061035, -4.846700191497803, -4.856500148773193, -4.863900184631348, -4.935800075531006, -5.005899906158447, -5.069399833679199, -5.154300212860107, -5.174600124359131, -5.250899791717529, -5.269800186157227, -5.4430999755859375, -5.490300178527832, -5.499100208282471, -5.506999969482422, -5.511300086975098, -5.537399768829346, -5.554900169372559, -5.599599838256836, -5.631400108337402, -3.410599946975708, -3.6257998943328857, -4.7006001472473145, -4.1479997634887695, -4.355000019073486, -3.9628000259399414, -4.26230001449585, -3.7172999382019043, -4.450500011444092, -4.6128997802734375, -4.64900016784668, -4.040299892425537, -4.429999828338623, -4.451499938964844, -4.1072998046875, -4.3445000648498535, -4.4456000328063965, -4.549799919128418, -4.4145002365112305, -4.498000144958496, -4.014400005340576, -4.351900100708008, -4.375, -4.40939998626709, -4.445700168609619, -4.4492998123168945, -4.69350004196167, -4.786600112915039, -4.841000080108643, -5.042399883270264, -5.102499961853027, -5.179900169372559, -5.207499980926514, -5.398200035095215, -5.4664998054504395, -5.52400016784668, -5.638999938964844, -5.690800189971924, -5.707900047302246, -5.71589994430542, -5.730100154876709, -5.742700099945068, -5.838699817657471, -5.8445000648498535, -5.89300012588501, -5.9029998779296875, -5.913599967956543, -5.967700004577637, -5.973599910736084, -6.0229997634887695, -4.6092000007629395, -2.940999984741211, -4.320499897003174, -4.562099933624268, -4.027699947357178, -3.327399969100952, -3.2855000495910645, -4.183199882507324, -3.5302999019622803, -4.671599864959717, -5.036099910736084, -5.220200061798096, -4.744800090789795, -4.700200080871582, -4.90369987487793, -3.9149999618530273, -4.486199855804443, -4.693699836730957, -3.5961999893188477, -4.356299877166748, -4.376100063323975, -4.641499996185303, -4.488800048828125, -4.382299900054932, -4.313700199127197, -4.4471001625061035, -4.525300025939941, -4.528900146484375, -4.531599998474121, -4.164599895477295, -4.381899833679199, -4.3850998878479, -4.436100006103516, -4.5945000648498535, -5.04010009765625, -5.067599773406982, -5.2042999267578125, -5.229100227355957, -5.232399940490723, -5.2378997802734375, -5.302700042724609, -5.4182000160217285, -5.450900077819824, -5.456999778747559, -5.472899913787842, -5.518599987030029, -5.518799781799316, -5.630000114440918, -5.634399890899658, -5.724400043487549, -5.724400043487549, -5.75540018081665, -5.783299922943115, -5.783299922943115, -5.783299922943115, -5.783299922943115, -5.798900127410889, -5.853499889373779, -5.853499889373779, -3.5137999057769775, -4.462800025939941, -3.594399929046631, -3.9732000827789307, -5.126399993896484, -4.653900146484375, -4.941100120544434, -3.45989990234375, -4.466100215911865, -3.770699977874756, -5.022500038146973, -4.527500152587891, -4.544099807739258, -4.733500003814697, -4.448999881744385, -4.110499858856201, -4.424799919128418, -4.260499954223633, -3.9433999061584473, -4.741499900817871, -4.8354997634887695, -4.728099822998047, -4.747200012207031, -4.625199794769287, -4.748199939727783, -4.436200141906738, -4.54040002822876, -4.508800029754639, -4.598199844360352, -3.7342000007629395, -3.7399001121520996, -4.274400234222412, -4.6265997886657715, -4.704100131988525, -4.786200046539307, -4.868199825286865, -4.939499855041504, -5.041200160980225, -5.074100017547607, -5.082499980926514, -5.096099853515625, -5.105999946594238, -5.115799903869629, -5.214000225067139, -5.245299816131592, -5.245999813079834, -5.307600021362305, -5.436500072479248, -5.437300205230713, -5.449999809265137, -5.48390007019043, -5.532700061798096, -5.562099933624268, -5.5630998611450195, -5.604800224304199, -5.6528000831604, -2.8963000774383545, -5.744900226593018, -5.744900226593018, -2.6554999351501465, -3.727799892425537, -3.6440999507904053, -4.212200164794922, -5.032199859619141, -5.011300086975098, -4.094399929046631, -4.313799858093262, -4.060800075531006, -4.62470006942749, -4.548500061035156, -4.473400115966797, -4.956999778747559, -4.802999973297119, -4.951200008392334, -4.820400238037109, -4.845200061798096, -5.0177001953125, -4.4822001457214355, -4.531099796295166, -4.533699989318848, -4.585599899291992, -4.830900192260742, -4.973400115966797, -5.263899803161621, -5.281799793243408, -5.291999816894531, -5.400400161743164, -5.486700057983398, -5.520599842071533, -5.549900054931641, -5.603099822998047, -5.622700214385986, -5.628600120544434, -5.654399871826172, -5.719900131225586, -5.765399932861328, -5.799600124359131, -4.344600200653076, -5.818999767303467, -5.901800155639648, -5.941199779510498, -5.36460018157959, -6.053999900817871, -6.072199821472168, -6.118199825286865, -6.140100002288818, -6.225900173187256, -4.889699935913086, -4.337399959564209, -3.9477999210357666, -4.112400054931641, -2.813199996948242, -3.174999952316284, -3.36080002784729, -3.7227001190185547, -3.8540000915527344, -3.7952001094818115, -3.192699909210205, -4.513500213623047, -4.434999942779541, -4.7378997802734375, -3.3524999618530273, -4.5625, -3.4209001064300537, -4.4878997802734375, -4.4980998039245605, -4.0802998542785645, -3.7416999340057373, -3.562700033187866, -4.794000148773193, -4.547500133514404, -4.4527997970581055, -4.525599956512451, -4.619500160217285, -4.623199939727783, -4.055699825286865, -4.259300231933594, -4.505000114440918, -4.556000232696533, -4.715099811553955, -4.816400051116943, -4.875400066375732, -4.890699863433838, -4.893099784851074, -4.978600025177002, -5.093400001525879, -5.100800037384033, -5.2332000732421875, -5.263199806213379, -5.303100109100342, -5.3043999671936035, -5.31279993057251, -5.3308000564575195, -5.385499954223633, -5.394199848175049, -5.472499847412109, -5.481200218200684, -5.493000030517578, -5.546000003814697, -5.548900127410889, -5.559899806976318, -5.5605998039245605, -4.412300109863281, -5.588799953460693, -5.65369987487793, -4.354599952697754, -4.526700019836426, -4.162899971008301, -3.6863999366760254, -4.903900146484375, -4.450300216674805, -4.28000020980835, -4.446599960327148, -4.366499900817871, -3.4902000427246094, -3.549499988555908, -4.142499923706055, -4.575799942016602, -3.9184999465942383, -4.075399875640869, -4.346099853515625, -3.977799892425537, -4.610799789428711, -4.646399974822998, -4.225800037384033, -4.606100082397461, -4.342199802398682, -4.509099960327148, -4.7972002029418945, -4.795899868011475, -3.134500026702881, -3.993000030517578, -4.020299911499023, -4.078499794006348, -4.209799766540527, -4.497200012207031, -4.522600173950195, -4.536399841308594, -4.680099964141846, -4.730199813842773, -4.806700229644775, -5.093900203704834, -3.0901999473571777, -5.186399936676025, -5.219699859619141, -5.3333001136779785, -5.41379976272583, -5.503600120544434, -5.5096001625061035, -5.539899826049805, -5.728799819946289, -5.736700057983398, -3.737600088119507, -5.811800003051758, -5.883900165557861, -5.88640022277832, -5.892099857330322, -5.914700031280518, -5.952400207519531, -5.974999904632568, -2.860300064086914, -4.837500095367432, -4.132500171661377, -3.9495999813079834, -3.5720999240875244, -4.696199893951416, -4.345799922943115, -4.413899898529053, -4.820700168609619, -4.642300128936768, -5.039999961853027, -3.3736000061035156, -4.314599990844727, -4.229700088500977, -4.466000080108643, -4.004300117492676, -4.235300064086914, -4.218999862670898, -4.0578999519348145, -4.334099769592285, -4.2606000900268555, -4.47790002822876, -4.440400123596191, -4.549200057983398, -4.611999988555908, -3.4409000873565674, -3.757200002670288, -4.041500091552734, -4.179500102996826, -4.261600017547607, -4.446899890899658, -4.469399929046631, -4.512400150299072, -4.572800159454346, -4.659299850463867, -4.89139986038208, -4.925000190734863, -4.937399864196777, -5.142399787902832, -5.176499843597412, -4.242599964141846, -5.279600143432617, -5.292200088500977, -4.428599834442139, -5.545899868011475, -5.558300018310547, -5.585299968719482, -5.585299968719482, -5.792900085449219, -5.827199935913086, -5.881499767303467, -5.946100234985352, -5.948699951171875, -4.236999988555908, -6.003699779510498, -4.484799861907959, -3.933799982070923, -4.961699962615967, -4.135000228881836, -4.184100151062012, -3.753499984741211, -4.725800037384033, -3.9170000553131104, -3.660099983215332, -3.098400115966797, -4.22760009765625, -3.6742000579833984, -3.474299907684326, -4.000199794769287, -3.850100040435791, -3.663599967956543, -4.048099994659424, -4.256400108337402, -4.240600109100342, -4.274600028991699, -4.300099849700928, -4.175300121307373, -4.217899799346924, -4.3769001960754395, -4.4959001541137695, -4.565700054168701, -4.672800064086914, -4.817399978637695, -4.871500015258789, -4.906400203704834, -5.104899883270264, -5.143099784851074, -5.173699855804443, -5.173699855804443, -5.173699855804443, -5.173699855804443, -5.173699855804443, -5.173699855804443, -5.173699855804443, -5.173699855804443, -5.173699855804443, -5.173699855804443, -5.173699855804443, -5.173699855804443, -5.195000171661377, -5.219099998474121, -5.307400226593018, -5.3155999183654785, -5.49399995803833, -5.49399995803833, -5.503300189971924, -4.813399791717529, -4.187099933624268, -3.5696001052856445, -4.288300037384033, -4.514599800109863, -3.8719000816345215, -3.6956000328063965, -3.770699977874756, -4.67579984664917, -4.722599983215332, -4.788000106811523, -4.152900218963623, -4.130799770355225, -4.231599807739258, -4.327099800109863, -4.976900100708008, -4.867700099945068, -4.803800106048584, -4.494200229644775, -4.6545000076293945, -4.62939977645874, -4.602399826049805, -4.866099834442139, -3.5903000831604004, -3.903599977493286, -3.9370999336242676, -4.217899799346924, -4.452600002288818, -4.519100189208984, -4.577099800109863, -4.638800144195557, -4.700300216674805, -4.747900009155273, -4.9567999839782715, -5.015600204467773, -5.016200065612793, -5.170000076293945, -5.196899890899658, -5.203999996185303, -5.209499835968018, -5.209499835968018, -5.275700092315674, -5.278200149536133, -5.392600059509277, -5.422800064086914, -5.448800086975098, -4.038000106811523, -5.568699836730957, -5.639100074768066, -5.639100074768066, -5.639100074768066, -5.764200210571289, -5.764599800109863, -4.271299839019775, -3.600399971008301, -4.711599826812744, -4.199999809265137, -3.1068999767303467, -3.443700075149536, -4.515500068664551, -4.068999767303467, -4.415500164031982, -4.92710018157959, -4.021599769592285, -4.424099922180176, -4.432700157165527, -4.585000038146973, -4.35890007019043, -4.177199840545654, -4.3394999504089355, -4.732100009918213, -4.819300174713135, -4.442599773406982, -4.671999931335449, -4.664999961853027, -4.7067999839782715, -3.6189000606536865, -4.430699825286865, -4.6118998527526855, -4.705399990081787, -4.728799819946289, -4.769100189208984, -4.769999980926514, -4.8140997886657715, -4.932499885559082, -4.951000213623047, -4.9969000816345215, -5.016200065612793, -5.07390022277832, -5.093200206756592, -5.114799976348877, -5.119500160217285, -5.157400131225586, -5.160600185394287, -5.199699878692627, -5.22790002822876, -5.2540998458862305, -5.264200210571289, -5.291600227355957, -5.3125, -5.314799785614014, -5.316400051116943, -5.330599784851074, -5.392099857330322, -5.4253997802734375, -5.442999839782715, -4.591300010681152, -4.088500022888184, -4.579100131988525, -4.498199939727783, -3.857100009918213, -4.417799949645996, -4.844799995422363, -4.3541998863220215, -4.02370023727417, -4.2804999351501465, -4.872099876403809, -4.428800106048584, -4.841899871826172, -3.6577999591827393, -3.7239999771118164, -3.7813000679016113, -3.984100103378296, -4.057700157165527, -4.305200099945068, -4.5493998527526855, -4.7291998863220215, -4.775599956512451, -4.842800140380859, -4.977200031280518, -5.0767998695373535, -5.084799766540527, -5.13539981842041, -5.14739990234375, -3.9784998893737793, -5.341100215911865, -5.352799892425537, -5.4274001121521, -5.490900039672852, -5.513400077819824, -5.64169979095459, -5.658599853515625, -5.705599784851074, -5.72160005569458, -5.763700008392334, -5.864799976348877, -5.9045000076293945, -5.904699802398682, -5.95959997177124, -4.447800159454346, -4.065999984741211, -4.200399875640869, -4.2042999267578125, -4.819200038909912, -3.7660000324249268, -3.933500051498413, -5.249599933624268, -3.5416998863220215, -4.589900016784668, -4.272900104522705, -3.9363999366760254, -3.962399959564209, -4.172999858856201, -4.412399768829346, -4.430600166320801, -4.820099830627441, -4.517099857330322, -4.4517998695373535, -4.505199909210205, -4.592400074005127, -4.542600154876709, -4.616000175476074, -3.5334999561309814, -3.8090999126434326, -4.23199987411499, -4.517000198364258, -4.563600063323975, -4.70550012588501, -4.779099941253662, -5.041500091552734, -5.05109977722168, -5.053299903869629, -5.057499885559082, -5.123700141906738, -5.169000148773193, -5.260000228881836, -5.274700164794922, -5.332200050354004, -5.365600109100342, -5.377900123596191, -5.444200038909912, -5.444200038909912, -5.444200038909912, -5.4893999099731445, -5.497600078582764, -5.651500225067139, -5.70989990234375, -5.7540998458862305, -5.771900177001953, -5.771900177001953, -5.7729997634887695, -5.788300037384033, -2.805799961090088, -3.808000087738037, -4.492800235748291, -3.565500020980835, -4.774400234222412, -3.6214001178741455, -3.4554998874664307, -4.130499839782715, -4.423900127410889, -4.053400039672852, -4.423500061035156, -4.41379976272583, -4.82289981842041, -4.944900035858154, -4.506700038909912, -4.899600028991699, -4.7418999671936035, -4.986599922180176, -4.933499813079834, -4.946300029754639, -5.01039981842041, -4.975200176239014, -5.002200126647949, -3.499300003051758, -3.5917999744415283, -4.0644001960754395, -4.123300075531006, -4.21120023727417, -4.224899768829346, -4.265399932861328, -4.335400104522705, -4.416200160980225, -4.473800182342529, -4.555600166320801, -4.555600166320801, -4.757599830627441, -4.757599830627441, -4.761300086975098, -4.853899955749512, -4.908699989318848, -4.908699989318848, -4.940999984741211, -5.005199909210205, -5.068699836730957, -5.1203999519348145, -5.182799816131592, -5.232100009918213, -5.263899803161621, -5.285299777984619, -5.311600208282471, -5.346099853515625, -5.346099853515625, -5.346099853515625, -4.158999919891357, -3.785900115966797, -3.7328999042510986, -4.569399833679199, -4.220200061798096, -4.002099990844727, -4.052999973297119, -4.826200008392334, -4.0644001960754395, -4.164400100708008, -3.914299964904785, -3.9667999744415283, -4.265100002288818, -3.90939998626709, -4.660600185394287, -4.72730016708374, -3.7644999027252197, -3.879300117492676, -4.1722002029418945, -4.249800205230713, -4.41510009765625, -4.503200054168701, -4.530300140380859, -4.5482001304626465, -4.563300132751465, -4.658999919891357, -4.7058000564575195, -4.7266998291015625, -4.745200157165527, -4.953499794006348, -5.003399848937988, -5.019899845123291, -5.021500110626221, -5.098199844360352, -5.1631999015808105, -5.187300205230713, -5.213699817657471, -5.228000164031982, -5.289999961853027, -5.297699928283691, -5.381999969482422, -3.0090999603271484, -5.439700126647949, -5.484300136566162, -5.5005998611450195, -5.513000011444092, -3.5076000690460205, -4.600100040435791, -3.849299907684326, -4.280300140380859, -4.861700057983398, -4.320899963378906, -4.011899948120117, -3.8547000885009766, -3.743799924850464, -4.455100059509277, -3.9460999965667725, -3.8096001148223877, -4.521100044250488, -4.523200035095215, -4.28980016708374, -4.491799831390381, -4.625699996948242], \"loglift\": [30.0, 29.0, 28.0, 27.0, 26.0, 25.0, 24.0, 23.0, 22.0, 21.0, 20.0, 19.0, 18.0, 17.0, 16.0, 15.0, 14.0, 13.0, 12.0, 11.0, 10.0, 9.0, 8.0, 7.0, 6.0, 5.0, 4.0, 3.0, 2.0, 1.0, 1.8058, 1.8026, 1.7974, 1.7958, 1.7948, 1.7946, 1.7946, 1.7936, 1.7919, 1.7905, 1.789, 1.7884, 1.7876, 1.7865, 1.7841, 1.7836, 1.7831, 1.7821, 1.7813, 1.7813, 1.7813, 1.7805, 1.7791, 1.7784, 1.7783, 1.7753, 1.7747, 1.7742, 1.7732, 1.7722, 1.7516, 1.7545, 1.7536, 1.746, 1.7466, 1.7521, 1.7103, 1.5932, 0.9306, 1.4436, 1.4909, 1.6085, 1.2913, 1.582, 1.3787, 0.643, 1.0542, 1.3126, 1.2145, 0.9845, 2.5529, 2.5498, 2.5493, 2.5475, 2.5427, 2.5415, 2.534, 2.53, 2.5242, 2.5238, 2.5235, 2.5201, 2.5187, 2.5059, 2.5029, 2.5011, 2.4908, 2.4836, 2.4698, 2.4692, 2.4679, 2.4598, 2.4583, 2.4574, 2.4495, 2.4493, 2.4483, 2.4444, 2.4398, 2.4398, 2.3836, 2.335, 2.2424, 2.2567, 2.2771, 2.0917, 2.3234, 2.1208, 1.9152, 1.9809, 2.0641, 1.7484, 2.2508, 2.1055, 1.6944, 1.8651, 1.5747, 1.8435, 1.5628, 1.5767, 0.958, 1.7865, 0.4272, 1.0643, 1.2605, 0.8597, 0.8288, 1.2958, 0.5567, 2.7221, 2.719, 2.7175, 2.7167, 2.7143, 2.7112, 2.7029, 2.701, 2.6959, 2.6954, 2.6937, 2.6929, 2.69, 2.6853, 2.6824, 2.6781, 2.6731, 2.6681, 2.6663, 2.6646, 2.6637, 2.6633, 2.6611, 2.6595, 2.6595, 2.659, 2.6571, 2.6539, 2.6516, 2.6502, 2.6202, 2.5577, 2.3604, 2.5205, 2.3781, 2.3808, 2.5036, 2.2141, 2.0123, 2.4165, 1.5796, 1.8413, 1.7279, 1.2733, 1.7024, 1.5384, 1.4866, 1.8048, 1.4864, 0.969, 2.0148, 1.2966, 1.3348, 0.236, 2.8499, 2.8342, 2.8299, 2.8277, 2.8268, 2.8255, 2.8124, 2.8124, 2.8118, 2.8069, 2.8038, 2.8021, 2.8021, 2.8021, 2.7954, 2.7899, 2.7898, 2.7881, 2.7854, 2.7836, 2.7723, 2.7682, 2.7656, 2.7644, 2.7599, 2.7557, 2.7557, 2.7549, 2.7547, 2.75, 2.7163, 2.6776, 2.6307, 2.6716, 2.6745, 2.6335, 2.3719, 2.1531, 2.4099, 2.4316, 2.5723, 2.0481, 2.4816, 1.7634, 2.2969, 2.3261, 1.8767, 1.5832, 1.8948, 2.2838, 1.2999, 1.5911, 1.5361, 1.482, 1.4613, 0.5872, 1.5146, 0.7545, 0.9417, 1.106, 1.3537, 1.7446, 1.7194, 2.8713, 2.8692, 2.8665, 2.8646, 2.8565, 2.847, 2.8453, 2.8448, 2.844, 2.8434, 2.8432, 2.841, 2.8377, 2.8367, 2.8347, 2.8333, 2.8329, 2.8284, 2.827, 2.8216, 2.8211, 2.8206, 2.8193, 2.814, 2.8139, 2.8091, 2.8077, 2.8046, 2.8027, 2.8024, 2.7564, 2.3123, 2.6211, 2.3076, 2.5201, 2.1831, 2.0924, 1.7623, 0.8029, 2.3369, 0.9321, 1.8678, 0.1182, 1.8793, 1.1386, 2.9234, 2.922, 2.9176, 2.9152, 2.9133, 2.9086, 2.9077, 2.9067, 2.9062, 2.9051, 2.8953, 2.8942, 2.8937, 2.8934, 2.89, 2.8864, 2.883, 2.8781, 2.8768, 2.872, 2.8707, 2.8581, 2.8542, 2.8535, 2.8529, 2.8525, 2.8503, 2.8488, 2.8448, 2.8418, 2.8394, 2.6615, 2.6918, 2.5583, 2.5265, 2.3877, 2.4687, 2.2215, 2.4208, 2.467, 2.4623, 1.9788, 2.2822, 2.172, 1.6441, 1.3994, 1.2884, 1.5785, 0.9552, 0.906, 2.9628, 2.9544, 2.9537, 2.9527, 2.9515, 2.9514, 2.9426, 2.9386, 2.9361, 2.9257, 2.9222, 2.9174, 2.9156, 2.9018, 2.8963, 2.8913, 2.8805, 2.8753, 2.8736, 2.8727, 2.8712, 2.8699, 2.859, 2.8584, 2.8525, 2.8513, 2.85, 2.843, 2.8422, 2.8356, 2.8325, 2.8088, 2.8198, 2.8114, 2.6721, 2.2142, 2.124, 2.3652, 1.8655, 2.3113, 2.4906, 2.5854, 2.2619, 2.2107, 2.3548, 1.5438, 1.9979, 2.1141, 0.8507, 1.5827, 1.5804, 1.7972, 1.4146, 1.0901, 0.8286, 0.9226, 1.2665, 0.7863, 0.4384, 2.9957, 2.9897, 2.9896, 2.988, 2.9824, 2.9613, 2.9597, 2.951, 2.9493, 2.9491, 2.9487, 2.944, 2.935, 2.9322, 2.9317, 2.9304, 2.9263, 2.9263, 2.9157, 2.9153, 2.9059, 2.9059, 2.9024, 2.8993, 2.8993, 2.8993, 2.8993, 2.8975, 2.891, 2.891, 2.7844, 2.7855, 2.6589, 2.571, 2.7628, 2.5645, 2.6431, 2.0951, 2.4345, 2.1328, 2.6031, 2.3475, 2.3406, 2.3841, 2.0995, 1.7048, 1.8852, 1.696, 1.1989, 2.0326, 2.1913, 1.9034, 1.9352, 1.6562, 1.8681, 0.9318, 0.8555, 0.4646, 0.8507, 3.0357, 3.0356, 3.0235, 3.0113, 3.008, 3.0042, 3.0002, 2.9964, 2.9905, 2.9885, 2.9879, 2.9871, 2.9865, 2.9858, 2.9791, 2.9769, 2.9768, 2.9722, 2.9616, 2.9615, 2.9604, 2.9573, 2.9528, 2.9499, 2.9498, 2.9457, 2.9407, 2.9379, 2.9305, 2.9305, 2.5635, 2.642, 2.5298, 2.5813, 2.7445, 2.6979, 2.1209, 2.2457, 1.6833, 2.1899, 1.5799, 1.4168, 2.1895, 1.6242, 1.7611, 0.6521, 0.6119, 1.1556, 3.0286, 3.0269, 3.0268, 3.0248, 3.0139, 3.0063, 2.9873, 2.9859, 2.9851, 2.9764, 2.9688, 2.9656, 2.9628, 2.9575, 2.9555, 2.9549, 2.9522, 2.945, 2.9397, 2.9356, 2.9336, 2.9333, 2.9227, 2.9173, 2.9168, 2.9011, 2.8983, 2.8911, 2.8876, 2.8731, 2.8697, 2.8279, 2.7369, 2.7251, 2.4666, 2.5082, 2.5294, 2.4506, 2.48, 2.4433, 2.2112, 2.6026, 2.5532, 2.6324, 2.0356, 2.506, 1.7213, 2.3267, 2.2983, 1.6637, 1.2282, 0.8842, 2.3678, 1.8466, 1.5037, 1.2085, 0.886, 0.8355, 3.0457, 3.0403, 3.0323, 3.0304, 3.0237, 3.0189, 3.0159, 3.0151, 3.015, 3.0102, 3.0032, 3.0028, 2.9936, 2.9914, 2.9883, 2.9882, 2.9876, 2.9861, 2.9816, 2.9809, 2.974, 2.9732, 2.9721, 2.9671, 2.9668, 2.9657, 2.9656, 2.9632, 2.9628, 2.956, 2.9327, 2.8366, 2.7844, 2.7019, 2.8294, 2.7256, 2.6481, 2.6537, 2.6247, 2.3237, 1.956, 2.2587, 2.2555, 1.554, 1.7164, 1.9696, 1.4711, 2.2281, 2.2019, 1.144, 2.0103, 0.8001, 1.3935, 2.4414, 1.382, 3.0602, 3.0472, 3.0466, 3.0453, 3.0419, 3.0327, 3.0318, 3.0312, 3.0254, 3.0232, 3.0196, 3.0034, 3.0027, 2.9972, 2.9948, 2.9861, 2.9794, 2.9713, 2.9708, 2.9679, 2.9479, 2.947, 2.9444, 2.938, 2.9288, 2.9285, 2.9278, 2.9247, 2.9196, 2.9164, 2.8176, 2.8335, 2.7227, 2.5564, 2.4493, 2.6731, 2.5416, 2.483, 2.594, 2.4642, 2.6753, 1.5964, 2.0358, 1.9482, 2.0604, 1.4681, 1.5787, 1.5324, 1.2218, 1.4, 1.1274, 1.8036, 1.2814, 0.8467, 0.5302, 3.0893, 3.0843, 3.0783, 3.0748, 3.0724, 3.0663, 3.0655, 3.0639, 3.0615, 3.0579, 3.0465, 3.0446, 3.0439, 3.031, 3.0286, 3.0233, 3.0208, 3.0198, 3.001, 2.9971, 2.9958, 2.993, 2.993, 2.9694, 2.965, 2.9578, 2.9489, 2.9485, 2.9469, 2.9405, 2.8668, 2.7927, 2.8599, 2.7476, 2.6197, 2.5101, 2.6976, 2.2994, 2.1746, 1.875, 2.3962, 1.9524, 1.7446, 1.8266, 1.5538, 1.3063, 1.3399, 1.6177, 1.5747, 1.237, 0.8421, 3.2629, 3.2615, 3.2555, 3.2503, 3.247, 3.2415, 3.2332, 3.2297, 3.2274, 3.2128, 3.2096, 3.2071, 3.2071, 3.2071, 3.2071, 3.2071, 3.2071, 3.2071, 3.2071, 3.2071, 3.2071, 3.2071, 3.2071, 3.2052, 3.2031, 3.1948, 3.194, 3.1751, 3.1751, 3.174, 3.03, 2.804, 2.3316, 2.6049, 2.6539, 2.0307, 1.8161, 1.5445, 2.6215, 2.5693, 2.6427, 1.5912, 1.1489, 1.1565, 1.3561, 2.7651, 2.4697, 2.2678, 1.4448, 1.4874, 1.1974, 0.3675, 1.2623, 3.3628, 3.3553, 3.3544, 3.3451, 3.3352, 3.332, 3.329, 3.3256, 3.322, 3.3191, 3.3048, 3.3002, 3.3001, 3.2869, 3.2844, 3.2837, 3.2832, 3.2832, 3.2767, 3.2764, 3.2642, 3.2608, 3.2575, 3.2489, 3.2428, 3.2333, 3.2333, 3.2333, 3.2149, 3.2148, 3.2025, 2.9835, 3.084, 2.9726, 2.7084, 2.7727, 2.9111, 2.7275, 2.8645, 2.9813, 2.1414, 2.3796, 2.338, 2.4834, 1.9283, 1.3778, 1.0373, 2.3479, 2.5508, 0.967, 1.2182, 0.7938, 0.7987, 3.5293, 3.4983, 3.4874, 3.481, 3.4793, 3.4763, 3.4763, 3.4729, 3.463, 3.4614, 3.4572, 3.4554, 3.4498, 3.4478, 3.4456, 3.4451, 3.4411, 3.4408, 3.4365, 3.4333, 3.4303, 3.4291, 3.4258, 3.4233, 3.423, 3.4228, 3.421, 3.4131, 3.4086, 3.4062, 3.2709, 3.1818, 3.1317, 3.0333, 2.3972, 2.4669, 2.9035, 2.0846, 1.4252, 1.7562, 2.5436, 0.8864, 1.2407, 3.5647, 3.5628, 3.5612, 3.5544, 3.5516, 3.5405, 3.5268, 3.5145, 3.5109, 3.5055, 3.4937, 3.4839, 3.4831, 3.4778, 3.4765, 3.458, 3.4535, 3.4519, 3.4419, 3.4328, 3.4294, 3.4091, 3.4063, 3.3982, 3.3953, 3.3877, 3.3682, 3.3601, 3.3601, 3.3485, 3.3404, 3.1494, 3.1321, 3.1135, 3.1399, 2.8339, 2.5667, 3.1391, 1.9073, 2.4582, 2.1213, 1.6052, 1.4144, 1.1067, 1.3316, 1.0418, 2.2328, 0.9884, 0.6905, 0.8907, 1.2215, 0.4273, 1.1278, 3.6092, 3.6014, 3.5844, 3.5685, 3.5654, 3.5553, 3.5495, 3.5254, 3.5244, 3.5242, 3.5237, 3.5166, 3.5114, 3.5005, 3.4986, 3.4911, 3.4866, 3.4849, 3.4755, 3.4755, 3.4755, 3.4687, 3.4674, 3.4422, 3.4317, 3.4234, 3.42, 3.42, 3.4198, 3.4169, 3.2768, 3.313, 3.2826, 3.1683, 3.2282, 2.8173, 2.6017, 2.7791, 2.8147, 2.1999, 2.3196, 2.2429, 2.4772, 2.5956, 1.4532, 2.3133, 1.7498, 2.4369, 1.8136, 0.7976, 2.1912, 0.4973, 0.5033, 3.6724, 3.6699, 3.6531, 3.6504, 3.6462, 3.6455, 3.6433, 3.6395, 3.6347, 3.631, 3.6255, 3.6255, 3.6099, 3.6099, 3.6096, 3.6014, 3.5962, 3.5962, 3.593, 3.5864, 3.5795, 3.5736, 3.566, 3.5598, 3.5556, 3.5528, 3.5491, 3.5443, 3.5443, 3.5443, 3.4578, 3.3828, 2.7647, 3.16, 2.9635, 2.8292, 2.8438, 3.1438, 2.1095, 2.1064, 1.3046, 1.3484, 1.628, 0.5374, 2.489, 1.9809, 3.7747, 3.7702, 3.7562, 3.7519, 3.7414, 3.7351, 3.733, 3.7317, 3.7305, 3.7226, 3.7185, 3.7166, 3.7149, 3.6937, 3.688, 3.686, 3.6858, 3.6764, 3.6679, 3.6646, 3.661, 3.6589, 3.6499, 3.6487, 3.6355, 3.6293, 3.626, 3.6182, 3.6153, 3.6131, 3.5658, 3.584, 3.5224, 3.5376, 3.4281, 3.1719, 2.9257, 2.6512, 2.3333, 2.7131, 1.5111, 1.1638, 2.5223, 2.3921, 1.5843, 2.0083, 1.4251]}, \"token.table\": {\"Topic\": [8, 10, 1, 3, 6, 12, 6, 15, 7, 6, 15, 3, 19, 9, 1, 4, 17, 4, 20, 2, 8, 11, 12, 8, 14, 8, 10, 18, 11, 18, 13, 14, 5, 13, 4, 18, 20, 15, 4, 5, 17, 5, 13, 1, 2, 3, 4, 5, 7, 8, 10, 13, 14, 15, 1, 16, 1, 11, 17, 19, 16, 20, 1, 6, 11, 13, 15, 14, 17, 4, 5, 18, 15, 12, 1, 10, 8, 1, 19, 8, 7, 1, 17, 5, 13, 15, 4, 1, 15, 5, 10, 18, 11, 3, 10, 7, 14, 18, 5, 3, 4, 12, 13, 14, 12, 3, 4, 15, 4, 2, 14, 14, 18, 12, 19, 15, 17, 4, 6, 19, 1, 3, 14, 11, 2, 4, 11, 12, 14, 18, 12, 19, 16, 2, 3, 20, 11, 14, 2, 10, 13, 3, 1, 2, 10, 7, 1, 2, 20, 14, 7, 16, 11, 1, 19, 6, 13, 15, 18, 20, 3, 13, 1, 8, 9, 11, 16, 7, 2, 7, 16, 4, 15, 14, 15, 6, 14, 1, 3, 7, 13, 6, 1, 2, 4, 6, 7, 15, 17, 20, 9, 10, 14, 13, 5, 13, 5, 17, 9, 16, 1, 19, 1, 3, 1, 16, 16, 16, 20, 2, 13, 16, 18, 5, 20, 12, 5, 11, 12, 16, 13, 2, 18, 7, 3, 11, 3, 10, 6, 11, 15, 6, 1, 2, 12, 19, 3, 11, 19, 18, 5, 6, 7, 8, 9, 2, 5, 13, 10, 20, 2, 8, 9, 10, 11, 2, 1, 2, 3, 10, 15, 6, 15, 3, 16, 4, 6, 9, 19, 1, 17, 1, 2, 5, 2, 4, 6, 8, 15, 19, 5, 17, 7, 1, 2, 16, 5, 17, 1, 3, 5, 7, 9, 11, 12, 14, 15, 13, 11, 5, 18, 7, 8, 9, 12, 18, 1, 17, 19, 4, 11, 8, 13, 18, 3, 6, 7, 17, 3, 8, 17, 20, 9, 4, 15, 2, 9, 14, 1, 2, 3, 4, 7, 8, 14, 15, 20, 19, 1, 2, 5, 12, 18, 6, 1, 7, 5, 2, 10, 8, 13, 3, 5, 14, 16, 6, 5, 9, 1, 13, 12, 13, 1, 2, 8, 10, 17, 6, 15, 12, 19, 7, 14, 1, 4, 10, 6, 1, 4, 17, 18, 11, 16, 19, 4, 1, 2, 4, 4, 8, 5, 19, 2, 12, 17, 1, 15, 14, 18, 3, 7, 8, 8, 13, 13, 1, 7, 12, 17, 19, 1, 10, 20, 4, 16, 8, 16, 17, 6, 4, 18, 7, 10, 12, 14, 17, 15, 2, 10, 18, 20, 3, 13, 4, 9, 12, 20, 7, 1, 2, 1, 2, 9, 14, 20, 3, 6, 1, 13, 1, 1, 8, 4, 1, 2, 4, 7, 2, 10, 7, 5, 10, 9, 6, 3, 10, 17, 18, 15, 1, 2, 3, 9, 17, 12, 1, 14, 15, 7, 1, 14, 2, 4, 9, 7, 12, 3, 7, 7, 1, 4, 17, 6, 1, 17, 10, 15, 2, 4, 1, 12, 3, 17, 20, 3, 4, 11, 12, 7, 14, 17, 2, 3, 8, 1, 6, 7, 16, 19, 13, 4, 1, 3, 6, 10, 11, 12, 15, 17, 9, 15, 16, 1, 10, 1, 4, 6, 8, 13, 14, 15, 5, 11, 17, 11, 11, 1, 14, 17, 6, 15, 1, 4, 6, 16, 18, 8, 5, 11, 16, 20, 3, 4, 5, 6, 8, 13, 20, 15, 4, 5, 1, 4, 7, 9, 11, 12, 13, 14, 17, 18, 19, 16, 1, 2, 4, 13, 11, 2, 4, 7, 8, 11, 14, 15, 17, 3, 8, 4, 1, 2, 4, 8, 10, 14, 5, 18, 3, 18, 4, 8, 16, 9, 11, 10, 16, 9, 13, 18, 2, 14, 4, 3, 5, 7, 8, 10, 15, 19, 20, 11, 1, 2, 3, 10, 15, 15, 4, 5, 12, 14, 6, 7, 3, 14, 15, 7, 1, 5, 15, 10, 17, 10, 2, 18, 19, 1, 1, 2, 3, 4, 8, 9, 16, 8, 5, 11, 3, 3, 4, 20, 9, 5, 12, 9, 10, 14, 15, 20, 20, 17, 1, 15, 12, 7, 12, 12, 3, 18, 11, 1, 2, 1, 6, 9, 10, 5, 1, 1, 13, 18, 9, 8, 4, 7, 8, 10, 12, 18, 12, 14, 16, 18, 2, 14, 14, 1, 2, 10, 11, 15, 17, 18, 19, 20, 19, 1, 2, 6, 9, 11, 14, 7, 12, 18, 17, 20, 4, 7, 8, 11, 14, 19, 19, 19, 2, 7, 10, 12, 2, 10, 11, 12, 17, 8, 16, 20, 10, 17, 14, 7, 1, 6, 3, 11, 7, 10, 1, 3, 6, 8, 10, 12, 15, 20, 17, 7, 11, 5, 9, 1, 2, 2, 2, 14, 2, 4, 11, 14, 12, 1, 2, 2, 3, 2, 6, 19, 6, 6, 1, 4, 6, 8, 9, 16, 17, 18, 20, 1, 2, 5, 6, 18, 1, 8, 10, 15, 20, 11, 3, 3, 1, 2, 3, 9, 15, 16, 20, 10, 15, 5, 1, 2, 3, 4, 5, 6, 7, 14, 16, 19, 20, 18, 4, 5, 6, 8, 4, 6, 8, 13, 13, 9, 9, 8, 4, 7, 6, 14, 8, 3, 6, 15, 1, 5, 9, 2, 14, 2, 12, 20, 1, 2, 4, 9, 12, 13, 16, 18, 20, 6, 12, 19, 13, 1, 2, 3, 4, 8, 9, 20, 8, 9, 1, 3, 6, 8, 15, 6, 10, 11, 17, 2, 7, 8, 10, 11, 12, 13, 15, 17, 1, 19, 20, 17, 14, 6, 18, 5, 1, 2, 5, 7, 8, 9, 11, 12, 16, 17, 20, 11, 16, 9, 1, 2, 7, 9, 13, 11, 11, 15, 6, 12, 13, 17, 2, 4, 5, 9, 10, 1, 14, 2, 3, 4, 14, 16, 10, 15, 7, 18, 6, 11, 18, 6, 12, 20, 6, 12, 4, 4, 6, 3, 6, 8, 3, 4, 5, 17, 18, 12, 15, 2, 13, 9, 4, 6, 17, 10, 6, 2, 3, 7, 20, 15, 15, 16, 15, 8, 15, 1, 19, 2, 2, 3, 7, 11, 1, 19, 20, 15, 6, 3, 13, 17, 6, 8, 15, 10, 6, 1, 2, 4, 7, 8, 10, 12, 13, 14, 15, 17, 19, 20, 3, 6, 10, 11, 3, 18, 3, 2, 16, 12, 4, 11, 14, 1, 2, 4, 6, 7, 8, 15, 10, 13, 4, 1, 3, 13, 14, 19, 8, 16, 20, 16, 5, 8, 18, 1, 8, 10, 1, 17, 5, 5, 9, 13, 19, 1, 1, 2, 3, 9, 13, 5, 20, 6, 20, 3, 2, 1, 15, 19, 2, 3, 6, 4, 1, 1, 2, 1, 11, 19, 12, 1, 2, 4, 8, 10, 10, 1, 2, 7, 6, 9, 1, 9, 10, 12, 9, 7, 2, 2, 14, 2, 18, 1, 5, 6, 11, 12, 15, 20, 17, 8, 2, 1, 19, 20, 10, 1, 2, 1, 2, 10, 2, 6, 11, 3, 7, 14, 6, 8, 12, 1, 10, 11, 14, 9, 19, 19, 4, 13, 1, 2, 8, 10, 11, 17, 19, 7, 20, 10, 9, 4, 8, 1, 17, 20, 7, 11, 12, 13, 10, 9, 6, 1, 4, 5, 7, 19, 19, 1, 19, 9, 8, 13, 15, 2, 8, 13, 5, 2, 12, 11, 4, 6, 13, 15, 9, 18, 12, 6, 10, 1, 2, 4, 7, 11, 8, 2, 3, 7, 11, 13, 2, 4, 17, 18, 10, 9, 14, 19, 4, 18, 2, 7, 11, 20, 7, 13, 16, 1, 5, 9, 11, 2, 5, 8, 13, 16, 8, 16, 3, 20, 20, 9, 3, 7, 9, 10, 11, 14, 17, 2, 14, 17, 16, 2, 3, 6, 7, 20, 14, 2, 6, 7, 10, 12, 13, 14, 15, 17, 20, 7, 15, 12, 14, 12, 3, 7, 18, 3, 4, 11, 11, 11, 18, 10, 1, 3, 5, 6, 8, 14, 17, 18, 19, 1, 6, 11, 19, 20, 14, 4, 1, 2, 6, 7, 14, 5, 12, 1, 2, 14, 3, 12, 20, 2, 7, 17, 19, 5, 14, 5, 7, 16, 4, 7, 11, 18, 16, 8, 9, 20, 1, 3, 17, 20, 4, 20, 13, 5, 9, 16, 1, 6, 10, 11, 13, 5, 12, 12, 13, 17, 13, 4, 7, 17, 20, 17, 20, 18, 2, 20, 20, 7, 11, 13, 19, 1, 8, 20, 14, 4, 14, 4, 3, 4, 17, 9, 10, 13, 12, 11, 1, 15, 18, 8, 6, 8, 17, 4, 13, 1, 2, 4, 7, 11, 14, 15, 6, 10, 19, 8, 6, 8, 10, 15, 10, 7, 2, 14, 9, 17, 1, 2, 5, 18, 19, 4, 6, 7, 10, 13, 14, 15, 19, 2, 4, 5, 7, 13, 14, 18, 14, 18, 8, 16, 1, 2, 4, 6, 7, 8, 10, 11, 13, 17, 14, 2, 11, 12, 17, 12, 7, 8, 17, 8, 8, 6, 10, 1, 4, 12, 1, 3, 2, 3, 6, 8, 3, 8, 11, 10, 3, 17, 18, 2, 16, 17, 16, 19, 4, 4, 7, 8, 12, 14, 4, 1, 6, 15, 4, 7, 3, 17, 1, 2, 12, 2, 19, 11, 19, 4, 13, 15, 15, 16, 1, 2, 6, 8, 17, 1, 5, 7, 9, 19, 4, 8, 1, 3, 11, 17, 20, 18, 16, 18, 5, 3, 6, 2, 14, 18, 20, 19, 6, 17, 16, 1, 2, 4, 11, 12, 13, 14, 13, 2, 7, 17, 5, 6, 2, 4, 7, 9, 12, 13, 14, 9, 13, 4, 3, 1, 5, 8, 20, 3, 11, 20, 3, 6, 3, 10, 14, 17, 1, 2, 4, 7, 8, 12, 14, 15, 17, 11, 14, 1, 2, 4, 5, 6, 7, 10, 11, 13, 19, 7, 12, 5, 19, 1, 2, 4, 10, 13, 14, 20, 15, 3, 12, 3, 13, 3], \"Freq\": [0.7736812554535513, 0.16819157727251116, 0.43220993257476337, 0.05402624157184542, 0.4682274269559936, 0.03601749438123028, 0.7591360996168371, 0.23160084395089947, 0.9843474776151382, 0.7770604301106034, 0.19426510752765086, 0.9420811527755976, 0.9738811958944584, 0.8602388692401287, 0.1992691818141823, 0.5693405194690923, 0.22773620778763692, 0.2283461303855509, 0.7611537679518364, 0.9104804008440296, 0.06811485584113251, 0.20434456752339755, 0.7038535103583694, 0.9624920779352837, 0.9472349101536596, 0.8651960934090691, 0.8928057543842536, 0.9362582006199256, 0.8918610505553997, 0.8452868469668665, 0.8871284009049404, 0.08064803644590368, 0.9505010712044584, 0.9632941857755692, 0.9659430055357399, 0.2859341379060135, 0.6671796551140315, 0.9293945862461598, 0.18815451986755932, 0.7526180794702373, 0.7975348245842838, 0.5723194997729772, 0.39346965609392187, 0.06742854796481018, 0.17419041557575965, 0.05057141097360764, 0.06742854796481018, 0.028095228318670912, 0.23599991787683566, 0.08990473061974692, 0.10676186761094947, 0.0955237762834811, 0.011238091327468365, 0.07304759362854436, 0.9620594412752113, 0.9111538500352727, 0.6961317696517001, 0.05062776506557819, 0.037970823799183644, 0.20251106026231275, 0.9739929156994453, 0.9569590240593996, 0.15645161930802273, 0.09387097158481364, 0.7196774488169045, 0.031290323861604546, 0.9340235458202106, 0.17316314905369287, 0.7503736458993358, 0.1802180907752724, 0.450545226938181, 0.3604361815505448, 0.9834371886395429, 0.9593324136545447, 0.9689815925336, 0.9087424770712407, 0.8470204029816268, 0.24851755186033278, 0.7144879615984567, 0.8263097849502359, 0.9800075460021569, 0.9705323481316691, 0.7579873370123176, 0.9438131387591846, 0.6254426472016156, 0.3666387931871539, 0.9414794810508612, 0.26037288375405704, 0.6509322093851426, 0.9744936035436552, 0.932332719777464, 0.8878829714924602, 0.9557295305963309, 0.11215406454118984, 0.8411554840589238, 0.6221273257764096, 0.222188330634432, 0.13331299838065921, 0.8933965663846247, 0.11835160139531907, 0.10848896794570914, 0.5424448397285457, 0.16766476864336868, 0.059175800697659535, 0.8479555444066584, 0.8982861287745674, 0.7952002022135332, 0.14910003791503745, 0.9442021946561049, 0.9601132708024868, 0.9384120110973233, 0.8704663324185901, 0.9472559831091456, 0.9226119873007231, 0.967183747353925, 0.853395071354975, 0.8718712200420613, 0.27387740676312466, 0.6846935169078118, 0.03912534382330353, 0.1940975331716955, 0.80411835171131, 0.9395081400858605, 0.9187554719973884, 0.3690864532204751, 0.04613580665255939, 0.18454322661023756, 0.3229506465679157, 0.0692037099788391, 0.8936128467938212, 0.956493739521333, 0.94048743217241, 0.8986770481011175, 0.12795327480863067, 0.03655807851675162, 0.8408358058852873, 0.4919571493873772, 0.4919571493873772, 0.9092371503790634, 0.2595357716834031, 0.7386787347912241, 0.8612969247465145, 0.374519176932219, 0.4494230123186628, 0.1498076707728876, 0.899612190818691, 0.28220617595688685, 0.7172740305570874, 0.9437413032981928, 0.9579609144722463, 0.8388008657736326, 0.114381936241859, 0.8446449290365645, 0.9894340479886173, 0.9455427780296155, 0.06032946672175509, 0.12065893344351018, 0.16087857792468024, 0.623404489458136, 0.8890227403646577, 0.9433790388056271, 0.9632997930567707, 0.1966962974410386, 0.32186666853988133, 0.12517037109884274, 0.33974815012543025, 0.8212814519238275, 0.9629354823867017, 0.4127675305567562, 0.5159594131959453, 0.07739391197939179, 0.625963924959861, 0.3547128908105879, 0.9430045044014123, 0.9234506902673477, 0.9048614674528258, 0.0867675379749285, 0.8157023164572675, 0.1717268034646879, 0.8599926885108289, 0.9687689094414843, 0.916029474376232, 0.04141592295037985, 0.0828318459007597, 0.4866370946669633, 0.07765485553196223, 0.06730087479436726, 0.09318582663835467, 0.1138937881135446, 0.020707961475189926, 0.3179645913203904, 0.17664699517799465, 0.49461158649838505, 0.8256285450730013, 0.6992335955552749, 0.28791971581687786, 0.3254773137314355, 0.650954627462871, 0.9366898369006686, 0.9117936547563408, 0.38095295308924526, 0.5986403548545283, 0.9401809753966084, 0.05014298535448578, 0.9766475096099286, 0.843032744523593, 0.9301777581984577, 0.8950581120384492, 0.9282433189998212, 0.020971347083040957, 0.17825645020584815, 0.09437106187368431, 0.7025401272818721, 0.9554159303207109, 0.8361152724754436, 0.9852437006808501, 0.16098268107441505, 0.16098268107441505, 0.6975916179891319, 0.9662709238233333, 0.8904229525686498, 0.9810122858919064, 0.7054445305677413, 0.9213539098990242, 0.8758010067259037, 0.84516318905334, 0.7614504942094072, 0.2030534651225086, 0.6216576899247179, 0.1604277909483143, 0.2005347386853929, 0.9513883702066883, 0.14708759230904508, 0.47394890855136745, 0.3595474478665546, 0.9506420399475761, 0.880524722255984, 0.8668443173369644, 0.856749790810865, 0.9258903321479043, 0.135137859673846, 0.202706789510769, 0.135137859673846, 0.08446116229615375, 0.4391980439399995, 0.8616747065530538, 0.9843255976227284, 0.8729106735366767, 0.850625792171595, 0.094513976907955, 0.9185024764980736, 0.9542226725962266, 0.4142468615108592, 0.47965426069678435, 0.08720986558123352, 0.9331062308055585, 0.2426978434445567, 0.16179856229637113, 0.04044964057409278, 0.5528117545126013, 0.8478959255898992, 0.3819460202117648, 0.5902802130545457, 0.958038204700728, 0.9504406941939997, 0.9414794810508612, 0.9588531199947695, 0.8409857577913724, 0.8997073303130635, 0.9688471879897615, 0.9318972462427847, 0.940527183477883, 0.05111560779771103, 0.9440834988446694, 0.07382337148662232, 0.32482283454113825, 0.2657641373518404, 0.1771760915678936, 0.02952934859464893, 0.11811739437859572, 0.9443053966395171, 0.9474176935943778, 0.9625055164365918, 0.5948098757900603, 0.3607863181021677, 0.03900392628131543, 0.9348101469939839, 0.8507605838143386, 0.9429495600366193, 0.05482264883933834, 0.1077625642157597, 0.08381532772336867, 0.3951294021244523, 0.13170980070815075, 0.16763065544673733, 0.11973618246195523, 0.869562354843677, 0.9806977149623279, 0.9170814580466756, 0.8949556247615958, 0.8927870783474099, 0.8416472374820175, 0.5094900052124899, 0.13895181960340633, 0.20842772940510948, 0.13895181960340633, 0.5100999627912296, 0.4749206550125241, 0.9050264494444079, 0.9196004381500587, 0.9494339162727422, 0.3531402199359672, 0.38524387629378243, 0.22472559450470642, 0.3520095897236772, 0.6160167820164351, 0.315652471950988, 0.631304943901976, 0.2865545192026902, 0.19103634613512682, 0.3661529967589931, 0.15919695511260568, 0.9558901059231635, 0.7846245721449241, 0.19215295644365488, 0.2430721434014787, 0.4253762509525877, 0.30384017925184836, 0.05449611525185454, 0.09990954462839999, 0.16348834575556362, 0.16348834575556362, 0.24523251863334544, 0.02724805762592727, 0.15440565988025454, 0.05449611525185454, 0.02724805762592727, 0.9271076418077989, 0.1124486211137236, 0.27601025182459427, 0.09200341727486476, 0.15333902879144126, 0.3577910671800296, 0.9522909913775947, 0.2936649952768196, 0.6460629896090031, 0.9693342334992014, 0.8105322796016874, 0.16886089158368486, 0.9378550647149376, 0.8771024912842716, 0.9496191821627102, 0.9014737563325784, 0.6062314446274162, 0.38578364658108305, 0.9696709296698311, 0.3213902053161477, 0.656753897819954, 0.18648188568056118, 0.783223919858357, 0.03423496938340641, 0.924344173351973, 0.9868609498705356, 0.923305210921299, 0.7934744252661277, 0.13007777463379142, 0.06503888731689571, 0.8899667815055127, 0.9340235458202106, 0.5444457003643716, 0.42608793941559514, 0.9682169251197115, 0.9395081400858605, 0.786950190997175, 0.1816038902301173, 0.8663109081159874, 0.923719065905361, 0.19180231738592524, 0.28770347607888785, 0.07192586901972196, 0.4315552141183318, 0.9428971673651643, 0.8338342591782384, 0.8689056413634182, 0.8817207685601579, 0.08228749453077817, 0.30172081327952, 0.60344162655904, 0.6954234948396789, 0.2781693979358716, 0.9442321387237977, 0.9757741780967405, 0.3986279461184493, 0.586217567821249, 0.9095354030897432, 0.2326116315370755, 0.7559878024954954, 0.9395081400858605, 0.9686039821428949, 0.9469780004987004, 0.9505556597765406, 0.9140078605572903, 0.637741952648425, 0.29434243968388846, 0.9645956135527651, 0.6091264705698601, 0.25887874999219057, 0.12182529411397203, 0.7581043373980162, 0.9547525699953232, 0.9863659818287857, 0.9411820177712017, 0.9286784722228564, 0.9412267992413986, 0.9434309302744066, 0.9609206254783728, 0.7979094360219554, 0.8276464640548937, 0.9861504106157354, 0.9475323153613409, 0.6947583883839947, 0.08925986394998515, 0.5496528464288559, 0.15972817759471028, 0.1174471894078752, 0.08456197637367015, 0.9219948299045484, 0.952989313136264, 0.965208225207226, 0.7141865971592067, 0.8594267906310507, 0.2800164325549327, 0.7000410813873318, 0.25617028242162326, 0.6190781825189229, 0.10673761767567636, 0.879917350181827, 0.8064868376520843, 0.9646431321213221, 0.7946396906725915, 0.1918588268489313, 0.32890084602673936, 0.10963361534224644, 0.10963361534224644, 0.2740840383556161, 0.9355165948250954, 0.9134362843154609, 0.9696460433526957, 0.8748481069367807, 0.9626751874245661, 0.9862965406886304, 0.9417365004315703, 0.9136791595489201, 0.6435996023539622, 0.11584792842371319, 0.16733589661203016, 0.06435996023539622, 0.927218170140286, 0.9622776446914959, 0.8023672612134604, 0.9195606244140779, 0.8416828314267355, 0.9039620565562078, 0.9579098663220162, 0.8854786732381889, 0.8747049159313546, 0.28607161961570493, 0.643661144135336, 0.8673729128794287, 0.38181783660986024, 0.17727256699743513, 0.2863633774573952, 0.10909081045996007, 0.05454540522998003, 0.9059412989034616, 0.904561350466596, 0.08824988785039961, 0.853395071354975, 0.9184332037471064, 0.948640672274082, 0.9395081400858605, 0.926512435513687, 0.9310925499679299, 0.9255848000935945, 0.9227720731600682, 0.8096830109030568, 0.876017804548276, 0.11878207519298659, 0.8643604317615577, 0.608743521048396, 0.11068064019061746, 0.2490314404288893, 0.9794870984871626, 0.945179698297987, 0.038318095876945416, 0.5620367223283868, 0.3934257056298707, 0.226904380463276, 0.7260940174824831, 0.052972128998176375, 0.9323094703679042, 0.40364706189402616, 0.24839819193478532, 0.34154751391032984, 0.07209984211943712, 0.31723930532552336, 0.4470190211405102, 0.15861965266276168, 0.9418554893454778, 0.9395081400858605, 0.7343679590006311, 0.34101289572025384, 0.46501758507307345, 0.15500586169102448, 0.449172498070945, 0.14972416602364833, 0.11977933281891866, 0.2245862490354725, 0.044917249807094495, 0.8594535240203697, 0.9759023275628129, 0.09619664739255615, 0.22939200532071083, 0.1923932947851123, 0.15539458424951377, 0.05179819474983793, 0.1849935526779926, 0.03699871053559852, 0.044398452642718224, 0.8871950024466617, 0.9766202391283547, 0.8290993975514244, 0.18575728050785753, 0.7739886687827398, 0.1298984758814904, 0.26791560650557394, 0.12177982113889724, 0.0811865474259315, 0.2760342612481671, 0.12177982113889724, 0.9265986094430726, 0.5637448442547387, 0.42844608163360137, 0.90238377747098, 0.9267906603033549, 0.908638560561187, 0.9916870201294401, 0.9395081400858605, 0.910125598243334, 0.6254041999778883, 0.3411295636243027, 0.9745522695687081, 0.8956670780944543, 0.5519380600614197, 0.16233472354747636, 0.2597355576759622, 0.9378550647149376, 0.07639917254014136, 0.9167900704816964, 0.7458735830620964, 0.1864683957655241, 0.30779285401991885, 0.12104213360333886, 0.12450048027771997, 0.0034583466743811106, 0.07608362683638442, 0.29395946732239436, 0.0691669334876222, 0.853395071354975, 0.9243147675778375, 0.9908108070156367, 0.980031407302959, 0.04557080046663035, 0.14810510151654863, 0.0911416009332607, 0.22215765227482293, 0.19937225204150774, 0.11392700116657586, 0.028481750291643966, 0.0797489008166031, 0.04557080046663035, 0.028481750291643966, 0.8577781813836861, 0.32752339719162127, 0.18423191092028696, 0.3684638218405739, 0.1125861677846198, 0.934219509907246, 0.054940672380398015, 0.1709265362945716, 0.46394345565669437, 0.07935874899390824, 0.036627114920265345, 0.036627114920265345, 0.018313557460132673, 0.13429942137430625, 0.28239404617778857, 0.7059851154444714, 0.8974467497498778, 0.09620340414109803, 0.20115257229502317, 0.12244069617957931, 0.08745764012827094, 0.11369493216675222, 0.3848136165643921, 0.9509885883838826, 0.8125742424724802, 0.2665734650423954, 0.7108625734463877, 0.14031448308332117, 0.5144864379721776, 0.3274004605277494, 0.9475939150685864, 0.898951301395785, 0.935812230473957, 0.8561752764479394, 0.918523050126266, 0.6813602247740023, 0.3206401057760011, 0.8789598672399557, 0.08371046354666245, 0.8468479604945066, 0.07394501928443661, 0.1109175289266549, 0.24956444008497355, 0.2680506949060827, 0.21259193044275526, 0.04621563705277288, 0.04621563705277288, 0.8682144589576941, 0.9546970523007396, 0.2256309639427621, 0.07002340260292618, 0.6846732698952781, 0.007780378066991797, 0.9012217731342683, 0.9153879573013894, 0.5656931920215972, 0.3299876953459317, 0.09428219867026619, 0.9748520857414515, 0.12077744758920794, 0.8454421331244556, 0.9596191343535156, 0.10488155996176271, 0.8740129996813558, 0.9794609848391239, 0.4858426748367443, 0.5060861196216087, 0.9740822190649563, 0.8902729262676493, 0.9499963512039163, 0.8949750710532196, 0.2279419146683066, 0.6838257440049198, 0.9399076310402144, 0.9761903125150722, 0.4706695284613955, 0.15021367929619006, 0.06008547171847602, 0.050071226432063354, 0.06008547171847602, 0.040056981145650684, 0.1702421698690154, 0.8904298601110399, 0.8894404324119151, 0.10673285188942981, 0.8970867948176151, 0.6992515274831208, 0.04822424327469799, 0.24112121637348993, 0.9628372302549051, 0.1540067377255357, 0.7700336886276785, 0.19895082511954565, 0.5882024394838741, 0.06055025112333998, 0.11245046637191711, 0.03460014349905142, 0.9041536459633593, 0.9237944607443997, 0.5319887460606327, 0.4179911576190686, 0.9435000031011184, 0.9434815971359354, 0.8840016842509111, 0.8529880251070798, 0.9799757308981506, 0.8946876064275173, 0.8814438333278942, 0.9804519930247116, 0.9279204215526837, 0.11808176930037384, 0.5116876669682866, 0.275524128367539, 0.07872117953358256, 0.9425661987318731, 0.9774808113240696, 0.9811105455123683, 0.9101597243419751, 0.8802533068909316, 0.985375074490943, 0.8617706580963552, 0.2804945592319005, 0.21037091942392536, 0.41197638387185387, 0.05259272985598134, 0.01753090995199378, 0.02629636492799067, 0.9835529115787461, 0.9762201476136598, 0.874554268543512, 0.8946876064275173, 0.4348593263168122, 0.5280434676704148, 0.9167242237017798, 0.10598055443325824, 0.21784891744614193, 0.11186836301288369, 0.32971728045902565, 0.07654151153513095, 0.07654151153513095, 0.04121466005737821, 0.017663425738876373, 0.017663425738876373, 0.9455427780296155, 0.9945888440365257, 0.24147421147844902, 0.2524503120001967, 0.23049811095670134, 0.1317132062609722, 0.1317132062609722, 0.9746972291184282, 0.9800832313689638, 0.8896226324521137, 0.6162455091718061, 0.34235861620655894, 0.06496406139422622, 0.41143905549676607, 0.30316561983972234, 0.19489218418267865, 0.9395081400858605, 0.8245726896221361, 0.9271076418077989, 0.9680754837606045, 0.48560210185877506, 0.3759500143422775, 0.07832291965464114, 0.046993751792784685, 0.14427639972006512, 0.05610748878002532, 0.4729059768602134, 0.22442995512010128, 0.09618426648004341, 0.3579328012360296, 0.3579328012360296, 0.2386218674906864, 0.9269790151618418, 0.7916304776813564, 0.9136049906222776, 0.9110579640023274, 0.9503617688259207, 0.026398938022942242, 0.2989414313337865, 0.6975300064455018, 0.10398780420051178, 0.8665650350042648, 0.09279774794135733, 0.061865165294238224, 0.11754381405905262, 0.3959370578831246, 0.037119099176542936, 0.1113572975296288, 0.1361033636473241, 0.049492132235390576, 0.8748745441220829, 0.8571060868634988, 0.12244372669478554, 0.9574786455301387, 0.9798980657831833, 0.9948077903928522, 0.9719055923763562, 0.8631936401383, 0.47167122753756413, 0.49525478891444236, 0.2627495122039674, 0.25399119513050183, 0.18392465854277718, 0.2802661463508986, 0.8420773131902921, 0.3985646057390574, 0.597846908608586, 0.6237703364045994, 0.35441496386624965, 0.9055627297625718, 0.5045901657801242, 0.47305328041886635, 0.9608459162392737, 0.9011671531769279, 0.18681971792930405, 0.24660202766668132, 0.21671087279799267, 0.07472788717172162, 0.05978230973737729, 0.05230952102020513, 0.08220067588889378, 0.05978230973737729, 0.014945577434344322, 0.2125671420331728, 0.1062835710165864, 0.1417114280221152, 0.2125671420331728, 0.3188507130497592, 0.9867801468332469, 0.13402263598236247, 0.7275514524756819, 0.03829218170924641, 0.09573045427311604, 0.9598768074220974, 0.9473113221917804, 0.9205596786162937, 0.11219911637576342, 0.17951858620122146, 0.47684624459699454, 0.08975929310061073, 0.022439823275152683, 0.022439823275152683, 0.10097920473818708, 0.9772596770121297, 0.8675689335162426, 0.9484919439871128, 0.06814285162750307, 0.06814285162750307, 0.08274489126196802, 0.14602039634464944, 0.1411530497998278, 0.043806118903394836, 0.1119489705308979, 0.17522447561357934, 0.06814285162750307, 0.09734693089643297, 0.8669970385341936, 0.8929396181771502, 0.14655279794512982, 0.37685005185890524, 0.0837444559686456, 0.37685005185890524, 0.44191704523255587, 0.032734595943152284, 0.13093838377260913, 0.3928151513178274, 0.9332706262732903, 0.9518442743526389, 0.8908046617480941, 0.985762376353417, 0.5019776275873533, 0.4755577524511768, 0.5516219343045823, 0.44129754744366584, 0.9165330015545101, 0.9339842992682964, 0.12645060197502014, 0.843004013166801, 0.9575030087326506, 0.2666707962747717, 0.6933440703144065, 0.9403561795519266, 0.8356543463554021, 0.9535866909815003, 0.9788273472330258, 0.8723575670185154, 0.3555004795626671, 0.060942939353600074, 0.07110009591253343, 0.060942939353600074, 0.16251450494293354, 0.09141440903040012, 0.020314313117866693, 0.07110009591253343, 0.09141440903040012, 0.3037447544278926, 0.6834256974627584, 0.94048743217241, 0.9813704706636657, 0.19239772340503541, 0.07399912438655208, 0.20719754828234585, 0.10359877414117293, 0.0887989492638625, 0.23679719803696667, 0.07399912438655208, 0.9011380687206191, 0.911302365656173, 0.4431309990981887, 0.04544933324083987, 0.14771033303272957, 0.07953633317146977, 0.28405833275524917, 0.9750566877713279, 0.5965259546955388, 0.20748728858975263, 0.18155137751603354, 0.07370037620869253, 0.11464502965796616, 0.15968414845216716, 0.26204578207535123, 0.10236163362318408, 0.0777948415536199, 0.10236163362318408, 0.04503911879420099, 0.05322804948405572, 0.2768909382141457, 0.5537818764282914, 0.06922273455353642, 0.8160681996512474, 0.8820786954176298, 0.9679417232714244, 0.9297810857699194, 0.9744646521762674, 0.05007552756102524, 0.04451158005424466, 0.08902316010848932, 0.06676737008136699, 0.11684289764239222, 0.06676737008136699, 0.20030211024410097, 0.033383685040683495, 0.11684289764239222, 0.1836102677237592, 0.033383685040683495, 0.9431151578220018, 0.8782607522054755, 0.930277005055035, 0.07205472488042411, 0.21616417464127233, 0.05404104366031808, 0.14410944976084822, 0.48636939294286274, 0.9339410060137676, 0.9633014217053855, 0.9859222333485981, 0.5756523440612725, 0.3563562129903115, 0.054824032767740234, 0.9609349054531512, 0.21814386533738186, 0.04592502428155408, 0.04592502428155408, 0.14925632891505075, 0.5396190353082604, 0.9680996447491458, 0.9395081400858605, 0.1867537344098535, 0.1867537344098535, 0.24900497921313797, 0.04980099584262759, 0.31125622401642244, 0.47099583587866584, 0.5138136391403627, 0.902029254838937, 0.8917675601624117, 0.18869122032258293, 0.7925031253548482, 0.7048045751216014, 0.9460162540872529, 0.42958175667256854, 0.5154981080070823, 0.9640013984227217, 0.9722196893481, 0.9212236508660628, 0.8292482329813723, 0.1429738332726504, 0.22852891459759692, 0.0979409633989701, 0.6202927681934773, 0.09308841992131864, 0.20479452382690103, 0.35373599570101083, 0.07447073593705492, 0.24202989179542847, 0.8257430349037373, 0.8254478510844169, 0.7274673294988587, 0.25675317511724427, 0.8658997165120391, 0.9136319668998424, 0.9692762769231072, 0.8604543037535164, 0.9081281976706808, 0.9678693669835003, 0.9779318809181403, 0.9694086492322425, 0.8644671946499998, 0.8553419355556943, 0.7598401809812729, 0.35720335747522175, 0.5804554558972354, 0.9483450641081729, 0.9530250144076785, 0.8804362007786374, 0.9862222570270412, 0.9658968958486376, 0.9649281336425654, 0.05262109422850713, 0.06765569257950917, 0.8419375076561141, 0.037586495877505094, 0.8036740951170118, 0.17641626478178307, 0.8282926406133402, 0.8809020481659864, 0.9755624357619155, 0.9173850484633229, 0.081204734275683, 0.8932520770325131, 0.9826670162431874, 0.9379721874132677, 0.967684040007391, 0.9663224380946208, 0.9538838945330882, 0.9524172939697484, 0.07582038983031697, 0.07237400847439347, 0.07926677118624047, 0.05858848305069948, 0.15853354237248093, 0.22746116949095094, 0.16542630508432796, 0.05514210169477598, 0.04135657627108199, 0.04135657627108199, 0.017231906779617494, 0.006892762711846997, 0.11401227130975618, 0.19002045218292696, 0.6460695374219516, 0.9760484258442044, 0.815199862716489, 0.1630399725432978, 0.9253420744554949, 0.27511203547761454, 0.6877800886940364, 0.8039577276108311, 0.33819046158467897, 0.6503662722782289, 0.9395081400858605, 0.16582777291441175, 0.13373207493097722, 0.08558852795582542, 0.032095697983434535, 0.422593356781888, 0.06954067896410815, 0.09093781095306451, 0.916976595453092, 0.9842996221402333, 0.9824537632137614, 0.2113975990405272, 0.4005428192346831, 0.13351427307822772, 0.16689284134778465, 0.0778833259622995, 0.951314986267922, 0.9075968098945164, 0.8710137438517938, 0.9145190819467078, 0.062185575582953775, 0.6964784465290823, 0.23630518721522434, 0.1784532729632028, 0.11153329560200174, 0.7138130918528112, 0.3293388224274669, 0.6220844423629931, 0.9706890988258571, 0.035367035461500516, 0.6145022411435714, 0.2564110070958787, 0.09283846808643885, 0.9762994533558625, 0.027411663128720575, 0.19579759377657555, 0.6735437225914198, 0.027411663128720575, 0.0704871337595672, 0.9563168735570904, 0.9176220610009725, 0.1783698319069138, 0.7729359382632932, 0.9837543682181363, 0.9128982547310912, 0.21831297117114543, 0.6549389135134364, 0.0935627019304909, 0.16317358888657366, 0.16317358888657366, 0.6526943555462946, 0.9414794810508612, 0.9712946668094905, 0.7275476827289635, 0.25767313763317456, 0.11084278027615607, 0.4433711211046243, 0.4212025650493931, 0.9513004972422608, 0.3130229913274103, 0.5131524447990333, 0.025657622239951664, 0.123156586751768, 0.025657622239951664, 0.9529185827011704, 0.14408082465170446, 0.7204041232585223, 0.1260707215702414, 0.9030754256984708, 0.9436418819017274, 0.40441467017290483, 0.04901996002095816, 0.5392195602305397, 0.8057163688749477, 0.9565999995648121, 0.8931762260011377, 0.9205674536771372, 0.8879764684411305, 0.10325307772571285, 0.9404378147286236, 0.9156195972243569, 0.1882244304507988, 0.12046363548851124, 0.2710431798491503, 0.08281874939835147, 0.21834033932292662, 0.09034772661638343, 0.03011590887212781, 0.9789539416360109, 0.928632186871724, 0.9577818618157752, 0.508154469027251, 0.39699567892753984, 0.07939913578550797, 0.856413940612999, 0.20497059357923889, 0.7686397259221458, 0.30851276007628115, 0.18510765604576868, 0.4936204161220498, 0.14653208518133792, 0.19537611357511722, 0.6593943833160206, 0.9457816516157332, 0.9760196880348698, 0.9395081400858605, 0.9728462569185578, 0.9129492848983466, 0.9428147940766557, 0.16878397740802006, 0.5696459237520677, 0.10548998588001254, 0.1406533145066834, 0.9273480393733339, 0.9302787785596628, 0.9886925074089786, 0.9317981336968715, 0.9402710662564254, 0.042955769894653315, 0.17182307957861326, 0.12886730968395993, 0.3006903892625732, 0.042955769894653315, 0.229097439438151, 0.08591153978930663, 0.19770359819542974, 0.7908143927817189, 0.78292414516041, 0.9523138508176903, 0.9569017051055935, 0.8587890051614501, 0.660900522968481, 0.3304502614842405, 0.9289063949451868, 0.9754719469729607, 0.6672086004268619, 0.31909976542154267, 0.9677067845860566, 0.8134390867204758, 0.9531792203651415, 0.9358736243092639, 0.13880154651771975, 0.13880154651771975, 0.5638812827282365, 0.026025289972072454, 0.13012644986036226, 0.9766718992013914, 0.6704982745949554, 0.304771942997707, 0.8409857559682645, 0.2648547862745239, 0.21669937058824684, 0.5056318647059094, 0.4427841457823001, 0.5313409749387601, 0.9168511283518106, 0.9502327335747409, 0.8529215622521518, 0.8697721567768925, 0.9532753518204392, 0.8323834954300364, 0.13873058257167273, 0.9854311149981176, 0.980837875565451, 0.9380854999590629, 0.9498932689629979, 0.9476842692534366, 0.3536814085314164, 0.6189424649299787, 0.1323772534123105, 0.1323772534123105, 0.38389403489570045, 0.026475450682462102, 0.33094313353077626, 0.8470204029816268, 0.8190288348730052, 0.07468905262516758, 0.17427445612539103, 0.7468905262516757, 0.9528704653797265, 0.777618340379778, 0.1944045850949445, 0.9156626543033323, 0.9323726395258454, 0.7531106722696662, 0.9388962137287159, 0.8970671969673364, 0.8517734008834044, 0.923894162261329, 0.8518106058963956, 0.4417865782572033, 0.5437373270857887, 0.9874430717207074, 0.865901550177383, 0.8796113943764888, 0.9856858446226101, 0.8963429644485651, 0.0490758545933429, 0.02453792729667145, 0.8915446917790627, 0.02453792729667145, 0.39938909640704556, 0.163386448530155, 0.32677289706031, 0.036308099673367775, 0.05446214951005167, 0.9470138974815495, 0.8485433523872815, 0.9650663305565806, 0.9538565009784353, 0.7893962255933706, 0.8914400299441654, 0.0822139617184351, 0.07473996519857737, 0.2541158816751631, 0.24664188515530533, 0.0597919721588619, 0.17937591647658568, 0.10463595127800833, 0.731170633177713, 0.05222647379840807, 0.18279265829442826, 0.9455302323205818, 0.552664320075425, 0.11470391548735234, 0.02085525736133679, 0.08342102944534716, 0.22940783097470469, 0.8425831104964033, 0.06282395817434484, 0.020941319391448283, 0.0366473089350345, 0.3560024296546208, 0.14135390589227592, 0.17276588497944834, 0.11517725665296556, 0.06282395817434484, 0.026176649239310353, 0.9129908282895808, 0.9100245914382182, 0.7595236503011625, 0.8783557605007897, 0.0954734522283467, 0.9176094329206156, 0.23954061984583785, 0.2994257748072973, 0.44913866221094595, 0.12120114672385474, 0.8484080270669832, 0.943387578101412, 0.8949428459592682, 0.5330323148043054, 0.43308875577849815, 0.7974365847791548, 0.22100697111399661, 0.07893106111214164, 0.03157242444485666, 0.09471727333456997, 0.18943454666913995, 0.06314484888971332, 0.15786212222428328, 0.15786212222428328, 0.01578621222242833, 0.31272418281863723, 0.15636209140931862, 0.4244113909681505, 0.08934976651961063, 0.9403098040047958, 0.9395081400858605, 0.8207113319227761, 0.11809421698294334, 0.4133297594403017, 0.3838062051945658, 0.04920592374289306, 0.03936473899431445, 0.8844632081189968, 0.9482262688693501, 0.2422179196644244, 0.20184826638702033, 0.5248054926062529, 0.0800572924933281, 0.592423964450628, 0.3202291699733124, 0.21605379622731866, 0.45611356981322826, 0.12002988679295482, 0.19204781886872768, 0.9407542047141789, 0.9408797114180986, 0.9873834890791536, 0.3205221949250906, 0.6410443898501812, 0.5789025656501547, 0.3947062947614691, 0.8744381688894325, 0.1049325802667319, 0.9085113216892404, 0.9456174614044065, 0.9572601243180509, 0.9546600650832087, 0.14793314819229655, 0.34517734578202525, 0.07396657409614828, 0.41914391987817357, 0.8204246228846478, 0.15627135673993292, 0.8904229525686498, 0.9275820305594782, 0.9435566506244611, 0.8619704265122698, 0.2638945597342245, 0.07539844563834985, 0.03769922281917493, 0.0628320380319582, 0.5529219346812323, 0.9877090035506841, 0.9807812415057825, 0.8836668863874899, 0.9385758825680671, 0.9442377204861787, 0.8690759670554784, 0.9737589929743194, 0.9704411915858674, 0.9834509243835876, 0.9297411144470246, 0.9782310401994293, 0.8188893979831222, 0.8363213919171332, 0.963226026566967, 0.9189441851129093, 0.9448959537338938, 0.16390215327705268, 0.7648767152929125, 0.9451748303628156, 0.9277517030901504, 0.9561284255326862, 0.8470204029816268, 0.9052889434776754, 0.9499869476725038, 0.18298776448187032, 0.792946979421438, 0.9470589727613946, 0.7191489211834776, 0.1797872302958694, 0.0898936151479347, 0.7417213278711482, 0.22822194703727636, 0.9762744274996243, 0.9821000191947478, 0.9681090209175224, 0.3618293932952062, 0.6432522547470333, 0.9275247657168333, 0.9011380687206191, 0.29650749597198084, 0.4312836305046994, 0.2425970421588934, 0.6535427662233652, 0.3267713831116826, 0.06271609441556059, 0.16462974784084655, 0.24302486586029728, 0.1803087714447367, 0.25870388946418743, 0.03135804720778029, 0.05487658261361552, 0.9061434372347255, 0.9280081987299613, 0.8435205299252562, 0.9407986843669838, 0.14255013452809548, 0.5464421823576994, 0.1187917787734129, 0.16630849028277808, 0.8321404953806846, 0.9674177900344072, 0.6202194253754089, 0.36649329681274156, 0.9544198201099221, 0.9652830861205027, 0.24358173963364624, 0.2232832613308424, 0.24358173963364624, 0.2638802179364501, 0.9022191777169561, 0.04787303667081345, 0.13298065741892623, 0.06914994185784165, 0.425538103740564, 0.212769051870282, 0.04787303667081345, 0.04787303667081345, 0.010638452593514099, 0.10202965312057985, 0.2226101522630833, 0.1762330372082743, 0.15768219118635068, 0.14840676817538886, 0.07420338408769443, 0.11130507613154166, 0.9395081400858605, 0.8452431073824085, 0.8906031611648849, 0.9125846483705281, 0.05654519100561674, 0.12337132583043652, 0.3289902022144974, 0.1387927415592411, 0.12851179774003804, 0.0051404719096015215, 0.03598330336721065, 0.1439332134688426, 0.015421415728804564, 0.020561887638406086, 0.8356543424382212, 0.15390538341561333, 0.04197419547698545, 0.7765226163242308, 0.020987097738492725, 0.9593181265115336, 0.5346392336394096, 0.40097942522955715, 0.050122428153694644, 0.8470204029816268, 0.981188028635735, 0.920057805976041, 0.9158549484654676, 0.9432555910142595, 0.024186040795237423, 0.024186040795237423, 0.046144621916821844, 0.9459647492948479, 0.06580799876706742, 0.5791103891501933, 0.026323199506826968, 0.3158783940819236, 0.3493779945331992, 0.6322077996315033, 0.9558600465616548, 0.9627985488439266, 0.9328934948440912, 0.8983414431094999, 0.9494588634025366, 0.44367616784232616, 0.49913568882261694, 0.9138890452425201, 0.9534931589628525, 0.9448495418737624, 0.9179678294489431, 0.10233735226040451, 0.20467470452080902, 0.25584338065101125, 0.2814277187161124, 0.15350602839060676, 0.9728507281018636, 0.10385688491146451, 0.20771376982292902, 0.6750697519245193, 0.8767909554596437, 0.9595088562176433, 0.3605994532828174, 0.6130190705807895, 0.21197988866721829, 0.6140107120015977, 0.16812198066710415, 0.8190288348730052, 0.8094502227225135, 0.9561045756721749, 0.8689056413634182, 0.933865297977582, 0.44351822878211816, 0.5394140620323059, 0.963800681438571, 0.8933161671332958, 0.2270377658586941, 0.1997932339556508, 0.49040157425477926, 0.06357057444043435, 0.027244531903043292, 0.06892751019146338, 0.11487918365243896, 0.011487918365243896, 0.5973717549926826, 0.20678253057439014, 0.19154777608578738, 0.7661911043431495, 0.5553219966610438, 0.2360118485809436, 0.05553219966610438, 0.06941524958263047, 0.08329829949915657, 0.7048045758261977, 0.8770729133131778, 0.8946876064275173, 0.9424346011822631, 0.3922593237522378, 0.5999260245622461, 0.3641378343024938, 0.5982264420683826, 0.17150313075768372, 0.7717640884095768, 0.8689073165156687, 0.9612672543283853, 0.9219686791676526, 0.9453901090289079, 0.06516610544360103, 0.10071125386738342, 0.2784369959862953, 0.08886287105945595, 0.08293867965549222, 0.15402897650305697, 0.22511927335062173, 0.9172438026688023, 0.13606513683554156, 0.7386393142500828, 0.11662726014474992, 0.9799277797340268, 0.983435531577578, 0.4319859022276738, 0.04652155870144179, 0.05316749565879062, 0.06645936957348828, 0.03322968478674414, 0.31900497395274374, 0.03987562174409297, 0.12616751841806959, 0.8516307493219697, 0.943552248897325, 0.8756679592936798, 0.09550592767530128, 0.4584284528414461, 0.3438213396310846, 0.09550592767530128, 0.9627070927808744, 0.9738397586959596, 0.8544963260380926, 0.9629477575570147, 0.9446645108377348, 0.9553258666689095, 0.8999107326642485, 0.9464572862192934, 0.8811694381541388, 0.036935667866950475, 0.06331828777191509, 0.211060959239717, 0.32714448682156133, 0.11608352758184434, 0.11080700360085141, 0.0211060959239717, 0.04748871582893632, 0.06859481175290802, 0.9201822594702034, 0.9754660574121938, 0.4146635447579999, 0.11643262094190145, 0.1021338780192118, 0.06332300437191131, 0.01021338780192118, 0.11847529850228568, 0.11234726582113297, 0.01021338780192118, 0.008170710241536943, 0.04289622876806895, 0.3575371829063835, 0.6356216585002373, 0.19450180292183475, 0.778007211687339, 0.11917547637975914, 0.36603896316640305, 0.03405013610850261, 0.08512534027125652, 0.22983841873239264, 0.05958773818987957, 0.11066294235263348, 0.8029786861683597, 0.4378554996590306, 0.5546169662347721, 0.17902918981576288, 0.7757931558683058, 0.9751374177295113], \"Term\": [\"ability\", \"ability\", \"able\", \"able\", \"able\", \"able\", \"access\", \"access\", \"accord\", \"account\", \"account\", \"accurate\", \"action\", \"active\", \"activity\", \"activity\", \"activity\", \"actual\", \"actual\", \"actually\", \"add\", \"add\", \"add\", \"addition\", \"adjust\", \"administrator\", \"advance\", \"advantage\", \"advertisement\", \"affect\", \"afternoon\", \"afternoon\", \"agenda\", \"ago\", \"agree\", \"alert\", \"alert\", \"allenhouect\", \"allenhouectect\", \"allenhouectect\", \"allocation\", \"already\", \"already\", \"also\", \"also\", \"also\", \"also\", \"also\", \"also\", \"also\", \"also\", \"also\", \"also\", \"also\", \"alternative\", \"american\", \"amount\", \"amount\", \"amount\", \"amount\", \"analyst\", \"announce\", \"answer\", \"answer\", \"answer\", \"answer\", \"anyone_else\", \"apartment\", \"apartment\", \"appear\", \"appear\", \"appear\", \"application\", \"apply\", \"appraisal\", \"appreciate\", \"appropriate_propose\", \"approval\", \"approval\", \"approximate\", \"architect\", \"area\", \"arrive\", \"article\", \"ask\", \"ask\", \"assert\", \"assessment\", \"assessment\", \"asset\", \"assistance\", \"assistant\", \"assoc\", \"associate\", \"associate\", \"assume\", \"assume\", \"assume\", \"assumption\", \"attach\", \"attach\", \"attach\", \"attach\", \"attach\", \"attachment\", \"attempt\", \"attend\", \"attend\", \"attorney\", \"attract\", \"attractive\", \"auction\", \"authority\", \"authorization\", \"authorize\", \"automatically\", \"autowebcom\", \"available\", \"available\", \"available\", \"average\", \"average\", \"avoid_leak\", \"away\", \"back\", \"back\", \"back\", \"back\", \"back\", \"background\", \"balance\", \"bankruptcy\", \"basic\", \"basis\", \"basis\", \"basis\", \"be\", \"be\", \"bedroom\", \"begin\", \"begin\", \"belief\", \"believe\", \"believe\", \"believe\", \"benefit\", \"bid\", \"bid\", \"bidweek\", \"bike\", \"bill\", \"bill\", \"blank\", \"bond\", \"bond_issuance\", \"book\", \"book\", \"book\", \"book\", \"border\", \"break\", \"briefing\", \"bring\", \"bring\", \"bring\", \"bring\", \"broadband\", \"budget\", \"build\", \"build\", \"build\", \"business\", \"business\", \"busy\", \"button\", \"buy\", \"buy\", \"buyer\", \"buyer\", \"buying\", \"ca\", \"calendar\", \"call\", \"call\", \"call\", \"call\", \"call\", \"call\", \"call\", \"call\", \"can\", \"can\", \"can\", \"cantrell\", \"cap\", \"cap\", \"capacity\", \"capacity\", \"car\", \"card\", \"case\", \"case\", \"cash\", \"cash\", \"cause\", \"cement\", \"center\", \"center_garage\", \"central\", \"change\", \"change\", \"change\", \"change\", \"chart\", \"cheap\", \"check\", \"choice\", \"choice\", \"choice\", \"choose\", \"christi\", \"city\", \"citygate\", \"claim\", \"clarification\", \"classic\", \"clear\", \"clear\", \"click\", \"click\", \"click\", \"client\", \"close\", \"close\", \"close\", \"co\", \"cold\", \"collect\", \"college\", \"color\", \"come\", \"come\", \"come\", \"come\", \"come\", \"comfortable\", \"comment\", \"commentary\", \"commercial\", \"commercial\", \"commitment\", \"communication\", \"company\", \"company\", \"company\", \"competitive\", \"complete\", \"complete\", \"complete\", \"complete\", \"complex\", \"computer\", \"computer\", \"concerned\", \"concrete\", \"conf_call\", \"configure\", \"consecutive\", \"conservation\", \"consider\", \"constraint\", \"construction\", \"construction\", \"consumer\", \"contact\", \"contact\", \"contact\", \"contact\", \"contact\", \"contact\", \"contain\", \"content\", \"continue\", \"contract\", \"contract\", \"contract\", \"control\", \"correct\", \"cost\", \"cost\", \"could\", \"could\", \"could\", \"could\", \"could\", \"could\", \"country\", \"couple\", \"course\", \"coverage\", \"coverage_initiate\", \"crack\", \"create\", \"create\", \"create\", \"create\", \"credit\", \"credit\", \"crisis\", \"crude\", \"cst\", \"curve\", \"curve\", \"curve\", \"customer\", \"customer\", \"cut\", \"cut\", \"daily\", \"daily\", \"daily\", \"daily\", \"data_center\", \"date\", \"date\", \"datum\", \"datum\", \"datum\", \"day\", \"day\", \"day\", \"day\", \"day\", \"day\", \"day\", \"day\", \"day\", \"deadline\", \"deal\", \"deal\", \"deal\", \"deal\", \"deal\", \"debt\", \"decide\", \"decide\", \"decision\", \"decline\", \"decline\", \"deep\", \"definitely\", \"degree\", \"delay\", \"deliver\", \"deliver\", \"delivery\", \"demand\", \"demand\", \"deposit\", \"deposit\", \"description\", \"description\", \"design\", \"designate\", \"desk\", \"desk\", \"desk\", \"desktop\", \"desktop_laptop\", \"detail\", \"detail\", \"detailed\", \"detailed_sketch\", \"development\", \"development\", \"dexter\", \"difference\", \"different\", \"different\", \"different\", \"different\", \"director\", \"directory\", \"disclosure\", \"discount\", \"discuss\", \"discuss\", \"discuss\", \"discussion\", \"discussion\", \"distribute\", \"district\", \"do\", \"do\", \"dollar\", \"double\", \"double\", \"double_porch\", \"downgrade\", \"download\", \"draw\", \"drill\", \"drive\", \"drive\", \"drop\", \"due\", \"due\", \"due\", \"duty\", \"dwr\", \"early\", \"easily\", \"east_basis\", \"eastern\", \"easy\", \"economic\", \"editor\", \"effective\", \"electricity\", \"element\", \"eliminate\", \"email\", \"email\", \"email\", \"email\", \"email\", \"emailcalendar\", \"emergency\", \"employee\", \"enable\", \"enclose\", \"end\", \"end\", \"energy\", \"energy\", \"energy\", \"energyill\", \"engage\", \"engineer\", \"enormous\", \"enough\", \"enough\", \"enough\", \"enough\", \"enough\", \"enron\", \"ensure\", \"entity\", \"environmental\", \"equipment\", \"equity\", \"erika_duprehouee\", \"especially\", \"estimate\", \"estimate\", \"estimate\", \"estimate\", \"evening\", \"event\", \"ever\", \"exactly\", \"excel_spreadsheet\", \"exchange\", \"exclusive\", \"execute\", \"executive\", \"exist\", \"exist\", \"exodus\", \"expect\", \"expect\", \"expect\", \"expect\", \"expect\", \"expenditure\", \"expense\", \"expense\", \"experience_successful\", \"expertise\", \"extension\", \"exterior\", \"extra\", \"face\", \"facility\", \"factory\", \"fair\", \"fall\", \"fall\", \"favorite\", \"fax\", \"fax\", \"fax\", \"feature\", \"fee\", \"fee\", \"feedback\", \"feedback\", \"feel_free\", \"feel_free\", \"file\", \"file\", \"financial\", \"financial\", \"financial\", \"find\", \"find\", \"find\", \"find\", \"fine\", \"finishing\", \"fire\", \"firm\", \"firm\", \"firm\", \"first\", \"first\", \"first\", \"first\", \"first\", \"fletcher_sturmhouect\", \"floor\", \"follow\", \"follow\", \"follow\", \"follow\", \"follow\", \"follow\", \"follow\", \"follow\", \"force\", \"forecast\", \"foreign\", \"form\", \"form\", \"forward\", \"forward\", \"forward\", \"forward\", \"forward\", \"forward\", \"forwarded\", \"free\", \"free\", \"frequently\", \"friend\", \"frogger\", \"front\", \"ft_thought\", \"fuel\", \"full\", \"full\", \"fund\", \"fundamental\", \"future\", \"future\", \"future\", \"gable\", \"game\", \"game\", \"garage\", \"garage\", \"gas\", \"gas\", \"gas\", \"gas\", \"gas\", \"gas\", \"gas\", \"gather_individual\", \"general\", \"generation\", \"george_richards\", \"get\", \"get\", \"get\", \"get\", \"get\", \"get\", \"get\", \"get\", \"get\", \"get\", \"gift\", \"give\", \"give\", \"give\", \"give\", \"global\", \"go\", \"go\", \"go\", \"go\", \"go\", \"go\", \"go\", \"go\", \"goal\", \"goal\", \"golf\", \"good\", \"good\", \"good\", \"good\", \"good\", \"good\", \"governor\", \"green\", \"grid\", \"grid\", \"group\", \"group\", \"group\", \"growth\", \"guess\", \"guest\", \"guide\", \"hand\", \"have\", \"have\", \"hear\", \"hear\", \"hearing\", \"help\", \"help\", \"help\", \"help\", \"help\", \"help\", \"help\", \"hemp\", \"here\", \"high\", \"high\", \"high\", \"high\", \"highlight\", \"history\", \"hold\", \"hold\", \"hold\", \"holiday\", \"home\", \"home\", \"hope\", \"hour\", \"hour\", \"house\", \"however\", \"however\", \"hunter_shively\", \"id\", \"ill\", \"immediately\", \"impact\", \"impact\", \"improve\", \"improvement\", \"include\", \"include\", \"include\", \"include\", \"include\", \"include\", \"include\", \"inclusion\", \"increase\", \"increase\", \"indece\", \"index\", \"index\", \"index\", \"industry\", \"info\", \"info\", \"information\", \"information\", \"information\", \"information\", \"information\", \"infrastructure\", \"injection\", \"input\", \"input\", \"insight\", \"inspect\", \"inspection\", \"install\", \"instruction\", \"insulation\", \"insurance\", \"interest\", \"interim\", \"internet\", \"internet\", \"internet\", \"internet\", \"interview\", \"investment\", \"investor\", \"invite\", \"iron\", \"iso\", \"isolate\", \"issue\", \"issue\", \"issue\", \"issue\", \"issue\", \"issue\", \"item\", \"job\", \"join\", \"joist\", \"keep\", \"keep\", \"kid\", \"know\", \"know\", \"know\", \"know\", \"know\", \"know\", \"know\", \"know\", \"know\", \"lack\", \"land\", \"last\", \"last\", \"last\", \"last\", \"last\", \"late\", \"later\", \"lead\", \"lease\", \"lease\", \"leave\", \"leave\", \"leave\", \"leave\", \"left_side\", \"legislation\", \"legislative\", \"legislature\", \"less\", \"less\", \"less\", \"less\", \"let\", \"let\", \"let\", \"let\", \"let\", \"level\", \"level\", \"level\", \"liane\", \"lie\", \"life\", \"light\", \"likely\", \"likely\", \"line\", \"line\", \"link\", \"link\", \"list\", \"list\", \"list\", \"list\", \"list\", \"list\", \"list\", \"list\", \"listen\", \"little\", \"little\", \"live\", \"load\", \"loan\", \"local\", \"lock\", \"long\", \"long\", \"look\", \"look\", \"look\", \"look\", \"looks_like\", \"lot\", \"lot\", \"low\", \"low\", \"lower\", \"mail\", \"mail\", \"mailing\", \"main\", \"make\", \"make\", \"make\", \"make\", \"make\", \"make\", \"make\", \"make\", \"make\", \"manage\", \"manage\", \"manage\", \"manage\", \"manage\", \"management\", \"manager\", \"manager\", \"manager\", \"manager\", \"map\", \"mapp\", \"mark\", \"market\", \"market\", \"market\", \"market\", \"market\", \"market\", \"market\", \"marketing\", \"mass_mailing\", \"matter\", \"may\", \"may\", \"may\", \"may\", \"may\", \"may\", \"may\", \"may\", \"may\", \"may\", \"meantime\", \"measure\", \"meet\", \"meet\", \"meet\", \"meet\", \"meeting\", \"meeting\", \"meeting\", \"meeting\", \"meeting_repeat\", \"megawatt\", \"megawatthour\", \"member\", \"mention\", \"mention\", \"message\", \"message\", \"mid\", \"midcontinent\", \"migration\", \"migration\", \"mind\", \"miss\", \"miss\", \"mix\", \"mobile\", \"model\", \"money\", \"monitor\", \"month\", \"month\", \"month\", \"month\", \"month\", \"month\", \"month\", \"month\", \"month\", \"morning\", \"morning\", \"mou\", \"move\", \"much\", \"much\", \"much\", \"much\", \"much\", \"much\", \"much\", \"multipurpose\", \"music\", \"name\", \"name\", \"name\", \"name\", \"name\", \"natural\", \"nee\", \"nee\", \"nee\", \"need\", \"need\", \"need\", \"need\", \"need\", \"need\", \"need\", \"need\", \"need\", \"negotiate\", \"negotiate\", \"negotiate\", \"negotiation\", \"net\", \"network\", \"neutral\", \"never\", \"new\", \"new\", \"new\", \"new\", \"new\", \"new\", \"new\", \"new\", \"new\", \"new\", \"new\", \"news\", \"newsletter\", \"newswire\", \"next\", \"next\", \"next\", \"next\", \"next\", \"night\", \"noon\", \"normal\", \"note\", \"note\", \"note\", \"notice\", \"number\", \"number\", \"number\", \"number\", \"number\", \"obtain\", \"obvious\", \"offer\", \"offer\", \"offer\", \"offer\", \"offer\", \"office\", \"office\", \"officer\", \"official\", \"offline\", \"offline\", \"offset\", \"oil\", \"online\", \"online\", \"onsite\", \"operation\", \"opinion\", \"opportunity\", \"opportunity\", \"option\", \"option\", \"option\", \"order\", \"order\", \"order\", \"order\", \"order\", \"organize\", \"orientation\", \"original\", \"original\", \"originally_published\", \"outline\", \"outlook\", \"overage\", \"overnight\", \"owa\", \"package\", \"page\", \"panel\", \"parcel\", \"park\", \"parking\", \"parking\", \"participant\", \"participate\", \"participation\", \"partnership\", \"pass\", \"past\", \"pay\", \"pay\", \"pay\", \"pay\", \"payment\", \"payment\", \"payout\", \"pda\", \"peak\", \"penny\", \"people\", \"people\", \"percent\", \"performance\", \"permission\", \"person\", \"personal\", \"phase\", \"phillip\", \"phillip\", \"phillip\", \"phillip\", \"phillip\", \"phillip\", \"phillip\", \"phillip\", \"phillip\", \"phillip\", \"phillip\", \"phillip\", \"phone\", \"phone\", \"phone\", \"photo\", \"physical\", \"physical\", \"physical_bom\", \"pipeline\", \"pipeline\", \"pivot\", \"place\", \"place\", \"place_gable\", \"plan\", \"plan\", \"plan\", \"plan\", \"plan\", \"plan\", \"plan\", \"planning\", \"plant\", \"play\", \"point\", \"point\", \"point\", \"point\", \"point\", \"policy\", \"pool\", \"poor\", \"porch\", \"position\", \"position\", \"position\", \"possible\", \"possible\", \"possible\", \"post\", \"post\", \"potential\", \"power\", \"power\", \"power\", \"power\", \"present\", \"price\", \"price\", \"price\", \"price\", \"price\", \"price_cap\", \"pricing\", \"print\", \"print\", \"privacy\", \"proceed\", \"process\", \"process\", \"process\", \"product\", \"product\", \"product\", \"product_privilege\", \"professional\", \"profit\", \"profit\", \"program\", \"program\", \"program\", \"progress\", \"project\", \"project\", \"project\", \"project\", \"project\", \"promote\", \"property\", \"property\", \"property\", \"proposal\", \"protect\", \"provide\", \"provide\", \"provide\", \"provider\", \"public\", \"purchasing\", \"push\", \"put\", \"put\", \"quality\", \"quesclay_basin\", \"question\", \"question\", \"question\", \"question\", \"question\", \"question\", \"question\", \"quote\", \"raise\", \"range\", \"rate\", \"rate\", \"rate\", \"rater\", \"rather\", \"rather\", \"reach\", \"reach\", \"reach\", \"read\", \"read\", \"read\", \"reader\", \"ready\", \"reagan_allowed\", \"real\", \"realtime\", \"receipt\", \"receive\", \"receive\", \"receive\", \"receive\", \"recently\", \"record\", \"reduction\", \"reference\", \"reflect\", \"regard\", \"regard\", \"regard\", \"regard\", \"regard\", \"regard\", \"regard\", \"region\", \"region\", \"regular\", \"regulator\", \"regulatory\", \"relative\", \"release\", \"release\", \"reliability\", \"remember\", \"rent\", \"rent\", \"rentroll\", \"rentrollxls\", \"repair\", \"reply\", \"report\", \"report\", \"report\", \"report\", \"report\", \"reportedly\", \"represent\", \"represent\", \"representative\", \"request\", \"request\", \"request\", \"requirement\", \"requirement\", \"reschedule\", \"research\", \"residence\", \"resistance\", \"resolve\", \"resource\", \"resource\", \"response\", \"responsible\", \"rest\", \"result\", \"resume\", \"return\", \"return\", \"review\", \"review\", \"review\", \"review\", \"review\", \"reviseadd\", \"reward\", \"right\", \"right\", \"right\", \"rise\", \"risk\", \"risk\", \"rock\", \"rockie\", \"role\", \"rolling_blackout\", \"roof\", \"rotation\", \"round\", \"route\", \"run\", \"run\", \"s\", \"sagewood\", \"satisfied\", \"save\", \"saving\", \"say\", \"say\", \"say\", \"say\", \"schedule\", \"schedule\", \"schedule\", \"schedule\", \"schedule\", \"scope\", \"score\", \"season\", \"seasonal\", \"secure\", \"security\", \"see\", \"see\", \"see\", \"see\", \"see\", \"see\", \"see\", \"seem\", \"seem\", \"seem\", \"select\", \"sell\", \"sell\", \"sell\", \"sell\", \"sell\", \"selling\", \"send\", \"send\", \"send\", \"send\", \"send\", \"send\", \"send\", \"send\", \"send\", \"serious\", \"serve\", \"server\", \"service\", \"service\", \"session\", \"set\", \"set\", \"set\", \"several\", \"several\", \"sheet\", \"shockmachine\", \"short\", \"short\", \"shortly\", \"show\", \"show\", \"show\", \"show\", \"show\", \"show\", \"show\", \"show\", \"show\", \"sign\", \"sign\", \"sign\", \"sign\", \"similar\", \"simple_farmhouse\", \"single\", \"site\", \"site\", \"site\", \"site\", \"site\", \"situation\", \"slide\", \"small\", \"small\", \"small\", \"socal\", \"socal\", \"socal\", \"soon\", \"soon\", \"soon\", \"soon\", \"sort\", \"sound\", \"source\", \"space\", \"space\", \"speak\", \"speak\", \"special\", \"special\", \"specific\", \"split\", \"spokesman\", \"spot\", \"spread\", \"spread\", \"spread\", \"spread\", \"spreadsheet\", \"spreadsheet\", \"stab\", \"staff\", \"stage\", \"stain\", \"start\", \"start\", \"start\", \"start\", \"start\", \"state\", \"statement\", \"station\", \"status\", \"stay\", \"step\", \"stock\", \"stop\", \"storage\", \"story\", \"strategy\", \"street\", \"strike\", \"strong\", \"student\", \"study\", \"stuff\", \"stuff\", \"stupid_decision\", \"style\", \"sub\", \"subpoena\", \"subscribe\", \"subscription\", \"suggest\", \"suggest\", \"suggestion\", \"summary\", \"summary\", \"summary\", \"summer\", \"summer\", \"supply\", \"support\", \"suppose\", \"survey\", \"survey\", \"sustainable\", \"sync\", \"system\", \"system\", \"system\", \"table\", \"table\", \"take\", \"take\", \"take\", \"take\", \"take\", \"take\", \"take\", \"task\", \"tax\", \"taxexempt\", \"tds\", \"team\", \"team\", \"team\", \"team\", \"team_selection\", \"technology\", \"tell\", \"tell\", \"temperature\", \"tenant\", \"term\", \"term\", \"term\", \"term\", \"th\", \"thank\", \"thank\", \"thank\", \"thank\", \"thank\", \"thank\", \"thank\", \"thank\", \"think\", \"think\", \"think\", \"think\", \"think\", \"think\", \"think\", \"thinking\", \"ticket\", \"tie\", \"tile\", \"time\", \"time\", \"time\", \"time\", \"time\", \"time\", \"time\", \"time\", \"time\", \"time\", \"tip\", \"today\", \"today\", \"today\", \"today\", \"together\", \"tomorrow\", \"tomorrow\", \"tomorrow\", \"tomorrows_conference\", \"top\", \"topic\", \"tori\", \"total\", \"total\", \"total\", \"trade\", \"trade\", \"trader\", \"trader\", \"trader\", \"trader\", \"trading\", \"trading\", \"transaction\", \"transfer\", \"transmission\", \"transmit\", \"transport\", \"transportation\", \"transportation\", \"transwestern\", \"trend\", \"trigger\", \"trip\", \"try\", \"try\", \"try\", \"try\", \"try\", \"turn\", \"type\", \"type\", \"type\", \"unable\", \"unclear\", \"understand\", \"understand\", \"unit\", \"unit\", \"unit\", \"university\", \"unnecessary\", \"unsubscribe\", \"unwilling\", \"upcoming\", \"update\", \"update\", \"upgrade\", \"upstairs\", \"use\", \"use\", \"use\", \"use\", \"use\", \"utility\", \"utility\", \"utility\", \"utility\", \"utility\", \"valuation\", \"valuation\", \"value\", \"value\", \"value\", \"value\", \"value\", \"var\", \"various\", \"vent\", \"version\", \"view\", \"view\", \"visit\", \"visit\", \"volume\", \"volume\", \"voluntary\", \"vote\", \"wade\", \"wait\", \"want\", \"want\", \"want\", \"want\", \"want\", \"want\", \"want\", \"warm\", \"way\", \"way\", \"way\", \"weather\", \"web\", \"week\", \"week\", \"week\", \"week\", \"week\", \"week\", \"week\", \"weekend\", \"weekend\", \"weekly\", \"welcome\", \"well\", \"well\", \"well\", \"well\", \"western\", \"wholesale\", \"wide\", \"will\", \"window\", \"winter\", \"wire\", \"wish\", \"withdrawal\", \"work\", \"work\", \"work\", \"work\", \"work\", \"work\", \"work\", \"work\", \"work\", \"world\", \"worth\", \"would\", \"would\", \"would\", \"would\", \"would\", \"would\", \"would\", \"would\", \"would\", \"would\", \"write\", \"write\", \"wscc\", \"wscc\", \"year\", \"year\", \"year\", \"year\", \"year\", \"year\", \"year\", \"yellow\", \"yesterday\", \"yesterday\", \"yet\", \"yet\", \"zone\"]}, \"R\": 30, \"lambda.step\": 0.01, \"plot.opts\": {\"xlab\": \"PC1\", \"ylab\": \"PC2\"}, \"topic.order\": [3, 16, 10, 14, 11, 20, 6, 13, 12, 15, 17, 1, 19, 4, 8, 2, 7, 5, 9, 18]};\n",
              "\n",
              "function LDAvis_load_lib(url, callback){\n",
              "  var s = document.createElement('script');\n",
              "  s.src = url;\n",
              "  s.async = true;\n",
              "  s.onreadystatechange = s.onload = callback;\n",
              "  s.onerror = function(){console.warn(\"failed to load library \" + url);};\n",
              "  document.getElementsByTagName(\"head\")[0].appendChild(s);\n",
              "}\n",
              "\n",
              "if(typeof(LDAvis) !== \"undefined\"){\n",
              "   // already loaded: just create the visualization\n",
              "   !function(LDAvis){\n",
              "       new LDAvis(\"#\" + \"ldavis_el1682139946587881544465664540\", ldavis_el1682139946587881544465664540_data);\n",
              "   }(LDAvis);\n",
              "}else if(typeof define === \"function\" && define.amd){\n",
              "   // require.js is available: use it to load d3/LDAvis\n",
              "   require.config({paths: {d3: \"https://cdnjs.cloudflare.com/ajax/libs/d3/3.5.5/d3.min\"}});\n",
              "   require([\"d3\"], function(d3){\n",
              "      window.d3 = d3;\n",
              "      LDAvis_load_lib(\"https://cdn.rawgit.com/bmabey/pyLDAvis/files/ldavis.v1.0.0.js\", function(){\n",
              "        new LDAvis(\"#\" + \"ldavis_el1682139946587881544465664540\", ldavis_el1682139946587881544465664540_data);\n",
              "      });\n",
              "    });\n",
              "}else{\n",
              "    // require.js not available: dynamically load d3 & LDAvis\n",
              "    LDAvis_load_lib(\"https://cdnjs.cloudflare.com/ajax/libs/d3/3.5.5/d3.min.js\", function(){\n",
              "         LDAvis_load_lib(\"https://cdn.rawgit.com/bmabey/pyLDAvis/files/ldavis.v1.0.0.js\", function(){\n",
              "                 new LDAvis(\"#\" + \"ldavis_el1682139946587881544465664540\", ldavis_el1682139946587881544465664540_data);\n",
              "            })\n",
              "         });\n",
              "}\n",
              "</script>"
            ],
            "text/plain": [
              "<IPython.core.display.HTML object>"
            ]
          },
          "metadata": {
            "tags": []
          },
          "execution_count": 73
        }
      ]
    },
    {
      "cell_type": "markdown",
      "metadata": {
        "id": "p7mQw5WQLMpA"
      },
      "source": [
        "## Model Perplexity And Coherence"
      ]
    },
    {
      "cell_type": "code",
      "metadata": {
        "id": "Tof_qCjMIzOZ",
        "outputId": "f972ba72-d972-4506-d9a5-39a9133afe2a",
        "colab": {
          "base_uri": "https://localhost:8080/",
          "height": 52
        }
      },
      "source": [
        "# Compute Perplexity\n",
        "print('\\nPerplexity: ', lda_model.log_perplexity(corpus))"
      ],
      "execution_count": null,
      "outputs": [
        {
          "output_type": "stream",
          "text": [
            "\n",
            "Perplexity:  -7.1066083102645266\n"
          ],
          "name": "stdout"
        }
      ]
    },
    {
      "cell_type": "code",
      "metadata": {
        "id": "ss_R1yF7IzX3",
        "outputId": "7ad9e771-3283-4f18-a7cd-004768a86065",
        "colab": {
          "base_uri": "https://localhost:8080/",
          "height": 52
        }
      },
      "source": [
        "# Compute Coherence Score\n",
        "coherence_model_lda = CoherenceModel(model=lda_model, texts=data_lemmatized, dictionary=id2word, coherence='c_v')\n",
        "coherence_lda = coherence_model_lda.get_coherence()\n",
        "print('\\nCoherence Score: ', coherence_lda)"
      ],
      "execution_count": null,
      "outputs": [
        {
          "output_type": "stream",
          "text": [
            "\n",
            "Coherence Score:  0.33621892667858516\n"
          ],
          "name": "stdout"
        }
      ]
    },
    {
      "cell_type": "markdown",
      "metadata": {
        "id": "semgn7anLf2G"
      },
      "source": [
        "##Topic Modeling 2.0 — Mallet LDA Model"
      ]
    },
    {
      "cell_type": "code",
      "metadata": {
        "id": "5dsoydsaJn_9"
      },
      "source": [
        "mallet_path = 'mallet-2.0.8/bin/mallet' "
      ],
      "execution_count": null,
      "outputs": []
    },
    {
      "cell_type": "code",
      "metadata": {
        "id": "PeLTRZZcJn9c"
      },
      "source": [
        "ldamallet = gensim.models.wrappers.LdaMallet(mallet_path, corpus=corpus, num_topics=20, id2word=id2word)"
      ],
      "execution_count": null,
      "outputs": []
    },
    {
      "cell_type": "code",
      "metadata": {
        "id": "LNW1_4Y3OfE1",
        "outputId": "e73684ad-20b9-44b8-c901-cb10690d1595",
        "colab": {
          "base_uri": "https://localhost:8080/",
          "height": 54
        }
      },
      "source": [
        "# Show Topics\n",
        "print(ldamallet.show_topics(formatted=False))"
      ],
      "execution_count": null,
      "outputs": [
        {
          "output_type": "stream",
          "text": [
            "[(7, [('socal', 0.034944670937682006), ('pay', 0.0297029702970297), ('state', 0.026208503203261502), ('include', 0.023296447291788), ('pass', 0.021549213744903904), ('support', 0.020966802562609202), ('amount', 0.019801980198019802), ('payment', 0.019801980198019802), ('report', 0.019801980198019802), ('utility', 0.0192195690157251)]), (19, [('trade', 0.04076265614727153), ('gas', 0.040105193951347796), ('price', 0.032215647600262985), ('follow', 0.03155818540433925), ('spread', 0.029585798816568046), ('market', 0.028928336620644313), ('physical', 0.027613412228796843), ('point', 0.027613412228796843), ('index', 0.024326101249178174), ('financial', 0.023011176857330704)]), (11, [('phillip', 0.0779848171152519), ('manager', 0.045548654244306416), ('cost', 0.03243616287094548), ('number', 0.031746031746031744), ('program', 0.027605244996549344), ('home', 0.025534851621808144), ('receive', 0.024844720496894408), ('call', 0.023464458247066944), ('profit', 0.023464458247066944), ('process', 0.017943409247757072)]), (0, [('call', 0.06411917098445596), ('gas', 0.05829015544041451), ('attach', 0.05116580310880829), ('forward', 0.05116580310880829), ('work', 0.04987046632124352), ('time', 0.029792746113989636), ('update', 0.02655440414507772), ('tomorrow', 0.02461139896373057), ('discuss', 0.023316062176165803), ('table', 0.02266839378238342)]), (2, [('work', 0.050100200400801605), ('cash', 0.0394121576486306), ('buy', 0.03740814963259853), ('time', 0.03740814963259853), ('item', 0.02137608550434202), ('speak', 0.020708082832331328), ('agreement', 0.016700066800267203), ('downgrade', 0.01603206412825651), ('money', 0.01603206412825651), ('architect', 0.015364061456245824)]), (17, [('note', 0.04621072088724584), ('access', 0.04621072088724584), ('list', 0.038817005545286505), ('book', 0.029574861367837338), ('type', 0.028342575477510783), ('web', 0.02279728897104128), ('outlook', 0.021565003080714726), ('office', 0.019716574245224893), ('user', 0.019100431300061615), ('send', 0.018484288354898338)]), (13, [('project', 0.1016949152542373), ('unit', 0.04978813559322034), ('property', 0.037076271186440676), ('plan', 0.024364406779661018), ('market', 0.024364406779661018), ('lot', 0.023834745762711863), ('discuss', 0.023305084745762712), ('sell', 0.02065677966101695), ('respond', 0.018008474576271187), ('sale', 0.017478813559322032)]), (1, [('meeting', 0.05121293800539083), ('comment', 0.03167115902964959), ('risk', 0.02830188679245283), ('question', 0.027628032345013476), ('meet', 0.02628032345013477), ('business', 0.01954177897574124), ('short', 0.018867924528301886), ('answer', 0.018867924528301886), ('allenhouectect', 0.01752021563342318), ('hold', 0.016172506738544475)]), (5, [('plan', 0.05125), ('bid', 0.0375), ('work', 0.03), ('front', 0.026875), ('make', 0.02625), ('bring', 0.02375), ('floor', 0.0225), ('find', 0.020625), ('back', 0.018125), ('give', 0.01625)]), (8, [('year', 0.03756476683937824), ('generation', 0.029792746113989636), ('number', 0.027202072538860103), ('schedule', 0.025259067357512953), ('demand', 0.023963730569948185), ('load', 0.023963730569948185), ('month', 0.023316062176165803), ('additional', 0.02266839378238342), ('make', 0.02266839378238342), ('actual', 0.020077720207253884)])]\n"
          ],
          "name": "stdout"
        }
      ]
    },
    {
      "cell_type": "code",
      "metadata": {
        "id": "dSx03Ts3Oey6",
        "outputId": "c3b28b93-0788-4011-9f9c-f78f1157a943",
        "colab": {
          "base_uri": "https://localhost:8080/",
          "height": 52
        }
      },
      "source": [
        "# Compute Coherence Score\n",
        "coherence_model_ldamallet = CoherenceModel(model=ldamallet, texts=data_lemmatized, dictionary=id2word, coherence='c_v')\n",
        "coherence_ldamallet = coherence_model_ldamallet.get_coherence()\n",
        "print('\\nCoherence Score: ', coherence_ldamallet)"
      ],
      "execution_count": null,
      "outputs": [
        {
          "output_type": "stream",
          "text": [
            "\n",
            "Coherence Score:  0.4153963218927654\n"
          ],
          "name": "stdout"
        }
      ]
    },
    {
      "cell_type": "code",
      "metadata": {
        "id": "W0HiL7qCPklB"
      },
      "source": [
        "def compute_coherence_values(dictionary, corpus, texts, limit, start=2, step=3):\n",
        "    \"\"\"\n",
        "    Compute c_v coherence for various number of topics\n",
        "\n",
        "    Parameters:\n",
        "    ----------\n",
        "    dictionary : Gensim dictionary\n",
        "    corpus : Gensim corpus\n",
        "    texts : List of input texts\n",
        "    limit : Max num of topics\n",
        "\n",
        "    Returns:\n",
        "    -------\n",
        "    model_list : List of LDA topic models\n",
        "    coherence_values : Coherence values corresponding to the LDA model with respective number of topics\n",
        "    \"\"\"\n",
        "    coherence_values = []\n",
        "    model_list = []\n",
        "    for num_topics in range(start, limit, step):\n",
        "        model = gensim.models.wrappers.LdaMallet(mallet_path, corpus=corpus, num_topics=num_topics, id2word=id2word)\n",
        "        model_list.append(model)\n",
        "        coherencemodel = CoherenceModel(model=model, texts=texts, dictionary=dictionary, coherence='c_v')\n",
        "        coherence_values.append(coherencemodel.get_coherence())\n",
        "\n",
        "    return model_list, coherence_values"
      ],
      "execution_count": null,
      "outputs": []
    },
    {
      "cell_type": "code",
      "metadata": {
        "id": "vsTCHMhsPgFn"
      },
      "source": [
        "# run\n",
        "model_list, coherence_values = compute_coherence_values(dictionary=id2word, corpus=corpus, texts=data_lemmatized, start=2, limit=40, step=6)\n"
      ],
      "execution_count": null,
      "outputs": []
    },
    {
      "cell_type": "code",
      "metadata": {
        "id": "dLWk01Y6OzN3",
        "outputId": "9e272556-644a-4c7c-8194-5d1479cb4cd0",
        "colab": {
          "base_uri": "https://localhost:8080/",
          "height": 280
        }
      },
      "source": [
        "# Show graph\n",
        "limit=40; start=2; step=6;\n",
        "x = range(start, limit, step)\n",
        "plt.plot(x, coherence_values)\n",
        "plt.xlabel(\"Num Topics\")\n",
        "plt.ylabel(\"Coherence score\")\n",
        "plt.legend((\"coherence_values\"), loc='best')\n",
        "plt.show()"
      ],
      "execution_count": null,
      "outputs": [
        {
          "output_type": "display_data",
          "data": {
            "image/png": "[encoded data removed]",
            "text/plain": [
              "<Figure size 432x288 with 1 Axes>"
            ]
          },
          "metadata": {
            "tags": [],
            "needs_background": "light"
          }
        }
      ]
    },
    {
      "cell_type": "code",
      "metadata": {
        "id": "90NnjxsVRGvA",
        "outputId": "b9cb6226-97ac-455f-8085-1fe33afefaec",
        "colab": {
          "base_uri": "https://localhost:8080/",
          "height": 138
        }
      },
      "source": [
        "# Print the coherence scores\n",
        "for m, cv in zip(x, coherence_values):\n",
        "    print(\"Num Topics =\", m, \" has Coherence Value of\", round(cv, 4))\n"
      ],
      "execution_count": null,
      "outputs": [
        {
          "output_type": "stream",
          "text": [
            "Num Topics = 2  has Coherence Value of 0.2176\n",
            "Num Topics = 8  has Coherence Value of 0.3505\n",
            "Num Topics = 14  has Coherence Value of 0.4022\n",
            "Num Topics = 20  has Coherence Value of 0.4428\n",
            "Num Topics = 26  has Coherence Value of 0.4177\n",
            "Num Topics = 32  has Coherence Value of 0.4361\n",
            "Num Topics = 38  has Coherence Value of 0.4124\n"
          ],
          "name": "stdout"
        }
      ]
    },
    {
      "cell_type": "code",
      "metadata": {
        "id": "IiL6ZQWCRG6u",
        "outputId": "0de5d694-5b52-4991-d71c-2209b6d4d15f",
        "colab": {
          "base_uri": "https://localhost:8080/",
          "height": 54
        }
      },
      "source": [
        "# Select the model and print the topics\n",
        "optimal_model = model_list[4]\n",
        "model_topics = optimal_model.show_topics(formatted=False)\n",
        "print(optimal_model.print_topics(num_words=10))\n"
      ],
      "execution_count": null,
      "outputs": [
        {
          "output_type": "stream",
          "text": [
            "[(5, '0.047*\"trade\" + 0.039*\"gas\" + 0.036*\"physical\" + 0.034*\"financial\" + 0.032*\"index\" + 0.028*\"daily\" + 0.027*\"spread\" + 0.027*\"list\" + 0.025*\"high\" + 0.025*\"price\"'), (0, '0.033*\"week\" + 0.030*\"good\" + 0.028*\"nee\" + 0.028*\"book\" + 0.027*\"add\" + 0.026*\"work\" + 0.024*\"miss\" + 0.022*\"make\" + 0.021*\"put\" + 0.020*\"review\"'), (11, '0.099*\"meeting\" + 0.085*\"send\" + 0.079*\"phillip\" + 0.065*\"start\" + 0.038*\"description\" + 0.033*\"weekend\" + 0.028*\"accept\" + 0.028*\"end\" + 0.027*\"hold\" + 0.027*\"speak\"'), (21, '0.058*\"position\" + 0.024*\"issue\" + 0.023*\"project\" + 0.023*\"deal\" + 0.022*\"list\" + 0.021*\"option\" + 0.020*\"requirement\" + 0.019*\"trader\" + 0.019*\"ability\" + 0.018*\"show\"'), (13, '0.122*\"call\" + 0.063*\"work\" + 0.040*\"time\" + 0.039*\"discuss\" + 0.037*\"tomorrow\" + 0.028*\"gas\" + 0.027*\"attach\" + 0.025*\"power\" + 0.024*\"issue\" + 0.023*\"review\"'), (15, '0.117*\"email\" + 0.062*\"information\" + 0.056*\"receive\" + 0.042*\"send\" + 0.035*\"provide\" + 0.034*\"complete\" + 0.028*\"form\" + 0.026*\"feedback\" + 0.019*\"process\" + 0.018*\"nee\"'), (10, '0.094*\"phillip\" + 0.064*\"basis\" + 0.064*\"desk\" + 0.045*\"manager\" + 0.042*\"risk\" + 0.037*\"group\" + 0.028*\"list\" + 0.028*\"trading\" + 0.027*\"quote\" + 0.019*\"term\"'), (19, '0.064*\"number\" + 0.040*\"generation\" + 0.040*\"schedule\" + 0.039*\"load\" + 0.037*\"year\" + 0.030*\"demand\" + 0.029*\"datum\" + 0.026*\"actual\" + 0.023*\"increase\" + 0.022*\"reduction\"'), (2, '0.036*\"socal\" + 0.027*\"state\" + 0.027*\"utility\" + 0.024*\"power\" + 0.023*\"pay\" + 0.022*\"pass\" + 0.022*\"contract\" + 0.020*\"support\" + 0.018*\"bond\" + 0.018*\"bill\"'), (16, '0.063*\"change\" + 0.050*\"buy\" + 0.038*\"deal\" + 0.032*\"storage\" + 0.031*\"bid\" + 0.027*\"show\" + 0.026*\"capacity\" + 0.024*\"notice\" + 0.020*\"downgrade\" + 0.019*\"today\"'), (12, '0.088*\"project\" + 0.035*\"property\" + 0.034*\"week\" + 0.030*\"site\" + 0.024*\"lot\" + 0.019*\"back\" + 0.017*\"market\" + 0.016*\"current\" + 0.014*\"year\" + 0.013*\"discuss\"'), (14, '0.071*\"loan\" + 0.045*\"cost\" + 0.031*\"land\" + 0.024*\"construction\" + 0.022*\"fee\" + 0.019*\"improvement\" + 0.014*\"investor\" + 0.011*\"expense\" + 0.011*\"total\" + 0.011*\"equity\"'), (6, '0.050*\"plan\" + 0.048*\"phillip\" + 0.039*\"front\" + 0.037*\"receive\" + 0.033*\"back\" + 0.032*\"file\" + 0.031*\"good\" + 0.030*\"find\" + 0.028*\"work\" + 0.028*\"bring\"'), (4, '0.049*\"follow\" + 0.048*\"program\" + 0.047*\"report\" + 0.042*\"credit\" + 0.038*\"year\" + 0.037*\"cash\" + 0.032*\"plan\" + 0.030*\"account\" + 0.025*\"include\" + 0.024*\"cost\"'), (24, '0.054*\"access\" + 0.046*\"note\" + 0.031*\"outlook\" + 0.028*\"question\" + 0.027*\"user\" + 0.026*\"list\" + 0.024*\"home\" + 0.022*\"contact\" + 0.019*\"web\" + 0.019*\"instruction\"'), (22, '0.051*\"power\" + 0.032*\"plant\" + 0.028*\"iso\" + 0.024*\"line\" + 0.023*\"pay\" + 0.023*\"unit\" + 0.019*\"sell\" + 0.019*\"call\" + 0.018*\"price\" + 0.014*\"stage\"'), (8, '0.080*\"cost\" + 0.028*\"amount\" + 0.027*\"profit\" + 0.025*\"pay\" + 0.024*\"agreement\" + 0.023*\"estimate\" + 0.021*\"complete\" + 0.018*\"architect\" + 0.017*\"cash\" + 0.016*\"builder\"'), (20, '0.083*\"unit\" + 0.075*\"phillip\" + 0.062*\"check\" + 0.041*\"question\" + 0.034*\"sell\" + 0.026*\"write\" + 0.021*\"meet\" + 0.021*\"sale\" + 0.018*\"interested\" + 0.017*\"statement\"'), (25, '0.075*\"price\" + 0.036*\"power\" + 0.026*\"fall\" + 0.026*\"high\" + 0.024*\"today\" + 0.024*\"trader\" + 0.023*\"forecast\" + 0.022*\"trade\" + 0.019*\"low\" + 0.018*\"demand\"'), (3, '0.040*\"pay\" + 0.037*\"rent\" + 0.031*\"list\" + 0.031*\"office\" + 0.031*\"file\" + 0.029*\"update\" + 0.028*\"type\" + 0.026*\"application\" + 0.025*\"move\" + 0.024*\"send\"')]\n"
          ],
          "name": "stdout"
        }
      ]
    },
    {
      "cell_type": "code",
      "metadata": {
        "id": "D4qmV_DfRG-a"
      },
      "source": [
        "def format_topics_sentences(ldamodel=lda_model, corpus=corpus, texts=data):\n",
        "    # Init output\n",
        "    sent_topics_df = pd.DataFrame()\n",
        "\n",
        "    # Get main topic in each document\n",
        "    for i, row in enumerate(ldamodel[corpus]):\n",
        "        row = sorted(row, key=lambda x: (x[1]), reverse=True)\n",
        "        # Get the Dominant topic, Perc Contribution and Keywords for each document\n",
        "        for j, (topic_num, prop_topic) in enumerate(row):\n",
        "            if j == 0:  # => dominant topic\n",
        "                wp = ldamodel.show_topic(topic_num)\n",
        "                topic_keywords = \", \".join([word for word, prop in wp])\n",
        "                sent_topics_df = sent_topics_df.append(pd.Series([int(topic_num), round(prop_topic,4), topic_keywords]), ignore_index=True)\n",
        "            else:\n",
        "                break\n",
        "    sent_topics_df.columns = ['Dominant_Topic', 'Perc_Contribution', 'Topic_Keywords']\n",
        "\n",
        "    # Add original text to the end of the output\n",
        "    contents = pd.Series(texts)\n",
        "    sent_topics_df = pd.concat([sent_topics_df, contents], axis=1)\n",
        "    return(sent_topics_df)"
      ],
      "execution_count": null,
      "outputs": []
    },
    {
      "cell_type": "code",
      "metadata": {
        "id": "aU0sNGthRG4Y"
      },
      "source": [
        "df_topic_sents_keywords = format_topics_sentences(ldamodel=optimal_model, corpus=corpus, texts=data)"
      ],
      "execution_count": null,
      "outputs": []
    },
    {
      "cell_type": "code",
      "metadata": {
        "id": "6UKXqFGmV3ah"
      },
      "source": [
        "# Format\n",
        "df_dominant_topic = df_topic_sents_keywords.reset_index()\n",
        "df_dominant_topic.columns = ['Document_No', 'Dominant_Topic', 'Topic_Perc_Contrib', 'Keywords', 'Text']"
      ],
      "execution_count": null,
      "outputs": []
    },
    {
      "cell_type": "code",
      "metadata": {
        "id": "FSABnLzGV3l8",
        "outputId": "d280b115-589a-4480-9a03-0885be5a28b3",
        "colab": {
          "base_uri": "https://localhost:8080/",
          "height": 356
        }
      },
      "source": [
        "# Show\n",
        "df_dominant_topic.head(10)"
      ],
      "execution_count": null,
      "outputs": [
        {
          "output_type": "execute_result",
          "data": {
            "text/html": [
              "<div>\n",
              "<style scoped>\n",
              "    .dataframe tbody tr th:only-of-type {\n",
              "        vertical-align: middle;\n",
              "    }\n",
              "\n",
              "    .dataframe tbody tr th {\n",
              "        vertical-align: top;\n",
              "    }\n",
              "\n",
              "    .dataframe thead th {\n",
              "        text-align: right;\n",
              "    }\n",
              "</style>\n",
              "<table border=\"1\" class=\"dataframe\">\n",
              "  <thead>\n",
              "    <tr style=\"text-align: right;\">\n",
              "      <th></th>\n",
              "      <th>Document_No</th>\n",
              "      <th>Dominant_Topic</th>\n",
              "      <th>Topic_Perc_Contrib</th>\n",
              "      <th>Keywords</th>\n",
              "      <th>Text</th>\n",
              "    </tr>\n",
              "  </thead>\n",
              "  <tbody>\n",
              "    <tr>\n",
              "      <th>0</th>\n",
              "      <td>0</td>\n",
              "      <td>25.0</td>\n",
              "      <td>0.0573</td>\n",
              "      <td>price, power, fall, high, today, trader, forec...</td>\n",
              "      <td>here is our forecast</td>\n",
              "    </tr>\n",
              "    <tr>\n",
              "      <th>1</th>\n",
              "      <td>1</td>\n",
              "      <td>11.0</td>\n",
              "      <td>0.3916</td>\n",
              "      <td>meeting, send, phillip, start, description, we...</td>\n",
              "      <td>traveling to have a business meeting takes the...</td>\n",
              "    </tr>\n",
              "    <tr>\n",
              "      <th>2</th>\n",
              "      <td>2</td>\n",
              "      <td>4.0</td>\n",
              "      <td>0.0530</td>\n",
              "      <td>follow, program, report, credit, year, cash, p...</td>\n",
              "      <td>test successful  way to go</td>\n",
              "    </tr>\n",
              "    <tr>\n",
              "      <th>3</th>\n",
              "      <td>3</td>\n",
              "      <td>20.0</td>\n",
              "      <td>0.0643</td>\n",
              "      <td>unit, phillip, check, question, sell, write, m...</td>\n",
              "      <td>randy   can you send me a schedule of the sala...</td>\n",
              "    </tr>\n",
              "    <tr>\n",
              "      <th>4</th>\n",
              "      <td>4</td>\n",
              "      <td>0.0</td>\n",
              "      <td>0.0385</td>\n",
              "      <td>week, good, nee, book, add, work, miss, make, ...</td>\n",
              "      <td>lets shoot for tuesday at</td>\n",
              "    </tr>\n",
              "    <tr>\n",
              "      <th>5</th>\n",
              "      <td>5</td>\n",
              "      <td>0.0</td>\n",
              "      <td>0.0385</td>\n",
              "      <td>week, good, nee, book, add, work, miss, make, ...</td>\n",
              "      <td>greg   how about either next tuesday or thursd...</td>\n",
              "    </tr>\n",
              "    <tr>\n",
              "      <th>6</th>\n",
              "      <td>6</td>\n",
              "      <td>9.0</td>\n",
              "      <td>0.0531</td>\n",
              "      <td>utility, company, run, plan, business, year, i...</td>\n",
              "      <td>please cc the following distribution list with...</td>\n",
              "    </tr>\n",
              "    <tr>\n",
              "      <th>7</th>\n",
              "      <td>7</td>\n",
              "      <td>24.0</td>\n",
              "      <td>0.0464</td>\n",
              "      <td>access, note, outlook, question, user, list, h...</td>\n",
              "      <td>any morning between  and</td>\n",
              "    </tr>\n",
              "    <tr>\n",
              "      <th>8</th>\n",
              "      <td>8</td>\n",
              "      <td>0.0</td>\n",
              "      <td>0.0510</td>\n",
              "      <td>week, good, nee, book, add, work, miss, make, ...</td>\n",
              "      <td>login  pallen pw kedavis   i dont think these ...</td>\n",
              "    </tr>\n",
              "    <tr>\n",
              "      <th>9</th>\n",
              "      <td>9</td>\n",
              "      <td>23.0</td>\n",
              "      <td>0.2479</td>\n",
              "      <td>gas, request, price, market, forward, customer...</td>\n",
              "      <td>buckner buck buckbucknerhoneywellcom on   pm t...</td>\n",
              "    </tr>\n",
              "  </tbody>\n",
              "</table>\n",
              "</div>"
            ],
            "text/plain": [
              "   Document_No  ...                                               Text\n",
              "0            0  ...                               here is our forecast\n",
              "1            1  ...  traveling to have a business meeting takes the...\n",
              "2            2  ...                         test successful  way to go\n",
              "3            3  ...  randy   can you send me a schedule of the sala...\n",
              "4            4  ...                          lets shoot for tuesday at\n",
              "5            5  ...  greg   how about either next tuesday or thursd...\n",
              "6            6  ...  please cc the following distribution list with...\n",
              "7            7  ...                           any morning between  and\n",
              "8            8  ...  login  pallen pw kedavis   i dont think these ...\n",
              "9            9  ...  buckner buck buckbucknerhoneywellcom on   pm t...\n",
              "\n",
              "[10 rows x 5 columns]"
            ]
          },
          "metadata": {
            "tags": []
          },
          "execution_count": 88
        }
      ]
    },
    {
      "cell_type": "code",
      "metadata": {
        "id": "sMRgg0xkV3p-",
        "outputId": "f892a440-6e17-44d0-a54f-51738a6c321b",
        "colab": {
          "base_uri": "https://localhost:8080/",
          "height": 34
        }
      },
      "source": [
        "df_dominant_topic.Keywords.iloc[1]"
      ],
      "execution_count": null,
      "outputs": [
        {
          "output_type": "execute_result",
          "data": {
            "application/vnd.google.colaboratory.intrinsic+json": {
              "type": "string"
            },
            "text/plain": [
              "'meeting, send, phillip, start, description, weekend, accept, end, hold, speak'"
            ]
          },
          "metadata": {
            "tags": []
          },
          "execution_count": 89
        }
      ]
    },
    {
      "cell_type": "code",
      "metadata": {
        "id": "ILaLT2izWMVR",
        "outputId": "bbfddf50-077f-4312-f373-2d2864a10dfa",
        "colab": {
          "base_uri": "https://localhost:8080/",
          "height": 86
        }
      },
      "source": [
        "df_dominant_topic.Text.iloc[1]"
      ],
      "execution_count": null,
      "outputs": [
        {
          "output_type": "execute_result",
          "data": {
            "application/vnd.google.colaboratory.intrinsic+json": {
              "type": "string"
            },
            "text/plain": [
              "'traveling to have a business meeting takes the fun out of the trip  especially if you have to prepare a presentation  i would suggest holding the business plan meetings here then take a trip without any formal business meetings  i would even try and get some honest opinions on whether a trip is even desired or necessary  as far as the business meetings i think it would be more productive to try and stimulate discussions across the different groups about what is working and what is not  too often the presenter speaks and the others are quiet just waiting for their turn   the meetings might be better if held in a round table discussion format    my suggestion for where to go is austin  play golf and rent a ski boat and jet skis  flying somewhere takes too much time'"
            ]
          },
          "metadata": {
            "tags": []
          },
          "execution_count": 90
        }
      ]
    },
    {
      "cell_type": "code",
      "metadata": {
        "id": "5VrXS43oWPcm"
      },
      "source": [
        "# Group top 5 sentences under each topic\n",
        "sent_topics_sorteddf_mallet = pd.DataFrame()\n",
        "\n",
        "sent_topics_outdf_grpd = df_topic_sents_keywords.groupby('Dominant_Topic')\n",
        "\n",
        "for i, grp in sent_topics_outdf_grpd:\n",
        "    sent_topics_sorteddf_mallet = pd.concat([sent_topics_sorteddf_mallet, \n",
        "                                             grp.sort_values(['Perc_Contribution'], ascending=[0]).head(1)], \n",
        "                                            axis=0)"
      ],
      "execution_count": null,
      "outputs": []
    },
    {
      "cell_type": "code",
      "metadata": {
        "id": "no6KvK7LWS0T"
      },
      "source": [
        "# Reset Index    \n",
        "sent_topics_sorteddf_mallet.reset_index(drop=True, inplace=True)"
      ],
      "execution_count": null,
      "outputs": []
    },
    {
      "cell_type": "code",
      "metadata": {
        "id": "0YMlPIJMWXl0"
      },
      "source": [
        "# Format\n",
        "sent_topics_sorteddf_mallet.columns = ['Topic_Num', \"Topic_Perc_Contrib\", \"Keywords\", \"Text\"]"
      ],
      "execution_count": null,
      "outputs": []
    },
    {
      "cell_type": "code",
      "metadata": {
        "id": "Y4u5B5j5Waf9",
        "outputId": "c3d20425-07c0-48ea-8e67-0d3c972cef48",
        "colab": {
          "base_uri": "https://localhost:8080/",
          "height": 846
        }
      },
      "source": [
        "# Show\n",
        "sent_topics_sorteddf_mallet"
      ],
      "execution_count": null,
      "outputs": [
        {
          "output_type": "execute_result",
          "data": {
            "text/html": [
              "<div>\n",
              "<style scoped>\n",
              "    .dataframe tbody tr th:only-of-type {\n",
              "        vertical-align: middle;\n",
              "    }\n",
              "\n",
              "    .dataframe tbody tr th {\n",
              "        vertical-align: top;\n",
              "    }\n",
              "\n",
              "    .dataframe thead th {\n",
              "        text-align: right;\n",
              "    }\n",
              "</style>\n",
              "<table border=\"1\" class=\"dataframe\">\n",
              "  <thead>\n",
              "    <tr style=\"text-align: right;\">\n",
              "      <th></th>\n",
              "      <th>Topic_Num</th>\n",
              "      <th>Topic_Perc_Contrib</th>\n",
              "      <th>Keywords</th>\n",
              "      <th>Text</th>\n",
              "    </tr>\n",
              "  </thead>\n",
              "  <tbody>\n",
              "    <tr>\n",
              "      <th>0</th>\n",
              "      <td>0.0</td>\n",
              "      <td>0.4023</td>\n",
              "      <td>week, good, nee, book, add, work, miss, make, ...</td>\n",
              "      <td>al  i was glad to hear from you  i hope we can...</td>\n",
              "    </tr>\n",
              "    <tr>\n",
              "      <th>1</th>\n",
              "      <td>1.0</td>\n",
              "      <td>0.6200</td>\n",
              "      <td>email, day, site, great, game, unsubscribe, pl...</td>\n",
              "      <td>the shockwavecom team shockwavecomshockwavemne...</td>\n",
              "    </tr>\n",
              "    <tr>\n",
              "      <th>2</th>\n",
              "      <td>2.0</td>\n",
              "      <td>0.8098</td>\n",
              "      <td>socal, state, utility, power, pay, pass, contr...</td>\n",
              "      <td>from kristin walshenronenronxgate on   pm cdt ...</td>\n",
              "    </tr>\n",
              "    <tr>\n",
              "      <th>3</th>\n",
              "      <td>3.0</td>\n",
              "      <td>0.4447</td>\n",
              "      <td>pay, rent, list, office, file, update, type, a...</td>\n",
              "      <td>outlook migration teamenron   pm tocheryl wilc...</td>\n",
              "    </tr>\n",
              "    <tr>\n",
              "      <th>4</th>\n",
              "      <td>4.0</td>\n",
              "      <td>0.5447</td>\n",
              "      <td>follow, program, report, credit, year, cash, p...</td>\n",
              "      <td>susan j maraenron   am to alan comnespdxectect...</td>\n",
              "    </tr>\n",
              "    <tr>\n",
              "      <th>5</th>\n",
              "      <td>5.0</td>\n",
              "      <td>0.6977</td>\n",
              "      <td>trade, gas, physical, financial, index, daily,...</td>\n",
              "      <td>liane   as we discussed yesterday i am concern...</td>\n",
              "    </tr>\n",
              "    <tr>\n",
              "      <th>6</th>\n",
              "      <td>6.0</td>\n",
              "      <td>0.5666</td>\n",
              "      <td>plan, phillip, front, receive, back, file, goo...</td>\n",
              "      <td>postmastercaprocknet on   am to phillipkallene...</td>\n",
              "    </tr>\n",
              "    <tr>\n",
              "      <th>7</th>\n",
              "      <td>7.0</td>\n",
              "      <td>0.5183</td>\n",
              "      <td>comment, plan, open, floor, work, cap, questio...</td>\n",
              "      <td>forwarded by phillip k allenhouect on   pm    ...</td>\n",
              "    </tr>\n",
              "    <tr>\n",
              "      <th>8</th>\n",
              "      <td>8.0</td>\n",
              "      <td>0.3779</td>\n",
              "      <td>cost, amount, profit, pay, agreement, estimate...</td>\n",
              "      <td>george  here is a spreadsheet that illustrates...</td>\n",
              "    </tr>\n",
              "    <tr>\n",
              "      <th>9</th>\n",
              "      <td>9.0</td>\n",
              "      <td>0.7897</td>\n",
              "      <td>utility, company, run, plan, business, year, i...</td>\n",
              "      <td>jeff richter   am to phillip k allenhouectect ...</td>\n",
              "    </tr>\n",
              "    <tr>\n",
              "      <th>10</th>\n",
              "      <td>10.0</td>\n",
              "      <td>0.4171</td>\n",
              "      <td>phillip, basis, desk, manager, risk, group, li...</td>\n",
              "      <td>to phillip k allenhouectect cc   subject appro...</td>\n",
              "    </tr>\n",
              "    <tr>\n",
              "      <th>11</th>\n",
              "      <td>11.0</td>\n",
              "      <td>0.6256</td>\n",
              "      <td>meeting, send, phillip, start, description, we...</td>\n",
              "      <td>reschedule chairperson richard burchfield sent...</td>\n",
              "    </tr>\n",
              "    <tr>\n",
              "      <th>12</th>\n",
              "      <td>12.0</td>\n",
              "      <td>0.7497</td>\n",
              "      <td>project, property, week, site, lot, back, mark...</td>\n",
              "      <td>george richards cbpresaustinrrcom on   am plea...</td>\n",
              "    </tr>\n",
              "    <tr>\n",
              "      <th>13</th>\n",
              "      <td>13.0</td>\n",
              "      <td>0.5743</td>\n",
              "      <td>call, work, time, discuss, tomorrow, gas, atta...</td>\n",
              "      <td>can you guys coordinate to make sure someone l...</td>\n",
              "    </tr>\n",
              "    <tr>\n",
              "      <th>14</th>\n",
              "      <td>14.0</td>\n",
              "      <td>0.8611</td>\n",
              "      <td>loan, cost, land, construction, fee, improveme...</td>\n",
              "      <td>george richards cbpresaustinrrcom on   pm plea...</td>\n",
              "    </tr>\n",
              "    <tr>\n",
              "      <th>15</th>\n",
              "      <td>15.0</td>\n",
              "      <td>0.5802</td>\n",
              "      <td>email, information, receive, send, provide, co...</td>\n",
              "      <td>christi smith christismithlrinetcom on   am pl...</td>\n",
              "    </tr>\n",
              "    <tr>\n",
              "      <th>16</th>\n",
              "      <td>16.0</td>\n",
              "      <td>0.6072</td>\n",
              "      <td>change, buy, deal, storage, bid, show, capacit...</td>\n",
              "      <td>from  colleen sullivan                        ...</td>\n",
              "    </tr>\n",
              "    <tr>\n",
              "      <th>17</th>\n",
              "      <td>17.0</td>\n",
              "      <td>0.3855</td>\n",
              "      <td>time, follow, month, set, product, service, no...</td>\n",
              "      <td>jacques  george finally sent me some informati...</td>\n",
              "    </tr>\n",
              "    <tr>\n",
              "      <th>18</th>\n",
              "      <td>18.0</td>\n",
              "      <td>0.5899</td>\n",
              "      <td>today, analyst, email, market, question, infor...</td>\n",
              "      <td>in todays daily update youll find free reports...</td>\n",
              "    </tr>\n",
              "    <tr>\n",
              "      <th>19</th>\n",
              "      <td>19.0</td>\n",
              "      <td>0.6554</td>\n",
              "      <td>number, generation, schedule, load, year, dema...</td>\n",
              "      <td>enron north america corp \\t \\tfrom  stephen sw...</td>\n",
              "    </tr>\n",
              "    <tr>\n",
              "      <th>20</th>\n",
              "      <td>20.0</td>\n",
              "      <td>0.4748</td>\n",
              "      <td>unit, phillip, check, question, sell, write, m...</td>\n",
              "      <td>laird dyer   pm to phillip k allenhouectect cc...</td>\n",
              "    </tr>\n",
              "    <tr>\n",
              "      <th>21</th>\n",
              "      <td>21.0</td>\n",
              "      <td>0.8356</td>\n",
              "      <td>position, issue, project, deal, list, option, ...</td>\n",
              "      <td>richard burchfield   am to phillip k allenhoue...</td>\n",
              "    </tr>\n",
              "    <tr>\n",
              "      <th>22</th>\n",
              "      <td>22.0</td>\n",
              "      <td>0.8563</td>\n",
              "      <td>power, plant, iso, line, pay, unit, sell, call...</td>\n",
              "      <td>jeff richter   am to phillip k allenhouectect ...</td>\n",
              "    </tr>\n",
              "    <tr>\n",
              "      <th>23</th>\n",
              "      <td>23.0</td>\n",
              "      <td>0.5230</td>\n",
              "      <td>gas, request, price, market, forward, customer...</td>\n",
              "      <td>from  jennifer fraser                         ...</td>\n",
              "    </tr>\n",
              "    <tr>\n",
              "      <th>24</th>\n",
              "      <td>24.0</td>\n",
              "      <td>0.7258</td>\n",
              "      <td>access, note, outlook, question, user, list, h...</td>\n",
              "      <td>outlook migration teamenron   pm to allison ho...</td>\n",
              "    </tr>\n",
              "    <tr>\n",
              "      <th>25</th>\n",
              "      <td>25.0</td>\n",
              "      <td>0.7675</td>\n",
              "      <td>price, power, fall, high, today, trader, forec...</td>\n",
              "      <td>here is todays copy of bloomberg power lines a...</td>\n",
              "    </tr>\n",
              "  </tbody>\n",
              "</table>\n",
              "</div>"
            ],
            "text/plain": [
              "    Topic_Num  ...                                               Text\n",
              "0         0.0  ...  al  i was glad to hear from you  i hope we can...\n",
              "1         1.0  ...  the shockwavecom team shockwavecomshockwavemne...\n",
              "2         2.0  ...  from kristin walshenronenronxgate on   pm cdt ...\n",
              "3         3.0  ...  outlook migration teamenron   pm tocheryl wilc...\n",
              "4         4.0  ...  susan j maraenron   am to alan comnespdxectect...\n",
              "5         5.0  ...  liane   as we discussed yesterday i am concern...\n",
              "6         6.0  ...  postmastercaprocknet on   am to phillipkallene...\n",
              "7         7.0  ...  forwarded by phillip k allenhouect on   pm    ...\n",
              "8         8.0  ...  george  here is a spreadsheet that illustrates...\n",
              "9         9.0  ...  jeff richter   am to phillip k allenhouectect ...\n",
              "10       10.0  ...  to phillip k allenhouectect cc   subject appro...\n",
              "11       11.0  ...  reschedule chairperson richard burchfield sent...\n",
              "12       12.0  ...  george richards cbpresaustinrrcom on   am plea...\n",
              "13       13.0  ...  can you guys coordinate to make sure someone l...\n",
              "14       14.0  ...  george richards cbpresaustinrrcom on   pm plea...\n",
              "15       15.0  ...  christi smith christismithlrinetcom on   am pl...\n",
              "16       16.0  ...  from  colleen sullivan                        ...\n",
              "17       17.0  ...  jacques  george finally sent me some informati...\n",
              "18       18.0  ...  in todays daily update youll find free reports...\n",
              "19       19.0  ...  enron north america corp \\t \\tfrom  stephen sw...\n",
              "20       20.0  ...  laird dyer   pm to phillip k allenhouectect cc...\n",
              "21       21.0  ...  richard burchfield   am to phillip k allenhoue...\n",
              "22       22.0  ...  jeff richter   am to phillip k allenhouectect ...\n",
              "23       23.0  ...  from  jennifer fraser                         ...\n",
              "24       24.0  ...  outlook migration teamenron   pm to allison ho...\n",
              "25       25.0  ...  here is todays copy of bloomberg power lines a...\n",
              "\n",
              "[26 rows x 4 columns]"
            ]
          },
          "metadata": {
            "tags": []
          },
          "execution_count": 94
        }
      ]
    },
    {
      "cell_type": "code",
      "metadata": {
        "id": "MIzElF0YWc44"
      },
      "source": [
        ""
      ],
      "execution_count": null,
      "outputs": []
    }
  ]
}